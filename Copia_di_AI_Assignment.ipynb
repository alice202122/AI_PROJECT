{
  "cells": [
    {
      "cell_type": "markdown",
      "metadata": {
        "id": "view-in-github",
        "colab_type": "text"
      },
      "source": [
        "<a href=\"https://colab.research.google.com/github/alice202122/AI_PROJECT/blob/main/Copia_di_AI_Assignment.ipynb\" target=\"_parent\"><img src=\"https://colab.research.google.com/assets/colab-badge.svg\" alt=\"Open In Colab\"/></a>"
      ]
    },
    {
      "cell_type": "markdown",
      "metadata": {
        "id": "nTF9KoI79End"
      },
      "source": [
        "#CONNECTING TO DRIVE"
      ]
    },
    {
      "cell_type": "code",
      "execution_count": null,
      "metadata": {
        "id": "jsgLshUKo59r"
      },
      "outputs": [],
      "source": [
        "from google.colab import drive\n",
        "drive.mount('/gdrive')"
      ]
    },
    {
      "cell_type": "code",
      "execution_count": 2,
      "metadata": {
        "id": "zmGIM_ArpC26",
        "outputId": "f80f56fe-befa-4f5f-cf95-a036b3a7ea54",
        "colab": {
          "base_uri": "https://localhost:8080/"
        }
      },
      "outputs": [
        {
          "output_type": "stream",
          "name": "stdout",
          "text": [
            "/gdrive/MyDrive/AI_Assignment/training_set\n"
          ]
        }
      ],
      "source": [
        "%cd /gdrive/MyDrive/AI_Assignment/training_set"
      ]
    },
    {
      "cell_type": "code",
      "execution_count": 3,
      "metadata": {
        "id": "TaL224mzpGZc"
      },
      "outputs": [],
      "source": [
        "!unzip training_set.zip"
      ]
    },
    {
      "cell_type": "code",
      "execution_count": 4,
      "metadata": {
        "id": "2Hoc_OMDpbNn"
      },
      "outputs": [],
      "source": [
        "input_directory = '/gdrive/MyDrive/AI_Assignment/training_set'"
      ]
    },
    {
      "cell_type": "markdown",
      "metadata": {
        "id": "250u2yui8-ji"
      },
      "source": [
        "# IMPORTING LIBRARIES"
      ]
    },
    {
      "cell_type": "code",
      "execution_count": null,
      "metadata": {
        "id": "By6d8d8HqfdA"
      },
      "outputs": [],
      "source": [
        "from scipy.io import loadmat\n",
        "\n",
        "import numpy as np, os\n",
        "from numpy import array, matrix, multiply, arange, absolute\n",
        "\n",
        "from scipy import signal\n",
        "from scipy import stats\n",
        "from scipy.signal import lfilter, medfilt, resample, kaiserord, firwin, freqz, correlate\n",
        "\n",
        "import pandas as pd\n",
        "\n",
        "import ntpath\n",
        "\n",
        "import matplotlib.pyplot as plt\n",
        "from matplotlib import pylab as plt\n",
        " \n",
        "from pylab import figure, clf, plot, xlabel, ylabel, xlim, ylim, title, grid, axes, show, legend, axis\n",
        "\n",
        "import copy\n",
        "\n",
        "!pip install pyhrv\n",
        "import pyhrv\n",
        "import pyhrv.time_domain as td\n",
        "\n",
        "!pip install biosppy\n",
        "import biosppy\n",
        "from biosppy.signals import ecg, tools\n",
        "\n",
        "import math\n",
        "from math import pi\n",
        "\n",
        "import seaborn as sns\n",
        "\n",
        "import re\n",
        "\n",
        "from sklearn.preprocessing import StandardScaler  # standardize features by removing the mean and scaling to unit variance\n",
        "\n",
        "from sklearn.model_selection import train_test_split\n",
        "\n",
        "from sklearn.model_selection import GridSearchCV\n",
        "from sklearn.metrics import confusion_matrix\n",
        "from sklearn.metrics import classification_report\n",
        "from sklearn import metrics\n",
        "from sklearn.metrics import f1_score\n",
        "\n",
        "from sklearn.ensemble import RandomForestClassifier\n",
        "\n",
        "# Load NeuroKit and other useful packages\n",
        "!pip install neurokit2\n",
        "import neurokit2 as nk\n",
        "import numpy as np\n",
        "import pandas as pd\n",
        "import matplotlib.pyplot as plt\n",
        "import seaborn as sns\n",
        "%matplotlib inline\n",
        "plt.rcParams['figure.figsize'] = [8, 5]  # Bigger images"
      ]
    },
    {
      "cell_type": "markdown",
      "metadata": {
        "id": "LI-gdODP9OIe"
      },
      "source": [
        "#DATA LOADING"
      ]
    },
    {
      "cell_type": "markdown",
      "metadata": {
        "id": "ba7K9Q9QTG-_"
      },
      "source": [
        "We want to adjust the dataset in a matrix to better organize the available data. The matrix structure is the following:\n",
        "\n",
        "    | ECG (I & II lead) | R peaks location (samples) | Beats annotation ('N', 'S', 'V') |\n"
      ]
    },
    {
      "cell_type": "code",
      "execution_count": 6,
      "metadata": {
        "id": "5LN1kOIyt8_q"
      },
      "outputs": [],
      "source": [
        "def storage(empty_list, input_directory, last_character, name):\n",
        "  for file in sorted(os.listdir(input_directory)):                  # search amongst files in input directory\n",
        "    filename = ntpath.basename(file)                                # get file name\n",
        "    filename = os.path.splitext(filename)[0]                        # remove file extension\n",
        "    if filename.endswith(last_character):                           # check filename last character\n",
        "      mat_file = filename + '.mat'                                  # rejoin extension to filename\n",
        "      x = loadmat(mat_file)                                         # load file\n",
        "      values = np.asarray(x[name])                                  # load values                                \n",
        "      empty_list.append(values)                                     # store values in a list\n",
        "  num_files = len(empty_list)                                       # checking all files have been stored\n",
        "\n",
        "  return empty_list, num_files"
      ]
    },
    {
      "cell_type": "markdown",
      "metadata": {
        "id": "VOwljPzmyeCd"
      },
      "source": [
        "###ECGs"
      ]
    },
    {
      "cell_type": "code",
      "execution_count": 7,
      "metadata": {
        "colab": {
          "base_uri": "https://localhost:8080/"
        },
        "id": "omoFR-KAyfGD",
        "outputId": "7b8c83b6-bf0a-49f3-ca94-b7a82b18f504"
      },
      "outputs": [
        {
          "output_type": "stream",
          "name": "stdout",
          "text": [
            "Number of patients: 105\n"
          ]
        }
      ],
      "source": [
        "ECGs = []         \n",
        "ECGs, num_files = storage(ECGs, input_directory, ('8','0'), 'ecg')\n",
        "print('Number of patients: ' +str(num_files))         # checking all files have been stored"
      ]
    },
    {
      "cell_type": "markdown",
      "metadata": {
        "id": "cSIHwdExWnia"
      },
      "source": [
        "###R PEAKS LOCATION "
      ]
    },
    {
      "cell_type": "code",
      "execution_count": null,
      "metadata": {
        "colab": {
          "base_uri": "https://localhost:8080/"
        },
        "id": "8FDhhVjrwkAW",
        "outputId": "9a6cb5ba-b9bb-4d8d-e65e-96a1ee29990c"
      },
      "outputs": [
        {
          "output_type": "stream",
          "name": "stdout",
          "text": [
            "Number of patients: 105\n"
          ]
        }
      ],
      "source": [
        "Rpks = []          \n",
        "Rpks, num_files = storage(Rpks, input_directory, 'k', 'rpeaks')\n",
        "print('Number of patients: ' +str(num_files))        # checking all files have been stored"
      ]
    },
    {
      "cell_type": "markdown",
      "metadata": {
        "id": "XwnE-nUtW3cZ"
      },
      "source": [
        "###BEATS ANNOTATIONS"
      ]
    },
    {
      "cell_type": "code",
      "execution_count": null,
      "metadata": {
        "colab": {
          "base_uri": "https://localhost:8080/"
        },
        "id": "ziECmnjLxILU",
        "outputId": "cfe5a12b-3270-4a3a-b47c-63bd47e9437f"
      },
      "outputs": [
        {
          "output_type": "stream",
          "name": "stdout",
          "text": [
            "Number of patients: 105\n"
          ]
        }
      ],
      "source": [
        "anns = []         \n",
        "anns, num_files = storage(anns, input_directory, 'n', 'labels')\n",
        "print('Number of patients: ' +str(num_files))         # checking all files have been stored"
      ]
    },
    {
      "cell_type": "markdown",
      "metadata": {
        "id": "b2r_JMlEY6VS"
      },
      "source": [
        "###FINAL MATRIX"
      ]
    },
    {
      "cell_type": "code",
      "execution_count": null,
      "metadata": {
        "id": "1sl5Rjoc-SHa"
      },
      "outputs": [],
      "source": [
        "data = []                  \n",
        "\n",
        "for patient in range(num_files):                                                  # scrolls patient by patient\n",
        "  row = [ ECGs[patient], Rpks[patient], anns[patient] ]                        \n",
        "  data.append(row)                                                                # store row in a list\n",
        "data = pd.DataFrame(data)"
      ]
    },
    {
      "cell_type": "code",
      "source": [
        "path = '/gdrive/MyDrive/AI_Assignment/'\n",
        "data.to_pickle(path+'data')"
      ],
      "metadata": {
        "id": "gooz-dZ5sPYF"
      },
      "execution_count": null,
      "outputs": []
    },
    {
      "cell_type": "code",
      "source": [
        "path = '/gdrive/MyDrive/AI_Assignment/'\n",
        "data = pd.read_pickle(path+'data')"
      ],
      "metadata": {
        "id": "nPOa6E9wsXcc"
      },
      "execution_count": null,
      "outputs": []
    },
    {
      "cell_type": "code",
      "source": [
        "data = data.values.tolist()"
      ],
      "metadata": {
        "id": "qR8ZwaQUsoAW"
      },
      "execution_count": null,
      "outputs": []
    },
    {
      "cell_type": "code",
      "source": [
        "patient = 0                                  \n",
        "\n",
        "ECG = 0                                      # ECGs are stored in the first column of the data matrix\n",
        "Ilead = 0                                    # I lead is stored in the first column of the ECGs\n",
        "IIlead = 1                                   # II lead is stored in the first column of the ECGs\n",
        "ECG_I = data[patient][ECG][:,Ilead]          # ECG I lead from patient S001_128\n",
        "ECG_II = data[patient][ECG][:,IIlead]        # ECG II lead from patient S001_128\n",
        "Rpk = 1\n",
        "ann = 2                                      # annotations are stored in the third column of the data matrix\n",
        "\n",
        "plt.title(\"Patient: \" + str(patient))\n",
        "plt.plot(ECG_I, color='C0')\n",
        "plt.plot(data[patient][Rpk], ECG_I[data[patient][Rpk]], color='r', marker='o', linestyle='None')\n",
        "plt.xlabel(\"Samples\")\n",
        "plt.xlim(0, 500)\n",
        "plt.ylabel(\"Amplitude (mV)\")\n",
        "\n",
        "labels = ['{}'.format(i) for i in data[patient][ann]]\n",
        "for label, x, y in zip(labels, data[patient][Rpk][:25], ECG_I[data[patient][Rpk][:25]]):\n",
        "    plt.annotate(\n",
        "        label,\n",
        "        xy=(x, y), xytext=(-20, 20),\n",
        "        textcoords='offset points', ha='right', va='bottom',\n",
        "        bbox=dict(boxstyle='round,pad=0.5', fc='yellow', alpha=0.5),\n",
        "        arrowprops=dict(arrowstyle = '->', connectionstyle='arc3,rad=0'))"
      ],
      "metadata": {
        "id": "cErDEQfWsTST",
        "outputId": "ca3adeb8-7fdf-45e3-dfa3-b65bd07acf61",
        "colab": {
          "base_uri": "https://localhost:8080/",
          "height": 167
        }
      },
      "execution_count": null,
      "outputs": [
        {
          "output_type": "display_data",
          "data": {
            "image/png": "[encoded data removed]",
            "text/plain": [
              "<Figure size 576x360 with 1 Axes>"
            ]
          },
          "metadata": {
            "needs_background": "light"
          }
        }
      ]
    },
    {
      "cell_type": "markdown",
      "metadata": {
        "id": "Drf47n7sX-cY"
      },
      "source": [
        "#DATA INSPECTION"
      ]
    },
    {
      "cell_type": "markdown",
      "source": [
        "###LABEL DISTRIBUTION"
      ],
      "metadata": {
        "id": "VC5GX0QwfPIM"
      }
    },
    {
      "cell_type": "code",
      "source": [
        "N = []            # list initialization\n",
        "S = []            # list initialization\n",
        "V = []            # list initialization\n",
        "ann = 2           # anns are stored in the third column of the data matrix\n",
        "\n",
        "for patient in range(num_files):      # scrolls patient by patient\n",
        "  for i in data[patient][ann]:          \n",
        "    if i == 'N':                      \n",
        "      N.append('N')                   # store N beats in a list\n",
        "    elif i == 'S':                    \n",
        "      S.append('S')                   # store S beats in a list\n",
        "    elif i == 'V': \n",
        "      V.append('V')                   # store V beats in a list\n",
        "\n",
        "plt.bar('N', len(N))\n",
        "plt.bar('S', len(S))\n",
        "plt.bar('V', len(V))\n",
        "plt.ylabel('Occurences')\n",
        "plt.title('Classes Occurrences')"
      ],
      "metadata": {
        "colab": {
          "base_uri": "https://localhost:8080/",
          "height": 355
        },
        "id": "1nyI-aTnhswX",
        "outputId": "f5b0b1b2-21ea-43dd-ff16-562e7f4e5276"
      },
      "execution_count": null,
      "outputs": [
        {
          "output_type": "execute_result",
          "data": {
            "text/plain": [
              "Text(0.5, 1.0, 'Classes Occurrences')"
            ]
          },
          "metadata": {},
          "execution_count": 168
        },
        {
          "output_type": "display_data",
          "data": {
            "image/png": "[encoded data removed]",
            "text/plain": [
              "<Figure size 576x360 with 1 Axes>"
            ]
          },
          "metadata": {
            "needs_background": "light"
          }
        }
      ]
    },
    {
      "cell_type": "markdown",
      "source": [
        "The dataset is not balanced in terms of labels. An unbalanced dataset may lead to a biased machine learning (ML) model."
      ],
      "metadata": {
        "id": "8bfDud4Go3Ms"
      }
    },
    {
      "cell_type": "markdown",
      "metadata": {
        "id": "hq8n0uemgZJ5"
      },
      "source": [
        "###SIGNALS LENGTH DISTRIBUTION"
      ]
    },
    {
      "cell_type": "code",
      "source": [
        "ECGs_128 = []\n",
        "ECGs_128, ECGs128_numfiles = storage(ECGs_128, input_directory, '8', 'ecg')\n",
        "print('Number of patients (128 Hz): ' +str(ECGs128_numfiles))"
      ],
      "metadata": {
        "id": "tJnJuvuIRTi2",
        "outputId": "d8f7b417-ca50-4651-d46f-d10156c404fc",
        "colab": {
          "base_uri": "https://localhost:8080/"
        }
      },
      "execution_count": null,
      "outputs": [
        {
          "output_type": "stream",
          "name": "stdout",
          "text": [
            "Number of patients (128 Hz): 65\n"
          ]
        }
      ]
    },
    {
      "cell_type": "code",
      "source": [
        "ECGs_250 = []\n",
        "ECGs_250, ECGs250_numfiles = storage(ECGs_250, input_directory, '0', 'ecg')\n",
        "print('Number of patients (250 Hz): ' +str(ECGs250_numfiles))"
      ],
      "metadata": {
        "id": "Xa5PHe7ASk7q",
        "outputId": "32b62d3d-24dd-4b85-f4bc-43ac987586f8",
        "colab": {
          "base_uri": "https://localhost:8080/"
        }
      },
      "execution_count": null,
      "outputs": [
        {
          "output_type": "stream",
          "name": "stdout",
          "text": [
            "Number of patients (250 Hz): 40\n"
          ]
        }
      ]
    },
    {
      "cell_type": "code",
      "source": [
        "ECGsfs_lengths = []\n",
        "for i in ECGs_128:                    # scrolls patient by patient\n",
        "  ECGsfs_lengths.append(len(i)/128)   # store signals duration in a list\n",
        "for i in ECGs_250:                    # scrolls patient by patient\n",
        "  ECGsfs_lengths.append(len(i)/250)   # store signals duration in a list\n",
        "\n",
        "plt.bar(ECGsfs_lengths, len(ECGsfs_lengths), align='edge')\n",
        "plt.xlabel('Time (s)')\n",
        "plt.ylabel('Frequency')\n",
        "plt.title(\"Signals length distribution\")"
      ],
      "metadata": {
        "id": "d8QFyC55S1Pi",
        "outputId": "67038f7d-7572-45a5-a12a-52d576c8c6c9",
        "colab": {
          "base_uri": "https://localhost:8080/",
          "height": 368
        }
      },
      "execution_count": null,
      "outputs": [
        {
          "output_type": "execute_result",
          "data": {
            "text/plain": [
              "Text(0.5, 1.0, 'Signals length distribution')"
            ]
          },
          "metadata": {},
          "execution_count": 171
        },
        {
          "output_type": "display_data",
          "data": {
            "image/png": "[encoded data removed]",
            "text/plain": [
              "<Figure size 576x360 with 1 Axes>"
            ]
          },
          "metadata": {
            "needs_background": "light"
          }
        }
      ]
    },
    {
      "cell_type": "markdown",
      "metadata": {
        "id": "3HHm0xcRt8ZA"
      },
      "source": [
        "The dataset is balanced in terms of signals duration."
      ]
    },
    {
      "cell_type": "markdown",
      "metadata": {
        "id": "hCgy8ayDX0Em"
      },
      "source": [
        "#PRE-PROCESSING"
      ]
    },
    {
      "cell_type": "markdown",
      "metadata": {
        "id": "7x3mI8Lh02R3"
      },
      "source": [
        "###UPSAMPLING"
      ]
    },
    {
      "cell_type": "markdown",
      "metadata": {
        "id": "DgwKQRE9jQaI"
      },
      "source": [
        "Upsampling is the process of inserting zero-valued samples between the original samples of a signal to increase the sampling rate. We want, indeed, to bring all the signals at the same sampling frequency of 250 Hz. Downsampling to the 128 Hz is not recommendable otherwise we would lose informations."
      ]
    },
    {
      "cell_type": "code",
      "execution_count": null,
      "metadata": {
        "id": "mGUbkte1oqds"
      },
      "outputs": [],
      "source": [
        "def upsampling(ECG_old, fs_old, fs_up):\n",
        "  deltafs_old = 1/fs_old                                                          # old sampling interval (s)\n",
        "  duration_old = int(deltafs_old*len(ECG_old))                                    # signal duration (s)\n",
        "  samples_old = duration_old*fs_old                                               # number of samples with old sampling frequency\n",
        "  timevec_old = np.linspace(0, duration_old, samples_old, False)                  # old time vector\n",
        "\n",
        "  deltafs_up = 1/fs_up                                                            # new sampling interval (s)\n",
        "  samples_up = duration_old*fs_up                                                 # number of samples expected with new sampling frequency\n",
        "  timevec_up = np.linspace(0, duration_old, samples_up, False)                    # new time vector\n",
        "\n",
        "  ECG_up = signal.resample(ECG_old, samples_up)                                   # ECG upsampled\n",
        "\n",
        "  return timevec_old, timevec_up, ECG_up"
      ]
    },
    {
      "cell_type": "markdown",
      "metadata": {
        "id": "-HZWLodjmHkI"
      },
      "source": [
        "####Example for one signal"
      ]
    },
    {
      "cell_type": "code",
      "execution_count": null,
      "metadata": {
        "colab": {
          "base_uri": "https://localhost:8080/",
          "height": 338
        },
        "id": "TbPMKCvHw4jc",
        "outputId": "f1046b92-287f-48ce-8255-16dd08b8391e"
      },
      "outputs": [
        {
          "output_type": "display_data",
          "data": {
            "image/png": "[encoded data removed]",
            "text/plain": [
              "<Figure size 576x360 with 1 Axes>"
            ]
          },
          "metadata": {
            "needs_background": "light"
          }
        }
      ],
      "source": [
        "patient = 0                                  \n",
        "\n",
        "ECG = 0                                      # ECGs are stored in the first column of the data matrix\n",
        "Ilead = 0                                    # I lead is stored in the first column of the ECGs\n",
        "IIlead = 1                                   # II lead is stored in the first column of the ECGs\n",
        "ECGI_128 = data[patient][ECG][:,Ilead]       \n",
        "ECGII_128 = data[patient][ECG][:,IIlead]     \n",
        "\n",
        "time_128, time_250, ECGI128_up = upsampling(ECGI_128, 128, 250)\n",
        "\n",
        "plt.plot(time_128, ECGI_128, 'go-', time_250, ECGI128_up, '.-')\n",
        "plt.axis([0, 1, -1, 3])                                         \n",
        "plt.legend(['original', 'upsampled'], loc='best')\n",
        "plt.xlabel('Time (s)')\n",
        "plt.ylabel('Amplitude (mV)')\n",
        "plt.show()"
      ]
    },
    {
      "cell_type": "markdown",
      "metadata": {
        "id": "s_r_QP84tIZk"
      },
      "source": [
        "####For all 128 Hz signals"
      ]
    },
    {
      "cell_type": "code",
      "execution_count": null,
      "metadata": {
        "id": "zLtrt58AF2v4"
      },
      "outputs": [],
      "source": [
        "ECGs128_up = []                                      \n",
        "\n",
        "ECG = 0                                      # ECGs are stored in the first column of the data matrix\n",
        "Ilead = 0                                    # I lead is stored in the first column of the ECGs\n",
        "IIlead = 1                                   # II lead is stored in the first column of the ECGs\n",
        "\n",
        "for patient in range(ECGs128_numfiles):              # scrolls patient by patient  \n",
        "  ECGI_128 = data[patient][ECG][:,Ilead]                    \n",
        "  ECGI128_up = upsampling(ECGI_128, 128, 250)[2]     # ECG upsampled    \n",
        "  ECGII_128 = data[patient][ECG][:,IIlead]                \n",
        "  ECGII128_up = upsampling(ECGII_128, 128, 250)[2]   # ECG upsampled\n",
        "  ECG128_up = [ ECGI128_up, ECGII128_up]\n",
        "  ECGs128_up.append(ECG128_up)                       # store ECGs upsampled in a list"
      ]
    },
    {
      "cell_type": "code",
      "execution_count": null,
      "metadata": {
        "id": "vfhAfeFrmFoI"
      },
      "outputs": [],
      "source": [
        "Rpks128_up = []                                      # list initialization\n",
        "\n",
        "for patient in range(ECGs128_numfiles):              # scrolls patient by patient\n",
        "  Rpk128_up = np.round((Rpks[patient]/128)*250)      # Rpks locations correspondance with the new sampling frequency\n",
        "  Rpks128_up.append(Rpk128_up)                       # store new Rpks locations in a list"
      ]
    },
    {
      "cell_type": "code",
      "execution_count": null,
      "metadata": {
        "id": "MBYt1FhL1cVt"
      },
      "outputs": [],
      "source": [
        "ECGs250_up = []                                      # list initialization\n",
        "\n",
        "ECG = 0                                              # ECGs are stored in the first column of the data matrix\n",
        "Ilead = 0                                            # I lead is stored in the first column of the ECGs\n",
        "IIlead = 1                                           # II lead is stored in the second column of the ECGs\n",
        "\n",
        "for patient in range(ECGs128_numfiles,num_files):    # scrolls patient by patient  \n",
        "  ECGI_250 = data[patient][ECG][:,Ilead]                    \n",
        "  ECGI250_up = upsampling(ECGI_250, 250, 250)[2]     # ECG upsampled    \n",
        "  ECGII_250 = data[patient][ECG][:,IIlead]                \n",
        "  ECGII250_up = upsampling(ECGII_250, 250, 250)[2]   # ECG upsampled\n",
        "  ECG250_up = [ ECGI250_up, ECGII250_up]\n",
        "  ECGs250_up.append(ECG250_up)                       # store ECGs upsampled in a list"
      ]
    },
    {
      "cell_type": "code",
      "execution_count": null,
      "metadata": {
        "id": "-HTCigLiqqp1"
      },
      "outputs": [],
      "source": [
        "Rpks250_up = []                                      # list initialization\n",
        "\n",
        "for patient in range(ECGs128_numfiles,num_files):    # scrolls patient by patient\n",
        "  Rpk250_up = np.round((Rpks[patient]/250)*250)      # Rpks locations correspondance with the new sampling frequency\n",
        "  Rpks250_up.append(Rpk250_up)                       # store new Rpks locations in a list"
      ]
    },
    {
      "cell_type": "code",
      "execution_count": null,
      "metadata": {
        "colab": {
          "base_uri": "https://localhost:8080/"
        },
        "id": "NuXRrzagGrtJ",
        "outputId": "1962e414-76f0-4044-920b-31336d61d596"
      },
      "outputs": [
        {
          "output_type": "stream",
          "name": "stdout",
          "text": [
            "Number of patients: 105\n"
          ]
        }
      ],
      "source": [
        "ECGs_up = ECGs128_up                        # new array of upsampled ECGs\n",
        "\n",
        "for patient in range(ECGs250_numfiles):     # scroll patient by patient\n",
        "  ECGs_up.append(ECGs250_up[patient])       # append the ECGs at 250 Hz\n",
        "num_files = len(ECGs_up)                             \n",
        "print('Number of patients: ' +str(num_files))                                  # checking all files have been stored        "
      ]
    },
    {
      "cell_type": "code",
      "execution_count": null,
      "metadata": {
        "colab": {
          "base_uri": "https://localhost:8080/"
        },
        "id": "O1Dmcwt7qQMm",
        "outputId": "6e18eadb-cdf7-48c3-b8d2-548489e82f0b"
      },
      "outputs": [
        {
          "output_type": "stream",
          "name": "stdout",
          "text": [
            "Number of patients: 105\n"
          ]
        }
      ],
      "source": [
        "Rpks_up = Rpks128_up                        # new array of upsampled Rpks\n",
        "\n",
        "for patient in range(ECGs250_numfiles):     # scroll patient by patient\n",
        "  Rpks_up.append(Rpks250_up[patient])       # append the Rpks at 250 Hz\n",
        "num_files = len(Rpks_up)                             \n",
        "print('Number of patients: ' +str(num_files))                                   # checking all files have been stored"
      ]
    },
    {
      "cell_type": "code",
      "execution_count": null,
      "metadata": {
        "id": "ES5-eY6QJNN4"
      },
      "outputs": [],
      "source": [
        "data_up = []                                                                     # list initialization\n",
        "\n",
        "for patient in range(num_files):                                                 # scrolls patient by patient\n",
        "  row = [ ECGs_up[patient], Rpks_up[patient], anns[patient] ]                    # store ECG upsampled, R peaks location, beats annotation for each patient in a row\n",
        "  data_up.append(row)                                                            # store row in a list\n",
        "data_up = pd.DataFrame(data_up)"
      ]
    },
    {
      "cell_type": "code",
      "source": [
        "path = '/gdrive/MyDrive/AI_Assignment/'\n",
        "data_up.to_pickle(path+'data_up')"
      ],
      "metadata": {
        "id": "39DUt_KObWoE"
      },
      "execution_count": null,
      "outputs": []
    },
    {
      "cell_type": "code",
      "source": [
        "path = '/gdrive/MyDrive/AI_Assignment/'\n",
        "data_up = pd.read_pickle(path+'data_up')"
      ],
      "metadata": {
        "id": "Pl_-iaRwbXRD"
      },
      "execution_count": null,
      "outputs": []
    },
    {
      "cell_type": "code",
      "source": [
        "data_up = data_up.values.tolist()"
      ],
      "metadata": {
        "id": "A3-WUlqEbpO9"
      },
      "execution_count": null,
      "outputs": []
    },
    {
      "cell_type": "code",
      "execution_count": 8,
      "metadata": {
        "id": "hupAQWgQumvR"
      },
      "outputs": [],
      "source": [
        "fs = 250              # sampling frequency (Hz)\n",
        "delta_fs = 1/fs       # sampling interval (s)"
      ]
    },
    {
      "cell_type": "markdown",
      "metadata": {
        "id": "QQvod65R15rb"
      },
      "source": [
        "###BASELINE WANDER ESTIMATE"
      ]
    },
    {
      "cell_type": "markdown",
      "metadata": {
        "id": "GCNPgwekxBT2"
      },
      "source": [
        "We want to detect the baseline and remove it from the overall signals because not necessary to the features of interest when computing the power spectrum. Indeed, the baseline wander mainly corresponds to the movement and respiration of the patient."
      ]
    },
    {
      "cell_type": "markdown",
      "metadata": {
        "id": "_WImbhTkySf9"
      },
      "source": [
        "####Example for one signal"
      ]
    },
    {
      "cell_type": "code",
      "execution_count": null,
      "metadata": {
        "colab": {
          "base_uri": "https://localhost:8080/",
          "height": 352
        },
        "id": "tQdIm2VMJ-Qe",
        "outputId": "f9590237-bb5e-4d0a-c2e1-cbf170320650"
      },
      "outputs": [
        {
          "output_type": "execute_result",
          "data": {
            "text/plain": [
              "Text(0, 0.5, 'Amplitude (mV)')"
            ]
          },
          "metadata": {},
          "execution_count": 187
        },
        {
          "output_type": "display_data",
          "data": {
            "image/png": "[encoded data removed]",
            "text/plain": [
              "<Figure size 576x360 with 1 Axes>"
            ]
          },
          "metadata": {
            "needs_background": "light"
          }
        }
      ],
      "source": [
        "patient = 0                                \n",
        "\n",
        "ECG = 0                                      # ECGs are stored in the first column of the data matrix\n",
        "Ilead = 0                                    # I lead is stored in the first column of the ECGs\n",
        "IIlead = 1                                   # II lead is stored in the first column of the ECGs\n",
        "ECGI_up = data_up[patient][ECG][Ilead]          # ECG I lead from patient S001_128\n",
        "ECGII_up = data_up[patient][ECG][IIlead]        # ECG II lead from patient S001_128\n",
        "\n",
        "duration = int(delta_fs*len(ECGI_up))                             # signal duration (s)\n",
        "samples = duration*fs                                             # number of samples\n",
        "time_vec = np.linspace(0, duration, samples, endpoint=False)      # time vector\n",
        "\n",
        "plot(time_vec, ECGI_up)\n",
        "xlabel('Time (s)')\n",
        "ylabel('Amplitude (mV)')"
      ]
    },
    {
      "cell_type": "code",
      "execution_count": null,
      "metadata": {
        "id": "bmoWPGPHLojt"
      },
      "outputs": [],
      "source": [
        "def power_spectrum(data, sampling_rate):\n",
        "  fourier_transform = np.fft.rfft(data)                                 # FFT computation\n",
        "  abs_fourier_transform = np.abs(fourier_transform)                     # FFT absolute value\n",
        "  power_spectrum = np.square(abs_fourier_transform)                     # power spectrum\n",
        "  frequency = np.linspace(0, sampling_rate/2, len(power_spectrum))      # vector of frequencies\n",
        "\n",
        "  return frequency, power_spectrum"
      ]
    },
    {
      "cell_type": "code",
      "execution_count": null,
      "metadata": {
        "colab": {
          "base_uri": "https://localhost:8080/",
          "height": 364
        },
        "id": "Rbu_xfgiMYnV",
        "outputId": "16a3636d-acea-427c-8032-bb1d8ed98198"
      },
      "outputs": [
        {
          "output_type": "execute_result",
          "data": {
            "text/plain": [
              "Text(0, 0.5, 'Power Spectrum (dB/Hz)')"
            ]
          },
          "metadata": {},
          "execution_count": 189
        },
        {
          "output_type": "display_data",
          "data": {
            "image/png": "[encoded data removed]",
            "text/plain": [
              "<Figure size 576x360 with 1 Axes>"
            ]
          },
          "metadata": {
            "needs_background": "light"
          }
        }
      ],
      "source": [
        "ECGIup_f, ECGIup_ps = power_spectrum(ECGI_up, fs)\n",
        "plt.plot(ECGIup_f, ECGIup_ps)\n",
        "plt.xlabel('Frequency (Hz)')\n",
        "plt.ylabel('Power Spectrum (dB/Hz)')"
      ]
    },
    {
      "cell_type": "markdown",
      "metadata": {
        "id": "Ryu_iM5yU6n4"
      },
      "source": [
        "Plotting the signal in the frequency domain we are able to detect the baseline contribution as the highest peak.\n",
        "To detect the baseline wander we apply two median filters of different lengths. The foremost idea of the median filter is to track through the signal entry by entry, switching each entry with the median of neighboring entries. The pattern of neighbors is called the \"window\", which slides, entry by entry, over the entire signal."
      ]
    },
    {
      "cell_type": "markdown",
      "metadata": {
        "id": "3HxVrIGSZvgs"
      },
      "source": [
        "######Median Filter (200 ms)"
      ]
    },
    {
      "cell_type": "code",
      "execution_count": null,
      "metadata": {
        "colab": {
          "base_uri": "https://localhost:8080/",
          "height": 338
        },
        "id": "ZCk6EtYF8T8I",
        "outputId": "45b93558-1535-4c12-e1f3-86e980e517e4"
      },
      "outputs": [
        {
          "output_type": "display_data",
          "data": {
            "image/png": "[encoded data removed]",
            "text/plain": [
              "<Figure size 576x360 with 1 Axes>"
            ]
          },
          "metadata": {
            "needs_background": "light"
          }
        }
      ],
      "source": [
        "kernel_t = 0.2                                                 # kernel duration (s)\n",
        "kernel_smp = kernel_t*fs                                       # kernel length (samples)       \n",
        "ECGIup_mf200 = signal.medfilt(ECGI_up, int(kernel_smp)+1)      # +1 the one being filtered\n",
        "plt.plot(time_vec, ECGI_up, time_vec, ECGIup_mf200)\n",
        "plt.axis([0, 50, -1, 3])\n",
        "plt.legend(['original', 'mf200'], loc='best')\n",
        "plt.xlabel('Time (s)')\n",
        "plt.ylabel('Amplitude (mV)')\n",
        "plt.show()"
      ]
    },
    {
      "cell_type": "markdown",
      "metadata": {
        "id": "kE4Fl-NaaQHw"
      },
      "source": [
        "######Median Filter (600 ms)"
      ]
    },
    {
      "cell_type": "code",
      "execution_count": null,
      "metadata": {
        "colab": {
          "base_uri": "https://localhost:8080/",
          "height": 338
        },
        "id": "oDCCEuUgLrrK",
        "outputId": "3d1bb9f4-d98c-4f0a-c70b-314174d30c10"
      },
      "outputs": [
        {
          "output_type": "display_data",
          "data": {
            "image/png": "[encoded data removed]",
            "text/plain": [
              "<Figure size 576x360 with 1 Axes>"
            ]
          },
          "metadata": {
            "needs_background": "light"
          }
        }
      ],
      "source": [
        "kernel_t = 0.6                                                      # kernel duration (s)\n",
        "kernel_smp = kernel_t*fs                                            # kernel length (samples)\n",
        "ECGIup_mf600 = signal.medfilt(ECGIup_mf200, int(kernel_smp)+1)      # +1 the one being filtered\n",
        "plt.plot(time_vec, ECGIup_mf200, time_vec, ECGIup_mf600)\n",
        "plt.axis([0, 50, -1, 3])\n",
        "plt.legend(['mf200', 'mf600'], loc='best')\n",
        "plt.xlabel('Time (s)')\n",
        "plt.ylabel('Amplitude (mV)')\n",
        "plt.show()"
      ]
    },
    {
      "cell_type": "markdown",
      "metadata": {
        "id": "iaBdKUJpaYTk"
      },
      "source": [
        "######Baseline Removal"
      ]
    },
    {
      "cell_type": "code",
      "execution_count": null,
      "metadata": {
        "colab": {
          "base_uri": "https://localhost:8080/",
          "height": 334
        },
        "id": "K7SsB_QLNOg8",
        "outputId": "5742482c-96af-4155-e3f1-87a92375ff46"
      },
      "outputs": [
        {
          "output_type": "display_data",
          "data": {
            "image/png": "[encoded data removed]",
            "text/plain": [
              "<Figure size 576x360 with 1 Axes>"
            ]
          },
          "metadata": {
            "needs_background": "light"
          }
        }
      ],
      "source": [
        "ECGIup_blr = ECGI_up-ECGIup_mf600\n",
        "plt.plot(time_vec, ECGI_up, time_vec, ECGIup_blr)\n",
        "plt.legend(['original', 'baseline removed'], loc='best')\n",
        "plt.xlabel('Time (s)')\n",
        "plt.ylabel('Amplitude (mV)')\n",
        "plt.show()"
      ]
    },
    {
      "cell_type": "code",
      "execution_count": null,
      "metadata": {
        "colab": {
          "base_uri": "https://localhost:8080/",
          "height": 345
        },
        "id": "-IrN0_y9SUIa",
        "outputId": "642c3892-904c-4283-d992-e21dfa4c5488"
      },
      "outputs": [
        {
          "output_type": "display_data",
          "data": {
            "image/png": "[encoded data removed]",
            "text/plain": [
              "<Figure size 576x360 with 1 Axes>"
            ]
          },
          "metadata": {
            "needs_background": "light"
          }
        }
      ],
      "source": [
        "ECGIupblr_f, ECGIupblr_ps = power_spectrum(ECGIup_blr, fs)\n",
        "plt.plot(ECGIup_f, ECGIup_ps, ECGIupblr_f, ECGIupblr_ps)\n",
        "plt.legend(['original', 'baseline removed'], loc='best')\n",
        "plt.xlabel('Frequency (Hz)')\n",
        "\n",
        "plt.ylabel('Power Spectrum (dB/Hz)')\n",
        "plt.show()"
      ]
    },
    {
      "cell_type": "code",
      "source": [
        "plt.plot(ECGIup_f, ECGIup_ps, ECGIupblr_f, ECGIupblr_ps)\n",
        "plt.legend(['original', 'baseline removed'], loc='best')\n",
        "plt.xlabel('Frequency (Hz)')\n",
        "plt.xlim(0, 1)\n",
        "\n",
        "plt.ylabel('Power Spectrum (dB/Hz)')\n",
        "plt.show()"
      ],
      "metadata": {
        "colab": {
          "base_uri": "https://localhost:8080/",
          "height": 345
        },
        "id": "wjps2y5f-8tQ",
        "outputId": "d8921cd8-c270-4a6e-a428-aac92d28602c"
      },
      "execution_count": null,
      "outputs": [
        {
          "output_type": "display_data",
          "data": {
            "image/png": "[encoded data removed]",
            "text/plain": [
              "<Figure size 576x360 with 1 Axes>"
            ]
          },
          "metadata": {
            "needs_background": "light"
          }
        }
      ]
    },
    {
      "cell_type": "markdown",
      "metadata": {
        "id": "dgAxvymbVhFG"
      },
      "source": [
        "As we can see the baseline component has been removed. Moreover, the baseline wander removal could have been addressed also following a frequency-based approach so by applying a high pass filter with cutoff at 0.5 Hz."
      ]
    },
    {
      "cell_type": "markdown",
      "metadata": {
        "id": "o2egB1YsypoV"
      },
      "source": [
        "####For all signals"
      ]
    },
    {
      "cell_type": "code",
      "execution_count": null,
      "metadata": {
        "id": "gwYK2tacy0oq"
      },
      "outputs": [],
      "source": [
        "ECGsup_blr = []              \n",
        "                         \n",
        "ECG = 0                                               # ECGs are stored in the first column of the data matrix\n",
        "Ilead = 0                                             # I lead is stored in the first column of the ECGs\n",
        "IIlead = 1                                            # II lead is stored in the second column of the ECGs\n",
        "\n",
        "for patient in range(num_files):                      # scrolls patient by patient\n",
        "  ECGI_up = data_up[patient][ECG][Ilead]\n",
        "  kernel_t = 0.2                                                    # kernel duration (s)\n",
        "  kernel_smp = kernel_t*fs                                          # kernel length (samples)          \n",
        "  ECGIup_mf200 = signal.medfilt(ECGI_up, int(kernel_smp)+1)         # +1 the one being filtered\n",
        "  kernel_t = 0.6                                                    # kernel duration (s)\n",
        "  kernel_smp = kernel_t*fs                                          # kernel length (samples)\n",
        "  ECGIup_mf600 = signal.medfilt(ECGIup_mf200, int(kernel_smp)+1)    # +1 the one being filtered\n",
        "  ECGIup_blr = ECGI_up-ECGIup_mf600                                 # baseline removal\n",
        "  ECGII_up = data_up[patient][ECG][IIlead]  \n",
        "  kernel_t = 0.2                                                       # kernel duration (s)\n",
        "  kernel_smp = kernel_t*fs                                             # kernel length (samples)        \n",
        "  ECGIIup_mf200 = signal.medfilt(ECGII_up, int(kernel_smp)+1)          # +1 the one being filtered\n",
        "  kernel_t = 0.6                                                       # kernel duration (s)\n",
        "  kernel_smp = kernel_t*fs                                             # kernel length (samples)\n",
        "  ECGIIup_mf600 = signal.medfilt(ECGIIup_mf200, int(kernel_smp)+1)     # +1 the one being filtered\n",
        "  ECGIIup_blr = ECGII_up-ECGIIup_mf600                                 # baseline removal\n",
        "  ECGup_blr = [ ECGIup_blr, ECGIIup_blr ]\n",
        "  ECGsup_blr.append(ECGup_blr)"
      ]
    },
    {
      "cell_type": "code",
      "execution_count": null,
      "metadata": {
        "id": "WB0x9HStbUuU"
      },
      "outputs": [],
      "source": [
        "dataup_blr = []                                                                  # list initialization\n",
        "for patient in range(num_files):                                                 # scrolls patient by patient\n",
        "  row = [ ECGsup_blr[patient], Rpks_up[patient], anns[patient] ]                 # store ECG baseline removed, R peaks location, beats annotation for each patient in a row\n",
        "  dataup_blr.append(row)                                                         # store row in a list\n",
        "dataup_blr = pd.DataFrame(dataup_blr)"
      ]
    },
    {
      "cell_type": "code",
      "source": [
        "path = '/gdrive/MyDrive/AI_Assignment/'\n",
        "dataup_blr.to_pickle(path+'dataup_blr')"
      ],
      "metadata": {
        "id": "3RY0BgGafVSN"
      },
      "execution_count": null,
      "outputs": []
    },
    {
      "cell_type": "code",
      "source": [
        "path = '/gdrive/MyDrive/AI_Assignment/'\n",
        "dataup_blr = pd.read_pickle(path+'dataup_blr')"
      ],
      "metadata": {
        "id": "2zo8zIaZfVSX"
      },
      "execution_count": null,
      "outputs": []
    },
    {
      "cell_type": "code",
      "source": [
        "dataup_blr = dataup_blr.values.tolist()"
      ],
      "metadata": {
        "id": "FgtnPgqnfVSY"
      },
      "execution_count": null,
      "outputs": []
    },
    {
      "cell_type": "markdown",
      "metadata": {
        "id": "GOCH5rk3ZG2m"
      },
      "source": [
        "###FILTERING"
      ]
    },
    {
      "cell_type": "markdown",
      "metadata": {
        "id": "0eUMCu0OeY4G"
      },
      "source": [
        "####Example for one signal"
      ]
    },
    {
      "cell_type": "code",
      "execution_count": null,
      "metadata": {
        "colab": {
          "base_uri": "https://localhost:8080/",
          "height": 356
        },
        "id": "UTsOT5JSN0Gp",
        "outputId": "3e3da0d3-9e83-4b17-8c1d-84c205438bfe"
      },
      "outputs": [
        {
          "output_type": "execute_result",
          "data": {
            "text/plain": [
              "Text(0, 0.5, 'Amplitude (mV)')"
            ]
          },
          "metadata": {},
          "execution_count": 198
        },
        {
          "output_type": "display_data",
          "data": {
            "image/png": "[encoded data removed]",
            "text/plain": [
              "<Figure size 576x360 with 1 Axes>"
            ]
          },
          "metadata": {
            "needs_background": "light"
          }
        }
      ],
      "source": [
        "patient = 0                                        # patient S001_128 (S001_250)\n",
        "ECG = 0                                            # ECGs are stored in the first column of the data matrix\n",
        "Ilead = 0                                          # I lead is stored in the first column of the ECGs\n",
        "ECGIup_blr = dataup_blr[patient][ECG][Ilead]       # ECG I lead from patient S001_128 (S001_250)\n",
        "\n",
        "duration = int(delta_fs*len(ECGIup_blr))                          # signal duration (s)\n",
        "samples = duration*fs                                             # number of samples\n",
        "time_vec = np.linspace(0, duration, samples, endpoint=False)      # time vector\n",
        "\n",
        "plot(time_vec, ECGIup_blr)\n",
        "plt.axis([0, 1, -1, 3])\n",
        "xlabel('Time (s)')\n",
        "ylabel('Amplitude (mV)')"
      ]
    },
    {
      "cell_type": "markdown",
      "metadata": {
        "id": "SqLxipyeU1kP"
      },
      "source": [
        "From this plot it can be noticed the ECG signal needs to be smoothed out."
      ]
    },
    {
      "cell_type": "markdown",
      "source": [
        "#####FIR filter"
      ],
      "metadata": {
        "id": "bi3NpUVu4yiM"
      }
    },
    {
      "cell_type": "markdown",
      "source": [
        "We apply a low pass filter with 35 Hz cutoff to get rid of the high frequencies responsible of signal ripples."
      ],
      "metadata": {
        "id": "so6cIcFz5Cyp"
      }
    },
    {
      "cell_type": "code",
      "execution_count": null,
      "metadata": {
        "id": "Od2XUUL8bSSK"
      },
      "outputs": [],
      "source": [
        "def FIRlowpass(sample_rate, signal, time_axis, cutoff_hz, start, end, figs):\n",
        "\n",
        "  global delay\n",
        "\n",
        "  nyq_rate = sample_rate/2.0    # Nyquist frequency\n",
        "  width = 5.0/nyq_rate          # the desired width of the transition from pass to stop,\n",
        "                                # relative to the Nyquist rate.  We'll design the filter\n",
        "                                # with a 5 Hz transition width.\n",
        "  ripple_db = 60.0              # the desired attenuation in the stop band, in dB\n",
        "  N, beta = kaiserord(ripple_db, width) # compute the order and Kaiser parameter for the FIR filter.\n",
        "  taps = firwin(N, cutoff_hz/nyq_rate, window=('kaiser', beta))\n",
        "  filtered = lfilter(taps, 1.0, signal)\n",
        "\n",
        "  if figs == True:\n",
        "    \n",
        "    figure(1) # filter coefficients\n",
        "    plot(taps, 'bo-', linewidth=2)\n",
        "    title('Filter Coefficients (%d taps)' % N)\n",
        "    grid(True)\n",
        "\n",
        "    figure(2) # filter magnitude response\n",
        "    clf()\n",
        "    w, h = freqz(taps, worN=8000)\n",
        "    plot((w/pi)*nyq_rate, absolute(h), linewidth=2)\n",
        "    xlabel('Frequency (Hz)')\n",
        "    ylabel('Gain')\n",
        "    title('Frequency Response')\n",
        "    ylim(-0.05, 1.05)\n",
        "    grid(True)\n",
        "    ax1 = axes([0.42, 0.6, .45, .25])  # upper inset plot\n",
        "    plot((w/pi)*nyq_rate, absolute(h), linewidth=2)\n",
        "    xlim(0,8.0)\n",
        "    ylim(0.9985, 1.001)\n",
        "    grid(True)\n",
        "    ax2 = axes([0.42, 0.25, .45, .25]) # lower inset plot\n",
        "    plot((w/pi)*nyq_rate, absolute(h), linewidth=2)\n",
        "    xlim(60.0, 80.0)\n",
        "    ylim(-0.05, 0.05)\n",
        "    grid(True)\n",
        "\n",
        "    delay = 0.5 * (N-1) / sample_rate   # the phase delay of the filtered signal\n",
        "    figure(3)                           # original vs filtered signal\n",
        "    axis([start, end, -1, 3])\n",
        "    plot(time_axis, signal)\n",
        "    #plot(time_axis-delay, filtered_x, 'r-')\n",
        "    plot(time_axis[N-1:]-delay, filtered[N-1:], 'r', linewidth=1) # plot just the \"good\" part of the filtered signal. The first N-1\n",
        "                                                                  # samples are \"corrupted\" by the initial conditions.\n",
        "    legend(['original', 'filtered'], loc='best')\n",
        "    xlabel('Time (s)')\n",
        "    ylabel('Amplitude (mV)')\n",
        "    grid(True)\n",
        "\n",
        "    figure(4)\n",
        "    signal_f, signal_ps = power_spectrum(signal, fs)\n",
        "    filt_f, filt_ps = power_spectrum(filtered, fs)\n",
        "    plot(signal_f, signal_ps, filt_f, filt_ps)\n",
        "    legend(['original', 'filtered'], loc='best')\n",
        "    xlabel('Frequency (Hz)')\n",
        "    ylabel('Power Spectrum (dB/Hz)')\n",
        "\n",
        "    show()\n",
        "    \n",
        "  elif figs == False:\n",
        "    plt.close('all')\n",
        "\n",
        "  return filtered, delay"
      ]
    },
    {
      "cell_type": "code",
      "execution_count": null,
      "metadata": {
        "colab": {
          "base_uri": "https://localhost:8080/",
          "height": 1000
        },
        "id": "R2kFjnQc18RK",
        "outputId": "da9460f5-2e18-411a-c981-577326466e05"
      },
      "outputs": [
        {
          "output_type": "display_data",
          "data": {
            "image/png": "[encoded data removed]",
            "text/plain": [
              "<Figure size 576x360 with 1 Axes>"
            ]
          },
          "metadata": {
            "needs_background": "light"
          }
        },
        {
          "output_type": "display_data",
          "data": {
            "image/png": "[encoded data removed]",
            "text/plain": [
              "<Figure size 576x360 with 3 Axes>"
            ]
          },
          "metadata": {
            "needs_background": "light"
          }
        },
        {
          "output_type": "display_data",
          "data": {
            "image/png": "[encoded data removed]",
            "text/plain": [
              "<Figure size 576x360 with 1 Axes>"
            ]
          },
          "metadata": {
            "needs_background": "light"
          }
        },
        {
          "output_type": "display_data",
          "data": {
            "image/png": "[encoded data removed]",
            "text/plain": [
              "<Figure size 576x360 with 1 Axes>"
            ]
          },
          "metadata": {
            "needs_background": "light"
          }
        },
        {
          "output_type": "stream",
          "name": "stdout",
          "text": [
            "Delay (s): 0.364\n"
          ]
        }
      ],
      "source": [
        "ECGIupblr_filt, delay = FIRlowpass(fs, ECGIup_blr, time_vec, 35, 0, 1, True)\n",
        "print('Delay (s): ' +str(delay))"
      ]
    },
    {
      "cell_type": "markdown",
      "metadata": {
        "id": "lzZGVN0TebO_"
      },
      "source": [
        "####For all signals"
      ]
    },
    {
      "cell_type": "code",
      "execution_count": null,
      "metadata": {
        "id": "3G6GbtLjnAyv"
      },
      "outputs": [],
      "source": [
        "ECGsupblr_filt = []    # list initialization\n",
        "ECG = 0                # ECGs are stored in the first column of the data matrix\n",
        "Ilead = 0              # I lead is stored in the first column of the ECGs\n",
        "IIlead = 1             # II lead is stored in the second column of the ECGs\n",
        "for patient in range(num_files):                   # scrolls patient by patient\n",
        "  ECGIup_blr = dataup_blr[patient][ECG][Ilead]            \n",
        "  ECGIupblr_filt = FIRlowpass(fs, ECGIup_blr, time_vec, 35, [], [], False)[0]         \n",
        "  ECGIIup_blr = dataup_blr[patient][ECG][IIlead]            \n",
        "  ECGIIupblr_filt = FIRlowpass(fs, ECGIIup_blr, time_vec, 35, [], [], False)[0]\n",
        "  ECGupblr_filt = [ ECGIupblr_filt[int(delay*fs):], ECGIIupblr_filt[int(delay*fs):] ]\n",
        "  ECGsupblr_filt.append(ECGupblr_filt)"
      ]
    },
    {
      "cell_type": "code",
      "execution_count": null,
      "metadata": {
        "id": "hq-7ilNNorkO"
      },
      "outputs": [],
      "source": [
        "dataupblr_filt = []                                                              # list initialization\n",
        "for patient in range(num_files):                                                 # scrolls patient by patient                                              \n",
        "  row = [ ECGsupblr_filt[patient], Rpks_up[patient][:-1], anns[patient][:-1] ]  # store ECG filtered, R peaks location, beats annotation for each patient in a row\n",
        "  dataupblr_filt.append(row)                                                   # store row in a list\n",
        "dataupblr_filt = pd.DataFrame(dataupblr_filt)"
      ]
    },
    {
      "cell_type": "code",
      "source": [
        "path = '/gdrive/MyDrive/AI_Assignment/'\n",
        "dataupblr_filt.to_pickle(path+'dataupblr_filt')"
      ],
      "metadata": {
        "id": "gc9-gc2EfqQn"
      },
      "execution_count": null,
      "outputs": []
    },
    {
      "cell_type": "code",
      "source": [
        "path = '/gdrive/MyDrive/AI_Assignment/'\n",
        "dataupblr_filt = pd.read_pickle(path+'dataupblr_filt')"
      ],
      "metadata": {
        "id": "sVQ6QjTVfqQ0"
      },
      "execution_count": 9,
      "outputs": []
    },
    {
      "cell_type": "code",
      "source": [
        "dataupblr_filt = dataupblr_filt.values.tolist()"
      ],
      "metadata": {
        "id": "PYGi8wBtfqQ2"
      },
      "execution_count": 10,
      "outputs": []
    },
    {
      "cell_type": "markdown",
      "metadata": {
        "id": "8_MYD4JoCDR_"
      },
      "source": [
        "#FEATURE EXTRACTION"
      ]
    },
    {
      "cell_type": "markdown",
      "source": [
        "We are choosing and determining which are the characteristics of the beats that will be influencing our ML model. "
      ],
      "metadata": {
        "id": "i9-XmMPqVteC"
      }
    },
    {
      "cell_type": "markdown",
      "metadata": {
        "id": "NijEcitF8n92"
      },
      "source": [
        "###BEATS EXTRACTION"
      ]
    },
    {
      "cell_type": "markdown",
      "metadata": {
        "id": "7PakqcvAzNSm"
      },
      "source": [
        "Beats are extracted using a fixed window. However, it should be noted that as no ECG delineation is performed, the reported segments may not precisely account for these ECG regions (i.e., it is not an exact selection of the onset and offset of the ECG segment, but rather an approximate estimation). Nevertheless, the scope of this selection is to account for their intra-patient variability not to extract any precise parameter which could describe any of the ECG regions described above. Therefore, given that for the same patient the same ECG portion would be extracted for each of the mentioned segments, any variability produced by a premature atrial or ventricular beat, should be detected even if the ECG region is not accurately delineated."
      ]
    },
    {
      "cell_type": "code",
      "execution_count": 85,
      "metadata": {
        "id": "MzbB1vak8_iU"
      },
      "outputs": [],
      "source": [
        "wnwst_t = 0.35     # start of the window in s\n",
        "wnwend_t = 0.35    # end of the window in s"
      ]
    },
    {
      "cell_type": "code",
      "execution_count": 86,
      "metadata": {
        "id": "uZF516C8_Vu3"
      },
      "outputs": [],
      "source": [
        "def extractor(wnwst_t, wnwend_t):\n",
        "  wnwst_smp = round(wnwst_t*fs)           # number of samples before the R peak\n",
        "  wnwend_smp = round(wnwend_t*fs)         # number of samples after the R peak\n",
        "  rows = []                               # list initialization\n",
        "  ECG_wnw = []                            # list initialization\n",
        "  ECG = 0                                 # ECGs are stored in the first column of the data matrix\n",
        "  Ilead = 0                               # I lead is stored in the first column of the ECGs\n",
        "  IIlead = 1                              # II lead is stored in the second column of the ECGs\n",
        "  Rpks = 1                                # Rpks are stored in the second column of the data matrix\n",
        "  anns = 2                                # anns are stored in the third column of the data matrix\n",
        "\n",
        "  for patient in range(1):\n",
        "    print(patient)\n",
        "    rows = []\n",
        "    ECGIupblr_filt = dataupblr_filt[patient][ECG][Ilead]\n",
        "    rpeaks = np.hstack(dataupblr_filt[patient][Rpks])\n",
        "    rpeaks = rpeaks.astype(int)\n",
        "    _, waves_dwtI = nk.ecg_delineate(ECGIupblr_filt, rpeaks, sampling_rate=250, method=\"dwt\", show=False, show_type='all')\n",
        "    ECGIIupblr_filt = dataupblr_filt[patient][ECG][IIlead]\n",
        "    rpeaks = np.hstack(dataupblr_filt[patient][Rpks])\n",
        "    rpeaks = rpeaks.astype(int)\n",
        "    _, waves_dwtII = nk.ecg_delineate(ECGIIupblr_filt, rpeaks, sampling_rate=250, method=\"dwt\", show=False, show_type='all')\n",
        "    for n_beat, i in enumerate(rpeaks):\n",
        "      ann = dataupblr_filt[patient][anns][n_beat]\n",
        "      if (i-wnwst_smp)>0 and (i+wnwend_smp)<rpeaks[-1]:\n",
        "        R = rpeaks[n_beat]\n",
        "        R_t = R*delta_fs\n",
        "        time = np.linspace((R_t-wnwst_t), (R_t+wnwend_t), wnwst_smp+wnwend_smp, endpoint=True)       \n",
        "        PonI = waves_dwtI['ECG_P_Onsets'][n_beat]\n",
        "        PonI = np.nan_to_num(PonI, nan=int(rpeaks[n_beat]-0.2*fs))\n",
        "        PonI = PonI.astype(int)\n",
        "        PpkI = waves_dwtI['ECG_P_Peaks'][n_beat]\n",
        "        PpkI = np.nan_to_num(PpkI, nan=int(rpeaks[n_beat]-0.162*fs))\n",
        "        PpkI = PpkI.astype(int)\n",
        "        PoffI = waves_dwtI['ECG_P_Offsets'][n_beat]\n",
        "        PoffI = np.nan_to_num(PoffI, nan=int(rpeaks[n_beat]-0.125*fs))\n",
        "        PoffI = PoffI.astype(int)\n",
        "        QI = waves_dwtI['ECG_Q_Peaks'][n_beat]\n",
        "        QI = np.nan_to_num(QI, nan=int(rpeaks[n_beat]-0.05*fs))\n",
        "        QI = QI.astype(int)\n",
        "        RonI = waves_dwtI['ECG_R_Onsets'][n_beat]\n",
        "        RonI = np.nan_to_num(RonI, nan=int(rpeaks[n_beat]-0.02*fs))\n",
        "        RonI = RonI.astype(int)\n",
        "        RoffI = waves_dwtI['ECG_R_Offsets'][n_beat]\n",
        "        RoffI = np.nan_to_num(RoffI, nan=int(rpeaks[n_beat]+0.02*fs))\n",
        "        RoffI = RoffI.astype(int)\n",
        "        SI = waves_dwtI['ECG_S_Peaks'][n_beat]\n",
        "        SI = np.nan_to_num(SI, nan=int(rpeaks[n_beat]+0.05*fs))\n",
        "        SI = SI.astype(int)\n",
        "        TonI = waves_dwtI['ECG_T_Onsets'][n_beat]\n",
        "        TonI = np.nan_to_num(TonI, nan=int(rpeaks[n_beat]+0.105*fs))\n",
        "        TonI = TonI.astype(int)\n",
        "        TpkI = waves_dwtI['ECG_T_Peaks'][n_beat]\n",
        "        TpkI = np.nan_to_num(TpkI, nan=int(rpeaks[n_beat]+0.195*fs))\n",
        "        TpkI = TpkI.astype(int)\n",
        "        ToffI = waves_dwtI['ECG_T_Offsets'][n_beat]\n",
        "        ToffI = np.nan_to_num(ToffI, nan=int(rpeaks[n_beat]+0.305*fs))\n",
        "        ToffI = ToffI.astype(int)\n",
        "        PonII = waves_dwtII['ECG_P_Onsets'][n_beat]\n",
        "        PonII = np.nan_to_num(PonII, nan=int(rpeaks[n_beat]-0.2*fs))\n",
        "        PonII = PonII.astype(int)\n",
        "        PpkII = waves_dwtII['ECG_P_Peaks'][n_beat]\n",
        "        PpkII = np.nan_to_num(PpkII, nan=int(rpeaks[n_beat]-0.162*fs))\n",
        "        PpkII = PpkII.astype(int)\n",
        "        PoffII = waves_dwtII['ECG_P_Offsets'][n_beat]\n",
        "        PoffII = np.nan_to_num(PoffII, nan=int(rpeaks[n_beat]-0.125*fs))\n",
        "        PoffII = PoffII.astype(int)\n",
        "        QII = waves_dwtII['ECG_Q_Peaks'][n_beat]\n",
        "        QII = np.nan_to_num(QII, nan=int(rpeaks[n_beat]-0.05*fs))\n",
        "        QII = QII.astype(int)\n",
        "        RonII = waves_dwtII['ECG_R_Onsets'][n_beat]\n",
        "        RonII = np.nan_to_num(RonII, nan=int(rpeaks[n_beat]-0.02*fs))\n",
        "        RonII = RonII.astype(int)\n",
        "        RoffII = waves_dwtII['ECG_R_Offsets'][n_beat]\n",
        "        RoffII = np.nan_to_num(RoffII, nan=int(rpeaks[n_beat]+0.02*fs))\n",
        "        RoffII = RoffII.astype(int)\n",
        "        SII = waves_dwtII['ECG_S_Peaks'][n_beat]\n",
        "        SII = np.nan_to_num(SII, nan=int(rpeaks[n_beat]+0.05*fs))\n",
        "        SII = SII.astype(int)\n",
        "        TonII = waves_dwtII['ECG_T_Onsets'][n_beat]\n",
        "        TonII = np.nan_to_num(TonII, nan=int(rpeaks[n_beat]+0.105*fs))\n",
        "        TonII = TonII.astype(int)\n",
        "        TpkII = waves_dwtII['ECG_T_Peaks'][n_beat]\n",
        "        TpkII = np.nan_to_num(TpkII, nan=int(rpeaks[n_beat]+0.195*fs))\n",
        "        TpkII = TpkII.astype(int)\n",
        "        ToffII = waves_dwtII['ECG_T_Offsets'][n_beat]\n",
        "        ToffII = np.nan_to_num(ToffII, nan=int(rpeaks[n_beat]+0.305*fs))\n",
        "        ToffII = ToffII.astype(int)\n",
        "        row = [ i, ann, time, \n",
        "               ECGIupblr_filt[i-wnwst_smp:i+wnwend_smp], \n",
        "               [ PonI, PpkI, PoffI, QI, RonI, R, RoffI, SI, TonI, TpkI, ToffI ],\n",
        "               [ ECGIupblr_filt[PonI], ECGIupblr_filt[PpkI], ECGIupblr_filt[PoffI], ECGIupblr_filt[QI], ECGIupblr_filt[RonI], ECGIupblr_filt[R], ECGIupblr_filt[RoffI], ECGIupblr_filt[SI], ECGIupblr_filt[TonI], ECGIupblr_filt[TpkI], ECGIupblr_filt[ToffI] ],\n",
        "               ECGIIupblr_filt[i-wnwst_smp:i+wnwend_smp],\n",
        "               [ PonII, PpkII, PoffII, QII, RonII, R, RoffII, SII, TonII, TpkII, ToffII ],\n",
        "               [ ECGIIupblr_filt[PonII], ECGIIupblr_filt[PpkII], ECGIIupblr_filt[PoffII], ECGIIupblr_filt[QII], ECGIIupblr_filt[RonII], ECGIIupblr_filt[R], ECGIIupblr_filt[RoffII], ECGIIupblr_filt[SII], ECGIIupblr_filt[TonII], ECGIIupblr_filt[TpkII], ECGIIupblr_filt[ToffII] ] ]\n",
        "        rows.append(row)\n",
        "    lst = copy.deepcopy(rows)\n",
        "    perpatient = [ patient, lst ]\n",
        "    ECG_wnw.append(perpatient)\n",
        "\n",
        "  return ECG_wnw"
      ]
    },
    {
      "cell_type": "code",
      "execution_count": 87,
      "metadata": {
        "id": "92TTChzB-WfH",
        "outputId": "bf86ca22-3333-42a1-aa70-f8c77c4f361f",
        "colab": {
          "base_uri": "https://localhost:8080/"
        }
      },
      "outputs": [
        {
          "output_type": "stream",
          "name": "stdout",
          "text": [
            "0\n"
          ]
        }
      ],
      "source": [
        "tot_beats = extractor(wnwst_t, wnwend_t)\n",
        "tot_beats = pd.DataFrame(tot_beats)"
      ]
    },
    {
      "cell_type": "code",
      "execution_count": 88,
      "metadata": {
        "id": "ebKW11RRbCmk"
      },
      "outputs": [],
      "source": [
        "path = '/gdrive/MyDrive/AI_Assignment/'\n",
        "tot_beats.to_pickle(path+'tot_beats')"
      ]
    },
    {
      "cell_type": "code",
      "execution_count": 89,
      "metadata": {
        "id": "2r0tvcSsaaHW"
      },
      "outputs": [],
      "source": [
        "path = '/gdrive/MyDrive/AI_Assignment/'\n",
        "tot_beats = pd.read_pickle(path+'tot_beats')"
      ]
    },
    {
      "cell_type": "code",
      "execution_count": 90,
      "metadata": {
        "id": "1oZ1gGWIa6GM"
      },
      "outputs": [],
      "source": [
        "tot_beats = tot_beats.values.tolist()"
      ]
    },
    {
      "cell_type": "markdown",
      "metadata": {
        "id": "P8bPWhSc8sPl"
      },
      "source": [
        "####Example for one beat"
      ]
    },
    {
      "cell_type": "code",
      "source": [
        "patient = 0       # patient S001_128 (S001_250)\n",
        "n_beat = 0        # beats are stored by rows \n",
        "column = 1 \n",
        "ann = 1\n",
        "time = 2\n",
        "ECG_lead = 3\n",
        "if ECG_lead == 3:\n",
        "  k = 0\n",
        "elif ECG_lead == 6:\n",
        "  k = 3\n",
        "pts = 4+k\n",
        "ECGlead_pts = 5+k\n",
        "\n",
        "a = tot_beats[patient][column][n_beat][time]\n",
        "b = tot_beats[patient][column][n_beat][ECG_lead]\n",
        "c = tot_beats[patient][column][n_beat][pts]\n",
        "c = [i*delta_fs for i in c]\n",
        "d = tot_beats[patient][column][n_beat][ECGlead_pts]\n",
        "labels = ['Pon', 'Ppk', 'Poff', 'Q', 'Ron', 'R', 'Roff', 'S', 'Ton', 'Tpk', 'Toff']\n",
        "for i, txt in enumerate(labels):\n",
        "    plt.annotate(txt, (c[i], d[i]), color='r')\n",
        "plt.plot(a,b) \n",
        "plt.plot(c, d, color='r', marker='o', linestyle='None')  \n",
        "plt.xlabel('Time (s)')\n",
        "plt.ylabel('Amplitude (mV)')\n",
        "plt.title('Patient: ' +str(patient)+ ' - nbeat: ' +str(n_beat)+ ' - Ann: ' +str(tot_beats[patient][column][n_beat][1]))\n",
        "show()"
      ],
      "metadata": {
        "id": "DjgT9g9BIwKC",
        "outputId": "36479849-5327-450b-b004-96d866f958de",
        "colab": {
          "base_uri": "https://localhost:8080/",
          "height": 350
        }
      },
      "execution_count": 91,
      "outputs": [
        {
          "output_type": "display_data",
          "data": {
            "image/png": "[encoded data removed]",
            "text/plain": [
              "<Figure size 576x360 with 1 Axes>"
            ]
          },
          "metadata": {
            "needs_background": "light"
          }
        }
      ]
    },
    {
      "cell_type": "markdown",
      "metadata": {
        "id": "QWLozGm1C4jl"
      },
      "source": [
        "###HRV FEATURES"
      ]
    },
    {
      "cell_type": "markdown",
      "metadata": {
        "id": "h7whrVFU1EF1"
      },
      "source": [
        "For each individual beat, a set of features was computed taking into account the neighboring beats.\n",
        "A window of three minutes centered around the current beat is considered for the extraction of the heart rate variability (HRV) features."
      ]
    },
    {
      "cell_type": "code",
      "execution_count": 94,
      "metadata": {
        "id": "TMgZ4y6_-0rJ"
      },
      "outputs": [],
      "source": [
        "tpltHRVst_t = 90\n",
        "tpltHRVend_t = 90            \n",
        "tpltHRVst_smp = tpltHRVst_t*fs      # number of samples in the window\n",
        "tpltHRVend_smp = tpltHRVend_t*fs      # number of samples in the window"
      ]
    },
    {
      "cell_type": "code",
      "execution_count": 95,
      "metadata": {
        "id": "S8AEl-sZ97y5",
        "outputId": "93c6f317-a896-4067-d91b-1e4837bfed41",
        "colab": {
          "base_uri": "https://localhost:8080/",
          "height": 281
        }
      },
      "outputs": [
        {
          "output_type": "error",
          "ename": "TypeError",
          "evalue": "ignored",
          "traceback": [
            "\u001b[0;31m---------------------------------------------------------------------------\u001b[0m",
            "\u001b[0;31mTypeError\u001b[0m                                 Traceback (most recent call last)",
            "\u001b[0;32m<ipython-input-95-311aa1f1d6ed>\u001b[0m in \u001b[0;36m<module>\u001b[0;34m()\u001b[0m\n\u001b[1;32m     37\u001b[0m       \u001b[0mdRRs_std\u001b[0m \u001b[0;34m=\u001b[0m \u001b[0mnp\u001b[0m\u001b[0;34m.\u001b[0m\u001b[0mstd\u001b[0m\u001b[0;34m(\u001b[0m\u001b[0mdRRs\u001b[0m\u001b[0;34m)\u001b[0m\u001b[0;34m\u001b[0m\u001b[0;34m\u001b[0m\u001b[0m\n\u001b[1;32m     38\u001b[0m       \u001b[0mlst9\u001b[0m \u001b[0;34m=\u001b[0m \u001b[0mcopy\u001b[0m\u001b[0;34m.\u001b[0m\u001b[0mdeepcopy\u001b[0m\u001b[0;34m(\u001b[0m\u001b[0mdRRs_std\u001b[0m\u001b[0;34m)\u001b[0m\u001b[0;34m\u001b[0m\u001b[0;34m\u001b[0m\u001b[0m\n\u001b[0;32m---> 39\u001b[0;31m       \u001b[0mpNN10\u001b[0m \u001b[0;34m=\u001b[0m \u001b[0msum\u001b[0m\u001b[0;34m(\u001b[0m\u001b[0;34m[\u001b[0m\u001b[0mi\u001b[0m\u001b[0;34m>\u001b[0m\u001b[0;36m0.01\u001b[0m \u001b[0;32mfor\u001b[0m \u001b[0mi\u001b[0m \u001b[0;32min\u001b[0m \u001b[0mdRRs\u001b[0m\u001b[0;34m]\u001b[0m\u001b[0;34m)\u001b[0m\u001b[0;34m*\u001b[0m\u001b[0;36m100\u001b[0m\u001b[0;34m/\u001b[0m\u001b[0mlen\u001b[0m\u001b[0;34m(\u001b[0m\u001b[0mdRRs\u001b[0m\u001b[0;34m)\u001b[0m                                \u001b[0;31m# percentage of successive interval differences greater than 10\u001b[0m\u001b[0;34m\u001b[0m\u001b[0;34m\u001b[0m\u001b[0m\n\u001b[0m\u001b[1;32m     40\u001b[0m       \u001b[0mlst10\u001b[0m \u001b[0;34m=\u001b[0m \u001b[0mcopy\u001b[0m\u001b[0;34m.\u001b[0m\u001b[0mdeepcopy\u001b[0m\u001b[0;34m(\u001b[0m\u001b[0mpNN10\u001b[0m\u001b[0;34m)\u001b[0m\u001b[0;34m\u001b[0m\u001b[0;34m\u001b[0m\u001b[0m\n\u001b[1;32m     41\u001b[0m       \u001b[0mpNN20\u001b[0m \u001b[0;34m=\u001b[0m \u001b[0msum\u001b[0m\u001b[0;34m(\u001b[0m\u001b[0;34m[\u001b[0m\u001b[0mi\u001b[0m\u001b[0;34m>\u001b[0m\u001b[0;36m0.02\u001b[0m \u001b[0;32mfor\u001b[0m \u001b[0mi\u001b[0m \u001b[0;32min\u001b[0m \u001b[0mdRRs\u001b[0m\u001b[0;34m]\u001b[0m\u001b[0;34m)\u001b[0m\u001b[0;34m*\u001b[0m\u001b[0;36m100\u001b[0m\u001b[0;34m/\u001b[0m\u001b[0mlen\u001b[0m\u001b[0;34m(\u001b[0m\u001b[0mdRRs\u001b[0m\u001b[0;34m)\u001b[0m                                \u001b[0;31m# percentage of successive interval differences greater than 20\u001b[0m\u001b[0;34m\u001b[0m\u001b[0;34m\u001b[0m\u001b[0m\n",
            "\u001b[0;31mTypeError\u001b[0m: 'numpy.ndarray' object is not callable"
          ]
        }
      ],
      "source": [
        "column = 1                  # Rpks, anns, time and ECGs are stored in the second column in tot_beats matrix\n",
        "beat_rpk = 0                # beat R peak location is stored in the first column \n",
        "\n",
        "HRV = []                    # list initialization\n",
        "tpltbeatsloc_time = []      # list initialization\n",
        "\n",
        "for patient in range(1):\n",
        "  for idxi, i in enumerate(tot_beats[patient][column]):\n",
        "    if (i[beat_rpk]-tpltHRVst_smp)>0 and (i[beat_rpk]+tpltHRVend_smp)<tot_beats[patient][column][-1][beat_rpk]:\n",
        "      tpltbeatsloc_time = []\n",
        "      for idkk, k in enumerate(tot_beats[patient][column]):\n",
        "        if k[beat_rpk]>(i[beat_rpk]-tpltHRVst_smp) and k[beat_rpk]<(i[beat_rpk]+tpltHRVend_smp):  # window centered around the beat\n",
        "          k_t = k[beat_rpk]/fs          # beats location in time (s)\n",
        "          tpltbeatsloc_time.append(k_t)\n",
        "      tpltbeatsloc_time = np.vstack(tpltbeatsloc_time)\n",
        "      lst = copy.deepcopy(tpltbeatsloc_time)\n",
        "      RRs = [j-i for i, j in zip(np.array(lst[:-1]), np.array(lst[1:]))]               # series of the distance of two consecutive R peaks of each beat\n",
        "      RRs = np.vstack(RRs)\n",
        "      RRs_mean = np.mean(RRs)\n",
        "      lst1 = copy.deepcopy(RRs_mean)\n",
        "      RRs_median = np.median(RRs)\n",
        "      lst2 = copy.deepcopy(RRs_median)\n",
        "      RRs_var = np.var(RRs)\n",
        "      lst3 = copy.deepcopy(RRs_var)\n",
        "      RRs_skew = stats.skew(RRs)\n",
        "      lst4 = copy.deepcopy(RRs_skew)\n",
        "      RRs_std = np.std(RRs)\n",
        "      lst5 = copy.deepcopy(RRs_std)\n",
        "      RRs_kurt = stats.kurtosis(RRs)\n",
        "      lst6 = copy.deepcopy(RRs_kurt)\n",
        "      RMSSD = np.array(pyhrv.time_domain.rmssd(RRs, lst))                              # root mean square of successive differences\n",
        "      lst7 = copy.deepcopy(RMSSD)\n",
        "      dRRs = [j-i for i, j in zip(np.array(RRs[:-1]), np.array(RRs[1:]))]              # series of the difference of consecutive RRs, namely dRRn = RRn+1 − RRn\n",
        "      dRRs = np.vstack(dRRs)\n",
        "      dRRs_mean = np.mean(dRRs)\n",
        "      lst8 = copy.deepcopy(dRRs_mean)\n",
        "      dRRs_std = np.std(dRRs)\n",
        "      lst9 = copy.deepcopy(dRRs_std)\n",
        "      pNN10 = sum([i>0.01 for i in dRRs])*100/len(dRRs)                                # percentage of successive interval differences greater than 10\n",
        "      lst10 = copy.deepcopy(pNN10)\n",
        "      pNN20 = sum([i>0.02 for i in dRRs])*100/len(dRRs)                                # percentage of successive interval differences greater than 20\n",
        "      lst11 = copy.deepcopy(pNN20)\n",
        "      pNN30 = sum([i>0.03 for i in dRRs])*100/len(dRRs)                                # percentage of successive interval differences greater than 30\n",
        "      lst12 = copy.deepcopy(pNN30)\n",
        "      pNN40 = sum([i>0.04 for i in dRRs])*100/len(dRRs)                                # percentage of successive interval differences greater than 40\n",
        "      lst13 = copy.deepcopy(pNN40)\n",
        "      pNN50 = sum([i>0.05 for i in dRRs])*100/len(dRRs)                                # percentage of successive interval differences greater than 50\n",
        "      lst14 = copy.deepcopy(pNN50)\n",
        "      row = [ patient, i[0], i[1], lst, np.round(lst1,4), np.round(lst2,4), np.round(lst3,4), np.round(lst4,4), np.round(lst5,4), np.round(lst6,4), np.round(lst7,4), np.round(lst8,4), np.round(lst9,4), np.round(lst10,4), np.round(lst11,4), np.round(lst12,4), np.round(lst13,4), np.round(lst14,4) ]\n",
        "      HRV.append(row)\n",
        "\n",
        "HRV = pd.DataFrame(HRV, columns=['Patient', 'Beat Loc.', 'Beat Ann.', 'Template Beats Loc. in Time (s)', 'RRs mean', 'RRs median', 'RRs var', 'RRs skew', 'RRs std', 'RRs kurt', 'RMSSD', 'dRRs_mean', 'dRRs_std', 'pNN10', 'pNN20', 'pNN30', 'pNN40', 'pNN50' ])"
      ]
    },
    {
      "cell_type": "code",
      "source": [
        "path = '/gdrive/MyDrive/AI_Assignment/'\n",
        "HRV.to_pickle(path+'HRV')"
      ],
      "metadata": {
        "id": "RihDI80brOwu"
      },
      "execution_count": null,
      "outputs": []
    },
    {
      "cell_type": "code",
      "execution_count": null,
      "metadata": {
        "id": "Dqt4yzvyh3Fw"
      },
      "outputs": [],
      "source": [
        "path = '/gdrive/MyDrive/AI_Assignment/'\n",
        "HRV = pd.read_pickle(path+'HRV')\n",
        "HRV"
      ]
    },
    {
      "cell_type": "markdown",
      "metadata": {
        "id": "-qX77wZ1OphA"
      },
      "source": [
        "###MORPHOLOGICAL FEATURES"
      ]
    },
    {
      "cell_type": "markdown",
      "metadata": {
        "id": "3AjltjI5FzNZ"
      },
      "source": [
        "The maximum of cross-correlation function between each detected beat and the following beat is calculated, as well as the maximum of cross-correlation between the current beat and the previous beat detected.\n",
        "Another feature is the maximum of cross-correlation with respect to a normal beat template. This latter is computed for each patient as the averaged beat of a sequence of many normal sinus beats."
      ]
    },
    {
      "cell_type": "code",
      "source": [
        "column = 1            # Rpks, anns, time and ECGs are stored in the second column in tot_beats matrix\n",
        "beat_rpk = 0          # beat R peak location is stored in the first column\n",
        "ECG_Ilead = 3          # ECG I lead is stored in the fourth column\n",
        "ECG_IIlead = 6        # ECG II lead is stored in the fifth column \n",
        "Pon = 0\n",
        "Poff = 2\n",
        "Ton = 8\n",
        "Toff = 10\n",
        "\n",
        "\n",
        "CORR = []             # list initialization\n",
        "tpltbeats_loc = []    # list initialization\n",
        "\n",
        "sum = 0\n",
        "count = 0\n",
        "\n",
        "corr1 = []\n",
        "corr2 = []\n",
        "\n",
        "for patient in range(1):\n",
        "  for idxi, i in enumerate(tot_beats[patient][column]):\n",
        "    if( i[1] == 'N'):\n",
        "      sum = sum + i[ECG_Ilead]\n",
        "      count = count + 1\n",
        "    mean = np.vstack(sum)/count \n",
        "    if (i[beat_rpk]-tpltHRVst_smp)>0 and (i[beat_rpk]+tpltHRVend_smp)<tot_beats[patient][column][-1][beat_rpk]:\n",
        "      tpltbeats_loc = []\n",
        "      corr1I = []\n",
        "      corr2I = []\n",
        "      corrxyI = []\n",
        "      PdurI = []\n",
        "      TdurI = []\n",
        "      tplt = [ tot_beats[patient][column][idxi-1][beat_rpk], tot_beats[patient][column][idxi+1][beat_rpk] ]\n",
        "      tpltbeats_loc.append(tplt)\n",
        "      corr1_Ilead = (np.argmax(signal.correlate(tot_beats[patient][column][idxi][ECG_Ilead], tot_beats[patient][column][idxi-1][ECG_Ilead])) - len(tot_beats[patient][column][idxi-1][ECG_Ilead]))\n",
        "      corr1I.append(corr1_Ilead)\n",
        "      corr2_Ilead = (np.argmax(signal.correlate(tot_beats[patient][column][idxi][ECG_Ilead], tot_beats[patient][column][idxi+1][ECG_Ilead])) - len(tot_beats[patient][column][idxi+1][ECG_Ilead]))\n",
        "      corr2I.append(corr2_Ilead)\n",
        "      corrxy_Ilead = (np.argmax(signal.correlate(np.vstack(tot_beats[patient][column][idxi][ECG_Ilead]), mean)) - len(mean))\n",
        "      corrxyI.append(corrxy_Ilead)\n",
        "      Pdur_Ilead = tot_beats[patient][column][idxi][4][Poff]*delta_fs-tot_beats[patient][column][idxi][4][Pon]*delta_fs\n",
        "      PdurI.append(Pdur_Ilead)\n",
        "      Tdur_Ilead = tot_beats[patient][column][idxi][4][Toff]*delta_fs-tot_beats[patient][column][idxi][4][Ton]*delta_fs\n",
        "      TdurI.append(Tdur_Ilead)\n",
        "      tpltbeats_loc = np.vstack(tpltbeats_loc)\n",
        "      lst = copy.deepcopy(tpltbeats_loc)\n",
        "      corr1I = np.vstack(corr1I)\n",
        "      lst1 = copy.deepcopy(corr1I)\n",
        "      corr2I = np.vstack(corr2I)\n",
        "      lst2 = copy.deepcopy(corr2I)\n",
        "      corrxyI = np.vstack(corrxyI)\n",
        "      lst3 = copy.deepcopy(corrxyI)\n",
        "      PdurI = np.vstack(PdurI)\n",
        "      lst4 = copy.deepcopy(PdurI)\n",
        "      TdurI = np.vstack(TdurI)\n",
        "      lst5 = copy.deepcopy(TdurI)\n",
        "      corr1II = []\n",
        "      corr2II = []\n",
        "      corrxyII = []\n",
        "      PdurII = []\n",
        "      TdurII = []\n",
        "      corr1_IIlead = (np.argmax(signal.correlate(tot_beats[patient][column][idxi][ECG_IIlead], tot_beats[patient][column][idxi-1][ECG_IIlead])) - len(tot_beats[patient][column][idxi-1][ECG_IIlead]))\n",
        "      corr1II.append(corr1_IIlead)\n",
        "      corr2_IIlead = (np.argmax(signal.correlate(tot_beats[patient][column][idxi][ECG_IIlead], tot_beats[patient][column][idxi+1][ECG_IIlead])) - len(tot_beats[patient][column][idxi+1][ECG_IIlead]))\n",
        "      corr2II.append(corr2_IIlead)\n",
        "      corrxy_IIlead = (np.argmax(signal.correlate(np.vstack(tot_beats[patient][column][idxi][ECG_IIlead]), mean)) - len(mean))\n",
        "      corrxyII.append(corrxy_IIlead)\n",
        "      Pdur_IIlead = tot_beats[patient][column][idxi][7][Poff]*delta_fs-tot_beats[patient][column][idxi][7][Pon]*delta_fs\n",
        "      PdurII.append(Pdur_IIlead)\n",
        "      Tdur_IIlead = tot_beats[patient][column][idxi][7][Toff]*delta_fs-tot_beats[patient][column][idxi][7][Ton]*delta_fs\n",
        "      TdurII.append(Tdur_IIlead)\n",
        "      corr1II = np.vstack(corr1II)\n",
        "      lst6 = copy.deepcopy(corr1II)\n",
        "      corr2II = np.vstack(corr2II)\n",
        "      lst7 = copy.deepcopy(corr2II)\n",
        "      corrxyII = np.vstack(corrxyII)\n",
        "      lst8 = copy.deepcopy(corrxyII)\n",
        "      PdurII = np.vstack(PdurII)\n",
        "      lst9 = copy.deepcopy(PdurII)\n",
        "      TdurII = np.vstack(TdurII)\n",
        "      lst10 = copy.deepcopy(TdurII)\n",
        "      row = [ patient, i[0], i[1], lst, lst1, lst2, lst3, np.round(lst4,4), np.round(lst5,4), np.round(lst6,4), np.round(lst7,4), np.round(lst8,4), np.round(lst9,4), np.round(lst10,4)  ]\n",
        "      CORR.append(row)\n",
        "\n",
        "CORR = pd.DataFrame(CORR, columns=[ 'Patient', 'Beat Loc.', 'Beat Ann.', 'Template Beats Loc.', 'Corr1 Ilead', 'Corr2 Ilead', 'Corrxy Ilead', 'Pdur Ilead (s)','Tdur Ilead (s)', 'Corr1 IIlead', 'Corr2 IIlead', 'Corrxy IIlead', 'Pdur IIlead (s)','Tdur IIlead (s)' ])"
      ],
      "metadata": {
        "id": "P998bOOoHYEu"
      },
      "execution_count": null,
      "outputs": []
    },
    {
      "cell_type": "code",
      "source": [
        "path = '/gdrive/MyDrive/AI_Assignment/'\n",
        "CORR.to_pickle(path+'CORR')"
      ],
      "metadata": {
        "id": "jrRm4hiKMjqT"
      },
      "execution_count": null,
      "outputs": []
    },
    {
      "cell_type": "code",
      "source": [
        "path = '/gdrive/MyDrive/AI_Assignment/'\n",
        "CORR = pd.read_pickle(path+'CORR')\n",
        "CORR"
      ],
      "metadata": {
        "id": "Q4T0zmQLfyxC"
      },
      "execution_count": null,
      "outputs": []
    },
    {
      "cell_type": "markdown",
      "metadata": {
        "id": "luTsTDdu9yFi"
      },
      "source": [
        "######Example for two beats"
      ]
    },
    {
      "cell_type": "code",
      "execution_count": null,
      "metadata": {
        "id": "Kiudd7M8DQU9"
      },
      "outputs": [],
      "source": [
        "idxk = 0\n",
        "n_beat = 1\n",
        "          \n",
        "patient = 0       # patient S001_128 (S001_250)\n",
        "column = 1        # Rpks, anns, time and ECGs are stored in the second column in tot_beats matrix\n",
        "beat_rpk = 0      # beat R peak location is stored in the first column\n",
        "ann = 1\n",
        "ECG_Ilead = 3     # ECG I =3, ECGII_lead =6\n",
        "\n",
        "for idx, i in enumerate(tot_beats[patient][column]):\n",
        "  if (i[beat_rpk] == CORR['Beat Loc.'][idxk]):\n",
        "    beat1 = tot_beats[patient][column][idx][ECG_Ilead]\n",
        "    time = np.arange(0, len(beat1), 1) \n",
        "    idx1 = idx\n",
        "\n",
        "for idx, i in enumerate(tot_beats[patient][column]):\n",
        "  if (i[beat_rpk] == CORR['Template Beats Loc.'][idxk][0][n_beat]):\n",
        "    beat2 = tot_beats[patient][column][idx][ECG_Ilead]\n",
        "    idx2 = idx\n",
        "\n",
        "plt.plot(beat1, label = 'Beat_1: %s' %tot_beats[patient][column][idx1][ann])\n",
        "if n_beat==0:\n",
        "  plt.plot(time+CORR['Corr1 Ilead'][idxk][0], beat2, label = 'Beat_2: %s' %tot_beats[patient][column][idx2][ann])\n",
        "elif n_beat==1:\n",
        "  plt.plot(time+CORR['Corr2 Ilead'][idxk][0], beat2, label = 'Beat_2: %s' %tot_beats[patient][column][idx2][ann])\n",
        "plt.legend()\n",
        "plt.ylabel('Amplitude (mV)')\n",
        "plt.title('Beat_1 at sample n.[' +str(tot_beats[patient][column][idx1][beat_rpk])+ '] correlated with beat_2 at sample n.' +str(tot_beats[patient][column][idx2][beat_rpk]) )"
      ]
    },
    {
      "cell_type": "markdown",
      "metadata": {
        "id": "mmVO-sgqSV2R"
      },
      "source": [
        "###TOTAL FEATURES"
      ]
    },
    {
      "cell_type": "code",
      "source": [
        "feat = pd.concat([HRV, CORR], axis=1)"
      ],
      "metadata": {
        "id": "W2gb41ASTnBQ"
      },
      "execution_count": null,
      "outputs": []
    },
    {
      "cell_type": "code",
      "source": [
        "path = '/gdrive/MyDrive/AI_Assignment/'\n",
        "feat.to_pickle(path+'feat') "
      ],
      "metadata": {
        "id": "wdtF9jX2ROoK"
      },
      "execution_count": null,
      "outputs": []
    },
    {
      "cell_type": "code",
      "execution_count": null,
      "metadata": {
        "id": "n7HBnpiB8tAY"
      },
      "outputs": [],
      "source": [
        "path = '/gdrive/MyDrive/AI_Assignment/'\n",
        "feat = pd.read_pickle(path+'feat')\n",
        "feat"
      ]
    },
    {
      "cell_type": "code",
      "execution_count": null,
      "metadata": {
        "id": "zSDBSgfz-8sn"
      },
      "outputs": [],
      "source": [
        "path = '/gdrive/MyDrive/AI_Assignment/'\n",
        "feat.to_csv(path+'feat.csv')"
      ]
    },
    {
      "cell_type": "markdown",
      "metadata": {
        "id": "7R2_PksC1Q9P"
      },
      "source": [
        "#MODEL DEFINITION AND TRAINING"
      ]
    },
    {
      "cell_type": "code",
      "execution_count": null,
      "metadata": {
        "id": "PV4n1r7x9463"
      },
      "outputs": [],
      "source": [
        "path = '/gdrive/MyDrive/AI_Assignment/'\n",
        "feat = pd.read_csv(path+'feat.csv')\n",
        "feat"
      ]
    },
    {
      "cell_type": "code",
      "execution_count": null,
      "metadata": {
        "id": "4kyYzegXSDJP"
      },
      "outputs": [],
      "source": [
        "feat = feat.drop(columns=['Unnamed: 0', 'Patient', 'Beat Loc.', 'Template Beats Loc. in Time (s)' ], inplace=False)"
      ]
    },
    {
      "cell_type": "markdown",
      "metadata": {
        "id": "aMGFzhVz_R05"
      },
      "source": [
        "###DATA INSPECTION"
      ]
    },
    {
      "cell_type": "code",
      "execution_count": null,
      "metadata": {
        "colab": {
          "base_uri": "https://localhost:8080/",
          "height": 366
        },
        "id": "gj_T3Ubu_EDB",
        "outputId": "01955b3e-c719-4c5d-efc9-f74bb02235b3"
      },
      "outputs": [
        {
          "output_type": "stream",
          "name": "stdout",
          "text": [
            "Target\n",
            "N    2236\n",
            "S       9\n",
            "V      20\n",
            "dtype: int64\n"
          ]
        },
        {
          "output_type": "display_data",
          "data": {
            "image/png": "[encoded data removed]",
            "text/plain": [
              "<Figure size 432x288 with 1 Axes>"
            ]
          },
          "metadata": {
            "needs_background": "light"
          }
        }
      ],
      "source": [
        "print(feat.groupby('Target').size())  # print class frequency\n",
        "sns.countplot(y = feat.Target , data = feat)\n",
        "plt.xlabel(\"count of each class\")\n",
        "plt.ylabel(\"classes\")\n",
        "plt.show()  # visualize class counts"
      ]
    },
    {
      "cell_type": "markdown",
      "metadata": {
        "id": "EJMdiKKQA-xe"
      },
      "source": [
        "###NUMERICAL/CATEGORICAL VARIABLES"
      ]
    },
    {
      "cell_type": "code",
      "execution_count": null,
      "metadata": {
        "colab": {
          "base_uri": "https://localhost:8080/"
        },
        "id": "v1Ty6hM7QtcB",
        "outputId": "f4af74be-b42c-41da-8713-3031621561e8"
      },
      "outputs": [
        {
          "output_type": "execute_result",
          "data": {
            "text/plain": [
              "RRs mean                 float64\n",
              "RRs std                  float64\n",
              "RMSSD                     object\n",
              "dRRs_mean                float64\n",
              "dRRs_std                 float64\n",
              "pNN10                     object\n",
              "pNN20                     object\n",
              "pNN30                     object\n",
              "pNN40                     object\n",
              "pNN50                     object\n",
              "AVG Max corr. I            int64\n",
              "AVG Lag I                float64\n",
              "AVG Median Std Dev. I     object\n",
              "Target                    object\n",
              "dtype: object"
            ]
          },
          "metadata": {},
          "execution_count": 213
        }
      ],
      "source": [
        "feat.dtypes"
      ]
    },
    {
      "cell_type": "code",
      "execution_count": null,
      "metadata": {
        "colab": {
          "base_uri": "https://localhost:8080/"
        },
        "id": "xTfrk2v_RyHg",
        "outputId": "4fb0450b-02a3-4368-8c95-cd603d7deebf"
      },
      "outputs": [
        {
          "output_type": "stream",
          "name": "stderr",
          "text": [
            "/usr/local/lib/python3.7/dist-packages/ipykernel_launcher.py:3: SettingWithCopyWarning: \n",
            "A value is trying to be set on a copy of a slice from a DataFrame\n",
            "\n",
            "See the caveats in the documentation: https://pandas.pydata.org/pandas-docs/stable/user_guide/indexing.html#returning-a-view-versus-a-copy\n",
            "  This is separate from the ipykernel package so we can avoid doing imports until\n"
          ]
        }
      ],
      "source": [
        "count = 0\n",
        "for i in feat['RMSSD']:\n",
        "  feat['RMSSD'][count] = re.sub(\"[\\[\\]]\",\"\", i)\n",
        "  count = count+1"
      ]
    },
    {
      "cell_type": "code",
      "execution_count": null,
      "metadata": {
        "colab": {
          "base_uri": "https://localhost:8080/"
        },
        "id": "CyG6FD6FdBFj",
        "outputId": "d365ad69-9a6c-4a15-eb50-47504db0a0c9"
      },
      "outputs": [
        {
          "output_type": "stream",
          "name": "stderr",
          "text": [
            "/usr/local/lib/python3.7/dist-packages/ipykernel_launcher.py:3: SettingWithCopyWarning: \n",
            "A value is trying to be set on a copy of a slice from a DataFrame\n",
            "\n",
            "See the caveats in the documentation: https://pandas.pydata.org/pandas-docs/stable/user_guide/indexing.html#returning-a-view-versus-a-copy\n",
            "  This is separate from the ipykernel package so we can avoid doing imports until\n"
          ]
        }
      ],
      "source": [
        "count = 0\n",
        "for i in feat['pNN10']:\n",
        "  feat['pNN10'][count] = re.sub(\"[\\[\\]]\",\"\", i)\n",
        "  count = count+1"
      ]
    },
    {
      "cell_type": "code",
      "execution_count": null,
      "metadata": {
        "colab": {
          "base_uri": "https://localhost:8080/"
        },
        "id": "m4vURXNFdFSc",
        "outputId": "5b7720fd-76a3-4438-a54c-9b705a50154c"
      },
      "outputs": [
        {
          "output_type": "stream",
          "name": "stderr",
          "text": [
            "/usr/local/lib/python3.7/dist-packages/ipykernel_launcher.py:4: SettingWithCopyWarning: \n",
            "A value is trying to be set on a copy of a slice from a DataFrame\n",
            "\n",
            "See the caveats in the documentation: https://pandas.pydata.org/pandas-docs/stable/user_guide/indexing.html#returning-a-view-versus-a-copy\n",
            "  after removing the cwd from sys.path.\n"
          ]
        }
      ],
      "source": [
        "count = 0\n",
        "for i in feat['pNN20']:\n",
        "  feat['pNN20'][count] = re.sub(\"[\\[\\]]\",\"\", i)\n",
        "  count = count+1"
      ]
    },
    {
      "cell_type": "code",
      "execution_count": null,
      "metadata": {
        "colab": {
          "base_uri": "https://localhost:8080/"
        },
        "id": "wgSXdKKxdF_a",
        "outputId": "8cfa7770-253c-4d20-f907-8c7e8b77dc5a"
      },
      "outputs": [
        {
          "output_type": "stream",
          "name": "stderr",
          "text": [
            "/usr/local/lib/python3.7/dist-packages/ipykernel_launcher.py:4: SettingWithCopyWarning: \n",
            "A value is trying to be set on a copy of a slice from a DataFrame\n",
            "\n",
            "See the caveats in the documentation: https://pandas.pydata.org/pandas-docs/stable/user_guide/indexing.html#returning-a-view-versus-a-copy\n",
            "  after removing the cwd from sys.path.\n"
          ]
        }
      ],
      "source": [
        "count = 0\n",
        "for i in feat['pNN30']:\n",
        "  feat['pNN30'][count] = re.sub(\"[\\[\\]]\",\"\", i)\n",
        "  count = count+1"
      ]
    },
    {
      "cell_type": "code",
      "execution_count": null,
      "metadata": {
        "colab": {
          "base_uri": "https://localhost:8080/"
        },
        "id": "K51m-pl9dHkH",
        "outputId": "1ba237a0-f822-4c27-f989-82f772ac0c48"
      },
      "outputs": [
        {
          "output_type": "stream",
          "name": "stderr",
          "text": [
            "/usr/local/lib/python3.7/dist-packages/ipykernel_launcher.py:4: SettingWithCopyWarning: \n",
            "A value is trying to be set on a copy of a slice from a DataFrame\n",
            "\n",
            "See the caveats in the documentation: https://pandas.pydata.org/pandas-docs/stable/user_guide/indexing.html#returning-a-view-versus-a-copy\n",
            "  after removing the cwd from sys.path.\n"
          ]
        }
      ],
      "source": [
        "count = 0\n",
        "for i in feat['pNN40']:\n",
        "  feat['pNN40'][count] = re.sub(\"[\\[\\]]\",\"\", i)\n",
        "  count = count+1"
      ]
    },
    {
      "cell_type": "code",
      "execution_count": null,
      "metadata": {
        "colab": {
          "base_uri": "https://localhost:8080/"
        },
        "id": "OKoJAUc8dINp",
        "outputId": "01212330-506e-4b02-b693-36341327eedd"
      },
      "outputs": [
        {
          "output_type": "stream",
          "name": "stderr",
          "text": [
            "/usr/local/lib/python3.7/dist-packages/ipykernel_launcher.py:4: SettingWithCopyWarning: \n",
            "A value is trying to be set on a copy of a slice from a DataFrame\n",
            "\n",
            "See the caveats in the documentation: https://pandas.pydata.org/pandas-docs/stable/user_guide/indexing.html#returning-a-view-versus-a-copy\n",
            "  after removing the cwd from sys.path.\n"
          ]
        }
      ],
      "source": [
        "count = 0\n",
        "for i in feat['pNN50']:\n",
        "  feat['pNN50'][count] = re.sub(\"[\\[\\]]\",\"\", i)\n",
        "  count = count+1"
      ]
    },
    {
      "cell_type": "code",
      "execution_count": null,
      "metadata": {
        "colab": {
          "base_uri": "https://localhost:8080/"
        },
        "id": "XgF5vTBgddQj",
        "outputId": "14ec8dae-cd1a-4889-82f3-2cb980bd8afb"
      },
      "outputs": [
        {
          "output_type": "stream",
          "name": "stderr",
          "text": [
            "/usr/local/lib/python3.7/dist-packages/ipykernel_launcher.py:4: SettingWithCopyWarning: \n",
            "A value is trying to be set on a copy of a slice from a DataFrame\n",
            "\n",
            "See the caveats in the documentation: https://pandas.pydata.org/pandas-docs/stable/user_guide/indexing.html#returning-a-view-versus-a-copy\n",
            "  after removing the cwd from sys.path.\n"
          ]
        }
      ],
      "source": [
        "count = 0\n",
        "for i in feat['AVG Median Std Dev. I']:\n",
        "  feat['AVG Median Std Dev. I'][count] = re.sub(\"[\\[\\]]\",\"\", i)\n",
        "  count = count+1"
      ]
    },
    {
      "cell_type": "code",
      "execution_count": null,
      "metadata": {
        "id": "5ToCP37EdToB"
      },
      "outputs": [],
      "source": [
        "feat = feat.astype({'RMSSD':'float','pNN10':'float','pNN20':'float','pNN30':'float','pNN40':'float','pNN50':'float','AVG Median Std Dev. I':'float'}) # converts into categorical variables"
      ]
    },
    {
      "cell_type": "code",
      "execution_count": null,
      "metadata": {
        "colab": {
          "base_uri": "https://localhost:8080/"
        },
        "id": "XsGQmCx9TSWd",
        "outputId": "3f1616ef-ffaa-4280-ed51-c7cebfa4f02c"
      },
      "outputs": [
        {
          "output_type": "execute_result",
          "data": {
            "text/plain": [
              "RRs mean                 float64\n",
              "RRs std                  float64\n",
              "RMSSD                    float64\n",
              "dRRs_mean                float64\n",
              "dRRs_std                 float64\n",
              "pNN10                    float64\n",
              "pNN20                    float64\n",
              "pNN30                    float64\n",
              "pNN40                    float64\n",
              "pNN50                    float64\n",
              "AVG Max corr. I            int64\n",
              "AVG Lag I                float64\n",
              "AVG Median Std Dev. I    float64\n",
              "Target                    object\n",
              "dtype: object"
            ]
          },
          "metadata": {},
          "execution_count": 188
        }
      ],
      "source": [
        "feat.dtypes"
      ]
    },
    {
      "cell_type": "code",
      "execution_count": null,
      "metadata": {
        "id": "-06IVgdfBAZW"
      },
      "outputs": [],
      "source": [
        "feat_numerical = feat.drop(columns = [\"Target\"], inplace = False)"
      ]
    },
    {
      "cell_type": "code",
      "execution_count": null,
      "metadata": {
        "colab": {
          "base_uri": "https://localhost:8080/",
          "height": 485
        },
        "id": "hqrdt__dQkXA",
        "outputId": "6f7cb4e8-f6f0-436a-f2b1-e911d375c018"
      },
      "outputs": [
        {
          "output_type": "execute_result",
          "data": {
            "text/html": [
              "\n",
              "  <div id=\"df-308e199e-aa0a-49d0-938f-586694980196\">\n",
              "    <div class=\"colab-df-container\">\n",
              "      <div>\n",
              "<style scoped>\n",
              "    .dataframe tbody tr th:only-of-type {\n",
              "        vertical-align: middle;\n",
              "    }\n",
              "\n",
              "    .dataframe tbody tr th {\n",
              "        vertical-align: top;\n",
              "    }\n",
              "\n",
              "    .dataframe thead th {\n",
              "        text-align: right;\n",
              "    }\n",
              "</style>\n",
              "<table border=\"1\" class=\"dataframe\">\n",
              "  <thead>\n",
              "    <tr style=\"text-align: right;\">\n",
              "      <th></th>\n",
              "      <th>RRs mean</th>\n",
              "      <th>RRs std</th>\n",
              "      <th>RMSSD</th>\n",
              "      <th>dRRs_mean</th>\n",
              "      <th>dRRs_std</th>\n",
              "      <th>pNN10</th>\n",
              "      <th>pNN20</th>\n",
              "      <th>pNN30</th>\n",
              "      <th>pNN40</th>\n",
              "      <th>pNN50</th>\n",
              "      <th>AVG Max corr. I</th>\n",
              "      <th>AVG Lag I</th>\n",
              "      <th>AVG Median Std Dev. I</th>\n",
              "    </tr>\n",
              "  </thead>\n",
              "  <tbody>\n",
              "    <tr>\n",
              "      <th>0</th>\n",
              "      <td>0.6389</td>\n",
              "      <td>0.0514</td>\n",
              "      <td>78.3819</td>\n",
              "      <td>0.0000</td>\n",
              "      <td>0.0783</td>\n",
              "      <td>9.4306</td>\n",
              "      <td>4.2705</td>\n",
              "      <td>3.0249</td>\n",
              "      <td>1.6014</td>\n",
              "      <td>1.6014</td>\n",
              "      <td>-2</td>\n",
              "      <td>-2.0</td>\n",
              "      <td>0.17</td>\n",
              "    </tr>\n",
              "    <tr>\n",
              "      <th>1</th>\n",
              "      <td>0.6389</td>\n",
              "      <td>0.0514</td>\n",
              "      <td>78.4517</td>\n",
              "      <td>0.0000</td>\n",
              "      <td>0.0784</td>\n",
              "      <td>9.4474</td>\n",
              "      <td>4.2781</td>\n",
              "      <td>3.0303</td>\n",
              "      <td>1.6043</td>\n",
              "      <td>1.6043</td>\n",
              "      <td>-1</td>\n",
              "      <td>-1.0</td>\n",
              "      <td>0.40</td>\n",
              "    </tr>\n",
              "    <tr>\n",
              "      <th>2</th>\n",
              "      <td>0.6389</td>\n",
              "      <td>0.0514</td>\n",
              "      <td>78.4518</td>\n",
              "      <td>0.0000</td>\n",
              "      <td>0.0784</td>\n",
              "      <td>9.4474</td>\n",
              "      <td>4.2781</td>\n",
              "      <td>3.0303</td>\n",
              "      <td>1.6043</td>\n",
              "      <td>1.6043</td>\n",
              "      <td>-1</td>\n",
              "      <td>-1.0</td>\n",
              "      <td>0.43</td>\n",
              "    </tr>\n",
              "    <tr>\n",
              "      <th>3</th>\n",
              "      <td>0.6389</td>\n",
              "      <td>0.0514</td>\n",
              "      <td>78.3821</td>\n",
              "      <td>0.0000</td>\n",
              "      <td>0.0783</td>\n",
              "      <td>9.4306</td>\n",
              "      <td>4.2705</td>\n",
              "      <td>3.0249</td>\n",
              "      <td>1.6014</td>\n",
              "      <td>1.6014</td>\n",
              "      <td>-1</td>\n",
              "      <td>-1.0</td>\n",
              "      <td>0.67</td>\n",
              "    </tr>\n",
              "    <tr>\n",
              "      <th>4</th>\n",
              "      <td>0.6390</td>\n",
              "      <td>0.0514</td>\n",
              "      <td>78.4519</td>\n",
              "      <td>0.0000</td>\n",
              "      <td>0.0784</td>\n",
              "      <td>9.4474</td>\n",
              "      <td>4.2781</td>\n",
              "      <td>3.0303</td>\n",
              "      <td>1.6043</td>\n",
              "      <td>1.6043</td>\n",
              "      <td>-1</td>\n",
              "      <td>-1.0</td>\n",
              "      <td>0.89</td>\n",
              "    </tr>\n",
              "    <tr>\n",
              "      <th>...</th>\n",
              "      <td>...</td>\n",
              "      <td>...</td>\n",
              "      <td>...</td>\n",
              "      <td>...</td>\n",
              "      <td>...</td>\n",
              "      <td>...</td>\n",
              "      <td>...</td>\n",
              "      <td>...</td>\n",
              "      <td>...</td>\n",
              "      <td>...</td>\n",
              "      <td>...</td>\n",
              "      <td>...</td>\n",
              "      <td>...</td>\n",
              "    </tr>\n",
              "    <tr>\n",
              "      <th>2260</th>\n",
              "      <td>0.6192</td>\n",
              "      <td>0.0567</td>\n",
              "      <td>78.7644</td>\n",
              "      <td>-0.0000</td>\n",
              "      <td>0.0788</td>\n",
              "      <td>17.2414</td>\n",
              "      <td>3.7931</td>\n",
              "      <td>1.7241</td>\n",
              "      <td>1.3793</td>\n",
              "      <td>1.3793</td>\n",
              "      <td>-2</td>\n",
              "      <td>-2.0</td>\n",
              "      <td>286.29</td>\n",
              "    </tr>\n",
              "    <tr>\n",
              "      <th>2261</th>\n",
              "      <td>0.6192</td>\n",
              "      <td>0.0567</td>\n",
              "      <td>78.7613</td>\n",
              "      <td>-0.0000</td>\n",
              "      <td>0.0788</td>\n",
              "      <td>17.0690</td>\n",
              "      <td>3.7931</td>\n",
              "      <td>1.7241</td>\n",
              "      <td>1.3793</td>\n",
              "      <td>1.3793</td>\n",
              "      <td>-2</td>\n",
              "      <td>-2.0</td>\n",
              "      <td>303.23</td>\n",
              "    </tr>\n",
              "    <tr>\n",
              "      <th>2262</th>\n",
              "      <td>0.6191</td>\n",
              "      <td>0.0567</td>\n",
              "      <td>78.7616</td>\n",
              "      <td>-0.0001</td>\n",
              "      <td>0.0788</td>\n",
              "      <td>17.0690</td>\n",
              "      <td>3.7931</td>\n",
              "      <td>1.7241</td>\n",
              "      <td>1.3793</td>\n",
              "      <td>1.3793</td>\n",
              "      <td>-3</td>\n",
              "      <td>-3.0</td>\n",
              "      <td>298.94</td>\n",
              "    </tr>\n",
              "    <tr>\n",
              "      <th>2263</th>\n",
              "      <td>0.6191</td>\n",
              "      <td>0.0567</td>\n",
              "      <td>78.7622</td>\n",
              "      <td>-0.0000</td>\n",
              "      <td>0.0788</td>\n",
              "      <td>17.0690</td>\n",
              "      <td>3.7931</td>\n",
              "      <td>1.7241</td>\n",
              "      <td>1.3793</td>\n",
              "      <td>1.3793</td>\n",
              "      <td>-2</td>\n",
              "      <td>-2.0</td>\n",
              "      <td>290.63</td>\n",
              "    </tr>\n",
              "    <tr>\n",
              "      <th>2264</th>\n",
              "      <td>0.6190</td>\n",
              "      <td>0.0567</td>\n",
              "      <td>78.7623</td>\n",
              "      <td>-0.0000</td>\n",
              "      <td>0.0788</td>\n",
              "      <td>17.0690</td>\n",
              "      <td>3.7931</td>\n",
              "      <td>1.7241</td>\n",
              "      <td>1.3793</td>\n",
              "      <td>1.3793</td>\n",
              "      <td>-3</td>\n",
              "      <td>-3.0</td>\n",
              "      <td>299.16</td>\n",
              "    </tr>\n",
              "  </tbody>\n",
              "</table>\n",
              "<p>2265 rows × 13 columns</p>\n",
              "</div>\n",
              "      <button class=\"colab-df-convert\" onclick=\"convertToInteractive('df-308e199e-aa0a-49d0-938f-586694980196')\"\n",
              "              title=\"Convert this dataframe to an interactive table.\"\n",
              "              style=\"display:none;\">\n",
              "        \n",
              "  <svg xmlns=\"http://www.w3.org/2000/svg\" height=\"24px\"viewBox=\"0 0 24 24\"\n",
              "       width=\"24px\">\n",
              "    <path d=\"M0 0h24v24H0V0z\" fill=\"none\"/>\n",
              "    <path d=\"M18.56 5.44l.94 2.06.94-2.06 2.06-.94-2.06-.94-.94-2.06-.94 2.06-2.06.94zm-11 1L8.5 8.5l.94-2.06 2.06-.94-2.06-.94L8.5 2.5l-.94 2.06-2.06.94zm10 10l.94 2.06.94-2.06 2.06-.94-2.06-.94-.94-2.06-.94 2.06-2.06.94z\"/><path d=\"M17.41 7.96l-1.37-1.37c-.4-.4-.92-.59-1.43-.59-.52 0-1.04.2-1.43.59L10.3 9.45l-7.72 7.72c-.78.78-.78 2.05 0 2.83L4 21.41c.39.39.9.59 1.41.59.51 0 1.02-.2 1.41-.59l7.78-7.78 2.81-2.81c.8-.78.8-2.07 0-2.86zM5.41 20L4 18.59l7.72-7.72 1.47 1.35L5.41 20z\"/>\n",
              "  </svg>\n",
              "      </button>\n",
              "      \n",
              "  <style>\n",
              "    .colab-df-container {\n",
              "      display:flex;\n",
              "      flex-wrap:wrap;\n",
              "      gap: 12px;\n",
              "    }\n",
              "\n",
              "    .colab-df-convert {\n",
              "      background-color: #E8F0FE;\n",
              "      border: none;\n",
              "      border-radius: 50%;\n",
              "      cursor: pointer;\n",
              "      display: none;\n",
              "      fill: #1967D2;\n",
              "      height: 32px;\n",
              "      padding: 0 0 0 0;\n",
              "      width: 32px;\n",
              "    }\n",
              "\n",
              "    .colab-df-convert:hover {\n",
              "      background-color: #E2EBFA;\n",
              "      box-shadow: 0px 1px 2px rgba(60, 64, 67, 0.3), 0px 1px 3px 1px rgba(60, 64, 67, 0.15);\n",
              "      fill: #174EA6;\n",
              "    }\n",
              "\n",
              "    [theme=dark] .colab-df-convert {\n",
              "      background-color: #3B4455;\n",
              "      fill: #D2E3FC;\n",
              "    }\n",
              "\n",
              "    [theme=dark] .colab-df-convert:hover {\n",
              "      background-color: #434B5C;\n",
              "      box-shadow: 0px 1px 3px 1px rgba(0, 0, 0, 0.15);\n",
              "      filter: drop-shadow(0px 1px 2px rgba(0, 0, 0, 0.3));\n",
              "      fill: #FFFFFF;\n",
              "    }\n",
              "  </style>\n",
              "\n",
              "      <script>\n",
              "        const buttonEl =\n",
              "          document.querySelector('#df-308e199e-aa0a-49d0-938f-586694980196 button.colab-df-convert');\n",
              "        buttonEl.style.display =\n",
              "          google.colab.kernel.accessAllowed ? 'block' : 'none';\n",
              "\n",
              "        async function convertToInteractive(key) {\n",
              "          const element = document.querySelector('#df-308e199e-aa0a-49d0-938f-586694980196');\n",
              "          const dataTable =\n",
              "            await google.colab.kernel.invokeFunction('convertToInteractive',\n",
              "                                                     [key], {});\n",
              "          if (!dataTable) return;\n",
              "\n",
              "          const docLinkHtml = 'Like what you see? Visit the ' +\n",
              "            '<a target=\"_blank\" href=https://colab.research.google.com/notebooks/data_table.ipynb>data table notebook</a>'\n",
              "            + ' to learn more about interactive tables.';\n",
              "          element.innerHTML = '';\n",
              "          dataTable['output_type'] = 'display_data';\n",
              "          await google.colab.output.renderOutput(dataTable, element);\n",
              "          const docLink = document.createElement('div');\n",
              "          docLink.innerHTML = docLinkHtml;\n",
              "          element.appendChild(docLink);\n",
              "        }\n",
              "      </script>\n",
              "    </div>\n",
              "  </div>\n",
              "  "
            ],
            "text/plain": [
              "      RRs mean  RRs std  ...  AVG Lag I  AVG Median Std Dev. I\n",
              "0       0.6389   0.0514  ...       -2.0                   0.17\n",
              "1       0.6389   0.0514  ...       -1.0                   0.40\n",
              "2       0.6389   0.0514  ...       -1.0                   0.43\n",
              "3       0.6389   0.0514  ...       -1.0                   0.67\n",
              "4       0.6390   0.0514  ...       -1.0                   0.89\n",
              "...        ...      ...  ...        ...                    ...\n",
              "2260    0.6192   0.0567  ...       -2.0                 286.29\n",
              "2261    0.6192   0.0567  ...       -2.0                 303.23\n",
              "2262    0.6191   0.0567  ...       -3.0                 298.94\n",
              "2263    0.6191   0.0567  ...       -2.0                 290.63\n",
              "2264    0.6190   0.0567  ...       -3.0                 299.16\n",
              "\n",
              "[2265 rows x 13 columns]"
            ]
          },
          "metadata": {},
          "execution_count": 190
        }
      ],
      "source": [
        "feat_numerical"
      ]
    },
    {
      "cell_type": "markdown",
      "metadata": {
        "id": "GuQXyuEgA3db"
      },
      "source": [
        "###TRAIN/VALIDATION SPLIT"
      ]
    },
    {
      "cell_type": "markdown",
      "source": [
        "Splitting in the right way is very important. When developing a model we hipotetically wants the validation set as similar as possible as the test in order to have consinstent results. Since most of the times the test set is not accessible we have to infer about its carachterstics. In this case we split manteining the same distribution of labels between training and validation in order to obtain balanced data set divisions which helps classifiers in generalizing information. This method is called stratification."
      ],
      "metadata": {
        "id": "A0mBTw0XRp0S"
      }
    },
    {
      "cell_type": "code",
      "execution_count": null,
      "metadata": {
        "colab": {
          "base_uri": "https://localhost:8080/"
        },
        "id": "XCMIYhySAb2j",
        "outputId": "b49a3a49-8b25-4d66-e878-f22573dcec55"
      },
      "outputs": [
        {
          "output_type": "stream",
          "name": "stdout",
          "text": [
            "(1812, 13) (453, 13)\n"
          ]
        }
      ],
      "source": [
        "X = featnum_scaled\n",
        "y = pd.factorize(feat['Target'])[0]       # labels encoding\n",
        "\n",
        "X_train, X_test, y_train, y_test = train_test_split(X, y, \n",
        "                                                    test_size = 0.2,\n",
        "                                                    stratify = y,  # preserve target proportions\n",
        "                                                    shuffle=True, \n",
        "                                                    random_state = 123)\n",
        "print(X_train.shape, X_test.shape)"
      ]
    },
    {
      "cell_type": "code",
      "source": [
        "train_labels = train.label\n",
        "train_features = train.drop(columns='label')\n",
        "\n",
        "test_labels = test.label\n",
        "test_features = test.drop(columns='label')\n",
        "\n",
        "# plot label histograms \n",
        "train.hist(column = 'label', bins = 3)\n",
        "plt.title('Train label histogram')\n",
        "\n",
        "test.hist(column = 'label', bins = 3)\n",
        "plt.title('Test label histogram')"
      ],
      "metadata": {
        "id": "fbXuZuiMBfzf"
      },
      "execution_count": null,
      "outputs": []
    },
    {
      "cell_type": "markdown",
      "source": [
        "In order to have comparable values for the signals in input it is necessary to normalize them."
      ],
      "metadata": {
        "id": "wqBTenveVFEc"
      }
    },
    {
      "cell_type": "code",
      "source": [
        "X_min = X_train_raw.min()\n",
        "X_max = X_train_raw.max()\n",
        "\n",
        "X_train_raw = (X_train_raw-X_min)/(X_max-X_min)\n",
        "X_test_raw = (X_test_raw-X_min)/(X_max-X_min)"
      ],
      "metadata": {
        "id": "7aphEkKTVB15"
      },
      "execution_count": null,
      "outputs": []
    },
    {
      "cell_type": "code",
      "execution_count": null,
      "metadata": {
        "id": "INwPsnr_EhUE"
      },
      "outputs": [],
      "source": [
        "scaler = StandardScaler().fit(feat_numerical)\n",
        "featnum_scaled = pd.DataFrame(scaler.transform(feat_numerical))\n",
        "featnum_scaled.columns = feat_numerical.columns"
      ]
    },
    {
      "cell_type": "markdown",
      "source": [
        "###MACHINE LEARNING"
      ],
      "metadata": {
        "id": "N0wv_DiXOmIu"
      }
    },
    {
      "cell_type": "markdown",
      "metadata": {
        "id": "wgPSCQp6FXSu"
      },
      "source": [
        "####MODEL SELECTION"
      ]
    },
    {
      "cell_type": "markdown",
      "metadata": {
        "id": "C0vGPqeFOWsI"
      },
      "source": [
        "Random Forest is a supervised tree-based ensemble machine learning model trained with the \"bagging\" method. The concept behind bagging is that the combination of several weak simple classifiers can lead to high performance. RF builds a strong classifier by adding together simple decision trees. A strong advantage of this methodology is its resistance toward over-fitting which is of great importance to reduce patient and database-dependent bias and ensuring the extrapolation of the model to other scenarios."
      ]
    },
    {
      "cell_type": "markdown",
      "source": [
        "#####Baseline Model Evaluation (Feature Scaling)"
      ],
      "metadata": {
        "id": "Ur7kj74vDAgF"
      }
    },
    {
      "cell_type": "code",
      "execution_count": null,
      "metadata": {
        "id": "sbjLZ8VdFPJc"
      },
      "outputs": [],
      "source": [
        "forest = RandomForestClassifier(criterion = 'gini', max_depth = 10, min_samples_leaf = 10, min_samples_split = 10, n_estimators = 100)"
      ]
    },
    {
      "cell_type": "markdown",
      "source": [
        "######Outlier Removal"
      ],
      "metadata": {
        "id": "uVl97vu3DXk5"
      }
    },
    {
      "cell_type": "markdown",
      "source": [
        "Evaluate baseline model after performing z-scoring for outlier removal: (score - mean)/std"
      ],
      "metadata": {
        "id": "JeTWXE3cD-hv"
      }
    },
    {
      "cell_type": "code",
      "source": [
        ""
      ],
      "metadata": {
        "id": "C5Pu0VfaENcb"
      },
      "execution_count": null,
      "outputs": []
    },
    {
      "cell_type": "markdown",
      "source": [
        "######Standardization"
      ],
      "metadata": {
        "id": "eRdzjYl-DwoB"
      }
    },
    {
      "cell_type": "markdown",
      "source": [
        "Evaluate baseline model after performing z-scoring for data standarization: (score - mean)/std"
      ],
      "metadata": {
        "id": "mDvg4IDTECq6"
      }
    },
    {
      "cell_type": "code",
      "source": [
        ""
      ],
      "metadata": {
        "id": "7U-oSnhnEODk"
      },
      "execution_count": null,
      "outputs": []
    },
    {
      "cell_type": "markdown",
      "source": [
        "######Scaling"
      ],
      "metadata": {
        "id": "UiRSO7HsEPlZ"
      }
    },
    {
      "cell_type": "markdown",
      "source": [
        "Evaluate baseline model after scaling data using Robust scaler: (score – median)/(p75 – p25)"
      ],
      "metadata": {
        "id": "slPGXG7XEIiI"
      }
    },
    {
      "cell_type": "code",
      "source": [
        ""
      ],
      "metadata": {
        "id": "2tN3eif0EQXF"
      },
      "execution_count": null,
      "outputs": []
    },
    {
      "cell_type": "markdown",
      "source": [
        "#####Baseline Model Evaluation (Feature Selection)"
      ],
      "metadata": {
        "id": "OV2ocEiVGLxJ"
      }
    },
    {
      "cell_type": "markdown",
      "source": [
        "######Low variance"
      ],
      "metadata": {
        "id": "-hK6MV79GNg2"
      }
    },
    {
      "cell_type": "code",
      "source": [
        ""
      ],
      "metadata": {
        "id": "d2SQqStvGVNZ"
      },
      "execution_count": null,
      "outputs": []
    },
    {
      "cell_type": "markdown",
      "source": [
        "######Correlation"
      ],
      "metadata": {
        "id": "A9I3CaRsGVvn"
      }
    },
    {
      "cell_type": "code",
      "source": [
        ""
      ],
      "metadata": {
        "id": "oF064sFWGlfS"
      },
      "execution_count": null,
      "outputs": []
    },
    {
      "cell_type": "markdown",
      "source": [
        "######Recursive elimination"
      ],
      "metadata": {
        "id": "GyRJIAFXGl3r"
      }
    },
    {
      "cell_type": "code",
      "source": [
        ""
      ],
      "metadata": {
        "id": "z8t0n1lOGz1D"
      },
      "execution_count": null,
      "outputs": []
    },
    {
      "cell_type": "markdown",
      "source": [
        "######Principal component analysis (PCA)"
      ],
      "metadata": {
        "id": "gm3j2_lHG0W7"
      }
    },
    {
      "cell_type": "code",
      "source": [
        ""
      ],
      "metadata": {
        "id": "EGqqknWcG6WA"
      },
      "execution_count": null,
      "outputs": []
    },
    {
      "cell_type": "markdown",
      "source": [
        "####MODEL TRAINING"
      ],
      "metadata": {
        "id": "dQ6L604XHK8n"
      }
    },
    {
      "cell_type": "markdown",
      "source": [
        "#####Grid hyperparameter search"
      ],
      "metadata": {
        "id": "ZyHJHk1LMAbv"
      }
    },
    {
      "cell_type": "code",
      "execution_count": null,
      "metadata": {
        "id": "nDbCZe3mJOHk"
      },
      "outputs": [],
      "source": [
        "def hyperp_search(classifier, parameters):\n",
        "  gs = GridSearchCV(classifier, parameters, cv = 3, scoring = 'f1_weighted', verbose = 0, n_jobs = -1, refit=True, error_score='raise')\n",
        "  # GS perfoms an exhaustive search over specified parameter values for an estimator.\n",
        "  # GS uses a Stratified K-Folds cross-validator (the folds are made by preserving the percentage of samples for each class.)\n",
        "  # if refit=True the model is retrained on the whole training set with the best found params\n",
        "  gs = gs.fit(X_train, y_train)\n",
        "  print(\"f1_train: %f using %s\" % (gs.best_score_, gs.best_params_))\n",
        "  \n",
        "  global y_pred\n",
        "  best_model = gs.best_estimator_\n",
        "  y_pred = best_model.predict(X_test)\n",
        "  \n",
        "  print(\"f1_test: \", f1_score(y_test, y_pred, average='weighted'))\n",
        "  print(confusion_matrix(y_test, y_pred))\n",
        "  print(classification_report(y_test, y_pred))"
      ]
    },
    {
      "cell_type": "code",
      "execution_count": null,
      "metadata": {
        "colab": {
          "base_uri": "https://localhost:8080/"
        },
        "id": "GHZxA8dBFKrb",
        "outputId": "1533e89c-885a-4c7c-dc30-faf1141c2310"
      },
      "outputs": [
        {
          "output_type": "stream",
          "name": "stdout",
          "text": [
            "f1_train: 0.991655 using {'criterion': 'gini', 'max_depth': 10, 'min_samples_leaf': 10, 'min_samples_split': 10, 'n_estimators': 100}\n",
            "f1_test:  0.9942248087943452\n",
            "[[  2   0   0]\n",
            " [  2 444   1]\n",
            " [  0   0   4]]\n",
            "              precision    recall  f1-score   support\n",
            "\n",
            "           0       0.50      1.00      0.67         2\n",
            "           1       1.00      0.99      1.00       447\n",
            "           2       0.80      1.00      0.89         4\n",
            "\n",
            "    accuracy                           0.99       453\n",
            "   macro avg       0.77      1.00      0.85       453\n",
            "weighted avg       1.00      0.99      0.99       453\n",
            "\n"
          ]
        }
      ],
      "source": [
        "classifier = RandomForestClassifier(class_weight='balanced')\n",
        "classifier.get_params().keys()\n",
        "parameters = {'n_estimators': [10, 100, 1000],  # the number of trees in the forest: a higher number makes the predictions \n",
        "                                                # stronger and more stable, but a very large number can result in higher \n",
        "                                                # training time\n",
        "              'criterion': ['entropy','gini'],  # the function to measure the quality of a split\n",
        "              'max_depth': [10, 100, 1000],   # the maximum depth of the tree\n",
        "              'min_samples_leaf': [10, 100, 1000],  # the minimum number of samples required to split an internal node\n",
        "              'min_samples_split': [10, 100, 1000]}  # the minimum number of samples required to be at a leaf node\n",
        "              \n",
        "\n",
        "hyperp_search(classifier, parameters)\n",
        "y_forest = y_pred"
      ]
    },
    {
      "cell_type": "markdown",
      "source": [
        "#####Bayesian hyperparameter search"
      ],
      "metadata": {
        "id": "2Os7QRmVMMGv"
      }
    },
    {
      "cell_type": "code",
      "source": [
        ""
      ],
      "metadata": {
        "id": "Uq-nnO3TMQS1"
      },
      "execution_count": null,
      "outputs": []
    },
    {
      "cell_type": "markdown",
      "metadata": {
        "id": "ZJ0y1XNVJZcy"
      },
      "source": [
        "####MODEL PERFORMANCE"
      ]
    },
    {
      "cell_type": "code",
      "source": [
        "forest.fit(X_train,y_train)"
      ],
      "metadata": {
        "id": "qVinHsbSlLG2"
      },
      "execution_count": null,
      "outputs": []
    },
    {
      "cell_type": "code",
      "execution_count": null,
      "metadata": {
        "id": "i3xr56h1iUW2",
        "colab": {
          "base_uri": "https://localhost:8080/"
        },
        "outputId": "1fd7e7e7-29ec-4562-9d7e-2b48d7d30f32"
      },
      "outputs": [
        {
          "output_type": "stream",
          "name": "stdout",
          "text": [
            "Predicted Species    N  V\n",
            "Actual Species           \n",
            "N                  446  1\n",
            "S                    2  0\n",
            "V                    1  3\n"
          ]
        }
      ],
      "source": [
        "y_pred = forest.predict(X_test)                                                   # predicting the validation set results\n",
        "reversefactor = dict(zip(range(3),pd.factorize(feat['Target'])[1]))               # reverse factorize (converting y_pred from 0s,1s and 2s to N, S and V)\n",
        "y_test = np.vectorize(reversefactor.get)(y_test)\n",
        "y_pred = np.vectorize(reversefactor.get)(y_pred)\n",
        "print(pd.crosstab(y_test, y_pred, rownames=['Actual Species'], colnames=['Predicted Species']))"
      ]
    },
    {
      "cell_type": "markdown",
      "source": [
        "####MODELS COMPARISON"
      ],
      "metadata": {
        "id": "4XoAZoo3Hhv3"
      }
    },
    {
      "cell_type": "markdown",
      "metadata": {
        "id": "s9-sPR1LKTtQ"
      },
      "source": [
        "####SELECTED MODEL DEFINITIVE TRAINING"
      ]
    },
    {
      "cell_type": "markdown",
      "metadata": {
        "id": "gTY2_Pv0KeRT"
      },
      "source": [
        "We now train the model on the entire data that we used for all of our evaluations so far, i.e. everything apart from the validation set. We use the hyperparameters that we found in the previous part."
      ]
    },
    {
      "cell_type": "code",
      "execution_count": null,
      "metadata": {
        "id": "JYuWYxylKkPx"
      },
      "outputs": [],
      "source": [
        "X = featnum_scaled\n",
        "y = pd.factorize(feat['Target'])[0]\n",
        "\n",
        "X_train, X_test, y_train, y_test = train_test_split(X, y, \n",
        "                                                    test_size = 0,\n",
        "                                                    stratify = y,  # preserve target proportions \n",
        "                                                    random_state = 123)\n",
        "print(X_train.shape, X_test.shape)"
      ]
    },
    {
      "cell_type": "code",
      "execution_count": null,
      "metadata": {
        "id": "qkWhCwndNtMG"
      },
      "outputs": [],
      "source": [
        "forest.fit(X_train, y_train)"
      ]
    },
    {
      "cell_type": "code",
      "execution_count": null,
      "metadata": {
        "id": "mZmqJUJsN1Cd"
      },
      "outputs": [],
      "source": [
        "model_directory= '/gdrive/MyDrive/AN_Assignment/'\n",
        "filename = 'RandomForest'\n",
        "filename_chosen = os.path.join(model_directory, filename)\n",
        "model.save(filename_chosen + '.h5')"
      ]
    },
    {
      "cell_type": "markdown",
      "source": [
        "###DEEP LEARNING"
      ],
      "metadata": {
        "id": "JiwwyrkxPgQv"
      }
    },
    {
      "cell_type": "markdown",
      "source": [
        "An algorithm for automate interpretation of ECG must recognize the distinct waves and understand the relationships between them over time. This is a complex task because of the presence of noise in the signal and because of the variability in wave morphology among patients.\n",
        "\n",
        "An important aspect in the passage from from machine learning model to deep learning is that in the latter we need more data in order to obtain good generalization."
      ],
      "metadata": {
        "id": "6GSuvIYUP_fQ"
      }
    },
    {
      "cell_type": "markdown",
      "source": [
        "####SET SEED FOR REPRODUCIBILITY"
      ],
      "metadata": {
        "id": "Me5zHREYQcU-"
      }
    },
    {
      "cell_type": "code",
      "source": [
        "seed = 42\n",
        "\n",
        "random.seed(seed)\n",
        "os.environ['PYTHONHASHSEED'] = str(seed)\n",
        "np.random.seed(seed)\n",
        "tf.random.set_seed(seed)\n",
        "tf.compat.v1.set_random_seed(seed)"
      ],
      "metadata": {
        "id": "SuqNliF2Prdh"
      },
      "execution_count": null,
      "outputs": []
    },
    {
      "cell_type": "markdown",
      "source": [
        "####DATA BALANCING"
      ],
      "metadata": {
        "id": "HPZC-YImwzT4"
      }
    },
    {
      "cell_type": "code",
      "source": [
        "from sklearn.utils.class_weight import compute_class_weight\n",
        "\n",
        "def calculating_class_weights(y_true):\n",
        "    number_dim = np.shape(y_true)[1]\n",
        "    weights = np.empty([number_dim, 2])\n",
        "    for i in range(number_dim):\n",
        "        weights[i] = compute_class_weight('balanced', [0.,1.], y_true[:, i])\n",
        "    return weights\n",
        "\n",
        "class_weights = calculating_class_weights(y_train)\n",
        "\n",
        "keys = np.arange(0,9,1)\n",
        "weight_dictionary_fold = dict(zip(keys, class_weights.T[1]))\n",
        "weight_dictionary_fold"
      ],
      "metadata": {
        "id": "CodbvHutwxy7"
      },
      "execution_count": null,
      "outputs": []
    },
    {
      "cell_type": "markdown",
      "source": [
        "####MODELS"
      ],
      "metadata": {
        "id": "W-q748ECjp0j"
      }
    },
    {
      "cell_type": "code",
      "source": [
        "callback = tf.keras.callbacks.EarlyStopping(monitor=\"val_loss\",\n",
        "                                            min_delta=0,\n",
        "                                            patience=7,\n",
        "                                            verbose=0,\n",
        "                                            mode=\"auto\", \n",
        "                                            baseline=None,\n",
        "                                            restore_best_weights=False,\n",
        "                                            )"
      ],
      "metadata": {
        "id": "paD_PfkMj7lh"
      },
      "execution_count": null,
      "outputs": []
    },
    {
      "cell_type": "markdown",
      "source": [
        "Stop training when a monitored metric has stopped improving.\n",
        "\n",
        "* **monitor**: Quantity to be monitored.\n",
        "* **min_delta**: Minimum change in the monitored quantity to qualify as an improvement, i.e. an absolute change of less than min_delta, will count as no improvement.\n",
        "* **patience**: Number of epochs with no improvement after which training will be stopped.\n",
        "verbose: verbosity mode.\n",
        "* **mode**: One of {\"auto\", \"min\", \"max\"}. In min mode, training will stop when the quantity monitored has stopped decreasing; in \"max\" mode it will stop when the quantity monitored has stopped increasing; in \"auto\" mode, the direction is automatically inferred from the name of the monitored quantity.\n",
        "* **baseline**: Baseline value for the monitored quantity. Training will stop if the model doesn't show improvement over the baseline.\n",
        "* **restore_best_weights**: Whether to restore model weights from the epoch with the best value of the monitored quantity. If False, the model weights obtained at the last step of training are used. An epoch will be restored regardless of the performance relative to the baseline. If no epoch improves on baseline, training will run for patience epochs and restore weights from the best epoch in that set.\n"
      ],
      "metadata": {
        "id": "baZ4PdeDj0nG"
      }
    },
    {
      "cell_type": "markdown",
      "source": [
        "####FFNN"
      ],
      "metadata": {
        "id": "hWql2oYJVQ9X"
      }
    },
    {
      "cell_type": "code",
      "source": [
        "FFN = keras.Sequential([\n",
        "    keras.layers.Input((5000,12)),\n",
        "    keras.layers.Dense(128, activation=tf.nn.relu),       # relu for vanishing gradient\n",
        "    keras.layers.Dense(64, activation=tf.nn.relu),\n",
        "    keras.layers.Flatten(),\n",
        "    keras.layers.Dense(num_classes, activation=tf.nn.sigmoid)   # sigmoid for binary classification\n",
        "])"
      ],
      "metadata": {
        "id": "U0CjSJCBVVxc"
      },
      "execution_count": null,
      "outputs": []
    },
    {
      "cell_type": "code",
      "source": [
        "learning_rate = 0.02\n",
        "FFN.compile(\n",
        "    optimizer = keras.optimizers.Adam(learning_rate),\n",
        "    loss = 'binary_crossentropy',\n",
        "    metrics = ['accuracy']\n",
        ")"
      ],
      "metadata": {
        "id": "XiEwioOPVhh8"
      },
      "execution_count": null,
      "outputs": []
    },
    {
      "cell_type": "code",
      "source": [
        "FFN.summary()"
      ],
      "metadata": {
        "id": "N4mgyLicVo2e"
      },
      "execution_count": null,
      "outputs": []
    },
    {
      "cell_type": "markdown",
      "source": [
        "#####Training"
      ],
      "metadata": {
        "id": "FXPpbBdas_qD"
      }
    },
    {
      "cell_type": "code",
      "source": [
        "history = FFN.fit(\n",
        "    x = X_train_filt,\n",
        "    y = y_train, \n",
        "    validation_data=(X_val_filt, y_val),\n",
        "    batch_size = 64,\n",
        "    epochs = 10\n",
        ").history"
      ],
      "metadata": {
        "id": "N4mV4-CyVkuq"
      },
      "execution_count": null,
      "outputs": []
    },
    {
      "cell_type": "markdown",
      "source": [
        "#####Performance"
      ],
      "metadata": {
        "id": "1WJpkVUgtIju"
      }
    },
    {
      "cell_type": "code",
      "source": [
        "plt.figure(figsize = (12,4))\n",
        "plt.subplot(1,2,1)\n",
        "plt.plot(history['loss'], label=\"training loss\")\n",
        "plt.plot(history['val_loss'], label=\"validation loss\")\n",
        "plt.title('Lossfunction Sequential FFN:')\n",
        "plt.legend()\n",
        "\n",
        "plt.subplot(1,2,2)\n",
        "plt.plot(history['accuracy'], label=\"training accuracy\")\n",
        "plt.plot(history['val_accuracy'], label=\"validation accuracy\")\n",
        "plt.title('Accuracy Sequential FFN:')\n",
        "plt.legend()"
      ],
      "metadata": {
        "id": "8mr5enxWVoMv"
      },
      "execution_count": null,
      "outputs": []
    },
    {
      "cell_type": "markdown",
      "source": [
        "#####Evaluation"
      ],
      "metadata": {
        "id": "qrcELpiatQmV"
      }
    },
    {
      "cell_type": "code",
      "source": [
        ""
      ],
      "metadata": {
        "id": "lmzfDwQGwaqV"
      },
      "execution_count": null,
      "outputs": []
    },
    {
      "cell_type": "code",
      "source": [
        "model_directory = '/content/drive/MyDrive/AI_in_Biomedicine/Session_6/'\n",
        "filename = 'resNet_trained'\n",
        "filename_chosen = os.path.join(model_directory, filename)\n",
        "resNet_model.save(filename_chosen + '.h5')"
      ],
      "metadata": {
        "id": "eC_zoqDVmjwe"
      },
      "execution_count": null,
      "outputs": []
    },
    {
      "cell_type": "markdown",
      "source": [
        "There are too many parameters for these few layers. For this reason we replace the `Flatten` layer with `GlobalMaxPool1D`. This layer works as an ordinary max pooling layer for reducing the input but down samples to a single value."
      ],
      "metadata": {
        "id": "UrpsVLddVwz1"
      }
    },
    {
      "cell_type": "code",
      "source": [
        "def build_ffnn(input_shape):\n",
        "\n",
        "    # Build the neural network layer by layer\n",
        "    input_layer = tf.keras.layers.Input(shape=input_shape, name='Input')\n",
        "    hidden_layer1 = tf.keras.layers.Dense(units=128, activation='relu', name='Hidden1')(input_layer)\n",
        "    hidden_layer2 = tf.keras.layers.Dense(units=64, activation='relu', name='Hidden2')(hidden_layer1)\n",
        "    flatten = tf.keras.layers.GlobalMaxPool1D()(hidden_layer2)\n",
        "    output_layer = tf.keras.layers.Dense(units=num_classes, activation='sigmoid', name='Output')(flatten)\n",
        "\n",
        "    # Connect input and output through the Model class\n",
        "    model = Model(inputs=input_layer, outputs=output_layer, name='FFNN')\n",
        "\n",
        "    # Compile the model\n",
        "    loss = 'binary_crossentropy'\n",
        "    learning_rate = 0.02\n",
        "    optimizer = keras.optimizers.Adam(learning_rate)\n",
        "    model.compile(loss=loss, optimizer=optimizer, metrics = 'accuracy')\n",
        "\n",
        "    # Return the model\n",
        "    return model\n",
        "\n",
        "FFN = build_ffnn((5000,12))"
      ],
      "metadata": {
        "id": "qLtN6SRuVriI"
      },
      "execution_count": null,
      "outputs": []
    },
    {
      "cell_type": "code",
      "source": [
        "FFN.summary()"
      ],
      "metadata": {
        "id": "Cs5Ygs7jV58V"
      },
      "execution_count": null,
      "outputs": []
    },
    {
      "cell_type": "code",
      "source": [
        "history = FFN.fit(\n",
        "    x = X_train_filt,\n",
        "    y = y_train, \n",
        "    validation_data=(X_val_filt, y_val),\n",
        "    batch_size = 64,\n",
        "    epochs = 10\n",
        ").history"
      ],
      "metadata": {
        "id": "XF--gboxV6ic"
      },
      "execution_count": null,
      "outputs": []
    },
    {
      "cell_type": "code",
      "source": [
        "plt.figure(figsize = (12,4))\n",
        "plt.subplot(1,2,1)\n",
        "plt.plot(history['loss'], label=\"training loss\")\n",
        "plt.plot(history['val_loss'], label=\"validation loss\")\n",
        "plt.title('Lossfunction Functional FFN:')\n",
        "plt.legend()\n",
        "\n",
        "plt.subplot(1,2,2)\n",
        "plt.plot(history['accuracy'], label=\"training accuracy\")\n",
        "plt.plot(history['val_accuracy'], label=\"validation accuracy\")\n",
        "plt.title('Accuracy Functional FFN:')\n",
        "plt.legend()"
      ],
      "metadata": {
        "id": "5ZBUE95iWDAq"
      },
      "execution_count": null,
      "outputs": []
    },
    {
      "cell_type": "markdown",
      "source": [
        "####CNN"
      ],
      "metadata": {
        "id": "xEE8SgOCWNzn"
      }
    },
    {
      "cell_type": "code",
      "source": [
        "cnn_model = keras.Sequential([\n",
        "    keras.layers.Conv1D(filters=16, kernel_size=3, padding='same',\n",
        "                        activation='relu', input_shape=(5000, 12)),\n",
        "    keras.layers.MaxPooling1D(pool_size=2),\n",
        "    keras.layers.Dropout(0.3),\n",
        "    keras.layers.Conv1D(filters=64, kernel_size=3,\n",
        "                        padding='same', activation='relu'),\n",
        "    keras.layers.MaxPooling1D(pool_size=2),\n",
        "    keras.layers.GlobalMaxPooling1D(),\n",
        "    keras.layers.Dense(128, activation=tf.nn.relu),\n",
        "    keras.layers.Dense(num_classes, activation=tf.nn.sigmoid)\n",
        "])"
      ],
      "metadata": {
        "id": "cjoIoIAcWQGw"
      },
      "execution_count": null,
      "outputs": []
    },
    {
      "cell_type": "code",
      "source": [
        "learning_rate = 0.001\n",
        "cnn_model.compile(\n",
        "    optimizer = keras.optimizers.Adam(),\n",
        "    loss = 'binary_crossentropy',\n",
        "    metrics = ['accuracy']\n",
        ")"
      ],
      "metadata": {
        "id": "knu5wRucWT9f"
      },
      "execution_count": null,
      "outputs": []
    },
    {
      "cell_type": "code",
      "source": [
        "cnn_model.summary()"
      ],
      "metadata": {
        "id": "kSljKQ1dWWA3"
      },
      "execution_count": null,
      "outputs": []
    },
    {
      "cell_type": "markdown",
      "source": [
        "#####Training"
      ],
      "metadata": {
        "id": "Fb6iVIENwFXW"
      }
    },
    {
      "cell_type": "code",
      "source": [
        "history = cnn_model.fit(\n",
        "    x = X_train_filt,\n",
        "    y = y_train, \n",
        "    validation_data=(X_val_filt, y_val),\n",
        "    batch_size = 64,\n",
        "    epochs = 10\n",
        ").history"
      ],
      "metadata": {
        "id": "yakCI4GTWZ-V"
      },
      "execution_count": null,
      "outputs": []
    },
    {
      "cell_type": "code",
      "source": [
        "model_directory = '/content/drive/MyDrive/AI_in_Biomedicine/Session_6/'\n",
        "filename = 'resNet_trained'\n",
        "filename_chosen = os.path.join(model_directory, filename)\n",
        "resNet_model.save(filename_chosen + '.h5')"
      ],
      "metadata": {
        "id": "7EosSv7J6Nro"
      },
      "execution_count": null,
      "outputs": []
    },
    {
      "cell_type": "markdown",
      "source": [
        "#####Performance"
      ],
      "metadata": {
        "id": "LOb0nWj_wG_I"
      }
    },
    {
      "cell_type": "code",
      "source": [
        "#plot performances\n",
        "plt.figure(figsize = (12,4))\n",
        "plt.subplot(1,2,1)\n",
        "plt.plot(history['loss'], label=\"training loss\")\n",
        "plt.plot(history['val_loss'], label=\"validation loss\")\n",
        "plt.title('Lossfunction CNN:')\n",
        "plt.legend()\n",
        "\n",
        "plt.subplot(1,2,2)\n",
        "plt.plot(history['accuracy'], label=\"training accuracy\")\n",
        "plt.plot(history['val_accuracy'], label=\"validation accuracy\")\n",
        "plt.title('Accuracy CNN:')\n",
        "plt.legend()"
      ],
      "metadata": {
        "id": "WNSeeYwQWcV4"
      },
      "execution_count": null,
      "outputs": []
    },
    {
      "cell_type": "markdown",
      "source": [
        "#####Evaluation"
      ],
      "metadata": {
        "id": "Z5Ur71DCwJji"
      }
    },
    {
      "cell_type": "code",
      "source": [
        ""
      ],
      "metadata": {
        "id": "XNB-j8OawL00"
      },
      "execution_count": null,
      "outputs": []
    },
    {
      "cell_type": "code",
      "source": [
        "model_directory = '/content/drive/MyDrive/AI_in_Biomedicine/Session_6/'\n",
        "filename = 'resNet_trained'\n",
        "filename_chosen = os.path.join(model_directory, filename)\n",
        "resNet_model.save(filename_chosen + '.h5')"
      ],
      "metadata": {
        "id": "iNqE8bISmoGE"
      },
      "execution_count": null,
      "outputs": []
    },
    {
      "cell_type": "markdown",
      "source": [
        "####VGG"
      ],
      "metadata": {
        "id": "lPX9Znumrqyd"
      }
    },
    {
      "cell_type": "code",
      "source": [
        "vgg = Sequential()\n",
        "\n",
        "vgg.add(Conv1D(input_shape=(5000,12),filters=64,kernel_size=3,padding=\"same\", activation=\"relu\"))\n",
        "vgg.add(Conv1D(filters=64,kernel_size=3,padding=\"same\", activation=\"relu\"))\n",
        "vgg.add(MaxPooling1D(pool_size=2,strides=2))\n",
        "vgg.add(Conv1D(filters=128, kernel_size=3, padding=\"same\", activation=\"relu\"))\n",
        "vgg.add(Conv1D(filters=128, kernel_size=3, padding=\"same\", activation=\"relu\"))\n",
        "vgg.add(MaxPooling1D(pool_size=2,strides=2))\n",
        "vgg.add(Conv1D(filters=256, kernel_size=3, padding=\"same\", activation=\"relu\"))\n",
        "vgg.add(Conv1D(filters=256, kernel_size=3, padding=\"same\", activation=\"relu\"))\n",
        "vgg.add(Conv1D(filters=256, kernel_size=3, padding=\"same\", activation=\"relu\"))\n",
        "vgg.add(MaxPooling1D(pool_size=2,strides=2))\n",
        "vgg.add(Conv1D(filters=512, kernel_size=3, padding=\"same\", activation=\"relu\"))\n",
        "vgg.add(Conv1D(filters=512, kernel_size=3, padding=\"same\", activation=\"relu\"))\n",
        "vgg.add(Conv1D(filters=512, kernel_size=3, padding=\"same\", activation=\"relu\"))\n",
        "vgg.add(MaxPooling1D(pool_size=2,strides=2))\n",
        "vgg.add(Conv1D(filters=512, kernel_size=3, padding=\"same\", activation=\"relu\"))\n",
        "vgg.add(Conv1D(filters=512, kernel_size=3, padding=\"same\", activation=\"relu\"))\n",
        "vgg.add(Conv1D(filters=512, kernel_size=3, padding=\"same\", activation=\"relu\"))\n",
        "vgg.add(MaxPooling1D(pool_size=2,strides=2))\n",
        "vgg.add(keras.layers.GlobalMaxPooling1D())\n",
        "vgg.add (Dense(512, activation='relu'))\n",
        "vgg.add (Dropout(0.4))\n",
        "vgg.add (Dense(9,activation='softmax'))\n",
        "\n",
        "\n",
        "learning_rate = 0.001\n",
        "vgg.compile(\n",
        "    optimizer = keras.optimizers.Adam(),\n",
        "    loss = 'categorical_crossentropy',\n",
        "    metrics = ['accuracy']\n",
        ")"
      ],
      "metadata": {
        "id": "kP-rXNuCroro"
      },
      "execution_count": null,
      "outputs": []
    },
    {
      "cell_type": "code",
      "source": [
        "vgg.summary()"
      ],
      "metadata": {
        "id": "RK-tMkSfsiFs"
      },
      "execution_count": null,
      "outputs": []
    },
    {
      "cell_type": "markdown",
      "source": [
        "#####Training"
      ],
      "metadata": {
        "id": "VW5m_009zUoC"
      }
    },
    {
      "cell_type": "code",
      "source": [
        "history = vgg.fit(\n",
        "    x = batch_generator_data(batch_size=batchsize, x_gen=generate_X_shuffle(X_train), y_gen=generate_y_shuffle(y_train)),\n",
        "    validation_data= validation,\n",
        "    steps_per_epoch=(len(X_train)/batchsize),\n",
        "    batch_size = 64,\n",
        "    epochs = 20\n",
        ").history"
      ],
      "metadata": {
        "id": "iS2OTMf0soGZ"
      },
      "execution_count": null,
      "outputs": []
    },
    {
      "cell_type": "code",
      "source": [
        "model_directory = '/content/drive/MyDrive/AI_in_Biomedicine/Session_6/'\n",
        "filename = 'resNet_trained'\n",
        "filename_chosen = os.path.join(model_directory, filename)\n",
        "resNet_model.save(filename_chosen + '.h5')"
      ],
      "metadata": {
        "id": "TPFH4kFG6PeG"
      },
      "execution_count": null,
      "outputs": []
    },
    {
      "cell_type": "markdown",
      "source": [
        "#####Performance"
      ],
      "metadata": {
        "id": "qVAVKFiOzXm4"
      }
    },
    {
      "cell_type": "code",
      "source": [
        "#plot performances\n",
        "plt.figure(figsize = (12,4))\n",
        "plt.subplot(1,2,1)\n",
        "plt.plot(history['loss'], label=\"training loss\")\n",
        "plt.plot(history['val_loss'], label=\"validation loss\")\n",
        "plt.title('Lossfunction VGG:')\n",
        "plt.legend()\n",
        "\n",
        "plt.subplot(1,2,2)\n",
        "plt.plot(history['accuracy'], label=\"training accuracy\")\n",
        "plt.plot(history['val_accuracy'], label=\"validation accuracy\")\n",
        "plt.title('Accuracy VGG:')\n",
        "plt.legend()"
      ],
      "metadata": {
        "id": "gkmmlmAbsvMK"
      },
      "execution_count": null,
      "outputs": []
    },
    {
      "cell_type": "markdown",
      "source": [
        "#####Evaluation"
      ],
      "metadata": {
        "id": "bg0jSCLUzae_"
      }
    },
    {
      "cell_type": "code",
      "source": [
        ""
      ],
      "metadata": {
        "id": "MdD98tR8swW1"
      },
      "execution_count": null,
      "outputs": []
    },
    {
      "cell_type": "code",
      "source": [
        "model_directory = '/content/drive/MyDrive/AI_in_Biomedicine/Session_6/'\n",
        "filename = 'resNet_trained'\n",
        "filename_chosen = os.path.join(model_directory, filename)\n",
        "resNet_model.save(filename_chosen + '.h5')"
      ],
      "metadata": {
        "id": "lUg81VdDmqV2"
      },
      "execution_count": null,
      "outputs": []
    },
    {
      "cell_type": "markdown",
      "source": [
        "####RESNET"
      ],
      "metadata": {
        "id": "t0w4GHrj4y79"
      }
    },
    {
      "cell_type": "markdown",
      "source": [
        "Due to the vanishing gradient problem (as the gradient is back-propagated to earlier layers, repeated multiplication may make the gradient infinitively small), deep networks are hard to train. If the network gets very deep, performance saturates and degrades.\n",
        "ResNet introduces skip connections that allow the network to go deeper without suffering form the vanishing gradient problem."
      ],
      "metadata": {
        "id": "EsszAykQ4zU9"
      }
    },
    {
      "cell_type": "code",
      "source": [
        "def ResBs_Conv(block_input, num_filters): \n",
        "   \n",
        "    # 0. Filter Block input and BatchNormalization\n",
        "    block_input = Conv1D(num_filters, kernel_size=7, strides = 2,  padding = 'same')(block_input) \n",
        "    block_input = BatchNormalization()(block_input)\n",
        "\n",
        "    # 1. First Convolutional Layer\n",
        "    conv1 = Conv1D(filters=num_filters, kernel_size=7, padding= 'same')(block_input)\n",
        "    norm1 = BatchNormalization()(conv1)\n",
        "    relu1 = Activation('relu')(norm1)  \n",
        "    dropout = Dropout(0.2)(relu1)\n",
        "    \n",
        "    # 2. Second Convolutional Layer \n",
        "    conv2 = Conv1D(num_filters, kernel_size=7, padding= 'same')(dropout) #per avere concordanza\n",
        "    norm2 = BatchNormalization()(conv2)\n",
        "\n",
        "    # 3. Summing Layer (adding a residual connection)\n",
        "    sum = Add()([block_input, norm2])\n",
        "    \n",
        "    # 4. Activation Layer\n",
        "    relu2 = Activation('relu')(sum)\n",
        "    \n",
        "    return relu2 \n",
        "\n",
        "def ResBs_Identity(block_input, num_filters): \n",
        "\n",
        "    # 1. First Convolutional Layer\n",
        "    conv1 = Conv1D(filters=num_filters, kernel_size=7, padding= 'same')(block_input)\n",
        "    norm1 = BatchNormalization()(conv1)\n",
        "    relu1 = Activation('relu')(norm1)    \n",
        "    dropout = Dropout(0.2)(relu1)\n",
        "    \n",
        "    # 2. Second Convolutional Layer \n",
        "    conv2 = Conv1D(num_filters, kernel_size=7, padding= 'same')(dropout) #per avere concordanza\n",
        "    norm2 = BatchNormalization()(conv2)\n",
        "\n",
        "    # 3. Summing Layer (adding a residual connection)\n",
        "    sum = Add()([block_input, norm2])\n",
        "    \n",
        "    # 4. Activation Layer\n",
        "    relu2 = Activation('relu')(sum)\n",
        "    \n",
        "    return relu2 \n",
        "\n",
        "def resnet(N=8, ch=12, win_len=5000, classes=9): \n",
        "    ecg_input = Input(shape=(win_len, ch), name='ecg_signal') \n",
        "\n",
        "    ResNet = Conv1D(filters=64,kernel_size=15, padding = 'same')(ecg_input) \n",
        "    ResNet = BatchNormalization()(ResNet)\n",
        "    ResNet = Activation('relu')(ResNet)\n",
        "    ResNet = MaxPooling1D(pool_size=2, strides = 2)(ResNet)\n",
        "    \n",
        "    # B.5 ResBs (x8) blocks\n",
        "    # First two ResNet blocks are identity blocks \n",
        "    ResNet = ResBs_Identity(ResNet, 64)\n",
        "    ResNet = ResBs_Identity(ResNet, 64)\n",
        "\n",
        "    filters = 64\n",
        "    M= int((N -2 )/2)\n",
        "    for i in range(M): \n",
        "        filters = filters*2\n",
        "        # define N-th ResBs block\n",
        "        ResNet = ResBs_Conv(ResNet, filters)\n",
        "        ResNet = ResBs_Identity(ResNet, filters)\n",
        "    \n",
        "    ResNet = GlobalMaxPooling1D(name='gmp_layer')(ResNet)\n",
        "    ResNet = Flatten()(ResNet) \n",
        "\n",
        "    # Sigmoid activation function on the last layer\n",
        "    ResNet = Dense(classes, activation='sigmoid',  name='sigmoid_classifier')(ResNet)\n",
        "\n",
        "    # Finally the model is composed by connecting inputs to outputs: \n",
        "    model = Model(inputs=[ecg_input],outputs=ResNet)\n",
        "    return model"
      ],
      "metadata": {
        "id": "MMoOMHCY43yo"
      },
      "execution_count": null,
      "outputs": []
    },
    {
      "cell_type": "code",
      "source": [
        "resNet_model = resnet(N=8, ch=12, win_len=5000, classes=9)\n",
        "\n",
        "learning_rate = 0.001\n",
        "resNet_model.compile(\n",
        "    optimizer = keras.optimizers.Adam(),\n",
        "    loss = keras.losses.BinaryCrossentropy(),\n",
        "    metrics = ['accuracy', 'Precision', 'Recall' ]\n",
        ")"
      ],
      "metadata": {
        "id": "NVH9FCLU50kU"
      },
      "execution_count": null,
      "outputs": []
    },
    {
      "cell_type": "code",
      "source": [
        "resNet_model.summary()"
      ],
      "metadata": {
        "id": "WOKJHIJN59E-"
      },
      "execution_count": null,
      "outputs": []
    },
    {
      "cell_type": "code",
      "source": [
        "tf.keras.utils.plot_model(\n",
        "    resNet_model,\n",
        "    to_file=\"resNet_model.png\",\n",
        "    show_shapes=False,\n",
        "    show_dtype=False,\n",
        "    show_layer_names=True,\n",
        "    rankdir=\"TB\",\n",
        "    expand_nested=False,\n",
        "    dpi=96,\n",
        "    layer_range=None,\n",
        ")"
      ],
      "metadata": {
        "id": "iaIGIRtw6BYE"
      },
      "execution_count": null,
      "outputs": []
    },
    {
      "cell_type": "markdown",
      "source": [
        "#####Training"
      ],
      "metadata": {
        "id": "9j75awpi54t6"
      }
    },
    {
      "cell_type": "code",
      "source": [
        "history_resNet = resNet_model.fit(\n",
        "    batch_generator_data(batch_size=batchsize, x_gen=generate_X_shuffle(X_train), y_gen=generate_y_shuffle(y_train)),\n",
        "    validation_data= validation,\n",
        "    steps_per_epoch=(len(X_train)/batchsize),\n",
        "    batch_size = 64,\n",
        "    epochs = 20,\n",
        "     ).history"
      ],
      "metadata": {
        "id": "aPaaYIhU6FCr"
      },
      "execution_count": null,
      "outputs": []
    },
    {
      "cell_type": "code",
      "source": [
        "model_directory = '/content/drive/MyDrive/AI_in_Biomedicine/Session_6/'\n",
        "filename = 'resNet_trained'\n",
        "filename_chosen = os.path.join(model_directory, filename)\n",
        "resNet_model.save(filename_chosen + '.h5')"
      ],
      "metadata": {
        "id": "CTpRDJ-j6KgM"
      },
      "execution_count": null,
      "outputs": []
    },
    {
      "cell_type": "markdown",
      "source": [
        "#####Performance"
      ],
      "metadata": {
        "id": "Z-jeHi4O6RPo"
      }
    },
    {
      "cell_type": "code",
      "source": [
        "history = history_resNet\n",
        "\n",
        "plt.figure(figsize = (12,4))\n",
        "plt.subplot(1,2,1)\n",
        "plt.plot(history['loss'], label=\"training loss\")\n",
        "plt.plot(history['val_loss'], label=\"validation loss\")\n",
        "plt.title('Lossfunction ResNet:')\n",
        "plt.legend()\n",
        "\n",
        "plt.subplot(1,2,2)\n",
        "plt.plot(history['accuracy'], label=\"training accuracy\")\n",
        "plt.plot(history['val_accuracy'], label=\"validation accuracy\")\n",
        "plt.title('Accuracy ResNet:')\n",
        "plt.legend()"
      ],
      "metadata": {
        "id": "oIZ04Fj06UL4"
      },
      "execution_count": null,
      "outputs": []
    },
    {
      "cell_type": "code",
      "source": [
        "#plot performances\n",
        "plt.figure(figsize = (12,4))\n",
        "plt.subplot(1,2,1)\n",
        "plt.plot(history['precision'], label=\"training precision\")\n",
        "plt.plot(history['val_precision'], label=\"validation precision\")\n",
        "plt.title('Precision ResNet:')\n",
        "plt.legend()\n",
        "\n",
        "plt.subplot(1,2,2)\n",
        "plt.plot(history['recall'], label=\"training recall\")\n",
        "plt.plot(history['val_recall'], label=\"validation recall\")\n",
        "plt.title('Recall ResNet:')\n",
        "plt.legend()"
      ],
      "metadata": {
        "id": "fH0M2reY6kj7"
      },
      "execution_count": null,
      "outputs": []
    },
    {
      "cell_type": "markdown",
      "source": [
        "#####Evaluation"
      ],
      "metadata": {
        "id": "lwnbZGPd6U5I"
      }
    },
    {
      "cell_type": "code",
      "source": [
        ""
      ],
      "metadata": {
        "id": "QN1GueP_6XjX"
      },
      "execution_count": null,
      "outputs": []
    },
    {
      "cell_type": "code",
      "source": [
        "model_directory = '/content/drive/MyDrive/AI_in_Biomedicine/Session_6/'\n",
        "filename = 'resNet_trained'\n",
        "filename_chosen = os.path.join(model_directory, filename)\n",
        "resNet_model.save(filename_chosen + '.h5')"
      ],
      "metadata": {
        "id": "xEsMn1CdmudD"
      },
      "execution_count": null,
      "outputs": []
    },
    {
      "cell_type": "markdown",
      "source": [
        "####WIDE RESNET"
      ],
      "metadata": {
        "id": "OHDJ-_w5Dyd4"
      }
    },
    {
      "cell_type": "markdown",
      "source": [
        "In classical machine learning approach, when performing hand-crafted feature extraction, we are explicitly providing the model with we want it to look at. \n",
        "However, in deep learning the user does not actually know exactly how the model is treating the data and what features it is focusing on.\n",
        "The Wide ResNet proposes an embedded approach by merging the potential of both techniques."
      ],
      "metadata": {
        "id": "7bsLbv0GE4Bi"
      }
    },
    {
      "cell_type": "code",
      "source": [
        "# model integrating deep + wide \n",
        "def resnet_deep_wide(N=8, ch=12, win_len=5000, num_wide_features= 36, classes=9): \n",
        "    # A. Wide features\n",
        "    wide_input = Input(shape= (num_wide_features, ), name = 'wide_features')\n",
        "    wide_branch = Dense(13, activation='relu')(wide_input)\n",
        "\n",
        "    # B. ECG window input of shape (batch_size,  WINDOW_LEN, CHANNELS)\n",
        "    ecg_input = Input(shape=(win_len, ch), name='ecg_signal') \n",
        "\n",
        "    ResNet = Conv1D(filters=64,kernel_size=15, padding = 'same')(ecg_input) \n",
        "    ResNet = BatchNormalization()(ResNet)\n",
        "    ResNet = Activation('relu')(ResNet)\n",
        "    ResNet = MaxPooling1D(pool_size=2, strides = 2)(ResNet)\n",
        "    \n",
        "    # B.5 ResBs (x8) blocks\n",
        "    # The number of filters starts from 64 and doubles every two blocks\n",
        "    \n",
        "    # First two ResNet blocks are identity blocks \n",
        "    ResNet = ResBs_Identity(ResNet, 64)\n",
        "    ResNet = ResBs_Identity(ResNet, 64)\n",
        "\n",
        "    filters = 64\n",
        "    M= int((N -2 )/2)\n",
        "    for i in range(M): \n",
        "        filters = filters*2\n",
        "\n",
        "        # define N-th ResBs block\n",
        "        ResNet = ResBs_Conv(ResNet, filters)\n",
        "        ResNet = ResBs_Identity(ResNet, filters)\n",
        "    \n",
        "    ResNet = GlobalMaxPooling1D(name='gmp_layer')(ResNet)\n",
        "    ResNet = Flatten()(ResNet)\n",
        "\n",
        "    shared_path = concatenate([ResNet, wide_branch], name='concat_layer')\n",
        "    shared_path = Dense(classes, activation='sigmoid', name='sigmoid_classifier')(shared_path)\n",
        "   \n",
        "    # Finally the model is composed by connecting inputs to outputs: \n",
        "    model = Model(inputs=[ecg_input,  wide_input],outputs=shared_path)\n",
        "\n",
        "    return model"
      ],
      "metadata": {
        "id": "hgiC3xQoENpY"
      },
      "execution_count": null,
      "outputs": []
    },
    {
      "cell_type": "code",
      "source": [
        "resNet_deep_wide_model = resnet_deep_wide(N=8, ch=12, win_len=5000,num_wide_features= 36, classes=9)\n",
        "\n",
        "learning_rate = 0.001\n",
        "resNet_deep_wide_model.compile(\n",
        "    optimizer = keras.optimizers.Adam(),\n",
        "    loss = keras.losses.BinaryCrossentropy(),\n",
        "    metrics = ['accuracy', 'Precision', 'Recall']\n",
        ")"
      ],
      "metadata": {
        "id": "NHyyhD9oGPVe"
      },
      "execution_count": null,
      "outputs": []
    },
    {
      "cell_type": "code",
      "source": [
        "resNet_deep_wide_model.summary()"
      ],
      "metadata": {
        "id": "xGWmp_H4GT3l"
      },
      "execution_count": null,
      "outputs": []
    },
    {
      "cell_type": "code",
      "source": [
        "tf.keras.utils.plot_model(\n",
        "    resNet_deep_wide_model,\n",
        "    to_file=\"resNet_model.png\",\n",
        "    show_shapes=False,\n",
        "    show_dtype=False,\n",
        "    show_layer_names=True,\n",
        "    rankdir=\"TB\",\n",
        "    expand_nested=False,\n",
        "    dpi=96,\n",
        "    layer_range=None,\n",
        ")"
      ],
      "metadata": {
        "id": "AQ9Toj7tGUda"
      },
      "execution_count": null,
      "outputs": []
    },
    {
      "cell_type": "markdown",
      "source": [
        "#####All together"
      ],
      "metadata": {
        "id": "8H3bRoqUP3dG"
      }
    },
    {
      "cell_type": "code",
      "source": [
        ""
      ],
      "metadata": {
        "id": "cHpU8SiTPzUW"
      },
      "execution_count": null,
      "outputs": []
    },
    {
      "cell_type": "code",
      "source": [
        "model_directory = '/content/drive/MyDrive/AI_in_Biomedicine/Session_6/'\n",
        "filename = 'resNet_trained'\n",
        "filename_chosen = os.path.join(model_directory, filename)\n",
        "resNet_model.save(filename_chosen + '.h5')"
      ],
      "metadata": {
        "id": "xBNyHvQ6mxj8"
      },
      "execution_count": null,
      "outputs": []
    },
    {
      "cell_type": "markdown",
      "source": [
        "#####Transfer Learning"
      ],
      "metadata": {
        "id": "4lsI8NiaP-TS"
      }
    },
    {
      "cell_type": "markdown",
      "source": [
        "Here we are freezing the ResNet previously computed and training only the branch related to the hand-crafted features."
      ],
      "metadata": {
        "id": "r9PVBfIMhlG0"
      }
    },
    {
      "cell_type": "code",
      "source": [
        ""
      ],
      "metadata": {
        "id": "quDaJymZP_kc"
      },
      "execution_count": null,
      "outputs": []
    },
    {
      "cell_type": "code",
      "source": [
        "model_directory = '/content/drive/MyDrive/AI_in_Biomedicine/Session_6/'\n",
        "filename = 'resNet_trained'\n",
        "filename_chosen = os.path.join(model_directory, filename)\n",
        "resNet_model.save(filename_chosen + '.h5')"
      ],
      "metadata": {
        "id": "gsGzigqimy1L"
      },
      "execution_count": null,
      "outputs": []
    },
    {
      "cell_type": "markdown",
      "source": [
        "#####Separate Training"
      ],
      "metadata": {
        "id": "tor4NEVPP_-C"
      }
    },
    {
      "cell_type": "code",
      "source": [
        ""
      ],
      "metadata": {
        "id": "WrZcUrPpQAbs"
      },
      "execution_count": null,
      "outputs": []
    },
    {
      "cell_type": "code",
      "source": [
        "model_directory = '/content/drive/MyDrive/AI_in_Biomedicine/Session_6/'\n",
        "filename = 'resNet_trained'\n",
        "filename_chosen = os.path.join(model_directory, filename)\n",
        "resNet_model.save(filename_chosen + '.h5')"
      ],
      "metadata": {
        "id": "3D-YcbO5m0TA"
      },
      "execution_count": null,
      "outputs": []
    },
    {
      "cell_type": "markdown",
      "source": [
        "####RESNET WITH SQUEEZE & EXCITATION (SE) BLOCK"
      ],
      "metadata": {
        "id": "iZ7NID_2kehN"
      }
    },
    {
      "cell_type": "markdown",
      "source": [
        "1.   The function is given an input convolutional block and the current number of channels it has\n",
        "2.    We squeeze each channel to a single numeric value using average pooling\n",
        "3. A fully connected layer followed by a ReLU function adds the necessary nonlinearity. It’s output channel complexity is also reduced by a certain ratio.\n",
        "4. A second fully connected layer followed by a Sigmoid activation gives each channel a smooth gating function.\n",
        "5. At last, we weight each feature map of the convolutional block based on the result of our side network.\n"
      ],
      "metadata": {
        "id": "airUDbZPkwyH"
      }
    },
    {
      "cell_type": "markdown",
      "source": [
        "![image.png](data:image/png;base64,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)"
      ],
      "metadata": {
        "id": "YH7dXPr_lLvd"
      }
    },
    {
      "cell_type": "markdown",
      "source": [
        "*  r: Reduction ratio\n",
        "*  WxHxC: input spatial dimentions \n"
      ],
      "metadata": {
        "id": "4AFOcuJulUTY"
      }
    },
    {
      "cell_type": "code",
      "source": [
        "# Squeeze and excitation module \n",
        "def se_block(in_block, ch, ratio=16):\n",
        "    x = GlobalAveragePooling1D()(in_block)\n",
        "    #flat = Reshape((1, num_filters))(se_pool1)\n",
        "    x = Dense(ch//ratio, activation='relu')(x)\n",
        "    x = Dense(ch, activation='sigmoid')(x)\n",
        "    x = multiply([in_block, x])\n",
        "    return x"
      ],
      "metadata": {
        "id": "BYAbZEmjkn1c"
      },
      "execution_count": null,
      "outputs": []
    },
    {
      "cell_type": "code",
      "source": [
        "def ResBs_SE_Conv(block_input, num_filters): \n",
        "   \n",
        "    # 0. Filter Block input and BatchNormalization\n",
        "    block_input = Conv1D(num_filters, kernel_size=7, strides = 2,  padding = 'same')(block_input) \n",
        "    block_input = BatchNormalization()(block_input)\n",
        "\n",
        "    # 1. First Convolutional Layer\n",
        "    conv1 = Conv1D(filters=num_filters, kernel_size=7, padding= 'same')(block_input)\n",
        "    norm1 = BatchNormalization()(conv1)\n",
        "    relu1 = Activation('relu')(norm1)  \n",
        "    dropout = Dropout(0.2)(relu1)\n",
        "    \n",
        "    # 2. Second Convolutional Layer \n",
        "    conv2 = Conv1D(num_filters, kernel_size=7, padding= 'same')(dropout) #per avere concordanza\n",
        "    norm2 = BatchNormalization()(conv2)\n",
        "\n",
        "    # 3. SE block (fucntion defined above)\n",
        "    se = se_block(norm2, ch=num_filters)\n",
        "\n",
        "    # 4. Summing Layer (adding a residual connection)\n",
        "    sum = Add()([block_input, se])\n",
        "    \n",
        "    # 5. Activation Layer\n",
        "    relu2 = Activation('relu')(sum)\n",
        "    \n",
        "    return relu2 \n",
        "\n",
        "def ResBs_SE_Identity(block_input, num_filters): \n",
        "\n",
        "    # 1. First Convolutional Layer\n",
        "    conv1 = Conv1D(filters=num_filters, kernel_size=7, padding= 'same')(block_input)\n",
        "    norm1 = BatchNormalization()(conv1)\n",
        "    relu1 = Activation('relu')(norm1)    \n",
        "    dropout = Dropout(0.2)(relu1)\n",
        "    \n",
        "    # 2. Second Convolutional Layer \n",
        "    conv2 = Conv1D(num_filters, kernel_size=7, padding= 'same')(dropout) #per avere concordanza\n",
        "    norm2 = BatchNormalization()(conv2)\n",
        "\n",
        "    # 3. SE block (fucntion defined above)\n",
        "    se = se_block(norm2, ch=num_filters)\n",
        "    \n",
        "    # 4. Summing Layer (adding a residual connection)\n",
        "    sum = Add()([block_input, se])\n",
        "    \n",
        "    # 5. Activation Layer\n",
        "    relu2 = Activation('relu')(sum)\n",
        "    \n",
        "    return relu2 \n",
        "\n",
        "# model integrating deep + wide \n",
        "def resnet_SE_deep_wide(N=8, ch=12, win_len=5000, num_wide_features= 36, classes=9): \n",
        "    # A. Wide features\n",
        "    wide_input = Input(shape= (num_wide_features, ), name = 'wide_features')\n",
        "    wide_branch = Dense(13, activation='relu')(wide_input)\n",
        "\n",
        "    # B. ECG window input of shape (batch_size,  WINDOW_LEN, CHANNELS)\n",
        "    ecg_input = Input(shape=(win_len, ch), name='ecg_signal') \n",
        "\n",
        "    ResNet = Conv1D(filters=64,kernel_size=15, padding = 'same')(ecg_input) \n",
        "    ResNet = BatchNormalization()(ResNet)\n",
        "    ResNet = Activation('relu')(ResNet)\n",
        "    ResNet = MaxPooling1D(pool_size=2, strides = 2)(ResNet)\n",
        "    \n",
        "    # B.5 ResBs (x8) blocks\n",
        "    # The number of filters starts from 64 and doubles every two blocks\n",
        "    \n",
        "    # First two ResNet blocks are identity blocks \n",
        "    ResNet = ResBs_SE_Identity(ResNet, 64)\n",
        "    ResNet = ResBs_SE_Identity(ResNet, 64)\n",
        "\n",
        "    filters = 64\n",
        "    M= int((N -2 )/2)\n",
        "    for i in range(M): \n",
        "        filters = filters*2\n",
        "\n",
        "        # define N-th ResBs block\n",
        "        ResNet = ResBs_SE_Conv(ResNet, filters)\n",
        "        ResNet = ResBs_SE_Identity(ResNet, filters)\n",
        "    \n",
        "    ResNet = GlobalMaxPooling1D(name='gmp_layer')(ResNet)\n",
        "    ResNet = Flatten()(ResNet)\n",
        "\n",
        "    shared_path = concatenate([ResNet, wide_branch], name='concat_layer')\n",
        "    shared_path = Dense(classes, activation='sigmoid', name='sigmoid_classifier')(shared_path)\n",
        "   \n",
        "    # Finally the model is composed by connecting inputs to outputs: \n",
        "    model = Model(inputs=[ecg_input,  wide_input],outputs=shared_path)\n",
        "\n",
        "    return model"
      ],
      "metadata": {
        "id": "8BaOcoHtlfBd"
      },
      "execution_count": null,
      "outputs": []
    },
    {
      "cell_type": "code",
      "source": [
        "resnet_SE_deep_wide_model = resnet_SE_deep_wide(N=8, ch=12, win_len=5000,num_wide_features= 36, classes=9)\n",
        "\n",
        "learning_rate = 0.001\n",
        "resnet_SE_deep_wide_model.compile(\n",
        "    optimizer = keras.optimizers.Adam(),\n",
        "    loss = keras.losses.BinaryCrossentropy(),\n",
        "    metrics = ['accuracy', 'Precision', 'Recall']\n",
        ")"
      ],
      "metadata": {
        "id": "hu1Gzqcvlmh6"
      },
      "execution_count": null,
      "outputs": []
    },
    {
      "cell_type": "code",
      "source": [
        "resNet_deep_wide_model.summary()"
      ],
      "metadata": {
        "id": "R0av0FP7mNYl"
      },
      "execution_count": null,
      "outputs": []
    },
    {
      "cell_type": "code",
      "source": [
        "tf.keras.utils.plot_model(\n",
        "    resnet_SE_deep_wide_model,\n",
        "    to_file=\"resNet_model.png\",\n",
        "    show_shapes=False,\n",
        "    show_dtype=False,\n",
        "    show_layer_names=True,\n",
        "    rankdir=\"TB\",\n",
        "    expand_nested=False,\n",
        "    dpi=96,\n",
        "    layer_range=None,\n",
        ")"
      ],
      "metadata": {
        "id": "ahDjrGfJlqOH"
      },
      "execution_count": null,
      "outputs": []
    },
    {
      "cell_type": "markdown",
      "source": [
        "#####Training"
      ],
      "metadata": {
        "id": "nTAvjaE7lyEl"
      }
    },
    {
      "cell_type": "code",
      "source": [
        "batchsize = 64\n",
        "\n",
        "history_resnet_SE_deep_wide= resnet_SE_deep_wide_model.fit(\n",
        "    batch_generator_data_f(batch_size=batchsize, x_gen=generate_X_shuffle(X_train),f_gen= generate_F_shuffle(X_train, feature_dict_train), y_gen=generate_y_shuffle(y_train)),\n",
        "    validation_data= validation,\n",
        "    steps_per_epoch=(len(X_train)/batchsize),\n",
        "    batch_size = 64,\n",
        "    epochs = 30,\n",
        "    callbacks=[callback]).history"
      ],
      "metadata": {
        "id": "Y0g88Htslw_r"
      },
      "execution_count": null,
      "outputs": []
    },
    {
      "cell_type": "markdown",
      "source": [
        "#####Performance"
      ],
      "metadata": {
        "id": "pN5fmkS0l6_O"
      }
    },
    {
      "cell_type": "code",
      "source": [
        "#plot performances\n",
        "history = history_resnet_SE_deep_wide\n",
        "\n",
        "plt.figure(figsize = (12,4))\n",
        "plt.subplot(1,2,1)\n",
        "plt.plot(history['loss'], label=\"training loss\")\n",
        "plt.plot(history['val_loss'], label=\"validation loss\")\n",
        "plt.title('Lossfunction ResNet:')\n",
        "plt.legend()\n",
        "\n",
        "plt.subplot(1,2,2)\n",
        "plt.plot(history['accuracy'], label=\"training accuracy\")\n",
        "plt.plot(history['val_accuracy'], label=\"validation accuracy\")\n",
        "plt.title('Accuracy ResNet:')\n",
        "plt.legend()"
      ],
      "metadata": {
        "id": "BqP2VjzOl-O_"
      },
      "execution_count": null,
      "outputs": []
    },
    {
      "cell_type": "code",
      "source": [
        "#plot performances\n",
        "plt.figure(figsize = (12,4))\n",
        "plt.subplot(1,2,1)\n",
        "plt.plot(history['precision'], label=\"training precision\")\n",
        "plt.plot(history['val_precision'], label=\"validation precision\")\n",
        "plt.title('Precision ResNet:')\n",
        "plt.legend()\n",
        "\n",
        "plt.subplot(1,2,2)\n",
        "plt.plot(history['recall'], label=\"training recall\")\n",
        "plt.plot(history['val_recall'], label=\"validation recall\")\n",
        "plt.title('Recall ResNet:')\n",
        "plt.legend()"
      ],
      "metadata": {
        "id": "QUyzrBpemXDy"
      },
      "execution_count": null,
      "outputs": []
    },
    {
      "cell_type": "markdown",
      "source": [
        "#####Evaluation"
      ],
      "metadata": {
        "id": "BcwJDP49l-j0"
      }
    },
    {
      "cell_type": "code",
      "source": [
        ""
      ],
      "metadata": {
        "id": "VFbRsg_qmBGU"
      },
      "execution_count": null,
      "outputs": []
    },
    {
      "cell_type": "code",
      "source": [
        "model = resnet_SE_deep_wide_model\n",
        "model_directory = '/content/drive/MyDrive/AI_in_Biomedicine/Session_7/'\n",
        "filename = 'resnet_SE_deep_wide_model'\n",
        "filename_chosen = os.path.join(model_directory, filename)\n",
        "model.save(filename_chosen + '.h5')"
      ],
      "metadata": {
        "id": "f8YzrwcZmbiN"
      },
      "execution_count": null,
      "outputs": []
    },
    {
      "cell_type": "markdown",
      "source": [
        "####ENSEMBLES"
      ],
      "metadata": {
        "id": "fIQm0mLbm4BU"
      }
    },
    {
      "cell_type": "markdown",
      "source": [
        "Neural networks are a non-linear method capable of learning complex non-linear relationships in data. \n",
        "  - High variance: sensitive to statistical noise in the training dataset. \n",
        "  - Stochastic nature: each time a NN model is trained a different mapping function version is obtained. Sentitive to initial random weights.\n",
        "\n",
        "Ensemble learning combines predictions from multiple NNs to reduce variance and improve generalization. \\\\\n",
        "\n",
        "Three major elements can be varied for ensemble methods:\n",
        "- Training data\n",
        "- Ensemble models (same data but different models)\n",
        "- Combination strategy (averaging, weighted average, median, ...) "
      ],
      "metadata": {
        "id": "EMhTOCBAnGK9"
      }
    },
    {
      "cell_type": "markdown",
      "source": [
        "#####Training data variation"
      ],
      "metadata": {
        "id": "_dbrFHK-orUb"
      }
    },
    {
      "cell_type": "markdown",
      "source": [
        "Create three identical ResNet models trained with a different training data subset each. \n",
        "\n",
        "We are going to further divide our training set into 3 training - validation sets and then test out ensemble model in the initial validation set."
      ],
      "metadata": {
        "id": "492GJXFhon77"
      }
    },
    {
      "cell_type": "code",
      "source": [
        "mskf = MultilabelStratifiedKFold(n_splits=3, shuffle=True, random_state=SEED)\n",
        "\n",
        "train_cv_index = list()\n",
        "val_cv_index = list()\n",
        "for train_cv_index_temp, val_cv_index_temp in mskf.split(X_train, y_train):\n",
        "  train_cv_index.append(train_cv_index_temp)\n",
        "  val_cv_index.append(val_cv_index_temp)"
      ],
      "metadata": {
        "id": "kwgieTaanCkU"
      },
      "execution_count": null,
      "outputs": []
    },
    {
      "cell_type": "code",
      "source": [
        "#cv_n = 0\n",
        "total_cv = 3\n",
        "\n",
        "for cv_n in range(total_cv):\n",
        "  # 1. Define train and validation data\n",
        "  X_train_cv, X_val_cv = [X_train[index] for index in train_cv_index[cv_n]], [X_train[index] for index in val_cv_index[cv_n]]\n",
        "  y_train_cv, y_val_cv = y_train[train_cv_index[cv_n]], y_train[val_cv_index[cv_n]]\n",
        "\n",
        "  # 2. Compile the model to be trained \n",
        "  resnet_SE_deep_wide_model = resnet_SE_deep_wide(N=8, ch=12, win_len=5000,num_wide_features= 36, classes=9)\n",
        "  learning_rate = 0.001\n",
        "  resnet_SE_deep_wide_model.compile(\n",
        "      optimizer = keras.optimizers.Adam(),\n",
        "      loss = keras.losses.BinaryCrossentropy(),\n",
        "      metrics = ['accuracy', 'Precision', 'Recall'])\n",
        "  \n",
        "  # 3. Model training\n",
        "  batchsize = 64\n",
        "  history_resnet_SE_deep_wide= resnet_SE_deep_wide_model.fit(\n",
        "      batch_generator_data_f(batch_size=batchsize, x_gen=generate_X_shuffle(X_train),f_gen= generate_F_shuffle(X_train, feature_dict_train), y_gen=generate_y_shuffle(y_train)),\n",
        "      validation_data= validation,\n",
        "      steps_per_epoch=(len(X_train)/batchsize),\n",
        "      batch_size = 64,\n",
        "      epochs = 30,\n",
        "      callbacks=[callback]).history\n",
        "  \n",
        "  # 4. Plot model training \n",
        "  #plot performances\n",
        "  history = history_resnet_SE_deep_wide\n",
        "  plt.figure(figsize = (12,4))\n",
        "  plt.subplot(1,2,1)\n",
        "  plt.plot(history['loss'], label=\"training loss\")\n",
        "  plt.plot(history['val_loss'], label=\"validation loss\")\n",
        "  plt.title('Lossfunction ResNet:')\n",
        "  plt.legend()\n",
        "\n",
        "  plt.subplot(1,2,2)\n",
        "  plt.plot(history['accuracy'], label=\"training accuracy\")\n",
        "  plt.plot(history['val_accuracy'], label=\"validation accuracy\")\n",
        "  plt.title('Accuracy ResNet:')\n",
        "  plt.legend()\n",
        "  plt.show()\n",
        "\n",
        "  plt.figure(figsize = (12,4))\n",
        "  plt.subplot(1,2,1)\n",
        "  plt.plot(history['precision'], label=\"training precision\")\n",
        "  plt.plot(history['val_precision'], label=\"validation precision\")\n",
        "  plt.title('Precision ResNet:')\n",
        "  plt.legend()\n",
        "\n",
        "  plt.subplot(1,2,2)\n",
        "  plt.plot(history['recall'], label=\"training recall\")\n",
        "  plt.plot(history['val_recall'], label=\"validation recall\")\n",
        "  plt.title('Recall ResNet:')\n",
        "  plt.legend()\n",
        "  plt.show()\n",
        "\n",
        "  # 4. Model saving\n",
        "  model = resnet_SE_deep_wide_model\n",
        "  model_directory = '/content/drive/MyDrive/AI_in_Biomedicine/Session_7/'\n",
        "  filename = 'resnet_SE_deep_wide_model_E' + str(cv_n+1)\n",
        "  filename_chosen = os.path.join(model_directory, filename)\n",
        "  model.save(filename_chosen + '.h5')\n",
        "\n",
        "  # 5. Model evaluation\n",
        "  pred_resnet_SE_deep_wide = resnet_SE_deep_wide_model.predict(validation[0])\n",
        "  pred_resnet_SE_deep_wide = (pred_resnet_SE_deep_wide > 0.5)*1\n",
        "  \n",
        "  df_cm = compute_modified_confusion_matrix(validation[1]['sigmoid_classifier'], (pred_resnet_SE_deep_wide)*1)\n",
        "  df_cm  = df_cm / np.sum(df_cm, axis = 0)\n",
        "  df_norm_col = pd.DataFrame(df_cm)\n",
        "  df_norm_col.columns = classes_name\n",
        "  df_norm_col.index = classes_name\n",
        "  df_norm_col.index.name = 'Predicted'\n",
        "  df_norm_col.columns.name = 'Actual'\n",
        "  plt.figure(figsize = (10,8))\n",
        "  plt.title(\"Multi Label Confusion Matrix\")\n",
        "  sns.set(font_scale=1.4)\n",
        "  sns.heatmap(df_norm_col, cmap=\"Greens\", annot=True,fmt='.2f')\n",
        "  plt.show()\n",
        "  sns.reset_orig()"
      ],
      "metadata": {
        "id": "s9ip0jevpXZd"
      },
      "execution_count": null,
      "outputs": []
    },
    {
      "cell_type": "markdown",
      "source": [
        "#####Models combination"
      ],
      "metadata": {
        "id": "dk7o_GIXqDkd"
      }
    },
    {
      "cell_type": "code",
      "source": [
        ""
      ],
      "metadata": {
        "id": "ZH25mPauqIEA"
      },
      "execution_count": null,
      "outputs": []
    },
    {
      "cell_type": "markdown",
      "source": [
        "####POINCARE IMAGES"
      ],
      "metadata": {
        "id": "hScdwW6UWyec"
      }
    },
    {
      "cell_type": "code",
      "source": [
        "def poincareImage_gen(Rpeaks, fs, image_ranges, bin_size, mult_fact):\n",
        "  # Create RRi and RRi-1 vectors\n",
        "  RR = []\n",
        "  if np.any(Rpeaks):\n",
        "    RR = (np.diff(Rpeaks)/fs)*10**(3)\n",
        "  RR_i_1 = RR[1:]\n",
        "  RR_i = RR[:-1]\n",
        "\n",
        "  # Create Poincaré Image \n",
        "  xedges = np.arange(image_ranges[0], image_ranges[1], bin_size).tolist()\n",
        "  yedges = np.arange(image_ranges[0], image_ranges[1], bin_size).tolist()\n",
        "\n",
        "  poincareImage, xedges, yedges = np.histogram2d(RR_i_1, RR_i, bins=(xedges, yedges))\n",
        "  poincareImage = poincareImage.T\n",
        "\n",
        "  # Express it as probability map\n",
        "  if np.any(poincareImage):\n",
        "    poincareImage = poincareImage/np.sum(poincareImage)\n",
        "  poincareImage = np.nan_to_num(poincareImage)*mult_fact\n",
        "\n",
        "  return poincareImage\n",
        "\n",
        "def poincareImage_RR(ecg_signal, fs, image_ranges, bin_size, mult_fact):\n",
        "  leads_pi = [ 1, 2, 10, 11] # [0, 1, 2, 9, 10, 11]\n",
        "  dim_im = int((image_ranges[1] - image_ranges[0])/bin_size-1)\n",
        "  poincareImage_RR_o = np.zeros((dim_im, dim_im, len(leads_pi)))\n",
        "  \n",
        "  for cnt, nld in enumerate(leads_pi): \n",
        "    Rpeaks = nk.ecg_findpeaks(ecg_signal[nld,:], sampling_rate=fs, method='martinez2003', show=False)\n",
        "    Rpeaks = Rpeaks['ECG_R_Peaks']\n",
        "    poincareImage_RR_o[:,:,cnt] = poincareImage_gen(Rpeaks, fs, image_ranges, bin_size, mult_fact)\n",
        "  poincareImage_RR_o = np.median(poincareImage_RR_o,axis=2)\n",
        "\n",
        "  return poincareImage_RR_o"
      ],
      "metadata": {
        "id": "qC1n5uLvXogd"
      },
      "execution_count": null,
      "outputs": []
    },
    {
      "cell_type": "code",
      "source": [
        "patient = 2\n",
        "fs = 500\n",
        "image_ranges = [0, 1600]\n",
        "bin_size = 40\n",
        "\n",
        "signal_temp = load_data(filenames[patient])[0]\n",
        "pi_RR = poincareImage_RR(signal_temp, fs, image_ranges, bin_size)\n",
        "\n",
        "fig = plt.figure(figsize=(7, 3))\n",
        "ax = fig.add_subplot(131, title='median poincare image')\n",
        "plt.imshow(poincareImage, interpolation='nearest', origin='lower',\n",
        "        extent=[xedges[0], xedges[-1], yedges[0], yedges[-1]])"
      ],
      "metadata": {
        "id": "iglxI6lmeQBA"
      },
      "execution_count": null,
      "outputs": []
    },
    {
      "cell_type": "markdown",
      "source": [
        "#####VGG"
      ],
      "metadata": {
        "id": "edXoqT28fza1"
      }
    },
    {
      "cell_type": "code",
      "source": [
        "vgg = Sequential()\n",
        "vgg.add(Conv2D(input_shape=(39,39,1),filters=64,kernel_size=(3, 3),padding=\"same\", activation=\"relu\", name='poincareImage'))\n",
        "vgg.add(Conv2D(filters=64,kernel_size=(3, 3),padding=\"same\", activation=\"relu\"))\n",
        "vgg.add(MaxPooling2D(pool_size=(2, 2),strides=(2, 2)))\n",
        "vgg.add(Conv2D(filters=128, kernel_size=(3, 3), padding=\"same\", activation=\"relu\"))\n",
        "vgg.add(MaxPooling2D(pool_size=(2, 2),strides=(2, 2)))\n",
        "vgg.add(Conv2D(filters=256, kernel_size=(3, 3), padding=\"same\", activation=\"relu\"))\n",
        "vgg.add(Conv2D(filters=256, kernel_size=(3, 3), padding=\"same\", activation=\"relu\"))\n",
        "vgg.add(Conv2D(filters=256, kernel_size=(3, 3), padding=\"same\", activation=\"relu\"))\n",
        "vgg.add(MaxPooling2D(pool_size=(2, 2),strides=(2, 2)))\n",
        "vgg.add(Conv2D(filters=512, kernel_size=(3, 3), padding=\"same\", activation=\"relu\"))\n",
        "vgg.add(Conv2D(filters=512, kernel_size=(3, 3), padding=\"same\", activation=\"relu\"))\n",
        "vgg.add(Conv2D(filters=512, kernel_size=(3, 3), padding=\"same\", activation=\"relu\"))\n",
        "vgg.add(MaxPooling2D(pool_size=(2, 2),strides=(2, 2)))\n",
        "vgg.add(Conv2D(filters=512, kernel_size=(3, 3), padding=\"same\", activation=\"relu\"))\n",
        "vgg.add(Conv2D(filters=512, kernel_size=(3, 3), padding=\"same\", activation=\"relu\"))\n",
        "vgg.add(Conv2D(filters=512, kernel_size=(3, 3), padding=\"same\", activation=\"relu\"))\n",
        "vgg.add(MaxPooling2D(pool_size=(2, 2),strides=(2, 2)))\n",
        "vgg.add(keras.layers.GlobalMaxPooling2D())\n",
        "vgg.add (Dense(512, activation='relu'))\n",
        "vgg.add (Dropout(0.4))\n",
        "vgg.add (Dense(7,activation='sigmoid', name='sigmoid_classifier'))\n",
        "\n",
        "\n",
        "learning_rate = 0.001\n",
        "vgg.compile(\n",
        "    optimizer = keras.optimizers.Adam(),\n",
        "    loss = 'binary_crossentropy',\n",
        "    metrics = ['accuracy']\n",
        ")"
      ],
      "metadata": {
        "id": "0n6r-st_fvIa"
      },
      "execution_count": null,
      "outputs": []
    },
    {
      "cell_type": "code",
      "source": [
        "vgg.summary()"
      ],
      "metadata": {
        "id": "6wabHd1_f9MW"
      },
      "execution_count": null,
      "outputs": []
    },
    {
      "cell_type": "code",
      "source": [
        "tf.keras.utils.plot_model(\n",
        "    resNet_deep_wide_model,\n",
        "    to_file=\"resNet_model.png\",\n",
        "    show_shapes=False,\n",
        "    show_dtype=False,\n",
        "    show_layer_names=True,\n",
        "    rankdir=\"TB\",\n",
        "    expand_nested=False,\n",
        "    dpi=96,\n",
        "    layer_range=None,\n",
        ")"
      ],
      "metadata": {
        "id": "i1lqsLrff9xq"
      },
      "execution_count": null,
      "outputs": []
    },
    {
      "cell_type": "code",
      "source": [
        "batchsize = 64\n",
        "callback = tf.keras.callbacks.EarlyStopping(monitor=\"val_loss\", min_delta=0,\n",
        "                                            patience=30, verbose=0, mode=\"auto\", \n",
        "                                            baseline=None,restore_best_weights=False)\n",
        "\n",
        "dim_im = int(dim_im)\n",
        "history_VGG_pi = vgg.fit(\n",
        "    batch_generator_data_pi(batch_size=batchsize, dim_im=dim_im,pi_gen=generate_piRR_shuffle(X_train, fs, lead),y_gen=generate_y_shuffle(y_train)),\n",
        "    validation_data= validation,\n",
        "    steps_per_epoch=(len(X_train)/batchsize),\n",
        "    batch_size = 64,\n",
        "    epochs = 30, \n",
        "    callbacks=[callback]).history"
      ],
      "metadata": {
        "id": "K6TKUYYLi6qi"
      },
      "execution_count": null,
      "outputs": []
    },
    {
      "cell_type": "code",
      "source": [
        "#plot performances\n",
        "history = history_VGG_pi\n",
        "\n",
        "plt.figure(figsize = (12,4))\n",
        "plt.subplot(1,2,1)\n",
        "plt.plot(history['loss'], label=\"training loss\")\n",
        "plt.plot(history['val_loss'], label=\"validation loss\")\n",
        "plt.title('Lossfunction ResNet:')\n",
        "plt.legend()\n",
        "\n",
        "plt.subplot(1,2,2)\n",
        "plt.plot(history['accuracy'], label=\"training accuracy\")\n",
        "plt.plot(history['val_accuracy'], label=\"validation accuracy\")\n",
        "plt.title('Accuracy ResNet:')\n",
        "plt.legend()"
      ],
      "metadata": {
        "id": "Or4E3WPgi-fD"
      },
      "execution_count": null,
      "outputs": []
    },
    {
      "cell_type": "code",
      "source": [
        "pred_vgg = vgg.predict(validation[0])\n",
        "pred_vgg = (pred_vgg > 0.5)*1\n",
        "pred_vgg[0]"
      ],
      "metadata": {
        "id": "MfbgV9lsjDTL"
      },
      "execution_count": null,
      "outputs": []
    },
    {
      "cell_type": "code",
      "source": [
        "# Save trained model\n",
        "model = resNet_deep_wide_model_train_1\n",
        "model_directory = '/content/drive/MyDrive/AI_in_Biomedicine/Session_8/'\n",
        "filename = 'VGG_pi_RR'\n",
        "filename_chosen = os.path.join(model_directory, filename)\n",
        "model.save(filename_chosen + '.h5')"
      ],
      "metadata": {
        "id": "zkvtkKJZjD9a"
      },
      "execution_count": null,
      "outputs": []
    },
    {
      "cell_type": "markdown",
      "source": [
        "#####ResNet 2D"
      ],
      "metadata": {
        "id": "OAQNJ4akjPkx"
      }
    },
    {
      "cell_type": "code",
      "source": [
        "# ResNet model definition \n",
        "\n",
        "def ResBs_Conv(block_input, num_filters): \n",
        "   \n",
        "    # 0. Filter Block input and BatchNormalization\n",
        "    block_input = Conv2D(num_filters, kernel_size=(7, 7), strides = (2, 2),  padding = 'same')(block_input) \n",
        "    block_input = BatchNormalization()(block_input)\n",
        "\n",
        "    # 1. First Convolutional Layer\n",
        "    conv1 = Conv2D(filters=num_filters, kernel_size=(7, 7), padding= 'same')(block_input)\n",
        "    norm1 = BatchNormalization()(conv1)\n",
        "    relu1 = Activation('relu')(norm1)  \n",
        "    dropout = Dropout(0.2)(relu1)\n",
        "    \n",
        "    # 2. Second Convolutional Layer \n",
        "    conv2 = Conv2D(num_filters, kernel_size=(7, 7), padding= 'same')(dropout) #per avere concordanza\n",
        "    norm2 = BatchNormalization()(conv2)\n",
        "\n",
        "    # 3. Summing Layer (adding a residual connection)\n",
        "    sum = Add()([block_input, norm2])\n",
        "    \n",
        "    # 4. Activation Layer\n",
        "    relu2 = Activation('relu')(sum)\n",
        "    \n",
        "    return relu2 \n",
        "\n",
        "def ResBs_Identity(block_input, num_filters): \n",
        "\n",
        "    # 1. First Convolutional Layer\n",
        "    conv1 = Conv2D(filters=num_filters, kernel_size=(7, 7), padding= 'same')(block_input)\n",
        "    norm1 = BatchNormalization()(conv1)\n",
        "    relu1 = Activation('relu')(norm1)    \n",
        "    dropout = Dropout(0.2)(relu1)\n",
        "    \n",
        "    # 2. Second Convolutional Layer \n",
        "    conv2 = Conv2D(num_filters, kernel_size=(7, 7), padding= 'same')(dropout) #per avere concordanza\n",
        "    norm2 = BatchNormalization()(conv2)\n",
        "\n",
        "    # 3. Summing Layer (adding a residual connection)\n",
        "    sum = Add()([block_input, norm2])\n",
        "    \n",
        "    # 4. Activation Layer\n",
        "    relu2 = Activation('relu')(sum)\n",
        "    \n",
        "    return relu2 \n",
        "\n",
        "# model integrating deep + wide \n",
        "def resnet_pi(N=8, dim_pi=(39,39,1) ,  classes=8): \n",
        "\n",
        "    # ECG pi input of shape (batch_size,  dim_x, dim_y)\n",
        "    pi_input = Input(shape=(dim_pi[0], dim_pi[1], dim_pi[2]), name='poincareImage_input') \n",
        "\n",
        "    ResNet = Conv2D(filters=64,kernel_size=15, padding = 'same')(pi_input) \n",
        "    ResNet = BatchNormalization()(ResNet)\n",
        "    ResNet = Activation('relu')(ResNet)\n",
        "    ResNet = MaxPooling2D(pool_size=2, strides = (2,2))(ResNet)\n",
        "    \n",
        "    # B.5 ResBs (x8) blocks\n",
        "    # The number of filters starts from 64 and doubles every two blocks\n",
        "    \n",
        "    # First two ResNet blocks are identity blocks \n",
        "    ResNet = ResBs_Identity(ResNet, 64)\n",
        "    ResNet = ResBs_Identity(ResNet, 64)\n",
        "\n",
        "    filters = 64\n",
        "    M= int((N -2 )/2)\n",
        "    for i in range(M): \n",
        "        filters = filters*2\n",
        "\n",
        "        # define N-th ResBs block\n",
        "        ResNet = ResBs_Conv(ResNet, filters)\n",
        "        ResNet = ResBs_Identity(ResNet, filters)\n",
        "    \n",
        "    ResNet = GlobalMaxPooling2D(name='gmp_layer')(ResNet)\n",
        "    ResNet = Flatten()(ResNet)\n",
        "\n",
        "    shared_path = Dense(classes, activation='sigmoid', name='sigmoid_classifier')(ResNet)\n",
        "   \n",
        "    # Finally the model is composed by connecting inputs to outputs: \n",
        "    model = Model(inputs=[pi_input],outputs=shared_path)\n",
        "\n",
        "    return model"
      ],
      "metadata": {
        "id": "DOd2-Ca-jGrh"
      },
      "execution_count": null,
      "outputs": []
    },
    {
      "cell_type": "code",
      "source": [
        "# Model compilation\n",
        "resnet_pi_model = resnet_pi(N=8, dim_pi=(39,39,1), classes=len(classes_name))\n",
        "\n",
        "learning_rate = 0.001\n",
        "resnet_pi_model.compile(\n",
        "    optimizer = keras.optimizers.Adam(),\n",
        "    loss = keras.losses.BinaryCrossentropy(),\n",
        "    metrics = ['accuracy', 'Precision', 'Recall']\n",
        ")"
      ],
      "metadata": {
        "id": "9M6vbz7ojfUW"
      },
      "execution_count": null,
      "outputs": []
    },
    {
      "cell_type": "code",
      "source": [
        "resnet_pi_model.summary()"
      ],
      "metadata": {
        "id": "bNBtErCvjiyk"
      },
      "execution_count": null,
      "outputs": []
    },
    {
      "cell_type": "code",
      "source": [
        "tf.keras.utils.plot_model(\n",
        "    resnet_pi_model,\n",
        "    to_file=\"resNet_model.png\",\n",
        "    show_shapes=False,\n",
        "    show_dtype=False,\n",
        "    show_layer_names=True,\n",
        "    rankdir=\"TB\",\n",
        "    expand_nested=False,\n",
        "    dpi=96,\n",
        "    layer_range=None,\n",
        ")"
      ],
      "metadata": {
        "id": "OPOIBHnjjuPV"
      },
      "execution_count": null,
      "outputs": []
    },
    {
      "cell_type": "markdown",
      "source": [
        "#####GANs"
      ],
      "metadata": {
        "id": "MXPh2KLvluTw"
      }
    },
    {
      "cell_type": "markdown",
      "source": [
        "Generative Adversarial Networks (GANs) for short, are a form of data generation that uses deep learning models. It uses unsupervised learning for discovering patterns on the input data to create new samples (generator) and an a supervised model to discriminate between synthetic new data and true data (discriminator). Both generative and discriminative models are trained in an zero-sum way (adversarial) until the disciminator is fooled 50\\% of the times."
      ],
      "metadata": {
        "id": "dW9U7Guokq2G"
      }
    },
    {
      "cell_type": "markdown",
      "source": [
        "![imagen.png](data:image/png;base64,iVBORw0KGgoAAAANSUhEUgAABUsAAAKACAYAAAClqSn2AAAgAElEQVR4nOzd+3db1YH//f4B88v8MutZs9b3Wf1pnu/qL88qI0UwhRAIuRA7SduBcCkXBwjQljZxwq1JGuQUSsvFacOlxKIQ5oGoQ2kpdnqbIpIyX+oM4xTMrTEqQwBFEKjsRE5O4tv+PD/YUmRZso+kc5Xfr7X2mrWSSNo6JwmTd/fe53MCAAAAAAAAAOhzfk8AAAAAAAAAAIKAWAoAAAAAAAAAIpYCAAAAAAAAgCRiKQAAAAAAAABIIpYCAAAAAAAAgCRiKQAAAAAAAABIIpYCAAAAAAAAgCRiKQAAAAAAAABIIpYCAAAAAAAAgCRiKQAAAAAAAABIIpYCAAAAAAAAgCRiKQAAAAAAAABIIpYCAAAAAAAAgCRiKQAAAAAAAABIIpYCAAAAAAAAgCRiKQAAAAAAAABIIpYCAAAAAAAAgCRiKQAAAAAAAABIIpYCAAAAAAAAgCRiKQAAAAAAAABIIpYCAAAAAAAAgCRiKQAAAAAAAABIIpYCAAAAAAAAgCRiKQAAAAAAAABIIpYCAAAAAAAAgCRiKQAAAAAAAABIIpYCAAAAAAAAgCRiKQAAAAAAAABIIpYCAAAAAAAAgCRiKQAAAAAAAABIIpYCAAAAAAAAgCRiKQAAAAAAAABIIpYCAAAAAAAAgCRiKQAAAAAAAABIIpYCAAAAAAAAgCRiKQAAAAAAAABIIpYCAAAAAAAAgCRiKQAAAAAAAABIIpYCAAAAAAAAgCRiKQAAAAAAAABIIpYCAAAAAAAAgCRiKQAAAAAAAABIIpYCAAAAAAAAgCRiKQAAAAAAAABIIpYCAAAAAAAAgCRiKQAAAAAAAABIIpYCAAAAAAAAgCRiKQAAaEL79+1XNpv1exrav2+/31MAAAAAUANiKQAAaCoP73xIsUhUB/v6fJtDPp/X9++5R7FI1Lc5AAAAAKgdsRQAADSFbDar66+7Tq0rWnyNpQMDA1p3/Q2KRaKBiqUDAwOer7ZlZS0AAADChlgKAABCb/++/Vq+dJk2trcrk8n4Fkv39vTo4ql5HOjtDUwsTe7Zo2VLlnp2TQrBuH3DBk8+DwAAAHAKsRQAAIRaYdt9oishy7JkjPE8lpZuu08mkzLGKJ1O+x5L8/m8tm7ZWlzl6sU1KQTjWCSqWzducv3zAAAAACcRSwEAQCiVbrs/0NsrY0xxeBlLC6soV7a0qr+/vzgHv2Ppwb4+XXbpGq1saS3Oxc1rUhpmk8mkerq7iaUAAAAIHWIpAAAInfJt96Wh1MtYWrrtPpfLTZuDn7H0qd27FYtEtaOz05PVtgMDA9PCrDGGWAoAAIBQIpYCAIBQqbTt3utYWmnbffnwI5Zms1m1b9igWCSqVCrlyTUphNmOeHza/SCWAgAAIIyIpQAAIBRm23bvZSyttu3e71jq9WrbfD5fDLM93d0zPo9YCgAAgDAilgIAgMCbKwR6FUtn23bvVyzN5/Oer7Y92Nen5UuWqu2aa6veD2IpAAAAwohYCgAAAs1OCPRiFeVc2+79iKV2V7k6eU0K96P0PFRiKQAAAJoFsRQAAARSLdvu3YyltQRJL2Npcs8e26tcnbgmtd4PYikAAADCiFgKAAACp9Zt927F0lq23XsVS/P5vLZu2Vr1rFA3rknpdbB7P4ilAAAACCNiKQAACJR6tt07HUvr2XbvRSw92Nenyy5do5UtrUqn065fk0auA7EUAAAAYUQsBQAAgdDItnsnY2m92+7djqVP7d5t66xQp67JwMBAMczWcx2IpQAAAAgjYikAAPBdo9vunYqljWy7dyuWZrNZtW/YoFgkqlQq5ck1Se7Zo1gkqo54vO7rQCwFAABAGBFLAQCAr5zYdt9oLHVi270bsdTJiGznmuTzea2/5Vs1n4dKLAUAAECzIJYCAABfOLntvpFY6tS2eydjaT6fdzwiz3VNDvb1afmSpWq75tqaz0MllgIAAKBZEEsBAIDnnN52X28sdXLbvVOx1K14O9s1afQ8VGIpAAAAmgWxFAAAeMqNbfe1xlI3tt07EUuTe/a4Fm8rXZPS1b2NnIdKLAUAAECzIJYCAABPuLntvpZY6tbKzUZiaT6f19YtW12Nt+XXxO3VvcRSAAAAhBGxFAAAuM7tMGc3lrq57b7eWHqwr0+XXbpGK1taHTkrdK5rUr6q1q3VvcRSAAAAhBGxFAAAuMqLbfdzxVIvtt3XE0sLZ4V2xOOuX5tYJKoXnv+VJ6tqiaUAAAAIK2IpAABwhZfb7meLpV5tu68llmazWbVv2KBYJOr4WaGzXZNYJOrJqlpiKQAAAMKKWAoAABzn9bb7arHUy233dmNp4dqsbWvz5NpYlqUdnZ2KRaLq6e727PsTSwEAABBGxFIAAOAoP7bdV4qlt2261dNt93PF0nw+7/m1SafTWtvWplWt7p6HSiwFAABAsyCWAgAAR/i57b50ZDIZXbxsuefb7meLpaVHAXh1bXq6uxWLRLWjs9OXaE0sBQAAQBgRSwEAQMP83nZfGAd6e7WqtdWXbffVYmlyzx5PjwLI5XLqiMc9PQ+VWAoAAIBmQSwFAAANCcK2e8uylOhK+Lrtvny89dZbWnbREk/n1N/fX4zFfkZrYikAAADCilgKAADqEqRt9xvb27Wq1d9t96UjnU7ra1dcqZUrWjw5K9SyLCWTSd+jNbEUAAAAYUcsBQAANWPb/eyRMBaJqiMe9yRaBjEWE0sBAAAQVsRSAABQE7bdV5+T12eFplKpwMViYikAAADCjFgKAABsYdt99VE4K3RtW5snK20ty9KOzs5AxWJiKQAAAJoBsRQAAMyJbffVh9dnhWYyGa1ta9Oq1lZPzkMllgIAAGA+IZYCAIBZse2+erQsrHD1aqWt1+ehEksBAAAw3xBLAQBARWy7rz68XuHqx3moxFIAAADMR8RSAAAwQ2HbvVdncAYlStqJll6fFer1eahODWIpAAAAwohYCgAApnlq927FIlHt6Oxk233J8OOsUK/PQ3VyEEsBAAAQRsRSAAAgScrn82rfsMH3rd5B3Hbv9VmhfpyH6sY1I5YCAAAgbIilAABAB/v62HZfYfhxVmjpNQjTtvvyQSwFAABAGBFLAQCY59h2X3l4fVaoH+ehujmIpQAAAAgjYikAAPMU2+6rD6/PCi09DzUo16DRQSwFAABAGBFLAQCYh9h2Xz1aen1WaCqV8vQ8VK8GsRQAAABhRCwFAGCeYdt95eF1uC09D7Wnu9v37+/0IJYCAAAgjIilAADME2y7rx4tvT4rNJ1Oe3oeqh+DWAoAAIAwIpYCADAPsO2+8ig9KzSdTnvymYXzUP1c2evFIJYCAAAgjIilAAA0ObbdV495Xp4VmsvlPD8P1e/rSywFAABA2BBLAQBoUmy7rzxKzwr16rqUrqht1m335YNYCgAAgDAilgIA0ITYdl959Pf3e3pWaPmK2mbedl8+iKUAAAAII2IpAABNhm33lUfhrNBEV8KT6xK0FbVeD2IpAAAAwohYCgBAk2Db/dzz8eqs0FQqVTwPNQgrav0YxFIAAACEEbEUAIAmwLb7uefj1bb7HZ2dikWi6unu9v37+zmIpQAAAAgjYikAACHHtvvZo6VX80mn08XzUNPptO/XwO9BLAUAAEAYEUsBAAgptt1Xn8/atjZP59PT3e17sJ5t+LHKl1gKAACAMCKWAgAQQmy7nz1adsTjnkTLXC6nje3tvgfruYYfEZtYCgAAgDAilgIAEDJsu688n4543NOzQvv7+z09D7XRcOnHZxJLAQAAEDbEUgAAQoJt97NHS69W2ZaG4kRXIpDb7svn2xGPe/65xFIAAACEEbEUAIAQYNt95ZFMJj1dZRu0UGxn9Pf3+7L6l1gKAACAMCKWAgAQcGy7nz1aHujt9eQzU6lUoEKx3ZHoSrANHwAAALCJWAoAQECx7b7yKF3d6tW2+x2dnZ6eh+rkWNXaqnQ67fnnEksBAAAQRsRSAAAC6GBfn5YvWaq2a65l2/3UKI2WXq1uTafTWtvW5ltwbHT09/crFon6siKZWAoAAIAwIpYCABAwbLufOTKZTDFaerW6tae72/f70OhIdCW0sb3dl88mlgIAACCMiKUAAAQE2+4rj1QqpVgkqo543JNomcvl1BGP+34fGh2WZWlVa6tvsZtYCgAAgDAilgIAEABsu68c+wrR0quzQvv7+7WqtVVr29p8vQ9O3ctYJOpb8CaWAgAAIIyIpQAA+Ixt9zNHOp32PFomk0nFIlEluhKh3XZfOgqh2a/vQiwFAABAGBFLAQDwCdvuK49CtPQqHpd+/wO9vb5/fydGLpdTLBL17bxSY4ilAAAACCdiKQAAPmDbfeXA53W0DNL3d3IUgrNXxxdUGsRSAAAAhBGxFAAAj7HtfuYojZZexGPLsrSjszMw39/p77aqtVWxSNTXEE8sBQAAQBgRSwEA8Ajb7iuHPa+jbSaT0dq2Nq1qbVU6nfb1+7sxCg92WtvW5us8iKUAAAAII2IpAAAeYNv9zFEaLb2Ktj3d3YpFouqIx5viIU6Vxsb29uKDqvycB7EUAAAAYUQsBQDAZWy7nzlSqZSn0dKyrOLT4f08x9PtkU6nFYtEFYtEfV81TCwFAABAGBFLAQBwURC23RtjArPt3hhTjLZeRctcLqdVra1a29bm66peL6/tqtZW3+dCLAUAAEAYEUsBAHBREFb4GWMCMw9jjDricU9XdxZWWzbrtvvCyOVyxVWlfm/BN4ZYCgAAgHAilgIA4KJYJBqIhwgFZR7G+BdL/f7ebo9kMhmYLfjGEEsBAAAQTsRSAABcFJRIGZR5GEMsdWNYlqVVra2B2YJvDLEUAAAA4UQsBQDARUGJlEGZhzHEUjdG4YFZQdmCbwyxFAAAAOFELAUAwEVBiZRBmYcxxFI3xtq2tkBtwTeGWAoAAIBwIpYCAOCioETKoMzDGGKp0+NAb28xlAZlC74xxFIAAACEE7EUAAAXBSVSBmUexhBLnR4b29sDtwXfGGIpAAAAwolYCgCAi4ISKYMyD2OIpW58t6BtwTeGWAoAAIBwIpYCAOCioETKoMzDGGKp09cyiFvwjSGWAgAAIJyIpQAAuCgokTIo8ygEPmJp4yOTyUxbVZpMJn2fU+kglgIAACCMiKUAALgoKJEyKPMwhljq1Eh0JabF0kwm4/ucSgexFAAAAGFELAUAwEVBiZRBmYcxxFInRi6XmxZK17a1+T6n8kEsBQAAQBgRSwEAcFFQImVQ5mEMsdSJUb6qNGhb8I0hlgIAACCciKUAALgoKJEyKPMwhlja6LAsa1ooDeIWfGOIpQAAAAgnYikAAC4KSqQMyjyMIZY2Onq6u6eF0o3t7b7Pqdo8iaUAAAAIG2IpAAAuCkqkDMo8jCGWNjIsy9Kq1tZpsTSVSvk+r0qDWAoAAIAwIpYCAOCioETKoMzDGGJpI6N8VWksElUul/N9XtXmSiwFAABA2BBLAQBwUVAiZVDmYQyxtN5RaVVpULfgG0MsBQAAQDgRSwEAcFFQImVQ5mEMsbTecaC3d8aq0gO9vb7Pq9oglgIAACCMiKUAALgoKJEyKPMwhlha71jb1jYjllqW5fu8qg1iKQAAAMKIWAoAgIuCEimDMg9jiKX1jEqrSnd0dvo+r9kGsRQAAABhRCwFAMBFQYmUQZmHMcTSekalVaVB3oJvDLEUAAAA4UQsBQDARUGJlEGZhzHE0lpHpVWlq1pbA70F3xhiKQAAAMKJWAoAgIuCEimDMg9jiKW1jo3t7TNiaaIr4fu85hrEUgAAAIQRsRQAABcFJVIGZR7GEEvrmXv56O/v931ucw1iKQAAAMKIWAoAgIuCEimDMg9jiKW1XqtKW/D9npedQSwFAABAGBFLAQBwUVAiZVDmUQiAxFL78w7jFnxjiKUAAAAIJ2IpAAAuCkqkDMo8jCGW1nKdwroF3xhiKQAAAMKJWAoAgIuCEimDMo9CBCSWzj5yuVzFULq2rc33udkdxFIAAACEEbEUAAAXBSVSBmUemUxGV15+BbF0jpHoSlSMpclk0ve52R3EUgAAAIQRsRQAABcFJVIGYR493d2KRaJavXIlsXSWUW1VaSwSVSaT8X1+tdxvYikAAADChlgKAICLghApjfE3lmYyGW1sby8GP2Lp7KPaqtIwbcE3hlgKAACAcCKWAgDgovkeSwurSUsHsbT6sCyr6qrSMG3BL9x7YikAAADChlgKAICL5mssLV9NSiy1HxibYQt+4bsQSwEAABA2xFIAAFw0H2PpbMGPWFp9WJalVa2tTbEFv/D7gFgKAACAsCGWAgDgovkUS2dbTUosnXsc6O1tmi34xhBLAQAAEE7EUgAAXDRfYulcq0mJpXOPtW1tTbMFv/B7glgKAACAsCGWAgDgomaPpel0etbIRyy1N/r7+6ter1Wtrb7Pr55BLAUAAEAYEUsBAHBRs8ZSy7KUTCZriqTE0uqjIx6ver0SXQnf51fPIJYCAAAgjIilAAC4qBljaX9/f9UHEdkZN1x3PbG0ZORyuVmvV39/v+9zrGcQSwEAABBGxFIAAFzUbLG03tWkhe3kB3p71RGPE0tLRqIr0XRb8I0hlgIAACCciKUAALiomWLpbFFvrrGxvb34kCKvY+njiURgY6llWbOu0g3rFnxjiKUAAAAIJ2IpAAAuapZYmkql6g6lia6ELMsqvpeXsbR0i7vf96Ce63qgt9f3OdY7iKUAAAAII2IpAAAuaoZYmslkGtp2X/5+XsbS0gcn+X0PKo21bW2zXsPSyBy2QSwFAABAGBFLAQBwUTPE0tme1D7btvtcLlf1/byIpYWzSoMaS/v7+2e9hh3xuO9zbGQQSwEAABBGxFIAAFwU9lh6oLe35lCaTCZnfU+vYunG9vZAx9IdnZ2zXsdUKuX7HBsZxFIAAACEEbEUAAAXhT2W1rKqdFVrq/r7+229p9uxtFLk9fselI7Ss1SrjcIDscI6iKUAAAAII2IpAAAuCnMstRP0SreMV9t2Xz68iKWVzgL1+x6UjmQyOev1XNvW5vscGx3EUgAAAIQRsRQAABeFOZbOdaZmYdQaPt2OpdWODvD7HpSOVa2ts17TRFfC9zk2OoilAAAACCNiKQAALgpzLO3p7p5z9WO9W/vdjKXVjg7w+x4Uhp1zYA/09vo+z0YHsRQAAABhRCwFAMBFbsbSTCajVCqlnu7uaaPS5zkdS3d0dsqyrLrm7WYsTafTVefsdzws/f5zxVK7RxoEeRBLAQAAEEbEUgAAXOR0LM1kMkp0Jebcxr2qtVWJrkQxutUzj0wmU/F9G1316GYsTXQlAh1L7ZwDu7G93fd5OjGIpQAAAAgjYimAeWRC1puP67t33qnNdY1deiE76vosTfYF7XT489x4z+ZmNDYyJuPAOzkVS9PpdE1Ppi8/U7TeeRzo7VVHPF4MnPWuJi0dbsVSy7JmvQ5+x8NCQJzrfiWTSd/n6dR3JZYCAAAgbIilAOaRceVf+oYW1hGbJsc63ffuKddnOfHuD/U1hz/PjfdsWmOH1f/v6/WVjj/qMwfezolYOteT0+2OIJydaox7sTSVSgU+lq5ta5sX55UaQywFAABAOBFLAcwj1VeW3nv3TbrxggWKRaI6+19v1aZtd/m2spRY6iPzlnq+eb5ikaj+Je5/LLUsSxvb2x0JpfMhls51rfz+3v39/bbuUzOcV2oMsRQAAADhRCwFAEmaeFVPX3a2o5GsbmOD+vi99/Tee59oaCzA79mMXPh90EiknO38TWLp9FHpfNWgxVI793NtW5vv83RqEEsBAAAQRsRSAJCCFUvhnwDFUrurEImlk8POUQV+fmfLsuZ8KFcsEtWOzk7f749To55Yms/ndbCvj9HgyOfzDvztBQAAMD8RSwFAqi2SFVZpHs7phDEaG+xT6pmEEj/9lX77zqc6UfZUIHMqq/de+51+80xCiV1dSuzq0uO/2K/e94+r4qb+aqtAp32uJI1o+PAf9dvC++75vV4+7OF7ljGnPtShV55TcleXErt+puf+9FcdHTOSRpT/+H29995hZfJ1LGsd+0wflF6/nz6vF159V5lTE3NMaFifvfPitNd1v/6RBscqPbbJaCyfUTbTo12XTv0+2Nyt1z/6qOTa1KfeSGnnbEtiaW3Xy8/vfKC319Y9cuN4Ar9GPbH0YF+f47/v5+M42NdX/19aAAAA8xyxFACkmmJp8fzPL31Pz7yd1A++ek7JP1KX6dpfH5l8irr5VO++8B19++Kzq/yD9lwt3vCkfnPkdOX3Lztf9Mzn3q2ff9Sv7u2rdeGM97xIK7f+Ur35cdff84yTyv7xrgrfM6Zzr/6hHn/nZf1/l52tWORctTz1rqq9y0xjGj70uO792rmVr9+i67X+l4c0OCNkjuvUB7/ST799kc6Z8bqYzr3ye/rxq59oZNprTuivu79S+XO+dLeeOz5HmJ1FLFJ7pLQb1modzRpL7WzBj0X8jaU7OjtDdY+cGMRS/waxFAAAoH7EUgCQ6oulZ1+utVefP/0fqYvv1XOD45L5VO88+TVdFIkqFrlIKzft0H0/fVqJXV362a4O3XPj4qmQF9N53/ql3hit8P7Vwmbxc8/V4pu2a9vO3Xrm0Tu1+fJCVIxpYcd+fVxpzg6+56ST+ji1UZctmPw15165RXcl9uip3Q/pybsv16oFUcUWrVDr+QtUWyw1GvugS7dfsGDyGq39vn7402eU2NWlZ/7tAf3o5sL1a9G1z79fEj4ndGrgR1pfeFhXy7e16SeTr3s2sVVbCt9nwVXa8PJRnUmgp/Xx/vsrP+hryy/Ua9W/tLSeAOb0WaVBC3FOx9JUKmXr+/v1fS3Lsn2PmuXhTsYQS/0cxFIAAID6EUsBQKovlk5Ft/Xdhya3m499qoG+DzUso9GB+7R2QVSxyApdufvNmasfzVG98chXJoPfgq/rvoGTFd6/StgsfO7vD2u49H3H3tFv77xw8ufP3qKnjo65+p6SZLJP6I4LFigWWajl97ykv07b4n5aQ6/dVwyXtcXSQb3xSItikajObntafaNlF7B0Xl/u0ssjUz9vpbTrknMUi8R03i1P64+DZQcIjA1o//dWTF73C7+rp7JlPx+QM0s74vGqEaQQGgtjR2enrbMwmzmWzna9ghBLa1kp7Pe9cXIQS4mlAAAAYUQsBQCpzlhafbXl+89+bXI7e2Gl6azv06Kv7/tbhR+vFjarfa7RSP9d+qpH7ykdV/rJSybDY9XvWfJraoqlH+nlbYtmuR8Tsl57VLdv+Z7ueey36h0alzSiz35/8+Rq3rIAPY31H3p4ZUyxyEK1PP62rGlvG8xYuqq1VT3d3bIsa9YgN9e5nc0YS2tZtenX97W7Bb8jHvf93jg56oml2Wy2eLYzw964+cabiKUAAAAOIpYCgFRnLC05n7SiER0/mq/+cKSju3X72fWEzVk+18P31MRB/fu1/6JYJKZF9/+Xjlf5mubDh/X1BbXG0qP67/uWTv7D/8L1uuvFd2w80Cmt321cqFgkqrNv/oX+UvXGlLz3FU/rYOnbBiSW9vf3TwtotWzN7ununlextPRaBTGW1hJziaWoR2JXF7EUAADAQcRSAJDqjKVX667+YVtvb04d1ZEP39DrL/9av//3h5X44be06ctfmvqHba1hc5bPPf5zbf+SN+955sfniMYj+9W1KlZjLDUafe9hbShu4Y8qtqBVX72jU/f/4mX1vn98ZoQufk5U51zfqYd37664CuvJJx7VT29fMvme5Q9vCkgsbXSk0+mKW/ObMZYmk8lAx9JatuA7eTRBEAax1BvEUgAAAGcRSwFAqjOWTg+PM4wd1uvP3qVtNyyt8IT5qGILL9CFC+oJm7N8bt2xtJH3LN+eX37BCte2llgqSWMaPvRTPdB2QYWn2p+rC6/ZpvjP+/TXworT4jxrGAs26JEPzzweqlliqTGTT4gvD6bNGEvtnlfqVyy1uwWfWIp6EUsBAACcRSwFAMnxWGqGX9bT3zi/5B+vF2rZ19br6999UPc92a3u19/X4NGf+RA2nXvPM9vr3YqlhQ8a1mfv/Ebdj96p784IzzGdd8se9Q6Pl8zzHC2+I6GuroSN8/5+PXXeaflcwx9LjZkMps0eS2uJ435811rml0qlfL83Tg5iqTeIpQAAAM4ilgKA5HAs/UxvPLJq6kn3V2l999sVz9us/wFPwYilOvlrPbh0wdwRtPj6OmPpNEZj+QG9mdqln6xfOrXi9AJd+vPDMsV7OPsZqrNqslhqjFEqlWraWJpOp21FyBvXrfMlltZynmqQ7o9Tg1jqDWIpAACAs4ilACA5G0uLETGqc279vT6oeJhnI0+uD0gstfVApQlZfZv1lUhtsdQM/0UHX/q5nvvJj/XUm/nKv6j4VPvJe3bMHNbLdy2enE/b0+obrXaKal7vv/i4un76K73wn4eUGSv5dU0YSwtxMgjzKJ2PE7G0NATPNja2t/sSS2s5TzVI98epQSz1BrEUAADAWcRSAJCcjaXFuDjLCseSsBfaWKpRDb50i5ZEoootuFq39f5t5kOeRg/qF98sHEdQw8rSYnBeqBWPvq6KubT4QKfCdR4/M5/Iaq37j6xmrueVNPisti9eoFgkpvM2/0Eflk66SWNpLpcLxDwKw6lYmuhKBDqWFj6XWAo3EUsBAACcRSwFAMnZWGre0C/WTT3pfnGHnjpyevpPn3pX/7XrSl1U/Ift9IgYnlgqaewNdbcvmvweF35Dm7tf06H82OQ5o3/5lfbcvrzk4Uy1bMMvPcrgBm3u/UQjpT9t/qb/efaGqVB7ne56fSqnlsbZC9t1z5+OaLgYQ43GBv+PXti6Yup9S15X9JFe3jb5fc6+7CG9cNTS6NCQTlRbpGpDUCJYUOZhjHOx1G6M3PnjnZ7H0kKgrmUc6O31/d44OYil3iCWAgAAOItYCgCSw2eWjmqo90iBtOUAACAASURBVE5dtmDqH66LrtUN8Xu1+c479YO71un65WcrFrlIq+/9ke7917MVi5yjJT/plzXH+wcylqrSw6xKxwpdueMebfpSVLHIMl376yMzV59WMf19z9WFV2zS+o7tuve7N+mbq7905v13v6nB0iB65Fl1fu3cstd16Pu3rdGl508ejxBbcLlu+OW7Gp75ZZV+8pKSwDvHtbEhKJEyKPMwxrlYajdCPp5IeB5LD/T21hxLnXroVVAGsdQbxFIAAABnEUsBQHI4lkrSSX366o+1/fJzy/4Re64W3/SAHnklo5Ma1BuPtEytYuzSHy0z6/sHNZZKksYO6/Vn79LWG1dq5YKoYgtatHrTTiX+64hOHbPx+mqGX9MfHlmnawqRszhiOvfK7brvD+9pqOLrXte+rlumwnTp6y7U8vU7lfjz0ekrVUuY4Vf0yy2rdGHxNZfo1t5jtc27RFAiZVDmYYwzsTSTyQQ6ltZ6XmksElWiK+H7vXFyEEu9QSwFAABwFrEUAFw1ouGP39SfUy8q9ee03sudsr2yslmYDx/W1xc0GB3HBnX0wzf059SLevFPb+vQJ8Matfm6T/+nT71/qPX6j+tU7rDee+89vd/gPQtKpAzKPIxxJpbW8qR5P2JpreeVxiJRrW1r8/3eODmIpd4glgIAADiLWAoAqNOnOvjYRt0a/5F+/PuBkq3wpSZ0svdWLY9EFVuwQY98WG09Z/MKSqQMyjyMcSaW9nR3BzqW1hpKCyOXy/l+f5waxFJvEEsBAACcRSwFANTJ0kfPXjF5vufie/XcYIVHN5U8cOnstqfVNzrf1tUSSysNJ2JpoisR2FiaTqfrjqXNtBWfWOoNYikAAICziKUAgLqZ7BO644IFKp4huvcVvfing/rzn17UK7/bqR/dvHjqyfNt2vzfg/PuCAKJWFppOBFLO+LxwMbSVCpVdyyNRaLKZDK+3yMnBrHUG8RSAAAAZxFLAQANGNPwWw9r65fPqRp+zm65U/e9Wv2BSs0uCJGysGXd73kUhhOxdG1bW2BjaT0Pdyoda9vammI7PrHUG8RSAAAAZxFLAQANM6c+0NuphB7d/h3ds+Ub+vrGDm3+3k+U+O3res+a8Ht6vvI7Uh7o7S0GlGaKpbXER69jaS2rXquNVa2tOtDbK8uyfL9f9Q5iqTeIpQAAAM4ilgIA4CI/I2X52ZnNEkstywp0LN3Y3t5wLC0dTsRlPwax1BvEUgAAAGcRSwEAcJFfkTKTyWhVa2tTxtJaH6DkdSx1MpSWjmQy6fu9q2UQS71BLAUAAHAWsRQAABf5ESkty6q4upFY6s33cyuWxiLRUJ1lSiz1BrEUAADAWcRSAABc5EekLD8zs/AwpGaJpbU+bd7LWJrJZFyNpQd6e32/f3YHsdQbxFIAAABnEUsBAHCR15Gyp7t7WjRZ1dqqHZ2dTRVLy79jkGJprateax1hOruUWOoNYikAAICziKUAALjIy0jZ398/I5qkUqni2aXzNZb+4N4fEEt9GMRSbxBLAQAAnEUsBQDARV5FSsuyZjzQKZlMTtuS3yyxNNGVqCkwFs5v9eK7uR1L2YaPcsRSAAAAZxFLAQBwkVeRsvyc0o3t7Uomk9N+rFliafl3nU+xNJPJ+H7/7A5iqTeIpQAAAM4ilgIA4CIvImX5A49WtbZW3KpOLHX/u+VyOddC6arWVt/vXS2DWOoNYikAAICziKUAALjI7UiZy+VmbL8vxEFi6eS4/LLLPIulxhjXYmmiK+H7vatlEEu9QSwFAABwFrEUAAAXuR0pawmH8zWWFoZX3688Xjs1wrQF3xhiqVeIpQAAAM4ilgIA4CI3I2V/f7+tyFZYadossbTe2Ojl93M6lHbE477ft1oHsdQbxFIAAABnEUsBAHCRm5FybVubrVBqWRax1MNYWum82EZHUO5drdeBWOo+YikAAICziKUAALjIrdB1oLfXdigtBMagBLdmj6XpdHreryo1hljqFWIpAACAs4ilAAC4yK1IWe0hTpVCaSEwEku9+45OnVu6qrVVuVzO93tWzyCWeoNYCgAA4CxiKQAALnIjUuZyuZpCaSEwEku9DYVOxNJUKuX7/WrkGhBL3UcsBQAAcBaxFAAAF7kRKVOpVNW4tqOzc0YoLQRGYql33zGXyzW8ujTRlfD9XjUyiKXeIJYCAAA4i1gKAICL3IiU1VYtJpPJWQMjsdT7WFjvXCutDg7bIJZ6g1gKAADgLGIpAAAu8iKWrmptVX9//5yBsRli6VxHEAQplhoz99myzRpKjSGWeoVYCgAA4CxiKQAALnIjUvb39xcjaU93t62w1iyxtJEnzfvxXWvdjt8RjzdFKDWGWOoVYikAAICziKUAALgoKJEyKPMwZn7FUmOMMpmMrWA62zEKYRzEUm8QSwEAAJxFLAUAwEVBiZRBmYcx8y+WGmNkWZY64vGqq0mDcm+cHMRSbxBLAQAAnEUsBQDARUGJlEGZhzHzM5YWxoHeXnXE4+qIx5VMJgNzT9wYxFJvEEsBAACcRSwFAMBFQYmUQZmHMd7H0hvXrQtMLJ1Pg1jqDWIpAACAs4ilAAC4KCiRMijzMMb7WPqL554jlvowiKXeIJYCAAA4i1gKAICLghIpgzIPY7yNpWvb2oqv8ft7z7dBLPUGsRQAAMBZxFIAAFwUlEgZlHkY420sTafTxFKfBrHUG8RSAAAAZxFLAQBwUVAiZVDmYYx3sTSZTE57jd/fe74NYqk3iKUAAADOIpYCAOCioETKoMzDGG9i6cb2dlmWNe01fn/v+TaIpd4glgIAADiLWAoAgIuCEimDMg9j3I+la9vaiqG09DV+f+/5Noil3iCWAgAAOItYCgCAi4ISKYMyD2PcjaWlK0rLX+P3955vg1jqDWIpAACAs4ilAAC4KCiRMijzMKaxWGpZlla1tlYMpTs6O2eEUmOIpX4NYqk3iKUAAADOIpYCAOCioETKoMzDmMZiqTFGB3p7pwXTjnh81u9GLPVnEEu9QSwFAABwFrEUAAAXBSVSBmUexjQeS2sdxFJ/BrHUG8RSAAAAZxFLAQBwUVAiZVDmYQyxdL4MYqk3iKUAAADOIpYCAOCioETKoMzDGGLpfBj9/f1a2dKqrVu2+v1HsOkRSwEAAJxFLAUAwEVBiZRBmYcxxNJmH8lkUrFIVN+/5x7l83m//wg2PWIpAACAs4ilAAC4KCiRMijzMIZY2qwjk8loY3u7Ll66THt7evz+ozdvEEsBAACcRSwFAMBFQYmUQZmHMcTSZhwHenvVuqJF1193nbLZrN9/7OYVYikAAICziKUAALgoKJEyKPMwhljaTMOyLO3o7FQsEtXDOx/y+4/bvEQsBQAAcBaxFAAAFwUlUgZlHsYQS5tlZDIZtV1zrZYvWar9+/b7/Udt3iKWAgAAOItYCgCAi4ISKYMyD2OIpc0wUqmUYpGo2jds4CFOPiOWAgAAOItYCgCAi4ISKYMyD2OIpWEelmWpIx5XLBLVU7t3+/3HCyKWAgAAOI1YCgCAi4ISKYMyD2OIpWEd6XRaK1taddmlazQwMOD3Hy1MIZYCAAA4i1gKAICLghIpgzIPY4ilYRzJZFKxSFRbt2xl233AEEsBAACcRSwFAMBFQYmUQZmHMcTSMI1cLqeN7e26eOky7e3p8fuPEyoglgIAADiLWAoAgIuCEimDMg9jiKVhGQd6e9W6okXrrr+BbfcBRiy153T3XlmPJRgMBiPQ49QzSY32HdRo30GNH+K/vYBfiKUAALgoKJEyKPMwhlga9GFZlhJdCcUiUT288yG23QccsdSe4+tu1lDLah1fdzODwWAEdgwuXKzcWbFpo/B3l/VYQiP79svw32XAdcRSAABcFJRIGZR5GEMsDfLIZDJa29am5UuXaf++/X7/8YENxFJ7CqEBAMJi/NCARvsOynosoRPbtuvY5VdNC6gn7+/UCP+tBlxBLAUAwEVBiZRBmYcxxNKgjlQqpVgkqvYNG5TNZv3+owObiKX2EEsBNIvRvoM6eX9nMZ4OLlysE9u2a7TvoN9TA5oGsRQAABcFJVIGZR7GEEuDNizL0o7OTsUiUT21e7fff2RQI2KpPcRSAM1o4khWp55JFsPpUMtqnXomyVZ9oEHEUgAAXBSUSBmUeRhDLA3SSKfTWtnSqssuXUNgCyliqT3EUgDNbvzQgE5s267BhYs1uHCxrMcSRFOgTsRSAABcFJRIGZR5GEMsDcro6e5WLBLV1i1beYhTiBFL7SGWApgvTD4v67EE0RRoALEUAAAXBSVSBmUexhBL/R65XE4b29t18dJlSu7Z4/cfETSIWGoPsRTAfFMeTU937/V7SkBoEEsBAHBRUCJlUOZhDLHUz9Hf36+VLa1ad/0NGhgY8PuPBxxALLWHWApgvjL5vE5s267cWTEdX3ezJo7wEEdgLsRSAABcFJRIGZR5GEMs9WNYlqVEV0KxSFTfv+cett03EWKpPcRSAPPdaN9BDbWs1uDCxTr1TNLv6QCBRiwFAMBFQYmUQZmHMcRSr0cmk9HG9nYtX7pM+/ft9/uPBBxGLLWHWAoAk6tMT97fqdxZMQ1vvI2zTIEqiKUAALgoKJEyKPMwhljq5UilUmpd0aLrr7tO2Szb7poRsdQeYikAnDHad1CDCxdrqGW1xg9xLA9QjlgKAICLghIpgzIPY4ilXgzLsrSjs1OxSFRP7d7t9x8DuIhYag+xFACmM/m8jl1+lQYXLtYIO0+AaYilAAC4KCiRMijzMIZY6sX3bbvmWi1fspRoNg8QS+0hlgLATKUPfzrdvdfv6QCBQSwFAMBFQYmUQZmHMcRSN0dPd7dikai2btnKQ5zmCWKpPcRSAKiOYApMRywFAMBFQYmUQZmHMcRSN0Yul1NHPK5YJKrknj1+/7aHh4il9hBLAWB2p7v3EkyBKcRSAABcFJRIGZR5GEMsdXr09/drZUur1l1/gwYGeEjDfEMstYdYCgBzI5gCk4ilAAC4KCiRMijzMIZY6tSwLEvJZFKxSFTfv+cett3PU8RSe4ilaIj5q07v2KLh2zdXH9sf1cknfq7Tr7yriVMTs79f9gWduH2zhm/v0unsqDffoV5+zDWw18dII2N+T8J11mMJginmPWIpAAAuCkqkDMo8jCGWOjEymYw2trfr4qXLtLenx+/f5vARsdQeYikaMvGqTqz5F+XOitkbK9o1/Ku3NDFmKr/fwH0aOium3Fk36sTAKW+/S638mGsQr8/YYY38bIOG4n/UHCm8KRTOMB0/xI4VzE/EUgAAXBSUSBmUeRhDLG10HOjtVeuKFl1/3XXKZrN+/xaHz4il9hBL0ZDSWPrV25T/7l0VVpfeoGOXXFgSTc/X0N37NF4pmAYxBlZDLJXM27K+sWjyvsZfnhexVJr8e3Nw4WJNHOH/18D8QywFAMBFQYmUQZmHMcTSeodlWdrR2alYJKqHdz7k929tBASx1B5iKRpSGktnjWUjmjjco5Nfv2AqmF6goUde00R5Lx0b0vhf39P4Xz+RCfqubj/mGrTrY/v+NxeTz2uoZbWOXX6V31MBPEcsBQDARUGJlEGZhzHE0npGJpNR2zXXavmSpYQwTEMstYdYiobUGsuGUxq+6tzJXx/5hk4MnPRilnDLPI2lkjR+aEC5s2I6eX+n31MBPEUsBQDARUGJlEGZhzHE0lpHT3e3YpGo2jds4CFOmIFYag+xFA2pOZZNyLzeoaFITLmzztHg/a9q2uLSuVZOjn2msdd+p9NPPy7rsYSsx5/X6f+y8eAoSTLDGn9rv04/98SZ177+UeXzUwvzOJyb/G/O4MHJz3z8BY2886mMmWWu014rSac18W5qas5P6FTPf2lssOzhTNZfNbL330rmlZ16bZV5zfmZI5p4/+Uz1+mZ/9DI+8fnvkanstOv72MJWb/Yr9EZrzUy+YzGM3s1fMnU/f9Oj8Y++qhkDuUvGdbE2y9Ov3fVrv+M71TlHvjs1DNJ5c6KabTvoN9TATxDLAUAwEVBiZRBmYcxxFK7w7IsdcTjikWiSu7Z4/dvZQQUsdQeYikaUs/KQvOGTt4wtbp0yY80crKkelU9k3NM5tBPlb9yYeUHRy28QflfHpq5rb/w2r8mdeKmJRVee45yX7tP1l/KYmBhHufcrVNv/0z5L3+p5DXLdfzXR2SqzbX42nt06qODOrl5tQbLP3fRNzX8xyMyOqnx/dt07Pyzy+ZV5VxXW5/ZL6vjKzM/86wlGtryvEbz4xXuyWcafWGzji2v9rCuhRpcv1unj5yeesEJjT351cq/9px7dPp46e+E05p480kNV7v+V3xPJ185ohm3zsY9CILj627WUMtqGf5HW8wTxFIAAFwUlEgZlHkYQyy1M/r7+7WypVWXXbpGAwM8iRbVEUvtIZaiIXVtwx7S6CMrp7bit+vkhyNnfqpiDDQyHyR0/PyzJ1ejtt2rEz/dM7k68d8eLIlwK3X8+cNl0W1ME289eCZGrliv/KNTr318i44VAtyiO3TyPWvmPBZcoWNXLZoe+C68V6cHx+cOl8XXLtHQxh068fi/6WTnOg0tnJrLott14slva+ifz1ZudbvyP3pKVtc25a9efCaYPvL69O9j+zMXavDG72l451OyHvmOjl+2sBgnB8ufWm8+1egTV0/F1cJcn5laWbpd+XVLzrz2ll9qbFSSTmt83wMavvtmDRWubeEBX5t/qVGrMOsRjb9829RK4pLrv6tr+rwiVyufylT+rrPdgwCYOJLV4MLF/D2KeYNYCgCAi4ISKYMyD2OIpXONZDKpWCSq79xxJ9vuMSdiqT3EUjSkrlg6qom9N0yFrzUa7j125qcqxsCSuHrt0xodLVuDOPaOTt1x0eTPr+7SyEjJz1svafhfp4Lo1V0aKd/+XnqG6rd6NF54aXEeUyHvhYHJ7eJjn2ms78PJqDdXuKwYAUuPIaiygnTsDVkbLqz8fex+5u8Py5ReptJrtGCrTh0t7OE3MgP3T82nRceefHPm6lxzVKMPf7XyObNz3f/sk2ci9zefnnn9T72lU9tbp977Zp14a7j6d6p0DwLCeiyh3FkxTRzJ+j0VwHXEUgAAXBSUSBmUeRhDLK02MpmMNra36+Kly7S3p8fv37oICWKpPcRSNKSuWDou89ItxdWg+Zf+duanKsbAjE5tu3CWz5iQee0nGt78PZ34ye80OlRYcTiqiZe+PbliMnK9hl+v9D+ylf6aklWuxXlUWIk561xtvLb0mi3aplPZsoBYGpOnhc0GPlNGpj8+tXq09Jqf1NizU6tKZ1utWXz/svs16/0f0mjXVGRdtFXWB6dUUf7XGm45Z+bc7dyDABlqWa3j6272exqA64ilAAC4KCiRMijzMIZYWmkc6O1V64oWrbv+BrbdoybEUnuIpWiIJ7H0qEbuWzYV3TZo+A/v2HugU+nryldolhpOa+ztDzWRrxQlZzkbc85wWeW1Ji2rfWpb+U2/1MznG5Ven2rvXeNnStLRp3R8QYVrLkkakflklh0b1V472/2f+LNOXjO1anfT78+s2p2hZOXwhffrdH7C/ncKkJF9+8XDnjAfEEsBAHBRUCJlUOZhDLG0dFiWpURXQrFIVA/vfMjv364IIWKpPcRSNKThbfh2YqmRee+R6Q9BiqzS0O07dPIXL1d4UnsjcyufxzUafn14jl9TLVyWHTFQNNdK2UZi6SzzPf6c8udUi6UlTh3V+AdvaPTl3+j0zx7RyR+u17HV51W+X7Nd4+LnLdTQU+9W/7xq39fOdwqY4+tuZnUpmh6xFAAAFwUlUgZlHsTSMyOTyajtmmu1fOky7d+33+/fqggpYqk9xFI0pK4gWfokdZsxUGMyh57Q8LWLzwTT0ie1X32XTvy8T+NWyQyKc/sXDT76Rm1nXFadh41fM+dr3Yyls8x3tlg6dlgjz3bo+PXLp7bql43zLtRgpMZYOutK1lKm5IiASrF0lu8UMKN9B1ldiqZHLAUAwEVBiZRBmYcxRps2bpz3sTSVSikWiap9wwYe4oSGEEvtIZaiIfXE0tJt6Et+pJGTNh5gVHztsMbf+a2sRzdXCHvnaPCbezQ6PF42N2KppOqxdPg/dfLrF5Rcx4s0eMUG5bd26sSTPTr9+vuaOPrvlV9ra2XpXNvoJ2R6b2+KWCpJxy6/Sie2bfd7GoBriKUAALgoKJEyKPNIJpNavXLlvI2llmWpIx5XLBLVU7t3+/3bE02AWGoPsRQNqSeWHkno2IIqD+6pKZAZmfyARlNdOvHt5VOh70Ide/bw1E+/oZM3nGtjbiMymZxMaU2dN7H0M40+/GWdeeL825XPg63nAU+2t+GXHMtQ8SFb4Yqlp7v3KndWTBNHsn5PBXAFsRQAABf5HSkty9KOzk7f55HL5YpPer/xhhvmZSxNp9Na2dKqyy5dw0Oc4BhiqT3EUjSk1lhqMhr54dTDfCo9ob5SIBs+pNGXntOpR3fq1JtVdhxYf5h6onrpPGw+4Km4Xfxflf/PXPV5lGuGWHryNxq+6Ow5HsJkSrbJ1xBLS2P1t3pmecBTyX0qXWkc0lgqSYMLF/P3KpoWsRQAABf5GSmLZ2IuWerrPPr7+7WypbX4pPdbN26ad7E0mUwqFolq65atbLuHo4il9jgdS9PvphW7YPmMa+/kOHfRUu3t6XFszmhALbHU/E1jPRs0FJlaVbrptzMDWqVAVgx652vokdcrb6cf2a8TK8+ZfN/7X536NaXbu7+q/EufVnjhaY3vXTf5axbcIevIaPV5lGuGWFr8sdLrVsYc1ultS2p/wJMsjT/7takwvlbD/z1Y6c1lPkjo+Plnz5xDiGPpyfs7NdSy2u9pAK4glgIA4CK/ImX5mZh+zaMQCb9/zz3FSDifYmnpitrknj0+/25EMyKW2uN0LD3Y16dYJKoF5yzU//Odp/SPj/3Z8fGF9TsVi0QJpkFQGsu+8aRO/59XNPKHF6ePl57Tqa5tyl9d8nCmSzp1+tOxme9XMZCVbhVfp+HeT6ZHPfM3jT07FTzLV6uOvSFrw1SYvOSHsg6VBrvTmnjtfh07fyrE3tericIbz5dYWrr688IOnTpyevprTr2r049dVXI2bPmW+pLvsuZhnT5qyQwNyRSuY/53Gv7XL01d/3tkvZmb/j0/eF4nbpo6L3XRVlkf1PidAmr80IByZ8U0fojdMmg+xFIAAFzkdaQs3XZfeiam1/MojYTl/9CfL7G0fEUt4AZiqT1uxdIvrrlFC85ZqP97xx/1ueeHHB//tO1nk6vS43c7NnfUoTSW2hoLNbjhaY0cHan8ftUC2bSHEC3U4GW3Kh//noa33qxjq86b+vEWHXvyzTPBs+JrL9Lg9d/V8He/o/w3W6YiYNmDoWabh525himWalQTf/rO1GrfmHIL23T8rh9o+PbNGt52o4aW/otyZy3R0Pd/pPxXKz0s67jGnlxTdo9L52Ck7L8r/+UvzXL9Y8ot2qSTbx2zd31DYqhltU7e3+n3NADHEUsBAHCRl5GydNt9eSzxch5zRUKvY+mvf/1rT2OpZVlKdCUUi0T18M6H2HYPVxFL7XErlv7dsx+7Hkw//8CLBFO/2YmlC9doaN1mDXcmdfpgVma2x9LPFsiGX9OpR27U0MKzyz7jHOWu+J5O/OG96k+8H+7X6a5vzHztwrXKJ17RmFWWLOdNLJUkS+Ov7tTxyxbODNs3PqiTrxyR0ZBGH5k6a3ZNl0askiud/5NObl5dsvp0jYZ7S8OnkRn8k6z72ipc/6/p+H0vaORo2YpWu98pwNiKj2ZFLAUAwEVeRcrybfd+zaPStvtyXsbSwny8iqWZTEYb29u1fOky7d+33+3fXgCx1Ca3Yunnnh/yJJj+42N/1oJFK3TJlWv5H2Dmi7EhTXzwhkZTL2rkT29r7JNh+689dVTjh3o18ocDGn3vU5kKJwHMXyOa+Pityet6MK3xXC2Bclwmd1jjf31v9tcVr/9LGnnzQ02cmvORYKE12ndQubNimjiS9XsqgKOIpQAAuMjtSFlt273X85ht2305L2JpIVpevHSZHn7oIU9iaWmwzmb5RwO8QSy1x81Y6lUw/Ycn/qIFi1boK1dcx98xAAJjcOFine7e6/c0AEcRSwEAcJGbkXK2bfdezqPWszndjqUHenvVuqJF1193nQYGBopRw63PsxusATcQS+1xO5Z6FUwLn3HeoiWchQwgEIY33qYT27b7PQ3AUcRSAABc5FaknGvbvVfzsLPtvpxbsbQ0Wj6886Hi57kZS9PptFa2tGqZjWANuIFYao8XsdTLYPr/XrtZ5y5aynEfAHxnPZbg3FI0HWIpAAAucjpS1ruK0el51LLtvpwbsbR0lW15PHArlvZ0d08+dGXLVs4QhG+IpfZ4FUu9Cqafe35IX1i/U7FItOa/gwHASYVzS4FmQiwFAMBFTkbKWrbduzmPWrfdl3M6lhaiZbVVtk7H0kIojkWiSu7ZU/P3B5xELLXHy1jqZTD9p20/UywS1Q8e/LFj3w0AamHyeeXOimm076DfUwEcQywFAMBFTkXKWrfduzWPerbdl3MqllqWpY54XLFIVIldXVU/z8lY2mgoBpxGLLXH61jqZTD9/AMvTq5yj9/t2PcDgFrkzorxkCc0FWIpAAAuajRSOvXwoEbn0ci2+3JOxNJCtLzs0jVzRksnYqllWY6EYsBpxFJ7/IilXgbTf3zsz1qwaIUuuXItfz8B8JzTf8cCfiOWAgDgokYiZSPb7p2ch9OrKRuNpYVoafes0EZjaSaT0cb2di1fuoyHqSBwiKX2+BVLvQym//DEX7Rg0Qp95YrrlM1mHfuuADCX4+tu1olt2/2eBuAYYikAAC6qN1I2uu3eqXm4sZqy3lhaiJa1rm5tJJamUim1rmjR9dcRHxBMxFJ7/IylXgbTv3/6fX1xzS06b9ESjgoB4BnrsYSOrODi4gAAIABJREFUr7vZ72kAjiGWAgDgolojpVPb7hudh5Pb7svVE0sP9PaqdUVLXatb64mlbt0HwGnEUnv8jqXlwfT/6nrdtWBa+JxzFy1lNTwATxBL0WyIpQAAuKiWSOnktvtG5uH2Q4xqiaWl0fLhnQ/V9Xm1xtJ0Ou3afQCcRiy1JwixtDRkRpZeor9/5n3Xgunnnh/SF9bvVCwSdfx/8AKAcsRSNBtiKQAALrIbKZ3edl/vPLx4iJHdWFqMxw2eFVpLLO3p7lYsEtX6W77FQ1IQCsRSe4ISS70Opv/7jicUi0T1gwd/7Nh3B4ByxFI0G2IpAAAumitSerXde655uLntvpydWOpkPLYTSy3LUkc8rlgkquSePQ59U8B9xFJ7ghRLvQ6mn3/gxcmH4sXvduz7A0ApYimaDbEUAAAXzRYp3dx2X8s83N52X262WFoaLZ2Kx3PF0sL3v+zSNTwQBaFDLLUnaLF0WjC96CuuB9P/tfMVxS64WJdcuZZV8wAcRyxFsyGWAgDgomqR0u1t93bn4cW2+3LVYmk6nXYlWs4WS/34/oCTiKX2BDGWFoPpJd9Q9IIW14PpPzzxFy1YtEKXXLlW2WzWsWsBAMRSNBtiKQAALiqPlH49Zb18Hl5uuy9XKZYWouXWLVsdj5aVYmkmk/Ht+wNOIpbaE9RY6nUw/fun39cX19yi8xYtYSU9AMcQS9FsiKUAALioNFJ6ue1+tnl4ve2+XGks9SLalsfSA729al3Rouuvu47VVQg9Yqk9QY6lXgfTwvb/cxd5/98iAM2JWIpmQywFAMBFhUjp9bb7avMIwrbzQiwtREu3o20hapSu6n1450OufR7gJWKpPUGPpV4H0889P6QvrN+pWCTK6noADSOWotkQSwEAcFEsEtXG9nbPt91Xmseq1tZAbDu/deMmrWpt9SxaFqJGYVXv/n37Xf9MwCvEUnvCEEs/9/zkuaLRRRd7Fkz/9x1PKBaJ6qFdTzh2bQDMP8RSNBtiKQAALopFor5su680D7+23Zdr37BBy5cu8yxaFqKGX6t6ATcRS+0JSyz1I5h+/oEXJ8+Mjt/t2PUBML8QS9FsiKUAALjotk23BiLQdT7wYCDmIU3GHS/nMjAwoMSuLs8+D/ASsdSeMMVSP4Lp/9r5imIXXKyrb/x2YP5bASA8iKVoNsRSAAAAIKSIpfaELZb6EUz/4Ym/aMGiFbrkyrUEUwA1IZai2RBLAQAAgJAiltoTxljqRzD9+6ff1xfX3KLzFi0JxLEtAMKBWIpmQywFAAAAQopYak9YY6kfwfTvnv1YX1xzi85d5P952wDCgViKZkMsBQAAAEKKWGpPmGOpH8H0c88P6QvrdyoWiWpvT49j1w1AcyKWotkQSwEAAICQIpbaE/ZY6ncwfWjXE45dOwDNh1iKZkMsBQAAAEKKWGpPM8RSv4Lp5x94UbFIVFvjdzt2/QA0F2Ipmg2xFAAAAAgpYqk9zRJLfQ2mF1ysq2/8tvL5vGPXEUBzIJai2RBLAQAA0PQ+zmb1wvO/8nsajiOW2tNMsdSvYPoPT/xFCxat0CVXriWYApiGWIpmQywFAABAU8rn80ru2aOrrrhSd95+R1OGRGKpPc0WS/0Mpv+85hadt2iJBgYGHLueAMKNWIpmQywFAABAU9nb06Pt8bgO9vVp8aILdNUVVzZtSCSW2tOMsdSvYPp3z36sL04FU36vAZCIpWg+xFIAAACE3sDAgPb29BTj4W2bblU+n9fenh7FItHi/222uEMstadZY2lpMP3nVW2efebfPfuxvrB+Z/HPFoD5jViKZkMsBQAAQChls1lls1ndtulWxSJR3XzjTcrn88XzFAcGBrRi+cXaHo9LUlOGRGKpPc0cS0uD6Rcv/aann1sIpg/tesKxawsgfIilaDbEUgAAAIRGIYbefONNxRWkB/v6ZpyfmM/ntXjRBbrj9juKP9aMIZFYak+zx1I/g+nnH3hRsUhUW+N3O3Z9AYQLsRTNhlgKAACAwMtms9oej2vxoguK2+3379tf8dfm83lddcWVuuqKK/U/7x8u/ngzhkRiqT3zIZaWBtOzvnqT/mnbzzwbX1xzi2KRqLbc/6hj1xhAeBBL0WyIpQAAAAikbDarzgce1OqVqzQwMKCbb7xJe3t6itvsq7lt061avOgCDQwMKPvxJ8Ufb8aQSCy1Z77E0s89P6T/tfOVGb8nvBwA5h9iKZoNsRQAAACBUXgo0/Z4XPv37dfqlauU2NU1ZyAt6HzgwWnBsBBLJyZMU4ZEYqk98ymW/uNjf/ZtbsRSYH4ilqLZEEsBAADgu/379mv/vv3FrfaFhzLVovDE+9Knc2c//kQTE0afffa3pgyJxFJ7iKXEUgDuIZai2RBLAQAA4IuBgQFls1lddcWVikWi6nzgwWlPs6/1vQrvUSr78ScaOnZcf8sNNmVIJJbaQywllgJwD7EUzYZYCgAAAM9ks1lJ0uqVqxSLRJXY1aWDfX3FH6/3PRcvukC3bbp15s99/Ik+++xvbMOf54ilxFIA7iGWotkQSwEAAOC6bDar2zbdqlgkqv379iu5Z48GBgYaft98/syT78tXpFqWpezHn2h0dEwSD3iaz4ilxFIA7iGWotkQSwEAAOCKgYGB4hmkAwMDum3Trdq/b7+jn3HzjTdpxfKLZ6xMHR0dU/bjT4oPeJKIpfMZsZRYCsA9xFI0G2IpAAAAHJPNZpXY1aXt8bj29vToqiuuVHLPnrrOIZ1LIcS+9vrr0358fHxcH39ytLiytKAZQyKx1B5iKbEUgHuIpWg2xFIAofPaaxm9/J//oyeefFVPPPmqNm/5jb69/nkGg8EI/Nj50H/6/VeoK/L5vPb29GhvT8//z967PkVxrf/b/AH7Td6kfrWr9rdStav2s59dv/2k8t0zNCjiAB5AAqhRI0giKnJQFOMhGjSIKBoVD0FRAUGNCIpRoqBGRUXdaqJ4iCbqaPCEznDQQXpA5GB/nhfDarpnemA4jAw991W1KqFX9+o1a0B6Lu5130hNSUFYSKhNoaX+prSks/K9VIi+e2epfN/QYJGzrK+lpUWVIpFkqWOQLCVZShCE8yBZSqgNkqUEQbg0Dx/WoejgLSQtPY6Jn/8AX12m2Jh8WL2mTBSn1KhRo+aqjf2bpSbKz5WLxZUCdH7IycruU6EmR2GiKicrGwBksvTlKxNMpnrxa5az1Fhdo0qRSLLUMUiWkiwlCMJ5kCwl1AbJUoIgXI4LFx9h9ZoyBAXnwFeXiaDgHCQtPY68XVdx8+ZzGI39v5WTIAjC2TBhOtjR6/WiIOU0WrFQkzO22du7f4DOD6kpKeIxJkvrXzegrs5S+V7aV1f3ErzZrEqRSLLUMUiWkiwlCMJ5kCwl1AbJUoIgXIKHD+tkgnT6jAMoOngLDx/WDfTUCIIg+oXBLkuvV1QgMjwCnEYLvV6PwoKC9xJFKoXnlSvfG4zVePPmDYzVNWhvb5ddYzBWo/51AwDKWerOkCx1bVl6+tQpXK+ocPn2vv4oRBCDDZKlhNogWUoQxIBy/MQ9TJ9xAL66TEz8/AcUHbxFkaMEQaiSwShLy8+VY9GChQjQ+cFgMCA1JQV6vX7A5hMZHoEAnZ+NsDAYq2GsrkFra5vseP3rBhiM1WKkqRpFIslSxyBZ6rqylK2lp0+Azfeyq7VhupEoLSnpt+8jglALJEsJtUGylCCIAeH4iXtiDtLVa8pw8+bzgZ4SQRCEUxksslSv1yM1JQWpKSkoLCjAogULXUIOpKZYKt9by9rW1jYxslRKY2MTjNU1snymahSJJEsdg2Sp68tSrS4IWr9g/J/sWwO+hkrtL0VG/HNxHjiNFhEx8+jnjCAkkCwl1AbJUoIg3isXLj6SSVKKIiUIwl1wZVlqMBiQk5UtRpJGhkegsKBgoKclUlhQAE6jRfm5ctnxd+8sle+lQhQAmpvfipGmJEsJgGTpYJClH+bdwyeTEuDp7Yv/2XR+wNfRXvsw7x4+npoETqPF4pTvaGs+QYBkKaE+SJYSBPFeMBp5zE0shq8uE0lLj5MkJQjC7XA1WcrzPEpLSmAwGMBptAjQ+blEBKk15efKwWm0+PHHQzZ9dXUvxa32jNZWS+V7FmnK+qjAk3tDstT1ZalHsSV6k4nIf83fNuBr2VX7W8YlaIOnwEc3CjlZ2f32vUUQgxGSpYTaGNyyVHiIC5uTkLRkSTctCcsz9iCn4ATK7tagUeh+aFdDMBxBxpIlSFqyGjm/k2QiBhd5u66KOUlpuz1BEO6Kq8jS6xUVYkV5Fq05kHlIu4LNMzUlxSZ6tP51Z+V71vfunYCa2jo0NjaJ50mLP6lRJJIsdQySpYNDlrL2r8QMcBotPp727YCvZ1ftL0VG/CN5Pzi/IIwOmUA/e4TbQrKUUBuDW5a+u4r8z716mJjbBwFfHcAVc3v347sQ7x6sxRSNFpwmGPHnXg70dAjCIYxGXizelLfr6kBPhyAIYkAZSFnK8zzKz5UjLCRUrGZfWlLi0ttHeZ5HgM4PkeERACCTpSwfKSvcxPpYpKkUVvypufmtKkUiyVLHIFk6uGSpR3E9PkovA6fR4n8/i8MH+x4P+Lp21T7If4x/x64Bp9FiWkwCDAZDv32vEcRggGQpoTbUI0s/XYq0gv3Iycq2afl7NmFbykzMCGRilcOwhCJUNA+eEFOSpcRg48LFRwgKzsH0GQfw8GHdQE+HIAhiwBkIWVpaUoLI8AiEhYRCr9cjJyt7UHyI53lenDcTukyISvORMgzGajHSVAqLOmVb8tUoEkmWOgbJ0sEnS9lrYYWfXF2Ysvl+MikBnEaLLVl5Lv0HKYLoT0iWEmpDPbI0PB/X33Vzvvk6TqSOgbdGC07zKaJPGTFYdCnJUmIwkbHloljAyWx+O9DTIQiCcAnelyxlRZpYNfvUlJRBJ89SU2wr3xuM1WI+0uZm+e8Wg7EaNbV1YqQpoFz8SY0ikWSpY5AsHZyy1KPYUlDpkwmzXL7wk7T9Pe0oPHVjMEw30iVzQRNEf0OylFAb7iVLAaBmN772sjxIei88iaeDxJaSLCUGA2bzW6xeUwZfXSaKDt4a6OkQBEG4FM6UpXq9HhvTN+B6RQUiwyOwaMFCm8rxgwUm/6yFHxOi0nykAPDmzRtRpEqpf92Al69MJEsJACRLB7Ms9SjuLPzkOdTP5Qs/Sef8z8V54DRaRMTMo59LQtWQLCXUhvvJUgevEZoNqLz5M47vyxG38+88VI4rjxvQqnRBmwnGykpUPnnVUUCqBeYn53GCXV9wEhee2LlWdt9nuF9egLysbOTkFuPoLQPMQg9kqWBG3d2yznnnFuPorSqY2uxYYZt5v0X9Q3Z9LvaU/orbJvmsheY/cbN0j2R8yxwJ98ZsfovpMw4gKDiHijgRBEEo0N+y1GAwoLCgAHq9HpxGi7CQ0EH/Yby0pAScRmsTicW201vnI2WRptbFnxoaeMXiT2oUiSRLHYNk6eCWpawNlsJP0vZh3j18PDUJnEaLZSmraGs+oUpIlhJqw/1kaUs5skM5cBotvOIO4Z615BNq8eDIN5gbZK9wlA8C5u3C8Rfy7V+izBy6CgerfsPR1DD421w7AiHLDuMKr1BcSniNZ2XLFe7ri9FfF+LX88u7kaVvYbqTh+/jAjrSDEgbB5+IVKy//AIt1ksom/d1HF4aajtv/1lIOv8crWiC4fwyxPl52swxMO0s/rQnZAnVIxWllJ+UIAhCmf6QpTzP43pFhSgX2Fb1wZCHtDv0+s7K99bUv26wEaLv3gkwVteIkaWMN2/eyHKasj6TqV6VIpFkqWOQLFWHLPUolhR+Ghc9KPKYsva3jEvQBk+Bj24UcrKy++17kSBcAZKlhNpwM1nagtqTcRjZIfiCd/6BN9JuoRZ3d03BCCY2F2zCutx85GRlY3/WCqTFMBHJYdicw7gtCbgUpaPXZEz7YrhFqsamIjljN/ZtW4KkyT6iuPRdUQ6jbF6NqDo8veO+HHwilmJ5TgHyf9iIzIUh8Ndw8Bk5okNiKsnSFtRdWIjPPS0PyF7Bc7Fg+z7kZGfJ7+0ZicQzz2XC1Hbe7HXvwd5N0fhyeIcY9V+ELbsS8LnWEz7j5iFx827sz/kWy7/061gTX4zZdgv0d1L3g0QpQRCEY/RFlvI8j9KSEgTo/MBptDAYDIN2m70SBoMBYwKDEBcTa9PHm82oqa2TCVGWj5RFmrK+1tY2GIzVaGnpfNqRFn9So0gkWeoYJEvVI0tF8TiICj+x9pciI/6RvB+cXxACQz+jn1VCNZAsJdSGe8hSoRH1T67il4JERDH5F5CKghppbisBrfp1mOapBacZg4jdd2CyiTqtwe3McRY56BmPdfrOnFmd2+Q7pOTJJ/Kt6W13cWKJv6Xfayn2SO4tGPKw2M/TToRmE4xn5osiVEmWdl7PYVhCPs7bbJu/gzMrOwpbecYi7Xez/XnLZOo7vLm1HOHivRXm13YbR7/SWfrHZuNCC0WXuhMkSgmCIBynN7K0sKAAYSGhiAyPgF6vR2lJieq2cPK8pfL9rPh4m9cmjRKVylKTqR4vX5nErw3GarS3t4uRplIMxmoYq2vQ3t6uSpFIstQxSJaqS5Z6FFu2t/9nTMSgKvzE2gf5j/Hv2DXgNFpMi0lQxe4Awr0hWUqoDfXI0h40r89SkPn7a8i1XhMeF02xRG8GrMGPJoWt8rCfO7TzuFLkKAAIaPltOcbbXNuAh7smWESmvfsKT3BheYAdWVqPu9ljLdf7L0XO02bFeQv8MWwK4Wzm1+28pWvs/y32GKyzrragtnQ6hihIYEL9JC09TqKUIAjCQRyVpaUlJYgMj8DG9A3IycrGxvQNqv4gvWjBQgTo/HDzlrwwIMtHyqJEmSyV5iNlGIzVqKt7iYYGuWxtaWmRFX9So0gkWeoYJEvVJ0s9ii2Rmp9MSoDnUD/8P0vzB3zte/Ne/efTSHAaLbZk5anuj2GE+0CylFAb7iNLPYMREpeMlIMV+LO5q/36LWio4e0XYqrZja+9upKlozH12AsoxlcqXfvuOg5MHWKRlWmXoFy6yZ5olV6vhffCk3hqN7DThNuZwR1RtetwhH/n2LyFh/h5vi/s5nhFO/izs+Cr0YLTzMS6B8qyllAfrOo9FXMiCIJwjK5kafm5cqSmpIjV7Nn/q52N6RvAabSWvKtW2+yto0QNxmqbfKTSPpOpXnZMqfiTGkUiyVLHIFmqTlnKGiv89H9nrRvw9e9N+3vaUXjqxmCYbqRNgTuCGAyQLCXUhnpkadh3yPnlV5SdLkPZ6TKcO/szLhSvworJPpb8ofEZ2HXnVbfV6KUIzTV48ew2bl04hpMHtiJn7RwsGDtUMcKzUzp+geW/mZUHbDiI1KFW14rHfBC85wGU41lhV9I6fL0dqdk57wlYeOW1wnVVuJBs2WY/JOU8bOMHSZa6I8dP3IOvLhPHT9wb6KkQBEEMGqxlqV6vR05WNgwGAziNFnExsW4luUpL5JXvpVXrpflIGQZjtSxKlMGKP0kjTdkYvNlMspQAQLJU7bKUCUdW+Gmg34PetL8UGUXpGxEzj36OiUEFyVJCbahHltrJWSqYLyB/1nC7BY5saHuCW0XLkRw9SqGavRacrx/8PbuSpV0IQyVZak+COnJtT66XRacqyVJ78yZZSsh5+LAOQcE5WL2mbKCnQhAEMajI23UVs2YfQPm5clEUhoWEwmAwqHqbvRJ6vR6cRouN6RvEY9Kq9dJ8pADQ3t4uRpZKYZGmUiEKAC9fmRSLP6lRJJIsdQySpeqXpR7FHYWfhgcOusJP0vZh3j18PDUJnEaLZSmraGs+MSggWUqoDdXLUgAQag9h7Xjvjryb87HeJl9px3lSsarRgtP4Y/SURMR/uwHrdh3F0VuPYarZrygtey1LxWNdbN+3d21Prsc7NF1ZiECSpUQfmT7jAKbPODDQ0yAIghhUGAwGzIpfDU6jRYDODzzPQ6/XD/S0BgS9Xo8AnR8WLVgoO24wVivmI2VRotZCVJqPVNpX/7pBNgaLOq2prVOlSCRZ6hgkS91DljLZ+J8xEdD6jhp0hZ+k7aP0MmiDp8BHNwo5Wdn99r1LEM6AZCmhNtxClgKtqL+yRKwo7/X5dpTx1hvW63A7M7SjYnwkEo/+gecKuU27L/DUQ1nadAwbRnm+h234kkJMnvOQ+azFwXmTLCU6ydhykQo6EQRB9IDUlBRRDK5aVYTw8O8GekoDCs9bKt9HhkfYREuxqvXW2+xfvjLBZKqXCVGWj5RFmrK+xsYmGKtrFIs/1b9uUKVIJFnqGCRL3UeWehRLCj8N0Q3Kwk/S1/GP5P3gNFoEhn5GP9uEy0KylFAbbiJLAQhVuLo22CJDNb4Ys/kaXkrDMEVp2VWhJPuFlnotSyUFlHpzXwi3cWimJY+q99wS/Gk3tLQG19aNsqzVqE040SQ4OG+SpYSFhw/r4KvLRNHBW92fTBAE4abwPI+crGyEhYSisKAAOVnZKCwoAM/zXRZ4chcWf71YjKyVwqJDlfKRsihR65ymvLkzR7zBWI3m5rd2iz/V1VmendQoEkmWOgbJUveSpayxHKD/3/Tl+Efy/kHb2OvgNFpMi0not+9jgugvSJYqYMjGHKXUjl01z2CERE1DREIykjYU4MfrBpjtbx8eJJhwY3OHi9L4YfJPVQM9IYdwH1kKQDAdxUa2Hd8zFmm/SwoxiSKTg279r2hQHOAJLiwPQNcFnnooS9GCupNxGKE0JwfuC7xBVVF4R0RsFJKumRS24gtoe5qNr/08bV4fyVLCUabPOOD2H/IJgiCU4HkepSUlWLRgIfR6PSLDI7AxfYNNHlJ3l6WpKSkYExhkk35AqWo90JmPtL3dsm+G9UvzkTJYVKp1TtPGxiZZ8Sc1ikSSpY5BstQ9ZalHcT3+HbumZ7JiEDSCcDVIlirQG1lq03wQMG8Xjr94O9Cvpg+QLH3/9FCWAi2oPRmHkR3feF5Td+NKc4dalERocgErsMfqm1FofoBfsyIsUlNju+2997IUQPMF5H0xxDKnietR8LSpU3i2PcftvCmS+9oWchL4n7F1gnfH9auQfecVWsXedjQ/PYysuI5crP5LkfO0c34kSwlHOH7iHnx1mbT9niAIQkL5uXJsTN8gFitKTUnpMg+pO8tSVtDq2PETsuMsSrShgZfJ0paWFpsoUYOx2iYfKRvDYKxGY2OTbGyl4k9qFIkkSx2DZKn7ylK2jX2g35eBXGOCcDYkSxWQyVIf+E+KxuSJk+y2uEm6jp3Qts1rYgaOm+wnXXRtSJa+f3osSwEID3HmG/+ON2oMIor+hEWLyvOacrqpiE5Zg6QlS/Dd8pmYEegFTjMCYWs2Y81nXuA03hi5/Tew+IU+yVIIaDPsx3di1OunGL94NVatSMCCsUPBaTj4xsYj2m7Ve6vrNf4YHb0MC5OXYGVCEPzZD5lCcSuSpUR3mM1vERScg9VrygZ6KgRBEAOOwWBAaUmJKKiUcm/aw11lKRMhOVnZilXrTaZ6APKq9UpRoix6VCpKASgWf2JjNDe/JVlKACBZ6soij2Sp89eYIJwNyVIFZLJ0ApIqGh24qB3NpgfQ/3cL1kzxkfxu98aI72/AsSdOV4Nk6funN7JUtiVdC87/a2RWsofxJtRe/R6pk32sHjp9EBCbjsxLz9EEE25nBlvs/ufZOP/G0dyf6EKWdsyr5hx+XD0RIZ6Se3uOQ8SWcjyt3t/FtR3Xmy6hdP2X+Hy4p3z+unBMXX8E52tsQ7dJlhLdkbfrKoKCc2A2D+bQf4IgiN7D8zwMBgNSU1JkgtR6m313uKMs1estle9TU1IAwKGq9db5SAGI0tNeTlPpuO/eCYrFn968eaNKkUiy1DFIlrquyCNZ6vw1Jghno2ZZmpOVjY3pGxz+47hIr2RpJ4K5HLuih3b+fvdaij01bd1f6HKQLFURLTAb7+DGmTKcufEQla+aFfKAOgsBbfxTPKw4h7LLd1Fp7vkPg9Bcgxf3r+Ds6TO4cOcZapodssgEYQOLKs3bdXWgp0IQBDEgLFqwEJxGi0ULFuJ6RUWfJJS7yVKe5xEWEiqLvpWKy66q1kuxl9OUN5tRU1unWPxJOgaTrAZjtSpFIslSxyBZ6roij2Sp89eYIJyNWmUpS7XEabQICwnt2e/XPspSQEDrH6sQ3kVKxsEByVKCIFQGRZUSBOFu8DyPjekbEKDzE7fbl5aU9MvY7iZLI8MjEBYSKovEMBirFfORsj6lfKQ1tXVioSYGk61sDNZX/7oBL1+ZbMZlkaZqFIkkSx2DZKnrijySpc5fY4JwNmqVpdcrKhAWEir7HZuakuJYlGmfZSmAtjJs1bExhmPCwacOBvIJaOOfo7KyEpWVlXjcLwGA7Wh+9UQcs7LyCZ7zjgT3kSwlCEJlTPz8B8pVShDEgGMwGMSoTme0UydPorCgAGEhodDr9QgLCUVhQUGPt9l3hzvJ0tSUFATo/GwKXjlatR6wjRK1zmna3PxWNm5DA2+3+BMbQ40ikWSpY5AsdV2RR7LU+WtMEM5GrbIU6PxDuvT3bIDOD+Xnyru+sN9lqTdG7byLrvSk0PwQFUXLsfxLP6tiURx8xs3HwryzuG5q7WIEaxpguF6I/BVRmBroZfO8wWl84B++GEl7L3QxLslSgiBUxPET9+Cry4TRODjTSBMEoQ7Kz5XDRzdK4eGs/5onNxTDhgztXT6qHuAusrSwoACcRmvzIYKJS6V8pErb7Fk+UgaTqV0Vf7KOVjWZ6qnAEwGAZKkrizySpc5fY4JwNmqWpQylKNNFCxbaf3bsB1kqPNuKeLGmzQh8eczeH/LbYP59K5aN9e72udcreAnWXa1BS3f35n/F0dSwzoLh3Y77DTb/3qAQwUqylCAIFZG09LhbfKgnCMJ1KS0pAafR4l+JGU75wPk/m87D09sCxBlxAAAgAElEQVQXnEaLrVu2OP31uIMsZe9ZYUGBTV9PqtZL85Eyusppyrb3S2GRpiRLCYBkqSuLPJKlzl9jgnA27iBLAUuUqfXvXZa6yYa+ylLhGS6nSQIGPOch85mS4myD+fd0JPpJCn3rpiJ60w/ILjiGstLdKNy+AAvGSopFeX6BRVde2t+a33YbR7/SSV7nCIQs2IR1ufnIycpGTnYW9m1bgiSr4ujSIuidkCwlCEIlGI08fHWZOH7i3kBPhSAIN+W7Dd+D02jxz8V5TvmwyUTpJ5MS8MmkBORkZTv9Naldlur1lsr3GzdusumzV7We5SMFbIs/KeU0tc5H2t7erhiVysZob28nWUoAIFnqyiKPZKnz15ggnM1gk6UGg8Ei/XrZWAFQaYuLiZWncOq1LBXQxv+GS1vCMUKyjd53RTmMSmebDmPtGK7jPF+M/vogLihsiRea78rHDEhFQY3Spv5WmM4mYCQ7z38+1t16CcVN9m3PcTtvimSeE7Dwymurk0iWEgShEooO3kJQcP99oCAIgugJy1JWgdNo8VF6mVM+aEpF6V+KjPh4ahLJ0j7C8zwCdH6IDI+wEZeNjU09qlpvrK5RjBK1l9OU9TFaWlrEsdi4gEXYqlEkkix1DJKlrivySJY6f40JwtkMNlnK/t2Ji4ntVYsMj7D53cty34vIZOloTE7f36WAzd25HXkbliA1MRQhnvKxvSZuxJFaJbFZi5ubx4jnec/8AZfN7fZfuPAQZ77x7zjfGyO+vwGbJALCbRyaOVSUmxP2Pex6y77sfB8E73kA+QxIlhIEoRLmJhZTYSeCIN47PM9jQsQ0eOrG4G8Zl5zyIdNalHoU15Ms7SM8zyMyPAKR4RHgebm4ZPlIlcSlNB8p61PKR8qiRK0lrMlUD5OpXjYuk63SMQzGanEMNYpEkqWOQbLUdUUeyVLnrzFBOJvBKkt7Q/m5cgTo/GS/dxXz3stkaW+bDwLm7cLxF2+VJ9N0DBtGse33U5BU0aB8noiA1j9WIZyNP2oTTjRZbZt/cwWHVs3BgqixGDs0CXsUo0+lSGWoFj4ZN62iUEmWEgShAszmt/DVZeLCxUcDPRWCINwIg8EgitIP8+455QOmkij1KCZZ2lesK993V7WeN5u7rVrPkOYjlcpSJlvZGCzqlEWaSpEWf1KjSCRZ6hgkS11X5JEsdf4aE4SzcQdZajAYbLbfR4ZH2P+d2wdZ6jVmGqavyMUPvz6H2W5iUaD9t2QEs+sCt6KspYuTxYsuYddYtm1/Cpb/1tSjdbClBdXFX5AsJQhC3Vy4+Ai+ukyYzXb+ekUQBNHP6PV6DNONxCeTEvBB/mOnfLi0J0o9ikmW9gUm6qQfFKRV61k+UmmfI1Xrgc58pCxK1DqnaXt75yYvls/UnmxlY6hRJJIsdQySpa4r8kiWOn+NCcLZqF2WFhYU2ESTdvvs6MA2/D27tyAv9Qt8PpxFh3Lwmb4Nh5422S++JCKXlFx0Pi68eIHKysou24sX5TgQP7RP8lJorsEL/WX8tzQPP2yIw4xAL5KlBCAYjiBjyRIkLcnCEYNimluCGLRkbLmI6TMODPQ0CIJwE8rPlcNHN0pRYvZX60qUehSTLO0tpSWWyvfWFWD7o2q9UpSoNMJUqfiTUrRqTW0dFXgiAJAsdWWRR7LU+WtMEM5GrbLUYDAgLibWJppUlpvU7sWOFngS0FbzM3bNGt55H100Fp153nWuULzGncwxNs8APWveGLXzLuxvtH+L+odlOHlgM7asmIN5kRMQKRGjSo1kqRvz7sFaTNFowWlmYt2D5oGeDkH0K9NnHEDGlosDPQ2CINwAJtv+lZjhtA+V3YlSj2KSpb1Br9eD02iRmpJi08fEpZTuqtYzkcp4+cok5iOVjmsvp6l18ScAorAlWUoAJEtdWeSRLHX+Gksxm9+i6OCtPo1BuC4D9f6qVZay8ziNFgE6v549LzosSy0I5gvIlwpTz0jMu1CDd3avkOcK7W2zlZsA0Abz/T34Pi4A3l1ez8Fn3Dwkz6acpQRIlhLqhvKVEgTxPtiSlQdOo8U/F+c57QOlI6LUo5hkaU8xGAwYExiEuJhYmz7ebLZbtd5aXDJBaq/4k1JOU95slt2PFZCylrDSAlKs7907QZUikWSpY5AsdV2RR7LU+WssxVeXSc0NWt6uq336PukpapWlALBowULExcTCYDD07CY9lKWAgLYXu/FtgGfn73T/r5FZ+cbO+XJZOjTpAH4+dw5lp8t61M4+rLcSsq2ov7IEn3vaFpvynxSH6MXfIW3HfhScvIbrz3m0Us5SQqTNBGNlJSorq1HfXWEwghhE3Lz5HL66TBiNfPcnEwRB9JJlKavAabT4KL3MaR8m/0/2LYdEqUcxydKewPOWyvez4uNtqr52VbX+5SsTgE5xaZ2PlPUp5SMFLJGm1uOyAlIsspTR2NiEmto6xeJPahSJJEsdg2Sp64o8kqXOX2MpvrpMHD9xT/wvoT4G4v1VsyztNT2WpQDQivqL8xEq+Z3uPbMA15qVMpi+RVVReKcsXX0Zr/tj3qYipEqErdfEldj63/uoNNuTX/J0ACRLCYJQHewXK0EQhDPgeR5fxMwF5xeEv2VcctoHyQ/2PYZm1ASH86CSLHWcRQsWIkDnh3v35bm6mLi0rlrP8pH2tGq9FBYlap3TtKa2TiwgZV38STqGwViN+tcNePnKpEqRSLLUMUiWuq7II1nq/DWWwp71M7ZchK+OdpSpFfb+3rz5/L3cj2SpAr2SpQCEZ7icJt1e74+JBQ9gW375HZouJmI4O29cHq60K4xnQxtaW+yVj2qD6eRMDGFjBqzAnhfdFX6uxdV1I0iWuhQswvPJKzQKANAC85PzOLEvx1JdrOAkLjxpUMi/YIVgRt3dMhxn1+UW4+itKpja7HwDORJZ2laHpzd/lo155OoDPG+2n3GiV3MhiH5EDR/kCYJwTXiex4SIafDUjcGHefec9iGyp6LUo5hkqaNsTN8ATqOFXq+XicveVK23zkdqXbWe0djYBGN1jbgNn2FdQIpt5zdW16C5Wf5QLy3+pEaRSLLUMUiWuq7II1nq/DWWIg2MWL2mDEHBOXj4sK5PYxKuyft8f0mWKtBbWQrYRHdyXonY/KfCdvya3fjai93jCyz/zWx7jjVvTmHrp17wCZuGydEpyPxd+sdr+db+ISnn0e13T0s5skM5kqWuhJg7dOgqHKz6DUdTw+Bvk3B2BEKWHcYVXkmxv4XpTp6dpLUcfCJSsf7yC5sKZF3nLG2D+f5OrJnio5wAVzcDiYfvw2TjPtvR/PQn5M4dYWcuK/H91epuqqERRN9YvaYMSUuPD/Q0CIJQGXq9HsN0I/HJpAR8kP/YaR8geyNKPYpJljoCK8ZVWlICQJ4H1J647EnVeuvIUaAzH6m9nKbW4xqra8RIUwbbos/GUKNIJFnqGCRLXVfkkSx1/hpLsd5FNn3GAQQF58Bs7i56jBhsmM1v39v7S7JUgb7IUrSg9mQcRkqc0LAFR3HPJojuMc4sGd7NOVIa8azoi87IUa+l2FMjfVaTy1LvpDMwdjnPJhhKYyXzJFnqEojS0msypn0xHJzGBwGxqUjO2I1925YgabKP+E3ju6Lc6k1uQd2FhWLSWq/guViwfR9ysrPk13pGIvHMc5mktC9LBbQ9zcbXfp6Wb9Rpq7E2dx9ysrKx74d0bBalbDCmFj+WjPkOzfrNSPTzlM8lKxtFOcuwVDKXrquhEUTfmJtY/N6TgRMEoW6uV1TARzeqxwKzp+2DfY+hGTGuV/chWdo17APFxvQN4jEmLqX5SKV9XVWtt85Haq/4k1JOU95sluUjBTqLP0mFLRvDYKyWjatGkUiy1DFIlrquyCNZ6vw1lmItS5lQmz7jAAlTFfK+3l+SpQr0SZYCEO7h5/k6ye/3YEQdq7LyQQJa9eswTSzG5IvAtFO4p7ijuQnGM/MlhZt8MWbbLciTIrXAWPxFZwCf10JkPrXzfSO8xrMzyxDn5yl7BrGNRiVZ+t7plJYdUvPkE5ilEr3tLk4s8Vc05oIhD4uZ1EzIx3mT3H0LzXdwZuUYyzeJZyzSfu8MZ7YvS024nRlsEZ5R+ahotTL60vmMzcYFlifizRlkTfC2Oxe06VHO5uL/LfYYuk0sQBC9gmQpQRD9CYtG/FdihlM/OH6w7zG0fsH4ZMKsXglZkqX20ev1CND5ITUlRXbcYKy2yUcKdIpL63ykLS0tXVatl26zt85HKr2nvZym1uNKUwOQLCUAkqWuLPJIljp/jaUo1ScwGnkEBecMut9RhGM8fFjn9PeXZKkCfZWlsmA8lkM0FQU11rkgTXi49wuMkO1MXoG04nKU3XiIqkcVuHE+H/tSxkvO0cJr6k6cNytIVesCT8GLsPzwFVQ8qkJlZSWqnt3GnTN5yE0K7djZ7YvRgf6d0aoJJai0mh/J0vdMp7RUihwFAAEtvy3H+A4LH3+Obdmqx93ssR3ycSlynlpvpe+4mj+GTSGczfj2ZWkVLiTrusjt8A5vbm7D10tXIm3HCVypbwfQgrqTcZZvWs94rNM32VwFwJJXIoQDp/FF8M4/oJCtgiD6TFBwDooO3hroaRAEoQK2ZOWB02jxz8V5Tv3Q2FdR6lFMstQePG+pfB8ZHgGeVy7G1Neq9SwfKRsTsM1HysYwGKtt8pHyZrNi8SfpGKyvtbVNlSKRZKljkCx1XZFHstT5ayzFXjFXJtRWrynr0/iEa+Ls95dkqQJ9lqWAzbZ5e+5LqMW9/bGY5Km1eSawbRyGxe/EcbuFm6wjULtonpMR/cN11FZuQRw7NmwtjjRJAwdJlr53OqXlaEw99gKKmRnEhLcSWfruOg5MHWLJwbDwJJ7aTenQGSnKBazDEf6d1X2tZWkNrq3r+CbwT8TysrsOFHR6iJ/n+1qMfdwh3LM7F8nY4fm4TnvxCSfwPismEgShXpalrAKn0eKj9DKnfmDsD1HqUUyy1B5xMbEI0PnZiFJ7+UjtVa2vq3sJ3mzZocP6rPORsj6lfKTv3gmKUamsgBSbD8NkqpcVkJIWf1KjSCRZ6hgkS11X5JEsdf4aS7EnSwHgwsVH8NVl0k4zlXL8xD346jKdEhxDslSBfpGlAForcGDmUMnv+UlIvFin4L/a0PjnIexZ/hlCFEUnB59xC5FUdAvPui0g3gbz/T3ImBukUBdIC04Xjqnri1H2oskyD4lj4zTjMOtcrWR+JEvfO53SsouqXw0HkTrUSpaKx3wQvOcBlEo/WWgHf3YWfK3EaFc5S1srt2KeNEza81OMX7wR6w9dwJXHDbDZQC+pHOY9YyO27t6NnKxsm7Yrbxtyvx5pGXPoKvzYQLaU6H9IlhIE0Rd4nscXMXPB+QUNGlHqUUyyVInUlBSMCQyCXq+XHWfS0Z647GvVeqV8pPZymhqM1WhpaRGvBaCYGoAVlWpo4FUpEkmWOgbJUtcVeSRLnb/GUrqSpUCnUDt+4l6f7kO4Js56f0mWuhZCswF/VpxD2emyjnYF1x+/QmN3jtSGdjS/+gM3zrBxzuDCnWeo6S4oUAWoRJYqVaXvQEmWKkWbKiLdxu+ILAUsBj4X6VF+ClXtfeD/ZTJSDlbgT/bNJc6vB81zHjKftYAg+huSpQRB9Bae5zEhYho8dWPwYd49p35QZKJUqwvql3uRLJXDcs0eO35CdpyJy4YGXiYuWT5Se1XrrcWlUj5S66r1jPrXDWIBKTauNB+pdFwmbK1TAxiM1WKkqRpFIslSxyBZ6roij2Sp89dYSneyFAAytlyEry4TDx/aJpYjBj+r15TBV5cJo5Hv/mQHIVlKqA33lKXisS6271vugKYrCxHYI1nagWBG3d3jOLptCb6NHmUVusxhWEIBrpjbJXPxRsDiHGRn5yhGlsrbsY58pwTRv5AsJQiiN+j1egzTjcQnkxIGnSj1KCZZKqX8XDk4jRY5Wdk20aMvX5kU84AqicvGxqYeVa1Xila1jhI1GKtt8pFK72lPtrLrAJKl7gzJUtcVeSRLnb/GUhyRpew8aupu/QnJUkJtuLks7W4bfgtqS6dbkulKojkduq8MAW28HnfOZGF74qiOiFM/TDz4BMK7q8j/3AuchoNu/a9o6H4wgnAaJEsJgugp1ysq4KMbhU8mJfR5O3x3zRmi1KOYZClDr9cjQNdZ+V4qL62jRJmArKmtE/ORMnpStZ7lI7Uu/iTNRyod1zofKdC5JV8qbKVjSMdVo0gkWeoYJEtdV+SRLHX+GkvpiSwl1AvJUpKlRNe4pywVbuNQR4Jc77kl+NORokqjNuFER0Uve/cVzPdw/exB/Lj9e+y5YyekXaxqr8WQlPN4LTzBheUB4DRaeEXlo6LV3mR4PC7biezcn3Dk4n087zYhL0H0HJKlBEH0BLZd+1+JGYNWlHoUkywFLGkUwkJCERkeIR5jklGaj1Ta19Oq9TW1dQ5XrZfmI7W+p1JOU2sJK00NQLKUAEiWurLII1nq/DWWQrKUAEiWkiwlusM9ZSneoKoo3BLh6RmFpGsmha34AtqeZuNrP0+bqE+79206hg2jPMFpfDFm2y0o6lKxoBMbsx2mswkYqdGC04Rh5ikDFFPlmoqQGmCZy7Ck03hGrpRwAiRLCYJwlC1ZeaIodfYHQ2eKUo9ikqUAEBkegbCQUPB859MLk55KUaL2xGVPq9azfKRsTKV8pGwM1i+FpQawLv4kHYP1NTY2qVIkkix1DJKlrivySJY6f42lkCwlAJKlJEuJ7nBTWQoI/M/YOsHbEtE5cRWy77ySVKpvR/PTw8iKG2556PRfipynnePbv28dbmeGdkjYaCRdqYYsJkJ4iUdF0RYx6jkdy291fCBpvY5Ds9m9vkLa5Rcwi589BLSZ/osjy8Z0jCu5jiD6GZKlBEE4wrKUVeA0WqdXvPcodr4o9SgmWZqakoIAnR/0er3sONtOby0uGxubZHlAga6r1hura3pctV5KS0uLmJNUijQ1AOtTSg0glb5qFIkkSx2DZKnrijySpc5fYykkSwmAZCnJUqI73FaWAgLaDPvx3XjvjgdLf4yOXoaFyUuwMiGosyCT/3ys//21LPK0q/sK5gvIn9UhPjU+8A9fgMQVqVjzbSxmhw3tOD4GEbvvwCQVoi+KsHGKj9V1K7B60SRMHO5pOe45GdGHH0CeGYwg+g+SpQRBdAXP8/giZi68dIGqEaUexe4tS5loKz9XLjvOBKR1PlImHe2JSwAycdlV1XqlaFWlfKRd5TSV5lAFYLf4k7G6Bs3Nb1UpEkmWOgbJUtcVeSRLnb/GUkiWEgDJUpKlRHe4sSwFLFGbl1C6/kt8zoQka7pwTF1/BOdr3toM2e19zTdxOnMmvrQeU8PBJyIV605Xot72KsB8C+eyEzAj0MvqOn8EJmYg50aNPFKVIPoZkqUEQdiD53lMiJgGT90Yp1e89yh+f6LUo9h9ZSnLOVtYUGDTp5QHlInL5ua3sj7ebO73qvVAZ7QqE7bsnkqpAQzGapmwlY5hMFajsbEJAOUsdWdIlrquyCNZ6vw1lkKylABIlpIsJbpjUMvS/kRorsGL+1dw9vQZXLjzDDXNiplDe0abCTXPbuPGmTKUXf4D96vNkq3+XV9X+6gCV06X4cyNh6h81ayQU5Ug+h+SpQRBKKHX6zEiZBL+MylBdaLUo9g9Zaleb6l8v3HjJps+Jh2tizEZq2tE6Whd/Empar00HykAtLe3O1y1HujMRyod1zofqbSvprau2+JPahSJJEsdg2Sp64o8kqXOX2MpJEsJgGQpyVKiO0iWEgQhQrKUIAhr9Ho9hulG4pNJCU6veO9R/P5FqUex+8lSnucRoPNDXEysjaBsbGwSpaN0O711lKhUXPa1aj0bS9onzUcqHdc6HynQWfxJKVqVZCnBIFnquiKPZKnz11gKyVICIFlKspToDpKlBEGIkCwlCEIK26b9r8QM1YpSj2L3kqU8zyMyPAKR4RHgeV4xDyiTjqxPaXu7veJP9sTly1cmmEz1Dletl+Yjld7Tels/G8NawkpTA0ilrxpFIslSxyBZ6roij2Sp89dYCslSAiBZSrKU6A6SpQRBiJAsJQiCsavgoChK38eHv4ESpR7F7iVLrSvfM5EozUfKYAWelKJE7YnLnlStl+YjZfdTykfKxrAeV5oawBHpazLVq1Ikkix1DJKlrivySJY6f42lkCwlAJKlJEuJ7iBZShCECMlSgiAAYFnKKnAa7XupeO9RPLCi1KPYfWTpxvQNNiKNFVWS5iOV9imJS+sIUcCSj7SrqvXt7e3imIBtPlLp/ayjVVlqAOscqtLUANbSV5oawGCsRkMDj7q6l6oUiSRLHYNkqeuKPJKlzl9jKb66TKxeU+bQeYR6IVlKspToGpKlBEGIkCwlCPeG53nELVgGL13gexOlHsX1+E9o1ICJUo9i95ClLKVCaUmJ7DjLL2ovStQ6HymTjkrisqGBF8cELPlIu6parxStai1spVGi1jlNpQWkDMZqmbC1fo1M2KpRJJIsdQySpa4r8kiWOn+NpRw/cQ++ukwcP3Gvy/NIlqobkqUkS4muIVlKEIQIyVKCcF94nseEiGnw1I15r9Lyk4mzB1SUehSrX5bq9XpwGi1SU1Js+gzGasWq9Up5QKVRotI+lo9UOmZXVeuV8pFKBazBYMD1igoYjUZZagDWr5QaoDvpy4StGkUiyVLHIFnquiKPZKnz19iavF1XuxWmJEvVDclSkqVE15AsJQhChGQpQbgner0eI0Im4T+TEtxOlHoUq1uWGgwGBOj8sGjBQps+3mwWt+EzpNvbrYsxSaWjdfEnJXFpXbW+ufmt3ar1Vc9fYO/efISFhMqk36QJE2X5Va3zkUrvaS19lYo/qVEkkix1DJKlrivySJY6f42VWL2mDEHBOXj4sE6xn2SpuiFZSrKU6BqSpQRBiJAsJQj3Q6/XY5huJD6ZlPBeKt6z5iqi1KNYvbKU5y2V72fFx4PneVkfk47W0aMmU70YJWqdB1QaJSoVl32tWp+fvw8Bfv42wo+1AJ0fDAaDWDxKKTWAPenL+hhqFIkkSx2DZKnrijySpc5fY3vMTSxGUHAOjEbepo9kqbohWUqylOgakqUEQYiQLCUI94Llsfx37Jr3Kkr/d1y0y4hSj2L1ytJFCxYiQOeHe/f1suPSfKRSkcjykTLpyASkNB8pw17xJxaRai0ua2rrbKrWP3/+ArPiZ9mVpNL23eo1oqCVYk/6SlMDSKWvGkUiyVLHIFnquiKPZKnz19geZvNbTJ9xANNnHIDZ/FbWR7JU3ZAsJVlKdA3JUoIgREiWEoT7sKvgIDiNFv9KzHivH/L+d1w0PH1Hu4wo9ShWpyxNTUkBp9FCr9fLRKJ1ESTWZ121nvVZ5yMFOmWrUtV6a3Fpr2r95cuXMSYwyCFRymm0CBo12kaISlMDWBd/sid91SgSSZY6BslS1xV5JEudv8ZdYTa/RVBwDqbPOCA7TrJU3ZAsJVlKdA3JUoIgREiWEoR7sCxlFTiNFn9PO/peP+C5oij1KFafLGURw6UlJQA6BaW1uGR9LMJUKQ+oUtX6mto6G3HZ3PzWbtX6urqXsjF/PvGzw5JU2qQRstapAaylr73iT2oUiSRLHYNkqeuKPJKlzl/j7nj4sA5BwTlYvaZMPEayVN2QLCVZSnQNyVKCIERIlhKE+umNpOq35uWD/3fBDvylyIgP8h8P+AdO1tQkS9nDv/T1MJEozUcq7VOqWv/mzRub7fQA7BZ/sle1vqa2TjbGxo2bev39c+XKLwCgmBqASV97xZ+Y9FWjSCRZ6hgkS11X5JEsdf4aO8KFi4/gq8tExpaLAEiWqh2SpSRLia4hWUoQhAjJUoJQPwP5Afp/x0Xjk0kJ+OuOG9DqxohpAD5KL8M/kvfjo/SyAZmbWmSpXq9HgM4PqSkpsuMGY7VNPlLAIh1ZnxQmHa2jR6Xb26XRqiwfqfR+SlXrWWqAvsrSl69MNgWk7ElflieVvW41ikSSpY5BstR1RR7JUuevsaMcP3EPvrpM8b+EeiFZSrKU6JpBL0s5jRaF+wogCIKstbx9Kz4wzo6fBUEQEBYSgqwdO8Rz5syejWVJSTbXsnZg/37ofH0hCAKSlnwjjldbU4sd27aLX1+7dk28ZqiXNziNFtOmRonH9uXnyx5g58/7CoIgIHDkKOzetUs8LyY6uk8fIiZPnARBEDAjahpWr0oTx01JXi6eU1VVhbzcXAQHBtm8Xj/f4SgsKMSDBw/AabS4e/cuDhYVKd7LaDDYPJwvW7pUNt7du3fBaSz50vYXFornlZ0+bXPvqqoqcBotKq5V4FhpaY9fu+nVK2zN2IKJ4z8Txzz60xGx/+iRo+LxieM/A6fRInDkKAiCgPnzvpKN5c6QLCUI9TOQH6D/kbxf/PqD/Mf4644b+OuOG/govQwfT02CVjcGH+Q/BqfRQqsbg4/Sy0SR+tcdN5w2NzXIUp63VL6PDI8AzysXY5LmIwUs0lEpDyiTjtK+xsYmWZSoNA+oPXEprVrfV1HKZKl1PlKgU/ryZrNsHiw1gPR1qFEkkix1DJKlrivy2Fo6q9AgydKekbHlInx1mSRLVQ7JUpKlRNcMelmaOGcuduftwq2bN2XyrbW1FYlz5iJxzlxkbtkqytLkZd+i4lqFKEvjYmJx+dIlXL50CUaDQTbG+fLzWPDVfFy+dAkb1qeL49XX1+NYaSniYmLBabTYs3u3OMZXiYkIDf5UJkvPnjmDhFmzwWm0+GJKJLKzsmSytKmpCZcvXcLK1FRETJ4sPuiGfz5ZvGfinLmY+NkEse/LyEjxOBO0oZ+G4PKlS5g0YSLmzU3ElcuXHZKldXV1uHzpEnyH+qCwoBDPnz9H4py5KC0pwQ979mDu7ARFWXri+HHEx1rWIOrLqdize7eiLD1YVNMK0B8AACAASURBVITvVq+xK0ufPn2KUydPInHOXPxUXIyC/H3iawsN/hQBfv7i15MmTMRQL2/ZuiTOmYuzZ87gm8VLRFl6+/ZtbNywQVGWrkpdicQ5c0VRPn/eVwgaNVocy50hWUoQ6sdVZKm99pciI/664wb+nnYUH+bdwz8X5+E/n0bi46lJ+FvGJXAaLT6emoQP8+7h72lH8beMS33OgaoGWRoXE4sAnZ+NKLWXj5RJR+tiTDW1daJ0ZH3SfKQMg7HaJh8pG8O6+NPG9A02zxG9aTdv3bLJRwrA5nUA8tQAJEsJgGSpK4s8nufhoxuFfy7Oc8qcSJb2nNVrykRhSk29rT8hWUqojUEvSwVBwMYNGzBlcrjdCFHWwkJCLFIx+FNRlkofLIsOFNlc09TYBE6jxelTp2z6nj9/bvNw2traijWrV8tkqSAI4BssRQXOnjkjHmOy9OnTp5YPATdu4uiRo52C76cjsjF+2LNH7Ltw/rx4fKR/gOKHiiGcl0OytOz0abG/sKBQPD418gus+24t3kqidKWyVBAEGA0GcBotfv3lF5v1YbLUulnL0u2Z2zA+bCwEQUB8bCxSkpeLfWvS0jA9qnMt8/fuxQg/f5t7jR45CpxGK8rSmTPkUbpSWWrd5s/7Cl8vXCR+7c6QLCUI9ePqsrSr9kH+Y/wt4xL+kbwfH+Q/xsdTk8BptPjn4jz8I3m/KFU9iuvx97Sj+OuOGw5FKg12Wbpx4yYE6Pyg1+tlx5kwtBaJ0iJI0j6l4k/W+Uilfdb5SFmkqXRMVmyqP1pPpK+xukZMDSAt/qRGkUiy1DFIlrq2yCs/Vw5Oo3XKLgKSpb3DbH7b/UkE0cGbHTn99vv+fTaCsIcqZWlpSQmCA4MQHBiEc2fP4uaNmwgODMK9u/dQW1sL/f37CA4Mgs+QoVi0YAFqa2tRW1uLpqYmPHzwEMGBQfjzzz8hCALevXuH2tpapCQvl20z/2HPHgR2CDppCw4MwnCfYRjq5Y3gwCA8efwYgiCgvb0dtbW1SF72rTi3P//8E02NTTJZ+ubNG9TW1sJL6ymTpTHR0fAfrsOogBGora3F27dvbWTpxPGfia+ltrYW1dXVCA4MQvHhw+Kx9vZ25OXmwtuTQ3BgEK5duybK0qdPn6KpqQmVlZUIDgzC1V9/Bc/zoiw9WFSE06dOgdNYtrAHBwaJa6AkS1tbW1FbW4vJEydhVepKcQ5v377FtWvXEBwYhJcvX6KxsRF//P675T3xHgLfoT4IDgxCW1ubTJbGx8bCf7hOnPul//5XJku3Z27Dq1evbGRpbW0t1qxeLa57VVUVig4UiV+fPnUKDQ0NJEtBspQg3IHBLEu7ah/kP8bf047iH8n78WHePTEn6kfpZfh37Bp8PDVJlKx/3XFDFo06mGVpYUEBOE1n5XsGE5e82SwTidZRoqxPaXs7204vzUcKdBZ/shaXJlO9bGt/f4rSMYFBNtJXmhpAmkO1K+mrRpFIstQxSJa6vsibFpMAbfCUft+OT7KUIJzPmx052P9pKHKysgdFY+mBCMIeg16Wbs/chmlToxDYIcu2Z25DdlYW8nJzkZebi6wdO5C87FtLRMKLjmhIoxGcRovUlBU4d/asTPDdu3sPnEaLtJWrxPG2Z27D5ImTMDdhjihK7eUX3ZmdI947LzcXpg559/btW2zP3CbbSs/E3uvXr5GXmwuj0Yh7d+9he+Y25OXmQn//PgwvDNieuQ07c3IwN2EOhvsME+f084kToixNnDMXO3NysD1zG4xGoyho83Jz8fDBQzx//hzbM7eJ9/LzHY683FxUPXuGR48eIS83Fzu2bcft334Tc5auTE3FhfPn0dbWJq7lt0uXyV5vgM7P0rd9hziv1tZWXDh/Xvw6aNRobFifLlvny5csWylra2rx6y+/YP3atTZrmbl1K76YEolPg8Zge+Y2jB4xEjNnRMveW3aP3J07cfu332TCnJ23PXMbcrKyxa9fv36NPbt3i/dJWvKN7L12Z0iWEoT6Uasstdf+UmQUo1FZESn27/+HefcsuVJHjEVqSgoMBoNTJVN/y1IWifXjj4ds+qRFkJhIlOYjZRiM1Tb5SIHO7fTW+UjtRatKC0gZjNWWYlN+/v0mSxfMn98j6StFWvxJjSKRZKljkCx1fZFnMBjgoxvV778rSJYShPOhbfiE2hj0spTTaDEqYARCxgSD02jxadAYZG3fgXfv3qGqqgppK1dhfNhYjA8bi9u//YaGhgZRlh4rLRWFpSAIMJlMuHD+vEwEsmt1vr6iLJ0xbbp43Lo9efIEZrNZHLO6uhpVVVXQ378vjjvcZxjGh41FfX29TTQm24b/7t07CIKAWzdvipGbu/N2iakExowOxHer14iyNH/vXjx7+gzjw8ZCf/8+zGYzqqqqIAgCXr16hXNnz2J82FgYDQbZNvy6ujq8fPkSgiAgYvJklBw9KspSTqPFuu/WinP7duky+A71EV/rCD9/BAdZIjW/WbxYPP7o0SNs3LBB/NrHe4hMlr58+RKnTp7E+LCx+OP337Fj23aEfhoi3tPPdzjGh42Fl9YTo0eMxKdBluigkDHB2PJ9BqqqqlBVVSXLpWp69QqvX78W+6qqqkRRzWkseWVra2pFWb4rN0+2ltL30J0hWUoQ6sfdZKm9xiJL/5G8H5rRE7BowUJZESK9Xo+4mFhsTN+A6xUV0Ov1MBgMfVr7/pSler0eATpL5fuuqtYDncWYpPlIGUwkKm1vtx63vb1dsfgT29bPxnj0+AkCdH79Jko5jRY5Wdk20leaGoAVeLJX/IlJXzWKRFeXpeXnygd6CgBIlr7Pf+v7AouW72suamkjWUoQzodkKaE2VCFLC/cViILvjz/+gCAIaOnYOs6iL1nO0qwdO0RZymm0YpEfQRBsohvT160X+5KWfCPK0q7aUC9vHP7xkPh1+KTPbR5g58/7yu719mQpp9Fiy/cZML16BU5jm7M0f+9e2TjFhw/LcpbGxcSKfVJZOm9uIr5ZvER2bVeyNGHWbPFr6cO5dBu+71AfHCzqzP8aGR4hk6XfLF6CxDlzIQgCgoOCLBGuVVXiWCxn6RDOC4cPHcad23fAabSorKxE/t69ih+iTK9eYWvGFtmxlampoizlNFrEREdDEARMHP8ZtmZswauOtbx44YLs9bszJEsJQv2QLLVt0m34PM+LYjQnKxtxMbHQ6/WIDI8Ap9EiLiYW5efKsWjBQovAMxhscoXao79kKc/zCAsJRWR4BADIxGVjY5NNESSDsVqxan1raxsMxmqbfKRMOlrnAZWOIRWX0i35PM9jVny8Xek5Kz4ep0+fBs/z4HkeOVnZGBUwoltZer2iQpS+SqkB7Elfk6meCjwNIHq9HpxGi8jwCId/TpwFydLBI/K+iJmLTyYl9NucSJYShPMhWUqoDdXI0qamJlRcq0BjYyPKz5VjdvwsVFyrQPq69di8cRMEwVIhPScrGwvnz0fFtQpUXKtAZWUlBEHA3IQ5+DRoDCaMGy/27dm9G/GxsYiPjUXRgSIc+eknxMfGwmQyQRAE1NbWIj42Fvfv3RNF243r11FbU4tHjx4hPjYWZadPi+Ox9vDBQ/H8w4cOi/eIj40Vt+nHxcR2FDtKFq/Ly83FV4mJqLhWgfr6ety8cRPxsbG4fOkSjEYjXrx40TnO+M9EWfr40SOUlpSIfeNCw0RZ+uDBAzE/67y5iThTdgZNjZa1nDj+M6z7bi1aWloQHxuLwJGjZLL0xYsXYg7TX3/5BVd//RXxsbHw9uRwsKgIT548QXxsLHS+vggZEyze/2BRER48eGBXlgaNGo342Fh4aT1x+NBhmM1mVFyrwDeLlyBz61ZcvHABnEaL3J07sTtvFziNFtHTZyAvNxfHSo+B02hRtP8ACvL3IT42Vlw/9j79fucO8nJzET19BjiNFhGTJ2PHtu0kS0GylCDcAZKlts3RnKUswvR6RQUWLViIuJhY8Dwvi34sLChATlY2SktKRCHI6A9ZyvM8IsMjEBYSKo7dVdV61q9Utb6r4k9MgjJYPlLpmNJIU4Y0Ote65efvU6xaX15+3u41rElfhz3p29LSIjvOUgOQLB042B8ZpD8j0p+J9wnJ0sEj8phk/3va0X6ZE8lSgnA+JEsJtaEaWdrQ0IBjpaWor6/H1V9/FaMKD/34Izamp+NYaSmampqwMzsHI/0DcKy0FMdKS3Hjxg0IgoC0lasw8bMJGBsSKvYt/zZZfLhbv3YtMjZvBqfRYn9hIY6VlopRjplbtorXtLe3QxAEVFVVISV5OWpqaiyRri0t4jnSlrV9B1KSl4uNCTwmAHN37oQgCCg/V46dOTlYlbpSvHZjejo4jRavX7/G3bt3sXuXRRzOm5uIlOTlSE1ZIUanZm7dCk6jxdcLFyEleTnSVq7CsdJScX6CYKk8bxGOlvHHhoRi3XdrxQJPsdEzsXHDBnEtBUGA0WAQo17XrvkOnEaLb5cuw67cPBQdKBJfV9SXUzHUyxspycux94e94j3SVq7C+fLzoiydOztBvMbbk8PKFSvEc9eu+Q47tm3HoR9/BKfRYsP6dOzLzxfPv3jxIurq6pCSvBwH9u/H7l27kJK83GbNzWYzLl64gKQl34DTaDE7Lh7fb9os9rszJEsJQv2QLLVtfS3wxHKdXq+oQGFBAeJiYhEXEys+iLNK9YsX78D4cd/0KcIuNSVFHE+8v6SAkVRcApZIUxaRyZBGiUpFIhuDSUfWJ81HKr1nXd1LNDR0ii97BZ0CdH44deqUYrRqTW0dGhubEBYSaleULlqwUHZPKUzYOip9XUkk9heuKkuV5sVptAgLCR2Q+ZEsHVwib0tWHji/IHyQ/7jPcyJZShDOh2QpoTZUI0utt+FL29VffwWnsRR42pmdI3tg62obfm9aa2ur4vZ6vqFB8fzdu3YpbsPnNFoc/emIeHziZxNk2/Cl7fXr1/h+02bx69u3b8vGTEleLvaxPKa1tbXgNFpZRXlBEEQBy5pUlv584gR+/eUXcBotjAaDTJZKW3NzM9Z9txZTI78Qx91fWAg/3+HiNnx2LssjymRpxbUK8ZohnJdsXKVt+Au+mq+43jNnRNtsw2ftyZMnYi5XTmPZhn/u7FlZ9Iq7QrKUINQPyVLb1ldZ2hXXKypQWlICg8GAsaFT4Td8PFJTUkSRxLbSs2jUrvKismusc0AajNWidJTChKFSTlMWJcr6lKJEDcZqcYz29nabe5pM9eLXLBJMSZTq9Q/E1ADSuUijRBctWGj32aq0pAS82dwj6StNDSAt/uQqIrE/cVVZ2l3e2o3pG95rlCnJ0sEn8saFT8fHU5P6PCeSpQThfEiWEmpDNbL03bt3aGtrw/SoKAzhvKAb5tshCpPh7cmB02gxhPOCtyeHkDHBaGtrQ1tbG34+cQJDOC8M4bxQtP8A/vj9d3AaLe7evYvCfQXQDfMVz7VuT58+BaexbEFnxwRBwNo134ljDuG8kLF5MwRBEM9h1WuZLH369Kl4Lpsrp9HC25ND7MwYu7J00YIFaGtrw+iRo+DtyeHzCRPR1taGd+/e4afiYsUxpfNisvRM2RnxWGFBoTjPLyMj4e3JQedrWYPkZd9i7uwEtLW1YVxoGHZm54iy9Mrly+J1Ol9feHty8NJ6YgjnhQcPHqC9vV1cn28WL8HchDni14IgiO/f7Lh4MSKWzXHa1Ci0tbUhYvJkfL9ps7gGZ8rOiJG8giAgc+tW8XV4aT3h7clhCOeFtrY2pKaswMwZ0eL6SGWptycnWyN3hmQpQVi2ObOt1K7cln6T1KvXR7LUtjlTlkqRbsM3GAwoP1cu5j2Ni4m1PNN0RKaGhYRi0YKFMBgMKCwowNYtW0RxaE1XVeubm9/KRKJ1ESQmIJW2txuM1TLpyGByko3B8zzGhoYpCrHffvvNoar1G9M32JVqr0wmRekrTQ3gqPR1FZHYn7iqLJV+X9trYSGh760AFMnSwSfy2Bp/lF7WpzmRLCUI50OylFAbqpClM6ZNx5q0NKxJS8PokaPAabTwGTLUElV69So2bdwoiskFX81HaPCnomA7+fNJ8YFt5oxoLF70NTiNFku+/hrR02dgqJc31qSlKUasNjY24vChw2J0pLidffVqjAsNw+FDhxEcFCTmTGVpATK+/x6HDx2Gn+9wTJsahfR163H40GEcPnQYK5Z35vpKSV6O8+WWQk6nT53Cndt3rGTpQrHAE6fRYvLESeJ9Hj16JI45I2oaJo7/TPz68KHD2LvnB3Aay5b9hFmzxTGjp8/oXMsRIxEfG4tDP/6INWlp2L1rF/b+sBdr0tJQtP8AsrOysH7dOhw+dBgZmzeL1x368UccPnQY2zO3gdNYKgpfvXpV7B8fNlYs8JTx/ffi8TVpacjfuxe783ZhTVoavD05LP82GQX5+7AmLQ37CwuxMydHXKNzZ8/iwYMH4rU7s3PE1/fZuHGYOSMahw8dhiAIuF5RIa4la68UonTd/R9MkqWEu1NYUAAf3Sh46sbg46lJLtk+mRAPT99RYmRWTyFZatsGQpZ2hV6vR2FBAUpLSnC9ogJhIaEYwnmJ29GlKFWtty6CxPqtq9azPut8pEBndKb1tn6laFV7eUpPnzqtKC55sxk1tXWyKNHZccpFoZYlLRVTA0jvaZ0aQCp9pakBWB973a4iEvsTV5WljNKSkm6jTBctWOj0KFNnydL+2Cbe300tshQAvtvwPTx1Y/CXImOv50SylCCcD8lSQm0Melk6PSoK06OiEDF5MjiNFuGfT8b0qCjERs+02YZffu4ccrKykThnLu7cvgOe52WydGxIqDje9KgojJXkz8rLzcWd23dw5/YdtLS0oLq6Gvr790Uxyfru3L6DTRs3ilvAwyd9jmVLl4p98bGxmDkjGndu30HCrNmYHhUlVqOvrKzE/sJCTI+KAqfRYnvmNrH4kiAIqK2pxeVLlxySpdbb8L+MjBTnYDQaxW34nEaLkf4BmB4VBW9PDmEhIeLr1w3zxZKvv8aN69fBabTYmZ2DY6WlmB4VhcuXLonFsgRBQMKs2RgVMALTo6LQ8vYtBEHA3bt3RVl6+tQpcdyR/gGYETUNd27fwegRI2UPyz8ePIisHTvEiNLyc+fw559/YnpUFJ4/f478vXsxhPPC9KgoXK+owIXznUUh1q9dC71eL+Zf3Ziejju374jb/FkxL71ejzu37+DXX34R5zRx/GckS0GylHBfrldUYFz4dHAaLf65OK9PH8qc2T7Y9xhav2BodUH4z6eRvRJ8JEttm6vJUiXiYmJt5sikY1dV64HOnKZKRZBYHlCl7e3WEralpcUmD6h0t4y05eXmKaYGsFe1PjYmRnGc48dPiLLVWvpKUwMYjNV4+cokSw0A2EpfVxOJ/YGry1LAEn3cVaoFTmNJ2eDMKNP+lqUAEBj6Gf6VmDHg/4ZZNzXJUp7nMTpkAv4du6bXcyJZShDOh2QpoTYGvSxlQtCRnKWcRousHTtgNBrBabT45covMlladKBIdt2B/fsVH+Zqa2qxY9t2jAsNgyAImBUbJ+s//OMhcYzwSZ/bfSh89eqV7H4x0dFYucKyBd1L6ylGu7L+H/bssfkrvKOyVHrd9sxtMlnKZK2f73AUFhSK102N/MJmzgmzZkMQBIR+GoLsrCzx3IRZs7Fs6VLZfaWyVHpcmrO0qybdps9a/t69GOHnL34tlaWcRouJ4z/rzP/60xFwGi0EQcDKFSsQE21ZSyZGA0eOEs+lnKUWSJYS7obBYEDCgiRwGi0+nprkkhFCrP3PpvPw9PbFJ5MS8GHevV4LPpKltm0wylJ7BYyk+UgZTFAqRYmyqvZSmHRUKv4kFZc8z9v80ZPTaLEydWWXVeubm9/KjtfW1Sk+BwSNGm1X+lrLVkelryuKxL4yGGQpo/xcebdRpnExsV3m7u0tzpCl7I8Ff91xY8D/HZM2NclS6Tr/LeNSr+ZEspQgnA/JUkJtqE6Wjg8bi8kTJyEyYorY19TUhMrKSgQHBclkaVhICFavSkNlZSUqKyvx+vVrmZh7/fo1/vjjD5uHuInjP8POnBw8ffoUgiDgxYsX4hiVlZVoaGgQx6h69gyVlZW4ffs2OI0W+wsL8ePBg6IsLcjfh8kTJ2HyxEk4U3ZG3NLPxjp75gwmT5yEFy9e4Ic9ezDCzx+VlZWIj42Fn+9wTJ44Scy3KZWlZadPi+MG+PmLc79y+TJyd+7EzBnR4j2O/PSTOM6Y0YHidcOGDMWypCTcv3dPvF43zBeTJ07CjevXkZOVjdnxs0RZGqDzw+SJkxQjS48fOyaOe+Snn8R7jx45ChvWp4tfR305FQvnz0dlZSUiJk8Wr2EtaNRoRVl688ZNVFZW4tnTZxAEAcu/TUZwUJC4LkUHivDixQtRlqatXIXbv/0mjpuaskKcgztDspRwF3iex5asPPjoRkEbPKXXH8DeV/vX/G3wHOqPj6cmiVGvJEv7rw02WSrNRwp0Rlxa5yMFIBZVsiculYo/sTFYH5OOvNksnmcwVmN5crLNM1JYSCgePX5iU7WepQZQqlpfXn7eZhxOo0V2tvw96U76Sl83AMXiT64sEnvLYJKlgOXf365y1LIo08KCgn69rzNkKQBExMzrlyJE/dnUJksBIGFBErTBU3q184NkKUE4H5KlhNpQjSytra3F95s2Y8zoQESGR2BrxhYIgoD/Xvwvyk6fhiAICAsJwZzZs/HDnj34ftNmhIWEYFlSEgRBQGFBIfT37+Ply5fI///Ze7OmKLpv3Xd9gHOzb/bFjjgnVsS+OCtWnB3/WHtXmSKINNKJgCAgKCoKgr3SqqhIoyCI9CggKFiFKCoigr6K0r6IDYpiyysIKhaCFlpF0QiYz7koc5JZDYLSM5+IEWFVZs6cOQuKzJ9jjEciISE5K0FSQiKSEhKxNziY3MRlZ2VBqVRCKpGgo6NDAFnv1d0jx3d3d4NlWfT39yMpIRGns7NxOjsbSQmJ6FX14u+avxEZEUGAH3+curt3cSw2FoxIjLbWVpzNzYXVz2zIAD9/MpdjMTFISkhEanIKOW/WqVNk3m4urmTfDx8+4MH9+0hOSoJUIkF7eztul5WBEYkRF3uMHJOUkAgbSyvEHo3B4OAgkhIS4ersQsbpkMlQV1eHlKRkSCUSnEhLI8dJzkrQ9Po1Pn36hKSERHR1duHx48dk++nsbNy5fQcsyyIr8xROZWSSeaelpuLmjb+IwdOObdsEc9rs4yuApS0tLepz5p6FVCJBcdFVsCyLggsF2Ll9BxiRGEkJiXj+7Bk6OzshlUiQmpyCmpoaQc/S4MAgMuZ8FoWlVPNBlRWVsLJzBmNqM2PhHT/+teEgGJFYq9STwtIJXONZBEs56KjPwEgz41IzQxQQZonyt3Fj8PuAAtCZJVqup/z+9eumcbvWnzxxUudYnz4J2wvIOj5p9SPlWgOMFfrOdJD4O5ptsJQT1493qrJMJwuWcg/cMym7dC7CUqVSCSMTS/zHntPjnhOFpVRUky8KS6nmmmY9LFUoFFAoFOjp6QHLsti2eQuSEhJHzJaOHIH/rt1QKBSwt10ORiTGcptlUCgU2OLrS2CprY0Nzufno/6h+pfGbIkJlhgthomxMclOvV12m9y8nUhLQ9Pr12BEYlRVVqG3txcsy0KhUCAiLJzs9/TJE/T19eHHjx9QKBTw3+2Hndu2Q6FQYHh4GP39/SR7lQ9LFQoFoo8cwVJTMyw1NcPLly+Rc+YMnFY4QqFQYN+ePWRbe3s7BgYG0NbaSt6LiT5K1uZASAgWMQux1NQMTU1N6O/vJ2X4t8vKcOP6dSw1NUOvqhd9fX1kLbf6bkZc7DGSKRt1+AhMjZeAEYnx5p83UCgUePPPGzAitdkSd77FiwwhyT1Lxunp6YFCoYDy5ziR4eGk9J9lWWIExYjEqK6qIuMsYhYSgyYuCi4UYIWdPdmnV6Ved2dHJyw1NYPnuvVg2RHzLT5YbXjcAEYkxovnz9Hf34/u7m6yXvv3hZAx57MoLKWay2pqasJan50EPM7kkvt/u6LuT/q/Hb3BiHQ7AVNYOnExW2Dp6ezTo7rWa/Yj5UyQdPU05aAjt43fj5Q/Lh86curpUWGZtY0W2MrLy9MLLkdzrdcFzLZv2y4Y44u8e8zQV6Xq1YK+3HXPFpA4Hs1WWAqMPct0In4/JwuWAsAGn+34L9ft0/5dxsVchKWA2izsd8A0haVUVJMvCkup5ppmPSzlbqTWuLnr7Nep2bNUMzhYyrIsjsXEkPebXr/GhfPnCSwN2btv1Bu5sNBQsCwLw4UGWtsS4xOgVCi03pfL5UhLSSWv+bB0oXgByZJkWRYuK52RkpSM7p/ZkNVVI87uFmbmkEokgmu+Ulio9T/zLMvCyWGF3p6lLMsiPi5OsJYXCwqweJEheX3/3r1R14Ef6z3WgmVZeLivBiMSw9R4ic7Phw9LNUMTlnIgmdse4Oevc8xNXt7EZEsTljIiMck8pj1LhaKwlGouSqlU4ujxJDAiMf7LdfuMyv7RF3wjJ33zpbB04mK2wFKpNE+rH+nw8PCorvXcdk5f5N06+4DqKm/nyt41s0QT4hO0/l5vWO9JWgOM1bX+6zcFmpqadP795xv9cMBWE/p2dn0mrQG4bf39A6NC39kEEscqXbB0LoaH+2o0NTX99jpNJiyVyWRgRLr/Y2s6Yq7CUgBY67Nz3GCawlIqqskXhaVUc02zHpZWVlQgwM+fAL7kxEQUXrqMwcFBBAUE4vGjRwSWFl4uxIGQEFgttUBlRQU83FcLYGlTUxMqKypQWVEBpVKJD+/fEyjJh6VXi4rIfpUVFXBf5QZ72+UICgiEwQIGR6OiBWZMifEJGBwcRGVFBbw8N8Bz7TpUVlTgwP79Ahd2X+9NCAoIRFBAICrKyyH7KNOCpd8HBlBZUYG42GNk31s3s2dDnAAAIABJREFUb+L9u/fo6Ogg73msXiO4wbRaaoGggECUlpSipaUFAz/HWefhQWDpgf374bTCUQBL29vbUVWpXoNz0jxs8vLWexPr670JlRUVMDJYhOgjR3C1qAhBAYEwNzGF/24/1FRXa0HNyIgIZGWeEqzn8WNxo8JSbi03enpimZU1ggICSRYrH5Y62NmR8vqC8xfgu0nttHuxoADNzc3EmTUoIBDHj8WR889nUVhKNdeUf+4cjEwsscBk2Yx5iP1VECMn563476df6d2PwtKJi9kASwMDAiGVSsfsWs83QeK268oSlXV8EkBHThz01Czrr3/0WOc9wJOnT/W61muCy+7ur8S1XldWoYOdPdmf3xqAf52aGbZ86KtpIMVd43wqw5/L8bu/q5MJSwHgQNhhiG3XTPv32b9dmduwVCaTwcjEclx/TygspaKafFFYSjXXNOthKcuyiD9+HCvs7FFdVYXIiAikJqcQiHpOmofCS5cR4OePmzf+wsH9B2C11ALVVVXwWL2GwNK/a/5GdVUVHj96JACF1VVVqK6qQnxcHDZ6eoIRiVFy7RrevXuHvr4+VFdVIfrIEaxd4wFGJIb/rt04m5sLqURCbuqCAgLJOHGxx3AsJgbVVVWjuoFy+3Ox3GaZGpZ+/47qqipsWK8GhQF+/qQUvaWlBYxIDB9vb6xxcxeMZ2m+FAF+/vj8+TPevXtHxl3vsRabvLxRXVWFPUHBcLR3IGupVCoFAFJyVgIvzw1gRGJs37oNAX7+2L51GxiRGF6eGyA5q85u3RscjNycHOTnnSPnP34sjozz8uVLcn4LM3Oczs4m254+eYI8qRQBfv4I8POHJPesVi/XwcFBVFdVkbkwIjGul5bi/bv36FX1orqqCqucXWBvuxwBfv6orqpCUkIiGbOzsxPv373H7bIy8l5c7DEyp/ksCkup5ooe1dfD0X0jGJEY/7Hn9G8ZQkxHqI2cTPFfrtt/OWcKSycuZgMs3bZ5C3JzcgTvcdBxNNd6QNjTVNMESZ/5k65yemVPD7Zs3qJ1zyKVSvW61mu2BtB0rdd1L1Ry7RoA7dYAY4G+KlWv4HxciT43BoWlcyN+x/xpsmHp70C8yYq5DEuBkZ/50f5DkR8UllJRTb4oLKWaa5ozsJS7eXrx4gUuXbwIo5+l4wf3HyCO7Q52dlo3WxwsXWK0GIxIjHUeHgTKXTh/nuxXdusW6u7eJa+zs7LQ3t4ORiTGw4cPUVpSCkYkxuDgIKKjovTe3JXfuYOa6urfujHkl+FzEJYPETlY2tjYqLcMn2VZnM7O1jm+SqVCfNxIVufLly+1sjq5MvwOmTrrteNn2dH9e/cE+8UejRGMzYel+/bsFWzjw9Itvr4ICz0k6Dm70dNTbxk+P3JzctDW1kZec2X4jEiM4qvFgjFyc3Jg/dMsi5bhj4jCUqrZLplMhu0BIWBEYvxrfciM70vKj/9vq9rQT9PISV9QWDpxMRtgKWfwxGk013pNEySunF4zS5QzXNLMVu341AmVqlfL/Ony5UKtv71urqvQ/lFowPMr1/rh4WEAI/0H+WFuYgpAP/RVqXpJlih/zmOFvoyIwtLZHH9Sij/ZsBQAUjJOY4HJsmn/D7q5DksBwNF9I/61PmRMc6KwlIpq8kVhKdVc06yHpVYWljA2NIKbiyu65XJs8fVFXOwx4kLf09OD6qoqWFlYoqmpCSlJyYKbLj4szc3JwaP6elhZWMLKwhLxx4/j48ePYERjh6VWSy2weJEh1nl4oFsuR7dcjqzMUzA3MUW3XI7vAwP4/v07uuVyWC21QPqJk2Q/fiwUL0D+uXzyeqWjI5YYLYaL00p0y+XYuX0HgaXOjk6wsrCEl+cGdMvlGBwcxJXCQhgsYNAtlyNk7z4YLjQg12Wy2Bg2llbolsuxbctWASztVfWScw4NDaH4ajHsltlqwVILM3NIcs9ieHhYfV3fv5N97G2Xw9jQCB7uq8lYvape9Kp6YWVhieulpYJr7evr0wlLba1tcLGgAA/u34eVhSXaWltx6eJFOK1wJMfeuH4djEiM1rdvkZaSCs9168k2lUoFlmXRLZdjYGCAnMPLcwNMFhsTWBp64CDMlphQWAoKS6lmr5RKJVIyTsPIxBJi2zX4v5Nrp/1hZjzBGTn9zyPFYz6GwtKJi9kGS/n9SIGRjEvNfqTAiOO8JrjkoKMu8yduDG7b4OAQ2t69h4WZuRa8evDgoU5wqcu1njOi4l+T5ninMjK1+pFy+hX05YuDvprmT3MRlpZcu4bNPr6zOsYCSv/0d3QqYCnn2D7d33XzAZZy/Y7H8neTwlIqqskXhaVUc02zHpYyIrXJz5ns00hNTsEyK2usXeOB1OQUpCanoOn1a8g+ypCbk4O01FRkZmQgLVVtqnQ4IhJZp04hNTkFi5iF2LFtG8IPhZGbsvUea5EQHw9GJEZQQADST5xEbk4OcnNykJmRQTJID+zfD//dfuS44MAgMp/U5BRs27wF5j9d2UtLSnGtWJ3laG1hic0+vqR8/fKlS7hdVkYMnnbv3EXG4B5QlhgtRmpyClY6OsLZ0QmpySnIOXMGuTk5uFpUJOi/mpuTg9TkFLivcoOTwwrk5uTAwswc2zZvQc6ZM0hNTkF2Vha5prSUVDxpaEBXVxc5b0Z6OhknNTkFJ9NOIDcnB+amZsjMyCDnK7pyhezDjcdfA/629BMnyeuenh7U1dWR1/bL7eC+yo3sm5GejrDQUDAiMVpaWvDi+XMy9+bmZrx/957M/VRGJq4Uavc41ZyD5lo6rXAU3IzPZ1FYSjUbVVlRCSs7ZzCmNtP+gDre4Bs5jRfwUlg6cTGbYKlmP1JAv2s9Bx01QSLfBIm/jRuDPy4HHTPSM7TgVXBwsBa41GwLAOh2rddl7LTM2gZKpVKrHyk3hqzjk1Y/UmVPz7ig71yEpbNZj+rr4WBnP2nZpHxNBSwFfmb6mtpMa2XDfIClgDqTdyxrTWEpFdXki8JSqrmmWQ9LXVY6o+TaNbS1tsJlpTNcVjrDxtIKC8UL4LLSGYWXC/Hp0ydShp+Rno7Pnz/DZaUznjQ0oKamBi4rnbFQvADWFpZkDKNFhlhqagZnRydys7Zz+w4C4NJPnCTv29suJ8e5rHTG+fx8VFdVCd7zXLsOLMviWGwsoqOi1BmOGzbCwswcK+zs0dbaivUeaxEZHk4Mnfh9vBztHeCy0pmAveU2y8jYL1++hEKhEABCpVJJyvIZ0UgZvpPDChyNiibO8EVXrqCrswssy2KdhwckZyWoqqwCIxLDwc5O/WA2MEDOFbJ3H9paW7HJyxuZGRloa21FW2srvDd6kXP19/dDLpfj75q/yXHWFpYwNV6iVYbf1dmF/LxzZD+uHQIjEmNoaAjRR46Q1y0tLeTauM+9s7MTLMvCysISyYmJZD79/f1kLRiRGMusrGG/3E7vWtra2FBYCgpLqWaXmpqasNZnJxiRunR9NpXc/9sVtZGTeIkN/s+y1WPuu8YPCksnLmYLLD2be3bMrvXAiAmSrp6mHHTktil7enT2Af38+QtaW0da3PCjo6NDcD59rvWfP3/Rcq0/FntMazyJRKoX+urqoco3kOJv6+7+ii/ybsF1DA8Po+NTJ4WlM0RKpVKnuRc/zE1Mf6s3qT5NFSwFgKV2rmNuqTIZMV9gqVKphJWdM/6Xb/Soc6KwlIpq8kVhKdVc06yHpZpZhCzLjtqzNCM9XecxS4wWo+BCAXntsXoN4mKPoVfV+0tY+vDhQ8FY0VFR2LDeU+d5NCMtJVVwY8jBUpZVO8Vz77e1tpKSckakNoDi9rMwM4dUIhGMq69nqZPDCq2b0X179pLjxtOzVF+PrP7+fsQejcF6j7XkuPP5+XphKX/8Lb4jpVj6YCkXwYFBCPDzJ7CUP4cnDSOmUIxI3bOUA8RtbW1gWRbyn2tZU11Ne5b+FIWlVLNBSqUSR48ngRGJ8V+u2/E/0h9P+4PLeOP/3S/FgkUmYzJy0hcUlk5czAZYum3zFkil0jG71vOzRPk9Tbl+pJz45k+aY8g6PuGLvBtBAYFaf+vj4xME+/JbA/DBpWZrAFnHJ3R0dOgEY29b23T2Ix0N+nIGUtw2hUKpF/oqFEoKS2eAxpJNutnHFzKZ7NeDjUNTCUu5frzT9Z948wWWAiPAY7TqDApLqagmXxSWUs01zXpYusnLG5u8vEmfy8MRkXBa4agXltrbLkdwYJAaDB4/TkrJlxgthpPDCgIrm16/xocPHzA8PIwnDQ140tCA5uZmsCyLoIAA2NsuJzd07qvcyDw2eXljmZU1TI2XCN7jR3JSEliWhf9uP9gtsx0Vlq52c8OThgb09/fjxvXr2LDeE4xIjFXOLkhLTQXLsnjW+AydnZ34+PEjNnl5o7m5GZ8/f8bjR48EDyGbvLyxeJEhGJEYluZL8aShAV6eG/TCUg/31VoQlg9LO2QylN+5A0YkRn7eObJOw8PD+PDhA27dvIlNXt54/+49zufnw2ABg01e3rh08SKkEgkYkRie69Zjk5c3mcMWX1/s2rETTxoa4Ou9CcusrMl81q7xQMH5C1CpVNjk5Y3Cy4UounIFm7y8YbjQQLCOq91GPpMnDQ2Ij4tD6IGDZC0pLNUtCkupZrpKrl2DkYklFpgsw7/H3Z72B5bfif+1OZpkw/7JOBSWTlzMBlga4O8PqTRP8J4+13pNEySunF5XeTuXlarpWq9QKCHr+ISnT55qgSyrpRZ429pG9tVsDfAr1/qE+AStMfPy8sYNfTXNn0aDvt3dXwHMzZ6ls0VKpRIRYWFan/1kZpPyNZWwFACs7Vf+MuNxsmI+wVIAOHo8aVRjLQpLqagmXxSWUs01zXpYyt1crXFzB8uyyDp1CpEREaTU/UphIekJmpyUhMiICMREH0Vx0VW4ubgKDJ68NmxEVuYpsCyLyooKNDY2YnBwEMVFV1FcdBV1d++CZVkkxicgMiKCZEju3rkLvpt8yFw2eXkjwM9fcPNnZLAIkRERcLCzg/9uPwJrIyMiBMG5thcXXYWPtzdWOjqiuOgqlEolzubmCsZcu8YDxUVX8X1gAM+fPUPB+QuIjIjAhw8fwLIshobUvbl8N/mQ8U2Nl8DDfTWORkWjuOgqVru5wXPtOnKN27dug4WZOSIjImC11AJbfTeTbR8+fEBLSwsiIyJw6eJFFBddxaWLFxEZEYE8qRT1D+sFYFX2UYbIiAhcOH8e2VlZpPdoTPRRxB8fKb1a77EWqckpYFkWZ3NzSe/VqMNHBGtjbmqGndt34MJ59Q1PRXk5qqvULQMO7j+ANW7ugvVxcVqpXtOfa+ns6ETWkmVZqFQqREZEoKmpCa9eviLnmc+isJRqpupRfT0c3TeCEYnxH3tOT7vT8O/G7xg56QsKSycuZgMs5Rs8ARCYIGm61msCQ35PU764LFBdrvUchNVnwsTvA6rPtV5Xa4BXr7V7lTo7OumEvpqtAX4FffXBVu44gMLS6VJlRaWgvZSuCAoInPBsUr6mGpZyD+LTUf0w32CpUqnEYhMLvf8JSWEpFdXki8JSqrmmOQdLxxL88i8+LB1PGT7LsmhvbwcjUpfhl5aUkv0KL13G82fPhP9T/tPgKTgwiMDS0WKheIHg+LbWVuTm5Oi8ufz27RuSEhLh5uIqGIODpaUlJeQ9pxWOOJl2Al1dXXpvVj3cV4NlWaz3WCt4/+aNv8g4XP9P++V2YFkW27duw4H9+3Vei4f7ahw/FgeVSqXzfKezs8f0ubm5uAqO48PSbrkcqckpgu2RERGkDF+wlj/L8PXFfBaFpVQzTTKZDHvCjoIRifGv9SGzri8pF8TIaYn1uI2c9AWFpRMXsxGW6jMw4vcj5cSVoesqb9dlxsRBx7q6e9qZf6ZmUCqVAnA5Htf6eB1Zpdev34BK1Tsm6KvZjxQYG/TlRGHp1EqpVOps46CZTVpZUTnpc5lqWAoAa3124l/rQ6b8O22+wVJADeT1wWkKS6moJl8UllLNNc0JWJqfd46ALs+16wQ3YH/duIEH9++DEYkh+yhDVuYpsu1e3T0BJDsWE4N1Hh4ElvLHKbt1C3V374IRaffZ3Oq7GWGhoaMCOKVCoXVzKJfLkZaSCmdHJ7AsCx9vb709SxmRGClJyTrH5nqWcoZOjY2NAljKDy7rlB+3y8rI9vxz+eT99R5rEXs0Ruc57ZfbITMjAx0y2Qh4/glLjQ2NwIjEpGeph/tqMCIx6VnKD1sbGwEs5fcs1RVJCYlk3+DAIL378XuW/ir8d/uR1gwUllJYSjVzlJJxGkYmlhDbrpkwwDgd8f8kVEFsbAmxic1vGTnpCwpLJy5mGywdzbWe348UAHGg1+Va/0XeLQCJnAkSBx33BO/R+vvKzYHrZ6rPtV4TXKpUvWj6543WeKvd3PVCX83WAOOBvt+/f9dp/kRh6dQp/9y5MWWTKpXKKZnPdMDSsfTTnIyYj7AUALYHhEBsu0ar+oTCUiqqyReFpVRzTXMClm709ETGyXQCS7f6bkbh5UItWBqydx8yMzJIv8x7dffwrPEZIsPD8f37dzQ2NuLC+fOIDA+HhZm54GZui68vEuMTUHy1GH19fagoLyfwsvbvv5Gbk4PI8HAMDw+DZVl8+PABkeHhiAwPx62bNwksPRYTQ/qCHti/H2vc3AWw1NnRiRyXc/oM0lJTeQ8UbmRb0+vX6tLx8HAUXi5Exsl0Ag85WPrjxw8UXy0WONWPBZZ2dHQgMjwcVkst4OrsgugjR8i+LS0tiAwPh8liY6xd44GQvfvIsVzPV4MFDA4dDCVrWXD+AoqvFqPoyhVEhofjxfPnePPPG0SGh2OJ0WKs8/Ag17XMyhreG71QfLUYBgsYMm7x1WLY2tggKSERvb29iAwPh4OdHTn3+fx87N65i7z237WbtDTgxubH7bLbAljqYGdHts1nUVhKNRNUWVEJKztnMKY2MxaujTX+55HiPzZy0hcUlk7/Wo5XEwFLNfuRAiMQURe41FXezjdB4vcB5UyQgJGHCM0MQA5s6QOXnV2f9brWxxw9qjXmQx645LvW68oS5bbz9UXeje7urzrNn7gxuG2qn9VCFJZOjUYzcXKws5/yz2E6YCkA7Ak7iv+z3GNKv9PmKyyVyWQwMrHEf+w5LZgThaVUVJMvCkup5ppmPSz18faGj7c3wg+FgWVZHIk8DKlEgu/fv8PH2xv36u7h5cuX8PH2htEiQ2Skp0Mul8PH2xsvnj/H/Xv34OPtjYcPH6LhcQOKi67qvKlzdXZBZEQEGh43oOFxAzLS0xHg54+Gxw1QKpWou3sXPt7eeFRfj4bHDQTWMiIxEuMTCCwtv3MHNdXVgrHtbZej4XGDVs/N4qKreNLQQLI0fby9sdFTbfCUm5ODwsuF8PH2hkqlQlJCIpYYLYaPtzcxovrx4wcaHjfg+LE4sk5cVuz379/JtWSdUmfbem3YiNtlZXj/7j18vL1hYmwMRiTG4p9mWSw7YvDEhdEiQ/h4e8Pc1Iy8573RCxXl5Xj58iUYkRjXitVO9HV1dWBEYtwuK8Ozxmfqz8RgETmHj7c3zE1MsWvHTjQ8biCw1M3FFQ2PG7AnKBhpqam4V3ePXA8XdXfvIvTAQcHc9JXhMyIxUpNTMDg4iIbHDfDe6AVL86VkrPksCkupplujZSDN1vjPXcmT0mOVwtLpX8vx6k9haV5e3qiu9XzxoaOu8nYOOnLbOOjIP5/mzzK3RlzJvGY/0tFc6z9+lGmNtyc4eMzQl+tJyhffQEoT+vJbA8g6PqG/fwAdnzopLJ1CcWXRmhEfd3zKskn5mi5YKvtZhTWVpoTzFZYC6oxmRiQWVHJQWEpFNfmisJRqrmnWw9KxllqzLAsHOztkpKfr3LbEaPGoD7v8MnxGJEZ2VpagZyk3jqYr+1hgqb7gw9K21lawLIvunw7ujEhdusSdd6w9S7nQ1bNUpVIJ9uF6lo4GS/k9S7n3OLd5DpZqxu2yMkEZPiNSZ4/+qgy/paUFUokES3/2f+WHlYWl1v6/gqVy3lrSMny1KCylmm7NpYcZ7oFmssamsHT613K8+hNYunPHDkgkUq1+pJzBk67SdF3l7Zol+XzzJ24MXVmljEgMmUxGoKM+cMk/H781gK6+lS0tLYIxdEFffpboWKCvPvMnbgwKS6dW/M99OrJJ+ZouWAoAB8IO6ywPn6yYz7AUUPeK/S/X7WROFJZSUU2+KCylmmuaM7C0rbUVLk4r0fzmjRZIa3z6FC5OK2G40ACW5kvhu8lHJyzNSE9HZUUFuakLCw1FW1sb2traEBkRgQMhIWhra4O1hSWys7IwODiItrY29PX1obKiEi5OK/H27Vvs3xeCNW7uaGtrg7OjExLjEzA8PIy2tjb0qnoJLG18+hRtbW0k4/Lmjb+Qc+YMOb+NpRXsbZcTWHqlsBCea9ehra0N2zZvgYmxMVycVkKpVCIpIRFGBovg4rSShKuzC9ra2nA0Kpq819HRQUAqd21ceLivRmlJCVrfvoWL00osXmSIg/sPoPnNG7g4rURNdbVeWPrp0yfkSaUElp7KyCQmUFyYLDZGW1ubAMp++PABMdFHBbA0KCBQa25tbW34/v07FAoFPrx/r/X5fXj/HlGHjwjOZ25iChenlWBEYuScPiMY60z2aTitcAQjUhtylVy7RtZoPovCUqrp1lx6mOEeaCZrbApLp38tx6s/gaX+u/2Ql5cneE+XgRGg7kfKzxLlAKmu8nYOJPJhqy6wGREWphdcKnt6BK0BNF3rdcHX2JgYwTwUCqVe6Mu1BuDOye9Hyr8OTejLjSHr+ER6uVJYOrVSKpUwNzHFqYzMackm5Ws6YalSqYSRieWUfQfOd1jKZfNy601hKRXV5IvCUqq5pjkDS//55x8wIjFevHiB169eQXJWQrZxPUtjoo8iNTkFaampyM3JwcePH/H27Vvk5uQgLSUVjU+forOzE6nJKbC2sERc7DEyRsjefdi5fQdYlsWZ7NN48OABlAoFcnNy0CGT4fWrV0hNTkHOmTPY6OkJe9vlyM3JwYm0NNTU1GBgYAC5OTnIzclBdlaWet/TZ5Cbk4Mz2aeRmpyC09nZ2LdnD8l8TE1OwaGDoQSWns3NhZWFJViWRcm1a9gTFAxGJMa3b9/wd83f5Bgu0lJTwbIswkIPkYcTzZ6lt8vKUFlRAZZlkZGejicNDejq6kJqcgqWWVkj9mgMBgYGwIjU/V/1wdKbf93EgZAQAktjj8ZoPRjxDZ4+fPhA1mPb5i0CWBoWeojsd7e2lmTGFl25ggcPHgjm//7de+Tm5KCvrw93a2u11oCLrMxT5Hzfvn1Dbk4OmVf4oTCyzvP9C5PCUqrp1lx6mOEeaCZrbApLp38tx6uJMngCRrJEv3//LgCX/H6knLjydg46cuKOFUBHmXa5PCMS4+mTp+js+kygI3dOfa71X78pSJaoZkm/5VILATjTB301WwOMF/oC0DJ/orB0/mo6YSmgNi1kTG2mJLt0vsNSYGS9/5u0lcJSKqopEIWlVHNNsx6WyuVy9PX1CWDpteJi2C2zBcuy6OnpwZ3bd8CIxHj18hV6e3vR0dEBRqQ2eKooL4e1hSX6+/uhUqmgUCjAsiw8Vq/RgqVbfTdDLpdjeHgYvb29ePHiBRiRGBXl5ZDL5ZDL5bC1sYGxoREMFxrA2sISrW/fgmVZUobPiMTYsW0b5HI5rJZakBJ0uVyOXTt2wtR4CRiRGD9+/ADLsqQMv/HpU2ScTIel+VJyrpJr19Qgta2NvCeXyzE4OCgAisdiY2FtYQlrC0u8evkKcrkc3d3dYFkWB0JCcDgiUqt8Xy6Xw8N9NSLDw8l6Xb50CVWVVbC2sCT9RPWV4ccejcEiZiE5r4mxMUyMjSGXy/F9YAB3a2sFD04OdnaQy+Xw3uhFYGm3XI7YozHYvlW9Xl4bNiI5KUlwrddLS8GIxHj79i36+vowPDyscw0iw8PJuRobG5F+4iQMFjCwtrAkfVMpLKWwlGr6NZceZrgHmskam8LS6V/L8WqiYKmmCZImuNQ0QZJ1fBJAR0C/+dPxuONaoNTDfbVWeTsfXGq2BuCbP+nKKtUFfTVd63VliXLj8vuRAkB//4AW9OWPQWEpFTD9sFSpVGKxicWUfA9SWKqWo/tG/Gt9CIWlVFRTIApLqeaaZj0sZURi5OedE8BSPiQ7uP+A4AY9Iz1dAEsFUDEmBus8PPTCUm6Mrs4upJ84qTPzYnBwENFRUdiw3lMwNh+W6ouGxw0ovlqsE5aOJxobG/X2bXVyWAFGJIattY3efbi11BXbt24Dy7KkxH40WLreYy0Z83x+Ptl+u6xMC5byg4Oli5iFKLxciGeNz8CIRnqW6jsuNycHbW1tYERiPGlo0AtLubD+maXrv9uPwtKforCUaro1lx5muAeayRqbwtLpX8vxaiJgqWY/UgCCDFNdwFBfeTvX7xRQPzQ8ffpU59/XoqIi0o+Uf87RXOu5eWg6oq9ZvZrsq8+1noO+mlmiXMYqX/qgL781AL+HKoWl81fTDUuBEfOh/yZtndTvNApL1WpqagIjEuP/LPeYU/cXM2mNqag4UVhKNdc062FpTXU10lJT4bvJh8DSv2v+hv9uP/jv9sM5aR5OZ2eDEakNk9ra2tDf34+a6mocjYqGJPesTlj6+NEjNDc3Y2BgAP67/ZB/Lh811dWoqa7GwMAA2lpbcbWoiNz8b/XdjJrqagT6+8PBzg7mpmbw3+2HDplMC5Z6rluPmupqmJuYqsGljQ1qqqtxJPIwkhISUVNdDf/dfrhXdw/fvn0j562prsaN69fV0PdkOk6mnSBjRkZEkH0OR0Si4PwFDA8Pw3+3n6B0/cGDB6iprkbZrVvw3+2Hly9f4klDA1kv/91+ZC25MDJYhJrqamz28R0TLN29cxdyc3Lw+PFjsCyLuNhjSEtNJfMgYaPeAAAgAElEQVTr6uqCXC4nr0P27sMyK2vyOk8qhf9uPywUL8AaN3dybWGhoXBzcYWJsTHZN+NkOhiRGDeuX0f6iZM4dDCUrOX5/HwCQ6USiWAdww+FUViqQxSWUk235tLDDPdAM1ljU1g6/Ws5Xk0ELNXsRwqMDi51gcQ3zS0oKipCUEAgllnbjPk/Y81NTLHZxxfbNm/BnuA9CAoMQlBAIE5lZOJURibO5p6FRCJF6fUbeFRfj1MZmVpj1NXdA6Ddj5S7Dl39SAH90JdrDaDL/Ikbg9v29ZuCwtJp0EzpWzoTYCkAWNk54z93JU/qdxqFpSM6ejyJfP9M99+aubrGVFQAhaVUc0+zHpayLIv44yMlY5Lcs4g+cgQGCxgEBwbh8aNHpGdp4eVCVJSXk4g9GoM8qZSAxCuFhTgcEYmK8nIolUp8eP8et8vKEBwYhHPSPEG2YktLC0pLShEcGAQrC0uEhYaCZVns27MXwYFBJIqvFuPNP28ILN3o6Ym42GOoKC+HuYkp3F1XIfxQGCrKyxEdFYXkxERUlJcjODAID+7fJ+fjWgZwpfdpqalITU4BIxLDf7cfKisqoVKpUFFeDhenlYg6fARDQ0NgRGIcPxZHwCUXCoUCwYFBePXyFW6XlYERiRHg5y+Yu7mpGZwcVmDfnj2oKC9HYnwCYo/GoKK8HIcOhiI4MAiHDoaSteSOM1jA4GJBAZQKBSrKy7HCzh7+u3aTde/s7MSXL19QUV6OgYEBnEw7ARtLK1SUl6O7uxulJSVgRGIEBQQiODAIqckpYFkWbi6ucHZ0wv59IagoL0dXZxdevHiB4MAg9PT0IDU5BbY2NqgoL4erswu2bdlK1lKSexaPHz0i119RXo6IsHACS21tbMj857MoLKWabs2lhxnugWayxqawdPrXcrz6U1ial3dOr4GRrn6kHDDkZ4+Gh2lXWkxX+Pr4Ij7uOAFo+qCvStWrBX01M2y5bbpaA3Dr8/nzFwpLp0F8wzAHO/tpW/+ZAku5e/n/fvrVpH2nUVg6IqVSCSs752n/vpvooKKaaaKwlGquac7BUi6MFhlqGTxphmYZPsuyePXyFRiRGE2vX+PC+fMwMTbWMnhiWRbpJ07C0d4BLMtiq+9mAks1w911FRLjEwgsLb9zBzXV1WQOOWfO4N27d2BEusvwuXBZqf+P/Ldv3wjA5d7jw1JGJMZmH1+9ZfccLOW71LMsi/Uea/UaPHEZsx0/jSDu3xtZS2NDI1wsKMDLly91zpdfht/V2SXIkK1/WE9g6dDQkGA+bi6uSEpIhOLnWlaUlwu2c/BYM7gyfB9vb53X77/bD8GBQeT1fBaFpVTTrel6uJvMh8aZBvim8wGawtLfh6X+u/0gkUi1+pF+kXdrZY5qlre/bW2Dh/vqaX+41xfmJqbo6VFB1vFJZz9STegLjPQj5cRlnY5m/jQ4qL4vorB06lRZUanzM+dD8qnSTIGlALDaZzf+tT5k0r7TKCwVSiaTTWtWMxXVfBCFpVRzTXMGlrq7roJSoYBSoYBUIiGwNOrwEZgYG4MRifHmnzdIS0nVCUttrW1QdOUKgaWmxksQf/w4lD8Nn3p7e9Gr6gXLsljl7ILFiwwJLO1V9aKvr4+MlRAfD3NTM5ibmuH5s2eQnJXAfrkdlAoF9u8LIfN59+4d0lJTYbbERCcsPRYbi107dgpgqaX5UnKdnLmRuYkpzE3NyDiasPTypUu4W1tL5mRuagZXZxcy38HBQSgVCvz48QNpKakEKnKw9MePH1AqFAgLPQT/XbuhVCgwPDyM3Jwc0krAxNgYRyIPC2Dp8PAwmWvOmTMCWMqd02WlMxYvMiTbTIyNERkRQdZdE5YaLTIcOediYxwICSHb+/v7ienW3dpaKBUKKBQKmJua4UphIe7V3YO5qRnev3uP/LxzcHZ0IrDUcKEBWZv5LApLqaZbFJZOPuCjsHTi1nK8+hNYunPHDpzNPSt4T5eBEVeazoeOly5dnnYg+qtIiE/QC325LFFuO78fKSfO/ElXT1OuvB+gBk9TLc2etfxwsLNHZUXllM1lJsFS7iH9f6Q/npTvNApLqaioploUllLNNc16WJoYn4B1Hh5Y4+ZOoNmlixcJLD24/wCcHZ2QJ5UiOSkJmRkZyJNKkSeVQvZRRo5ZYrQYBRcKCCxNjE9AVuYpJMYnIDE+AU2vX5N9Cy8XYse2bQSWXrp4keyXGJ+ANW7usF9uhzypFF+/fkWeVAqjRYZIjE/A6exscv7kxERsWO9Jbhr37wtB+omTpDVAXV0dbv51EyzLovhqMfKkUly6eFH9uugqTqSlIU8qxRKjxQjw80dKUjIYkbrsPuvUKSQlJCJPKkX6iZNIS01FnlQKS/OlYEQjBk9XCgsFc+ev5Y3r1/Hg/n0MDg4iMT4B2VlZyDl9BonxCVAoFGh8+lRgdOXq7ILE+ARIJRJknEwXjLvVd7MAlpK1vHQZeVIpTqSlgRGJEXs0BtlZWeS4xsZGyD7KkBifQOZubGiEPKkU7qvc4OSwAonxCehV9aKmpgYpScnIk0qRlpJKxuDWYP++EDAiMdra2vDi+XOylv67/bDazY18LvNZFJZSTbcoLJ18wEdh6cSt5Xg1ET1LOfFNkPiQURcwXLN65maVcmFjaaUFfTs+dUKl6iXvyTo+afUj5W/7Iu8WvDc8PKxVvk9h6dQq/9w58p/c+iIoIHBKsv5mEiwFgA0+2yctu5TCUioqqqkWhaVUc02zHpa6u66Cu+sqUkb94cMHZJxMF8DSjZ6eaG5uhq2NDWKij6KtrY3AOqVSiebmZixeZIiTaSdQU10Nd9dVaH37FjeuXyfjF125IoCr6SdOYrnNMjQ3N2PDek+Ym5qRfZeammHDek+wLIv3794jOWmksXj5nTtQqVRobm6G90YvWC21INsc7R1wLCYGzc3NYFkWXZ1daG9vB8uyePfuHZqbm9H69i1YlkWAnz+CAgLBsiwszMwhlUjw4f17uLuuQmVFBc7n52O1mxuam5sRE30U+/bsRXNzM+xtl8PKwhJbfNVl+bt37tK6aeVg6YcPH9Dc3IzXr17B3XUVCi8XElOrDpkMcrmclOUzIjHpwfr61SskxMfDyWEF2WZpvhSrnF0ILO1V9aK5uZnEgwcP4O66CrfLypBzeiQLtfByIf755x+ytu6uq+C1YSNYlkVwYBBMjZfA3XUVGp8+xeGISLg4rQTLstjk5U3GaG5uRnBgEHnNff5DQ0Nobm5GWGgojh+Lo2X4oLCUavpFYenkAz4KSyduLceriYKl/NJ0QGhgpNnT9O+//552EDrWaHjyBIB2P1JOXDk9lyXKSaFQ6jR/4gykKCydXimVSkHfUl1hbmI66VmmMw2Wck7t/x53e8K/0ygspaKimmpRWKqhodtINfnTeyNTuBV9mLw5AgC68TjRkpzTKLkBg5N8xtmiWQ9LNUu1PdeuU3/IPFiq+UNnb7uc7H/zr5uCbes8PHT2tdTVs5R/HL9naXRUFIGl7q6rBPvxe5bK5XJBWwDNMvzIiAhs8vIWlOFb/XRw1wVLufN7eW4QlOGXlpSQLwNGJMbJtBNk39Fg6XqPtWBEYizWsZYdMpmWy+2B/fv19iw9fiwOKpWKwFKuZykXTg4rwLIstvj6Ct4vvFyot9dqcGAQAvz8wbIsrCzUv+C6YKlmcLBULpeDEYlRU10tGHc+i8JSqukWhaWTD/goLJ24tRyvJgKWavYjBdQQUaXq1SpN//GDxZ7g4GmHoGONurp7ALT7kXLXwmWW8sVlmmqW8Hd3f0V391eyPgBoz9JpVmVF5ZiyTGUy2aScf6bBUgDYE3YUYts1E/6dRmEpFRXVVIvCUg1RWDrrNSdg6TlpHg7uP6AXlnquXYdnjc/wrPEZog4fIbA0LvYYVjo6kh+M5MRE3Ll9Bxs9PUlwGZjv371HybVr2OjpiW65HJ8+fSJjPmt8hoLzF7DR0xNDQ0Nob28n2aHurqtwYP9+YjJVfucOlAoFnjU+w7YtW2FrYyOApd1yOZ41PlObEkVEwNR4CTZ6eqK6qgrPGp/hwf372OjpiaWmZqPCUmsLS1LiX1pSgp6eHjxrfIblNstga2MDv127wLIs2lpbyTUsMVqMhPh4vPnnjQCWGixgsNHTExcLCsi+u3bsRGZGBqoqq8CIxCg4fwHv370Hy7J48fw5vnz5QmDpjevXcTY3F76bfPCs8Rmio6II/K2pqUFkeLheWOpo74DIiAhybX/duIHtW7eRbFsOfFpZWOJYTAyqq6qw0dMTpsZLyBjcnAsvFxJYWlpSgnUeHgSW1j+sJ5/5fBaFpVTTLQpLJx/wUVg6cWs5Xv0pLD2dfVqrHykgNDDiq7W1bdoB6HhhqbKnRys7lssS1dXTVNbxSa/5EzcGl3X6+fMXCkunWUqlEhFhYaP+HJibmCL/3LkJP/dMhKWyn0apE51dSmEpFRXVVIvCUg1RWDrrNethaeGly0g/cRLxcXEovHQZDnZ2cHNxxdGoaBReuowN6z3h6uyCwkuXUXjpMgL8/Aks3bFtm+CHseBCATpkMkRHRZH+mEaLDMmxktyziI6KQsH5C3j18hVUKhXZlnP6DKKjojA8PIzHjx8Tp3Z311XYvnUbLhYUIDoqCrk5ObhbWwuWZWH9MxvS3MQU0VFRBDZyfVE3eXljmZU1oqOi8OXLF2ImFR0VBQc7OwEs3RscjLJbt8CyLHJzcuC7yYdcV2lJCbq6ulB46TLJwDQ3MUXhpcvo6Ogg5zx+LA4PHjwgr89kn4aPtzcMFjCIjopCzpkz5HqPxcaiproa3759Q3RUFCRnJXhw/74gQ5Nby/y8c8jOykJM9FEUXrqM1OQU+O1SZ7R2dXbhZNoJnbA06vARsmbcmFKJBEuMFpN5cGFqvATBgUHIyjz1MzMhANFRUYiOigLLsnhUX0/aIWSdOoWszFNk+z///IOm16/J6/ksCkupplsUlk4+4KOwdOLWcrz6U1gqlUr1GhhxJkiclD09yMzM/I0b8+kLfdC3u/srvsi7BUCU60fKZZpy27hM0+HhYbIv18/06zcFhaUzRI/q60c1f2JEYmz28Z3QLNOZCEsB4OjxJCwwWYb/q6Bjwr7TKCyloqKaalFYqiEBLF0Cp5wGtLS0jDPa0K4c+vW5/kgUlurTrIeljEgMqUSC169ewXChARaKFyAm+ii+DwzAcKEBDBYw5INfxCyE4UIDrLCzx+DgIHZu3yHYfj4/H0NDQyRD1XChAQwXGoARqbMr/XftBsuysLWxQXZWFtrb28m4YaGHMDg4CJZlEXs0Bl4bNmJwcBBr3NxhsICBuakZBgcHERQQCL9duzA4OAhrC0sYLGDg5uJKemgODg5icHAQC8ULwIjE8N7ohcHBQfz48QPDw8NkfvwyfGsLSxguNCDl80NDQyi8XEjmX3LtGh48eEDWh38jWlNdjeHhYbAsS87NnWNoaAgXzp/H4kWGGBwcxIGQECwUL4DhQgN0yGQCMLp96zZShj84OIjh4WH8+PGDrMGx2FgoFOqHFH4ZfodMhrTUVDjaO2BwcBCbfUZgaX9/P5kTtwZSiQSMSEw+W24+XCxiFpIHIf6xhyMiyT4LxQuQnJQkGJeW4atFYSnVdIvC0skHfBSWTtxajld/AksD/P0h1TAh5EyQNDMu+/r60PbuPZaamk07AB0vLNXVj5TLEuWuk9+PlBN3LJdpypes4xMZg8LSmSOlUon4uOOj/kyYm5hO2O/mTIWlSqUSRiaWE/r9SGEpFRXVVIvCUg0JYOlUZIj+rigs1ac5AUsZ0UifTc+16xATfZSAL36fTc6gqaOjA4xIjHt1937Zs7RX1QtGJCZZm7pg6cOHD1FaUgpGJCbA9PmzZ2BEanOhPKlU701gzpkzZFwf71H6bLa24mxurs6epZrB9SzlXoeFHsJmH3U7Ab7pEhf79uwFy7KkdF2zZyk/uBJ4zeDDUl09S/mhq2fpWKKlpQVSiQRLTc20epZy0damu+Sw+Gox2cfFaaUWMKawVK3JhqXGJmk05kH8iSgsnXzAR2HpxK3lePUnsHTb5i04nX2avOabIPFhKdfTtKysbNrh53giODhYJ/TVZWT1Rd5N+pFy4rJSNXuaqlS9AvMnCktnnh7V18PDffWoPx8e7qvR1NT0R+eZqbAUgNoHwNRmwrJLKSyloqKaalFYqiEKS2e9Zj0sLS0pRWlJKS5dvIiw0FAUXChAzukziAwPB8uyaHjcQEyU9gQFo/zOHfT19aG0pBRdXV0Ell4tKkJpSSlqamrAsixOpp1AWGgoIsLCUVpSCtlHGd788wZhoaEounIFmRkZiD5yBKUlpTh+LI4YCoUeOIiHDx8KYGlLSwsKL10GI1IbHSXGJ4ARqcv+M06mIyw0FGGhoaQsnxGJyXVxER0VhXUeHli8yBBhoaHIk0ohlUgQFhqK3t5esCyLzs5OhIWGwmqpBZwdnRB+KAwsy+JJQwPO5+cjLDSUAFFzUzOUlpRijZs7HOzsEBYaimvFxdi5bTuWmpohLDSUtCIwXGiA0pJSeG3YSGBp/PHjqCgvx9evXxEWGgpbaxussLNHWGgoDBYw2LDeE8diYsj8Dx0MxeJFhigtKUVyYiLijx9HaUkpzH9mvVhbWKK0pBSrnF2wyctbcO2ZGRkCWGpksAhhoaGwt10Ou2W2CAsNhUqlwq2bNxEUEKB1g11aUorU5BSyzmZLTOC/2w8FFwrAiMTY6rsZ+efyKSzF5MLS6zdewdgkDdU1bydlfKrpVcHFJxSW6nlonGmAj8LSiVvL8WoiDJ44ff2mwBd5N4ARiMgvTf8VfJppkZGRoQV9NbNEZR2ftPqRAiPmT5q9XPv7B7Qyb/8UljY1NWGzjy+NSYix/Jz8ye/pTIalSqUSS+1c8Z+7kifkO43CUioqqqkWhaUamlJYOox+edtvlu9PNixlMaRsJ3NrlfdjthCXWQ9L6x/W49OnT/jnn3/AiMR48eIFKisqsXPbdgK/OHMlrw0bkZmRgcanT8GyLJqamlBw/gK2+PriXt091D+sx4sXL8CyLDxWrwEjEsPE2Bgsy6K5uRlFV65gi68vqiqrCCCsf1hP9mVE6v5KUokEN65fxxZfX5TduoX6h/W4W1uLLb6+uHTxInJOnwEjEqOivBzpJ05ii68vtvj6wtzEFMusrLHF1xc/fvxA69u3ePXylTobcqUz7JfbEShbXVWFhscN2OLrC5VKBZZlIfsoI2Nt8fXFti1byRo0NTUJtgX4+aP+YT0xgWJEYqhUKsTHxZHX6z3WYouvL1nL7KwsREZEoP5hPawtLBF+KAyVFZVkTDcXVzAiMXw3+WCLry+ijxwhhk/HYmNharwELMti35692LVjJ1iWxd7gYDjY2QnWMiz0EOkz2tXZhbdv32KLry8+fvyIslu3SAau+yo3rHZzAyMSo1suR2pyiuCG2tbahhh0RYaHk/c3enriSmEh5HI5GJEYq93ccDQqGvUP61H/cH5nm0wWLOVAacHFJxM+NtX0i//5Uliq/dA40wAfhaUTt5bj1UTBUk0TJL6B0ddvCvIAMJuisqJSJ/Tli8se5fcjBaDVzxQYybDt6+ubUFg6G9d2roWH++rf+gxnMiwFgJJr18CIxPhv0tY//k6jsJSKimqqRWGphiYdlioge5QPabgn1lsv1PH30ghm7nsQIqnGo+7R8OdYYekQep4lY5+7K9xcXOHmshrrj93Gq/4fOvdm+9+gvuAQDq0zhYFgXgyMHP0ReLr8F/Oafs16WMqIxMjPOyeApZol4hwslX2UISvzlMDg6UBICFiWxRKjxWBEI2X4mrA0ZO8+7Ny+g5Th67uBGxwcRHRUFDas9yQGT4xIncnJsiz2BAUL9tcsw+cyYlmWRWREBDZ5eRNYmpKUjO6fgK+6qkpnOfxYo6urS2vumrD05cuXWsfdv3dPcIz9cjuy7eaNv8CI1L1G+cdw2S26YCmXxcsfk4Oli5iFKLxcqDUHrvdpRXk5qquqwIh0w9LIiIiRteTB0ra2NrAsS2BpTXU1KsrLyfb5rMmApW/efIaN7SlERd+e0HGpZobevPkMY5M08vlSWKr90DjTAN90PkBTWPrnsFSzNB1QQ0TOBAmAwG18mbUNIiMikX/uHB7V1+NRfT36+voQ/7PKRTMyMjJQcu0aTmVkQiKR4mzuWWRkZMJ/t58gC3CZtf57od8JpVIpgL78fqQA9PYj5TJN+UD0xw8WnV2foVL1kvUB1GX9jIjC0rkS+efOjeuzm+mwFACs7VdOSHYphaVUVFRTrbkKS0uuXYNSqfzlflqaRFjKKu+jOMIBZmP8e7nQdh8Snyv0ZHSOBZYOoed5HHaZcv43DBZvP4e6nmEd4w2h53kqDqwwGMO89iL2QSe+6xhlJmhOwFJL86VYbrMMjEiM5TbLkHEyXQDX+vv70d7ejqGhIS1YamJsDEd7BywUL8CpjEx0dnYSWBp+KAwtLS1wtHeAyWJjGBsawdHeAQYLGCTGJ+Dxo0dgRGL8deMG2tvb0d7eDmdHJ1w4fx5/1/wNR3sHGBkswuGISLz55w0c7R1QWlKCq0VFYERivHj+HEqFAu3t7XC0d0BVZRW65XLSW/RiQQG6OrsILDU3MYWDnR0YkRqW1tXVwdHeAUqlEjmnz5AM0D1BwXC0dyBRfucOWYvNPr5wtHeA59p1ZM5cDA8P4+vXr+T1zu07BOM42jtgb3Aw2tvbCTDmYGlYaCgOR0Sivb0drs4ugmOMDBYhIiwczc3NcLR3wLXiYty6eZNsN+cZUNy88RcKL10mn0nh5UI0vX4NR3sHvHv3DkVXrpA1sLG0wsH9B9De3o61azyQc/oMAeO3y8rIWjraO8DUeAm5Zq6v7PDwMNrb23Fw/wGEhYaS657PmmhYyoHS34UDVDNb3Ocbsv86eY/CUu2HxpkG+KbzAZrC0j+DpWdzz+o0QeIbGMlkMjAiMY5EHkZVdTUUCqUAJH7//h0dnzoFlSX8aGlpEYzLh46cuGzNslvafVFv3ryFurp7BMxevnQZW7dsHfVmOSggkJxPVz9SLktUM3tUpepFx6dOgfkTAJJhy78ObgxGRGHpXIjf+X2dDbC0sqISjEiM/5H++I++0ygspaKimmrNRVjKZfw72NmP/95hsmDpUCOK/Ux4fxOXwi4gAbHZUpzKyMSpzAzkndiLEDcjwd/NhasyUdWnC5f+CpayGJKdx1EnDn7+CpTyoaoYjMl6eCecRea5UtwuyUH+yQAErDAc2b5gLYLqvszI0vxZD0vTT5zEhvWesLawRPqJk0g/cVKQdVlZUYEb16+T1w8fPkTGyXRkZ2XBaYUj3F1XIf3ESRguNEDBhYKRbMjVa+DluQHZWVlkXC5MjZdg25atyDp1CuknTiIr8xQqKyrBsiwy0tPx4vlz0rOUEYmRGJ8A5c9syAP79+PQwVAwIjHSUlKRnZUlGCc7K4uc81RGJnlttdQCjEiMJUaLyb5Zmerj+vv7kZSQCDcXV2LwtHaNB06kpYERibE3OJiMk3EyHeknTpI14Mf379/Bsiy+fPlC9t21Y6fgYeZasdooSXJWIhgnIz0dGenqfy9iFmLXjp04HBEJRiRG1OEj+Lvmb3wfGCBzDws9JPjlNTc1I9v2BgfzzhmA6KgoMKKRnqXctn179pJzcuvFX0vOuIn73Lh9s7Oy8ODBA/JZ++/2g5uLK9k2nzWRsLSnZwAbvS5go9cF9PQMTMiYVDNHPT0DcFl1VuvzpbBU+6FxpgG+6XyAprD092Hp9m3bIZFItUrTOXDJlabLZDLIZDIBdORAIgcM29s/6gRQK+wdBGNzPUL54sZ429oGcxNTwfGREZE6Xeu/flOM2kO15No1cj5d/Ug/f/4CZU+PAIhy/Ug1zZ+4TFPN6+j41AnVT9NOCktnb/yJ0dNsgKUAsNpnN/61PuSPvtMoLKWioppqzUVYqnnvEhQQOPYs00mBpYPoLt8OC25OZv6IffJFd9n8UDsaT6/BUjJ/ZwTWfdOx42iwdDygFGC7CxGzjPm5rzGsgi+iWkepPdv/ErUp7iNzM4/Auc6x9lidOs16WMoBSt9NPujq7EJXZxeUSiUBYQf3H4CPtze6OrswPDwMlUqFFy9egBGpM1IjwsLR1dkFY0MjASzdsW0bzE1MscRoMbo6u9Df34/vAwPo6uzCMitrkqnY1dmFAD9/xMUeE2Szvn71CrY2NrC1sUFyUhLaWlvJay4MFqh/kJwcVqCrs0uQ5fHjxw9ERkRo3SRaWViCZVkE+Plj146d5JpTkpJJf04vzw2IOnwEQ0NDYERqEMnB1sanT9HT04MvX76QeSz9mdnJ9T7lWhrcra1FzukzWCheAFsbG1RWVJA1IGv5/DkYkRi3bt5E8dVi2NrYYKF4AS4WFODly5dgRGLcv3dPPc+uLlKGz13PMitr2NrYwHPderKW3Ly4uXOvGx43ICM9HQYLGNja2OBubS3u1d2DrY0NmpubkZaaCq8NG9HV2YXdO3chMT5B3XKgswt9fX1oeNwARqQ2k0pLTcXnz58JLF28yJCcZz5romApB0ptbE9RUDoHxX2+LqvOan2+FJZqPzTONMA3nQ/QFJb+PiwN8PeHVJoneI8zQdLMuNQ0QeKXtyt7epB/7pxOEBURFiYYQ3PcHz9Y0gdUIpFqHd/R0UHOBwDd3V8JsNV3TkakLsHXhL6c+FmimtCXD445g6fOrs86zZ+4MRjRn8FSqomXUqlEfNzxUSGpuYnpuMvuNTVbYCn3AP8n2aUUllJRUU215iIs1fX3ydzEFJUVlb8+gQCWMjBy2PCz1+fYYq30lTYEZRtxeROXlWkK57w3o5ewC/Y3gm3uP9DGnPpgqSYoNYb14b/QqAeUAl1oSFxGxjHYdBZ39e4LgH2DO/u4CmMDLE16jN9odmlAKNUAACAASURBVDCpmhOwlA/4GJEYMdFHBbCUe5/rWcq9vld3Dzf/ukle82Epy7K4cP482VZ26xbq7t4lr7OzstDe3g5GJMbDhw9H7Q+aJ5WSnqX8sLawFPzi8WMssJT/vlQiIeNqwtLSkhJBJsTJtBOCedwuK9MJS7lYvMhQq2dph0yGUxmZgv0O7N8PlmVhbGgkgKVc8HuWcu9xbQY+fPgARiRG/cN6ci7NnqWcgdRSHWtpZWGJ3JwctLW1gRGJ8aShgWxjRGIUXy0msLStrQ25OTmw/rmW/rv9EBwYRPafz5ooWBoVfRs2tqfw5s3nCZgV1UzTaJ8vhaXaD40zDfBRWDpxazleTZTBE6DfwIjracoHhlzGJgcM9WV5cjf/HHTU7APKjcGV+vMjNiZGcD6FQikAtvoyMiPCwkhrgLFCX12tAbjsUV09TSfS4IlqYvWovh4OdvajgtLNPr6QyWR/fK7ZAksBYIPPdvyX6/bf/k6jsJSKimqqNRdhKX9fXVmmo/5tEsDS8YfO3qF9dbh8eAcCPFdghWEIcn+ZjTmWfqS69tEBSo+Uo3loFFbSW4rjllz5/RqE1Cv07wsAYDH44jDcuWu2TMCN3pnFYmY9LN21Yyd27diJQwdDcbe2Fs6OTrC3XU7et+UZEGz28cVKR0cBLO3q6sLd2lrcra1Fh0ymBUsXLzLE3dpaxMUeg+fadWBEYty4fp1kszIiMTzXrYck9yw57nx+PuLj4sCyLKKjouDq7ALDhQbYtWOnAOI9fPiQnPtubS3cXVdh57btuFtbSwye3Fxccbe2FnbLbAWw9NXLV8hITxfA0g6ZDLt27MS14mI0Nzfjx48fuFtbi4T4eEHWqpPDCrI+u3bsRFzsMdytrcXQ0BAuX7okWEv/3X64V3ePzPnr16+4W1uLgYEBvH/3nsx97RoP2FrbYNeOnTBYwOBiQQF6enrI9qNR0QSWNr1+jeysLDAiMbb4+uLmjb/Q19eHu7W1+PbtGx7cv49dO3aSnqXcuRseN+BubS0e3L8PlmWRlXkKmRkZYFkWDx48QHt7O4GlGz09yfXdra1FYnwCNnp6Elj64cMHUor/6uUrvH71isJSTAwsTU6pmRSjKKqZoajo2zA2SdMLwiks1X5onGmAj8LSiVvL8WqiYKmmCRIHAznoqAkMdfU01RVchic3Bh8yfv2m0GkgxYjEsFxqIShL0+Vaz/Vi1IzGxkad0Jffj1TzOnS1BpB1fEJ/vzDTXdnTo2X+RGHpzJBSqdT6OdKMicgm5Ws2wVLu9/Tf427/1ncahaVUVFRTrbkMSzlpJouN+ndqMmDpuPUdn66sHScsfYz+8YJSAMNPQ2HLzd86Fbe/j4GrDNfizAqubH8NDj3t/fUxU6hZD0sZkRgeq9cgOTERLMsiLSUVIXv3kbBfbqf3B/Be3T10yGQou3ULw8PDxGm97NYtKBUKAkvLbt2C14aN5LjCS5eRkZ4O/127CfBLTkxE2a1bKLt1C9u3bsOG9Z5gWRaJ8QnwcF8Nw4UGCNm7D8+fPdObgerj7Y0tvr5knK2+m7HJyxssyyI+Lg5r3NwJLG143IDkxEQyp7DQUFwtKkLI3n24fOkSXrx4QcYtuFCALb6+ZN9Vzi6CzNR9e/aSfa8VFyPq8BGU3bqF6CNHcLWoCMPDw2ROj+pHMj+bm5vJ+6vd3ARrezgiUgBZz+fnE1ja+PQpLpw/Tz4jvgEVy7J4/OgRQvbu04KldXfvoqmpibyWnJXgbG7uz960lSi7dQvFRVcRsncfaTvAiMRkLa2WWiBk7z7SDoAfnZ2d5Frms/4Ucl6/8QrGJmm4fuPVBM6KaqZoLJ8vhaXaD40zDfD9/+y92U9UQdjue/6A72bf7IsvOclOTrJz8iU7Oye7m8UkIE4ggoKioqioKGoLKA4oouKAiAKKAjLIoCAoKKigiIAjKCiiooCNggzaDYgoDUgDTT3nAle5VvdqFMUBqCepxF61VlWt6raHH+/7vAyWjt1ejlZjBUv1iyAJCxjpe5r29PTSiEzAeDq8u9sSOgYPHXnIKIwSlYoQFe6dsar1aWnnDK6b5zQXbe0foOnuFs2n70cqvE99P1LeGkA/KtUY9GWw9O/rzu07Bn63+u27ETs/ofEESwEgMOgg5A5Lf+o9jcFSJiamP63xCkv5gpQ/2jLS0w0+wyQzIESw1BouKU9RX1//w+3tx76fKnpE+trwXvkAJXlJOBu+DqvtTEcFSy0278d+F2Elew/sff69BHkxlOU803Dv/fvv3uP793dwYf03W4ExK4I1RpoQsDTjXLpRAClMw5eCpXwa/pcvX2iUISeTQ/nqlSgNX7/pp+Ffy7sm6udh6Uhp+FKwVH8eHpYSQnD2zBmjaficTC4q8HToYLBobP00/Pb2dklYKkzDr6mpASEEWq2Wnrtxg4Kep/+XFf22wn2ZJCzd6b8Dvt4+390PqTT8yGPHJc+d9dXSwNVlPgghWLPacC/Xenoanev2rVv0vMmsX4Gl9+43wMomGknJj8Z4VUz/gnhQmpn1bMTzGCw1/NH4rwE+BkvHbi9Hq7GApfqp6cC3qvU8dOTFQ0chLDSWgn/ieKSkD6gQOvLrEF43zWYqjSo1VrX+y5cv2LB+g8GcN24UGK1aLxUlKoS+gJ41gGBOHpD29/fTcYFh6Mtg6d+TRqPBti1bR/zu+MNecD+h8QZL+ejSn3nfZLCUiYnpT2u8wtKxanMdncTFn35LgSehtPj0uggFF47j5D5vbHJfAHcBGJVqPwJLpZrpihQ87BsJ3X7Gi+jZv7iHZph5ugb/UpmncQ9Le3t6cSwiAjZWVrCxskJtTS0u5+TQx9fy8nD/3j1wsuFq6nyFeH1Yyp9vbTkFnGy46nxEWBg6OjoMnsimpibExpzCYteF6O3phY9iI6aYDxPxrq4u9Pb0UvjqsXwFIo8dR1tbG2ysrHD3zl08KC2l851LS6PArq+vD5cuXgQnG/YPDdqzF2YmHD3X0sxcEpaq1Wr09vSitqYWNlZWeFJRgX6tFoODg/RaKwtLcDI5Xte9Rn9/P4Wlt2/dQkH+DdhYWRl4llpbTsGxiAgQQtDb04ud/jsM1uM42wG9Pb3Y4LWOrqezsxOHDgZTWLp65SpYmlvAVG4CGysrmHOmIlh6Oj6BjllZWUmP9/b0YmBgANUvX8LGygo1NTXo12ppf+CuXRT0zpoxE6cTEqBUKmFjZUWLZ/HtYlYWHj16ROeJi42l4+z030Gfv8n+Be9XYKm9QwIOhRSN8YqY/gV1d2t/+PllsNTwR+O/BvgYLB27vRytfhWWnjt3ziA1HRi5an1fn5bCQo1GY/RL6t179wzG4ItH8dBxpKhSoTWAEFz29/fjlbLO4LpZM2Yahb76fqQ8sJXyNOWtAfg+nU43IvRlsPTvKC8394eiSX+4yvBPaLzBUgA4GZcEE5vZ+I9M9aje0xgsZWJi+tMab7BUo9GMOqr0SUWFZMDY/qAgw8+v3wZLB9H96gwi102D2YjwkYOl8ybsUYzOs3S4WcEuYDe2TOM9SK0xN/4luiVWY3yM0bexsR4YO417WBp+NAzuS5bSDa6ursbFrCyYc6Y4n5GBxrdv8ai8/OuLeB/i4+JwPiMD5zMyoFapRAWedvr740RkJH3s7rYEEWFh9Hy+9fb2oqqqCufS0hB+NAxnUlJoH5/Ozze3hYuwbKk7Qg4dAieT41ZxMYW3yYlJonR5QgiuXrkKTjZc4Km8rEw071Y/PwpL7929S49HhIfj0aNH+Pz5M85nZOBEZCRuFhRAp9PhfEaGyK+0paVlGET29uJ8RgaiT0Zhk48vBbSEEHR2duJ8RgacHOZg6WI3hB8NQ/jRMLjOXyB6Mft6++DqlasghGDjBgVWuC+jfq2nExKQeuYswo+GIfVsKvy3bafXHdi3D3du36H3XPX8OfVf9d+2HdevXRu2HggPx/Nnz/Ci6gWF3cK92r51G7Zs9qOwdM1qT0QeO47zGRlwmTuPznc+IwP19fVob2une/b82TM6jt+mzaL7msz6FVhqZRPN2gRvP/o6+BUxWPr7AR+DpWO3l6PVr8DSTb6+SE1NM1rASD/iUggdeZBYWFhk9Avqmzf1onF1Oh2FjLxGiirt+NhptGr95cuXDeZLSzs3YtV6XvwYfHo/L/0CUvweCL1cefHQd2BgkMHSPyyVSmXwutFvcx2dfls0qVDjEZZqNBpY2swc9Xsng6VMTEx/WuMNlo5WUtkRcx2djH+n+C2wdACfHu7AIhP9z1JL2C5cB0//wwiOPY/0gsd48k6DgZ/wLOVks7Ek5QU6yRe0ZK/CdP64iReCXxrDpXqp/AEXcOP2bRQVFo2q3Xr9CUNjsEtjpXEPS/W/cN3Iz0dMdDQsv1ZwV71XIftSNu2Pi43FwMAAlEolenp68KC0FO5uS2BmwiHzQiYaGhrg7raEtlUeHlAqlVAqlRQ0vnnzBh0dHTQN/3JODi0OxZ/LNz/fTXCwt4eZCQd3tyV49OgRKp88gbvbElRWVuLjx48U2jU3NSPz/AW4uy2B8tUrg7GSE5Ow3svLIIV8hu00pKWm0sdBe/bgdEICfRwbc4oWtmppaUFHRwfevHkDQgg2+fhi2lRbuLstQVVVlWi+bVu20sJSUo0vrkTIcCGr6JNRIIRg5QoP3CwoQH19PdzdlqCxsRE38vOpr2nqmbN0L/nW2toKd7clsLGygt+mzVAqlTAz4ZB9KRuv617D3W0JSu6XiNZ3YP9+7A/aB6VSCS/PNXB3WwJfbx8olUrs9N8BJ4c54GRyg31UKpUi31IGS7/pV2Ep08QVg6U//6PxXwN8DJaO3V6OVr8CS/02bca5c+dEx3p6ekesWs+LB4UREcckP8/tZ86STG8XjjtSVOlIVes13d0G1c5n29kbAE39VHp+HcIoUb5f3xqA7+vs/CTycgW+peTzYzBY+mf1vWjSiLDw3xpNKtR4hKXA14IiU+3x39Le/vB7GoOlTExMf1oTGZZKeW1/9/Prd8DSzkzsp9Gecpi6HkBUySvUdxtLXhenx/+QZ+m+u/jAfyUcrMLVzTbf5jOajq9FS6bbtzEOPcDnX7/bv64JB0vpC+ErLNX3LI2LjYVarQYnk4sKEFlbTkHmhUwDENnb00uv9dnoDUIIHOztRZ6lnGy4wBIhBBamZqL53rx5Y9Sz1G7GTKQkJ4s8Sw/s2wdCCEzlJgb3dDLyhKTfpj4slWr8j5yWlhYkJSbCwc6ewlI+lX2qlbVovpqaGmRlZv4QLP2R1tPTQ6815lkqLETFyeQGnqXCvtu3buHe3bvgZHJ0foXOjY2N4GRyPHv6FFcvXzG69qgTJxkslRCDpUzGxGDpz/9o/NcAH4OlY7eXo9VYFXgCxEWQ9KvW6xdB4qvTL1zgKvmZ6OPtLTqfh47CcX28vQ2Ap0ajoeDSWNX6vNxcg/nSUtNE82m6u0cFfYXWAPpzfg/6Mlj6Z2XM337EaJzfpPEKSwFguuNC/JfviR9+T2OwlImJ6U9rIsJSlUplEE3q7rbkxz6/xhyWDqKzYA3M+bVM24cz77XfuaYdj45MHxUsFZ9DMNgUj+1Tv5eOP4Te+76w5tfmnISHuh+7p4H+nylj9Wc0IWBp5LHjuFkwnE5//do1RJ+MgqncBMvd3XExKwu1NbWoramFg5094mJj0d/fj9qaWuzdvQfRUVEUljo5zMFyd3csd3dHY2OjASy1tbbBcnd3WJiawcHeHm6LFlOg9/79ewpLY6Kj6Zx9fX34+PEjreJ+4vhxOoc5Z4qU5GSoVSosd3eHjZWVCJbGxcbScWpratHW1kYBX0R4OC12pFQqEX0yCjv9/UEIwb69QVju7g6P5StEoLK2phY+G70RdyoWr+te02jW7EvZWO7ujufPnqG2ppZaE4wES0vulyAhLh6bfX1BCEFoyGF6X0JfUUIIAgMCsNzdXWSXwMNSn43e9Lrl7u6YamUNP99NqK2ppZGlPwJLly52w3J3d2z29UVtTS0CduxE+NEw0f7xzWmOI2bPsqPFqlqam0X9k1kMljIZE4OlP/+j8V8DfAyWjt1ejlZjBUuNVa3XdHdLAkOVuhVv3zYa/QOi8N6FUaL8uM+fPTe4JjU17btV64eGiGRUqTASw1jV+s7OT9SPVDiuvh8pP4ZK3QqdTvzNnLcGYLD070q/qFhCXPwfiyYVajzDUv6PDj8aXcpgKRMT05/WRISlUp9fP6wxh6ViqGkedBcfvndJ/x3EO32r5TJ6WAoAPWjOXPYN0pp4IOBxJwwQZ1sKtpvy97sMe58bdzil+nITUXNMYTl3JRZ7BiH65Z//bjCSxj0sPRoaitMJCbRwE+9Zyj/ZN/LzKWyLOxWL+Lg45OXmghACb4UCgQEBFJZ6rVmLgB07wcnkiD4ZhcrKSgpLfTZ642hoKG0ey5bD1toGR0NDkXrmLDIvZCLzQibMTDgEBgTQx58/f4by1StczskBIQQ52dnw890ETibHgf37cTo+QdKv01RugquXrxhEXvb19SHzQiaWLF6MbVu2ghCCyzk5UKzfgNmz7JB5IRMnjh/H0dBQhB05CkIIysvKcOf2bRBCEB8Xh/i4OORevUrHfFVbi6Ohobhw/jyUSiXa2tpwNDQUaampSDx9mvqteisU9P67urpQcr8EEeHhyLyQiZORJ2jfwMAAKp88QeHNmyCEICUpGV6ea2BhaoajoaGY7+yMxa4LkXkh0yCcfduWrYiJjqZ7mX0pGx0dHci8kAkHO/vh/8DmFjgaGgqlUklhKSeTY/XKVTgWEUH3IP/6dcno1dPxCVi9chVsrKzo8yRsk1kMljIZE4OlP/+j8V8DfAyWjt1ejlZjAUv51HRhESSpqvW8+AjRjPR0SVC6Yf16Cq74MXjoyEPGbVu3GVxX+0opCS57enppGr5UVGmqIKpU6EcqnE/fjxT4Bn310/d5L1Op4k/60HdoiDBY+hekVCppNI5Sqfxr6xjPsBQA7Jzm4395hfzQexqDpUxMTH9aExGW3rl95+c/v34zLDULKIZ6xPN7ocrzwgzBd7Cfg6UABipwYc23gtimi06hSKMfOvoWxTv4TGUOU7ZcRe3gSFGjehDWdBfOtBmzE/g7GvewtK+vD8ciImBlYQkrC0vU1tRSWGplYYlreddEkY7JiUmY7+yMvr4+KNatp7B0hu00ZF+8BOWrV7CysISZCYfQkMPo/PiRRqz29fXRFhtzCosWuNLoSEszczqnOWcKMxOOrudMSgqmTbVFX18fdDodSktKYGVhCbVKhchjx+mLrrysjI5vbTkFOdnZdO1arRZ9fX3UQoAHi/zaLUzN6B68fPECg4OD6OvrAyEEwQcOwkexkY6TlJgIZ6e5dD1CW4CMc+l0DcuWuuPI4VBotVpwMjlyr16lfUNDQyCEQK1SgZPJcf/+ffT394siXz1XraZzpp5NhY2VFfr6+hAYEEDXaio3gYWpGa1GX/G4Atfy8ug9Zp6/IPJJM+dM4WBvT+cpuV9CxzmTkoKmpiZYWVii6vlzEWAeHBykj7VaLVKSk+kazEy+/bVlsn/BY7CUyZgYLP35H43/GuBjsHTs9nK0+lVYmpSYZJCaDnyLuNRPTeeho0rdiv1BQQbg0t1tCRreNgL4Bh31fUArnlQaXLdjuz9U6lZousVRA3ykKQ8n9aNK5zo60fn0/Uj5+b4HfYXiYSsfWcpL3xqA7/vwoYPB0r+kP1HA6Xsa77CU/z78n7GV331PY7CUiYnpT2siwlJgOLL/pzTmsLQf6pxlMKNwcSuim4yk4ZPPaC4OxLqpYmtH6WjUH4ClIBisP471NHLUCrOPP0YHEZ8zoDyClSbfzrELvonaPqmSTb1QF/sJClVZYXbMM/xbcaUTAJZyMjkyzqWLIgcvZmWJPEsV6zeI+oXAkYel+k2YMi7VEk+fFp1/Le8aOJkcAwMDCDl0CCtXeIAQAreFi0TX3SouFsFJY+MPDQ3hwP79WLPaE4QQg0r0+rBU37M0Jzsb5pypwX25zJ2HU9ExaG9vByeTo7SkRNQfERYmmkMIS4WNL2jFw1JOJkfgrl3Se6kXvl5UWEj7HOztkZSYiJaWFklYqt946wH9NmvGTJxJSZHs42RyXL3yLZLW1WU+8yw1IgZLmYyJwdKf/9H4rwE+BkvHbi9Hq1+FpWlp5wz8SKWq1gOG6e364NLdbQk0Gg0FpFJRoip1K7Zv327wWXzjRoFRcNnXp4VK3SrpVZmXmyuqWi8FffWBLfAtSlTK05QHtnyflDWASt1Kx2CwdPJqvMNSAFi21gf/e0XAd9/TGCxlYmL605qosPSn9ScKPDlsw97sh6hoaEF9fT1amqvwojgJiQFOsP0KIWfZ2X6L3tyYi3rDQX8AlgKABg1pbt9Jx+/E69RlmE6/+3GwXLIPwTl3UFT5Gi0NFai8m4ZzQS6Cc+QwXXEad7uloOrf1YSBpWqVCoEBAWhpaRHB0qrnz/H48WMQQhB25CiKCosoLI2OisLzZ8+oz+fDhw8pQHtQWop9e79FYYQfDUPBjQIU3CjA9Km2SDx9Gh8/fkRgQAACAwJwIjISBTcKsHtXIFKSk+lYbgsXYbOvL65cvgxOJsdaT096TV5uLrb6+Yl+SKxb64WCGwUghODA/v2YNX0GAgMCcDknh87Pt/S0cwgMCMC1vDy8bWhAW1sbHTvqxEncLCig8Jg/bmNlBbeFi6hRcWlJCV5UvaD9yYlJOJOSAk4mR3JiElKSkqk1wdEjR6jdwVY/PxQXFUvC0qA9exEYEICY6GgKS329fei6edAqBUsV69bTvTQz4RB84CC9znG2AxYucEXwgYP0+tqaWgQGBMDS3EIES+Pj4ug9cTI5Vnl40MeXc3JwOiGBPnawt4fH8hV0nsksBkuZjInB0p//0fivAT4GS8duL0erX4GlW/z8kJaW9t0CRsC3CvA8MKx9pRR911juvoym3vP+olJRovrX8a3l3XsDcCm0Bqh9pTSw2Vm31ovOJ+VH+j3oy/fz4v1IeX0P+ra1f2Bp+JNcEwGW/mh0KYOlTExMf1oMlurpd8BSg4jMEZrJYniefYL2+pNYxx+bEoorvfqp8T8KS/Fj6fikHbXnvbDwR9Yo4zBl/Wlc/26hqr+jcQ9LvRUKpCQnI/tSNjiZHJkXMpF65iwtPPTm9WvU1NSAEIK5jo6Ii41F58eP8FYokJOdTQsd+W3ajLNnzuBF1YthyFpVhSOHQ2FmwsFbocCTigpRwaLT8QkoKiyCt0KB6VNtEbRnDwgZri6fejYVL1+8oCnw0VFRuH3rFn1RzJo+A94KBTRdXbhy+TLWrPYEJ5PDY/kKHIuIQNnDMhBCcC4tDR7LV4CTydH49i3ev3+PsodltPFRG7eKi1H2sAwFNwrgrVBgms1UHDoYjKGhIZQ9LENEeDi8FQra5js7w9LcAt4KBapfvkTlkye0LyU5GTfy8+GtUKCxsRH37t6lfeczMnD2zBl6H0F79qC4qBjeCgVm2E7DBq91KHtYhk0+vnBymIMFzi4oe1iG3bsCkZWZCZ1Oh7KHZejo6EBnZyfKHpZh+9ZtuJGfT2Gpx7LliAgPR9nDMvhs9Ebq2VR6v4EBAfBWKLBlsx89duniRbq+mwUF+PLlC8oelsFt4SI42NvDW6Ew+E/Z2NiIMykpsDQzh7dCgVkzZmLNak865mQWg6VMxsRg6c//aPzXAB+DpWO3l6PVr8DSjYqNOHvmrOgYDx2FEFGn0xkAw1tfPbf4z1lhcR0+6lIoHjpGRBwz+Azdvm27gQ+ofpTohvXrDa7jvb5+tGo9YGgNwPcL/UiF99HW/sEA+vIp+vwYDJZOXk0EWAoAG7cE4P/McR/xPY3BUiYmpj8tBkv19FtgKQAMovvVGZzwsf8aParXbNyw4mgOit73Dkd9Dj3BhRXmX/udseF2u0E06A/DUgyh7+UheAjT5w3S8YfX2PPmEs7snQ9HSWjKwdJ5KwIyn6F5RF/Tv6txD0t5f0zh5oeGHKZgU5iGz8NSvk9Y4IkQgqOhoVju7i5Kw7exspJM7Y6NOQVnp7kghGCD1zoKSwkhojR8HnoK1+e3abNorKamJnAyOZ5WPsXVK1fByeTUE/TZ06cUlgpBpVRb7LoQhBCs9liJQweDMTg4CE4mx7W8PNF8SYmJcLCzl7yviLAwLF3sJtm3e1egwZxOcxxBCMHGDd+gZF9fH44cDhX9QCKEoKenB5xsOA3/QWkpOJkc7W3tIIRIpuEPDg4iJDiYjlNfXw9CCLq6uuixLZv9RGtsbPxW7ffA/v00DV8KltrNmMnS8PXEYCmTMTFY+vM/Gv81wMdg6djt5Wg1FgWeeAmLIOmDS/0iSHFxceBkcqxc4SECpXyleH1w2db+AR0dHZj9tbCisPHAVgguhVGiUun3/LpHqlqv70kqFSWqUreip6dX5Ecq7DMGfYXjMlg6eTVRYKnqa1bX/wgrMvqexmApExPTnxaDpX9aOvR9rEZlcRGKCotQVFiMey+a0SbpEfr3RPpUeFNx++sai1BU+BBP3n5Ez7/LSKnGPSx1cpiDqVbWoi/lNlZWcJnnDEIIPn36hM6PH0EIQXt7OzQaDdrb2+HkMAe3iotx9cpVODnMQV9fH7q6utDR0UFh6YF9+9DY2AgnhzlwcpiDvbu/AdHYmFMw50zh5DAHd27fwefPn2lfV1cXHj54ACeHOWhsbMS5tDTYWttArVZDrVajs7OTzuHkMAeeq1ZDrVajX6ulsNTJYQ5uFhSgX6uFWq3GmtWeopS2q1eu4nJOjui+LUzN4OQwBw9KS9HV1UVh6QzbafQeVO9VSEpMhJkJR48J21QrazoO3+Y7OxvA0qqqKqjValRXV9O9zDx/AZxMDsfZDrCxsqLnzp5lByeHOXCdvwBqtRr79gZhp/8OqNVqLFvqjgvnz1NYOBBwowAAIABJREFUajdjJmbYThONs2ypO9RqNQYGBozCUvclS3ExKwuDg4NQq9XwWL4CNlOs4OQwh+473wYHB9Hd3U1BbWdnJ3KysxksBYOlTMbFYOnP/2j81wAfg6Vjt5ej1VjBUmNV63noKNTAwCD8t/vDc9VqESjloaN+NCcfJSpVyZ6TyWmhHr7AkzDC844ggpVvcx2doNFoqDXAj1atl7IG4AtZSXma6o8rtAZgsJQJmDiwFAACgw5C7rAU/5GplnxPY7CUiYnpT4vBUqaJpnEPSzmZHL7ePggNOQxOJkdIcDD8fDdRz9LiomLEx8UZtIS4eMl/C4/xxxPi4uG2cBFc5jmLzuEjWvftDRIdr66uxssXL2iUq3COhoYGNDY20mNrPT2xwNmFglblq1eiufk2c9p0rPX0NOhLiIuHlYUlOJkcs2bMREJcPFpbW0EIobB0+9Zt2B+0D5xMjpaWFlRWVuLE8ePgZHLs3b2HjpkQF4/VHithP3MWEuLiqZdnUmIiCCG4VVxMz9NoNKh4XCG5l/pt9iw7rPZYiZTkZBBCsNN/B+Y7O9PzKysrKSzlZMNFJ/hrV7gvwyqP4SjdzAuZePjggQiWurrMR3xcHKwtp2DjBgVdh5PDHHpOfFwcXtXWGkTK9vb2Ij4uDo2NjXjb0EDnnMxisJTJmH7k+U1KfsRgqcSPxn8N8DFYOnZ7OVqNBSzV9yMFxAWMpNLbIyKOiUCpsAiSECTyYwAwKM7INx406oNLpdLQp5Q//3tV6/Whr1TxJ36t+n6kPT29aGv/IFn8iR+D7xsYGGSwdBJrIsFSjUYDS5uZRt9TGSxlYmL602KwlGmiaULA0rjYWDx88ACcTI7q6mpcv3aNAsjwo2GwnzlLnDruMAeEEOwJ3I0D+/dD9V4FV5f5oghV5atXyL16FYsWuIIQgoAdO2FlYYm5jo4wM+EQeew4qqqqMNfREVPMv5ncOs1xxIXz5/GgtBRzHR0x19ERJyIj8ebNG8x1dMSD0lI8Ki/HXEdHfPr0CWdSUrDey+sbwOvpheq9Cqr3KlpYiZPJ4WBvj+ioKApCt2z2g89Gb6jeq+C2aDFsrW1oGv6HDx+geq+iAPJaXh5da9Xz59B0daG9vR2cbLjA05cvX6B6r4JOp0NCXDwU69ZD9V4FH8VGRISF0fX09vZCq9VC9V6FwcFBZJxLh8fyFVC9V8F/23a6l/pNsW49jkccg1qtBiEEoSGHYTdj2Bej+uVLaDQaulb7mbMQEhwM1XsVhoaGEBIcjGVL3aF6r8K6tV44GXkCb16/xlxHR1hbTjH4UWZhaoa5jo6wFDwnnEyO1LOpdD0DAwPo7u6GUqnEXEdHPCovp3ugeq/62y/pvyoGS5mM6XvP7/X8WljZRON6fu0vzcNg6e8HfAyWjt1ejla/CkvPnjlrtICREDry4oHhSOntfJ+mu5sWQVIJijcag58qdSv6+/sBGAelEWHhBtYA/Hz9/f0jVq2XsgbQjx7lYasU9BVaA/Cp/+rWNgZLJ7EmEiwFgJNxSTCxmS0ZXcpgKRMT058Wg6VME00TApYKW3V1tUEE4aPycklYSghBwY0CcDI5vnz5gqOhAp/NV69EYwTs2Amfjd60gjsnk4s8S/nrBgYGJD1Lp021lfQB1W98Gr5+4z1LZ3312dyy2Y/2ff78GZHHjos8S4XXCj1LXebOw6noGBEsLSosBCeTo6enB4QQ1NXVgZPJUVNTg6zMTDrOjfx8lJeVgZPJaUV79dcfVOVlZSjIvyG5dqVSifMZGZhqZU3XwXuWcjI5khITf9izNC01FdO/7uX2rdsM5nJ1mQ9CCC2aJbmXep6lhBBRAa7JLAZLmYxppOf36dN3sLKJxqGQol+eh8HS3w/4GCwdu70crX4FlirWrUdaWpqBH6l+ESRextLb29o/0Kr1AGi0phBcRoSFG/0MraqqEqXvGwOl7m5LABhaA3yvar2UH+lI0LevT0uvBWBgDcD38WMwWDp5NdFgqUajwRSbGZLvqwyWMjEx/WkxWMo00TTuYemj8nI8Ki+nnpMey1cgIz0DAwMDUKzfgEfl5fj8+TMelZfDfuYsBO3Zg6eVTw1g6QavdXCc7UC/5K/y8EDmhUz09fVBsX4D7GfOwsxp06FYv4FGLVpZWEKxfgOmT7Wl1ynWrccc+9kiWKpWqXD//n0o1m8QzT0aWLp65Sqcio7Bvbt3oVi/AbOmzxDB0qamJtwsKIBi/QZcy8vDsYgI2r/YdSEU6zdAsX4DiouKcTohAWs9PSks/fjxIx6Vl0On0yErMxOBu3bhUXk5uru7RbDUbdFiHNx/AI/Ky6HVanEtLw/bt27Do/JyHNx/AG6LFoOTyVFyvwRb/fywwNkFj8rL0dvTC7VajYrHFQawtPDmTbx//57C0uXu7ogIC8Oj8nIMDQ3hbUMD9ULVh6V1dXX0+edbUWEhFOs3YJrgORGuXxhFWllZyWCpnhgsZTImY8/v69cfYO+QMCagFGCw9E8APgZLx24vR6tfgaVbt2xFWto50TGpAkYADIogjZTezgNKHjoCxlPwOZkcxyKOUXCZkZ4uCUpn29lDqVQarVov5Ufa16cdEfoK74P3I9Uv/qQPfYV9PLBlsHTyaqLBUgDISE8HJ5Pjv6W9Fb2nMVjKxMT0p8VgKdNE07iHpTfy8/G2oYFGQ/p6+yA6KgrXr13D7l2BePb0G5yc6+iIuNjYbxGnjx4h9Wwqdu8KxO5dgXB1mU+/6G/y8cW1vDxotVraL4wgFTbF+g30nN27AjHf2ZnC0vv376O2pha9vb3YvSsQ1S9f0vlvFRfjRn4+bZ0fP1JYuntXIFzmOYvm2bLZD7lXr9J5vNasBSeTI/tSNm7k5yP1zFka9ZGTnQ1TuQl27wqEs9NcOkZLSwvu3L5Dx8hIz6AAt/DmTfh6+2DpYje6xrKHZfTceY5O2LhBAUII7ty+jfi4OIQdOQpCCDZuUGCuoyN27wpEf38/jhwOxQr3ZZJA+GnlU2SkZ2D3rkB0dXVBqVTick4Odu8K/Aq099JzX754gazMTOzeFYi2tjaU3C/BoYPBIISg8skT0f7V19ejsbERnEwOb4WCRtjy6z965Ahu5Oejp6cH9fX1KC4qpvNUV1fT8yazGCxlMiap57e7WwvXRWexavUFdHdrJa4avRgs/f2Aj8HSsdvL0WqsCjwB4iJIQlgq9CPlJUxvF4qPOhVBxxFS8IVRo0uXGAeq167nU3D5s1XrAbE1AH+tvh+pcFyhNQCvri4NvQ5gsHQyayLCUgCY5bgA/+V7QvSexmApExPTnxaDpUwTTeMelnIyOTLOpVNYWl1djYtZWbTAk7Dpw1JvhQKBAQH08Uhp+IQQ6ouq3x4/fiw6T5iG77ZwEY5HHJOEhrxvJ9+eVj6lsHRoaAgH9u83mGuWIHX8zu3bRlPkcrKzYc6ZghCCoD17RbBUuIZNPr7Y6b8DhBDq2SqEpcK2e1cghaVOcxwRHxdH+zZuUCBw1y76eCRYutN/B3y9fejjU9ExcJk7D4QQrPfyEsHSkOBgWuBJv+mn4Z9JSaGw9NnTp7h6+Qo4mVwEaTmZdBq+sE1mMVjKZEz6z293txarVl8YU1AKMFj6JwAfg6Vjt5ej1VjCUmMFjPSjRPl+IXQEvsFWfUBZeLPwu7B0pBYRFv7dqvVSfqT6VeulokR50Cr0IwUAnU4nWfyJH0M4LoOlk1cTFZbm5eYaRJcyWMrExPSnxWAp00TTuIelWq0WOp0OQ0ND9N8Xs7LAyeSYYm4haqZyE5hzpnCZ52wUlrovWQqtVouhoSEQMlwxnb9+s68vtFqtQdu4QYED+/aBEAIbKytcungRz54+xRRzCyhfvUJaaqpoHdu3bgMhBP1aLa1Kz8NSnU4HrVYLQggO7N+P1StXQavV0qhXISzlz+VtABYtcIVWq8VaT09YmJoZhaVnUlIwz9EJhBAMDAzgZkEBpphboLOzE1qtFv39/SJ4qNVqMcXcAmYmHMxMOEwxt0BzUzMGBwdHBUt7e4b3suBGAe7fu0f3w5wzpbC0v78fuVev0r5LFy8arKerqwtTzC1QXFQseh4GBwcpLLU0M0fwgYN0L0OCg2FpZk77ok8OF8uaYm6BkvslDJZ+FYOlTMak//wG7LoOe4cEvH79YUznYbD09wM+BkvHbi9Hq7GCpfrp7TyA1PcjBUAr0EuBy46PnSKQqNPpEBFx7KdB6bq1XiNWrdcHlyNVrTcGfaWKP0lBX6GXK4OlTMDEhaUA4Oy2Cv97RQB9T2OwlImJ6U+LwVKmiaZxD0t5wNXW1obQkMNQvVfhYlYWzDlTXMzKErUZttPAyeSwsbJCaMhhODnMwXxnZ4SGHEZoyGG4LVqMWTNm0sehIYdxNDQUF7OysNzdHU4Oc0R9cadiv0Z43kFyYhJCQw4jKzMT9fX1ePniBTiZHLt2BsBz1WpYWVjSdZxJSUFoyGH09PQg+mQU7GbMxMWsLJw4flw0/qIFrpg9yw6hIYeRcS4d27ZspbD00sWLyL54adjn9PIVXMzKQnraOYSGHIb9zFlYs9oTWZmZCA05jOTEJESEDxdr2BO4G6s8PGBtOQWhIYfx5s0btDQ342JWFgYGBlBUWChag3APLmZlIfxoGDjZtwJPXV1dCA05DMfZDiJYWllZiaLCIhBCkJyYhKLCQvT09ICTyeGj2IiTkSfomL7ePrC1tqHzxURH42JWFsxMOGRfyhaBzEfl5TTi1tfbx2CtEeHhdFz+OSGE4MC+fXCZ50z7TscnYH/QPnAyOTb7+orGmMxisJTJmITP76GQot8CSgEGS/8E4GOwdOz2crQaC1ja09NrECUqLGAklLH09q4ujWTxpw8fOrB44aKfAqXubkvQ3d0jWbVeaA2gX7VeaA3AQ1+p4k/GoG9n5yd0dn6SLP7Ej8H3ffnyhcHSSayJDEufVFSAk8nxn7GV+L9yGCxlYmL682KwlGmiadzD0urqalRXV+PO7TvwWLYcxUXFiDpxEpZm5rSvsbERhAxXkPdYthxLF7uBkw1XTneZO0/yS/9i14VwmuMIKwtLVFdXY+MGBWytbeCxbDksTM3AyeRwsLenc5yOTwAnk2NgYACEELx58wYey5bDysIS9jNnYYPXOgr87t+7B04mx8OHD7FvbxCc5jiiuroa7kuWYtb0GfBYtpyuw8bKCh7LluP+/ftITkzCei8vVFdXw8tzDf13dXU1Ojo6UF9fT687dDAYg4OD4GRyXMvLQ21NLTyWLYeluQUc7Oxp8YbSkhJ0dXXRcQIDAugYixa4wmmOI93Lz58/o7ysTARL1V+9zVxd5uNUdAy9R7VKhfr6ehBCELhrF05ERqLyyRNwMjlc5jlj394gVFdXY2BgAKeiY2BpbgGPZcvhsWw5tUow50wREx2NhoYGuqcpycn0PI9lyzHfedjX1X3JUsyeZQdXl/kghOBtQwPiTsXSNPwD+/bBfclSVFdXQ6vV4kxKCsw5UzqO0B92MovBUiZj4p/fzKxnsLKJxvX82t8yD4Olvx/wMVg6dns5Wv0qLE1LTTNawEjKj5QHhiOlt/N9PHT8GVA6zWYqlErlqKvWjwb68p6kQo0Efbu6NKJx+/v7oW5tY7B0Emsiw1IAWLl2I40uZbCUiYnpT4vBUqaJpnEPS/kv6rzPphA08k2xfoMoOlGtVoOTyVH2sAwFNwokv/grX73ChfPnRcd8NnqDEAIHe3ujPxh4WMo3Kc9SHpZKNT6d31RuAk4mx5rVniCEwHX+ApyMPIHOjx8lr0tLTR0RlvJzu8ydh1PRMWhvb6ewtKhQ2p+spqYGWZmZ9PGN/HyjsLS8rEx0j/pp+OczMug4RYWFeFBaCk4mR3tbu8izVNjMOVNwMjn1LF3suhCRx46Lzrl39y44mRydHz8i6sRJCkvXrPak8/GwlH8s5Vl6+9YtBkvBYCmTcfGA1MomGplZz37bPAyW/n7Ax2Dp2O3laPUrsNTH2xupqWkGqel8gSep1HSp9Hb9IkjC4k/C7xGjBaVCawAhuNS3Bvhe1XopP9KRoK9OpxPdY8fHTsniT/wYDJZOXk10WKpUKsHJ5PgfYUUMljIxMf1xMVjKNNE07mFpXV0d6urqaPRoc1MzPcY3vqiRz0ZvZGVmYmBgAHV1ddi9KxAhwcH0vMCAACxa4Iq6ujr09fWhs7OT9vls9MZUK2ssXewGC1MzHA0NRWlJCf2x4LdpM+rq6rBsqTuWLnbD7l2BIlja09ODpYvd8Ki8HN3d3airq6O2AHMdHem106fa0sjX3wFL3zY04HRCArzWrEVdXR327t6DuY6O4GRyVD1/jrq6OhQVFoGTybHA2QXHI46h+uVLCkt7e3pRV1eHDV7raOp+XV0dent6UVpSgqWL3bB0sRvOpaWhqamJztvZ2YmqqioDWLpogStOJySgvKyMXsu3V7W12OnvT2FpY2Mj2tvb0d3dTc+Z5+gkgqWW5hZYutgNRYVFNNqXh6XLlroPP5eKjYiJjqaRr0ePHKF7MNm/4DFYymRMVjbRsLKJxqGQot86D4OlP97+zxx3BkvHqI0HWOq3aTPOnTsnOiZVwAgYjhIVQkeVulUEHYXiQaJOp6OpvKMFpfrWAN+rWq9ubftu1XrAMEqUv0+hH6lwXH0vV34MlboVmu5uAMyzdDJrosNSAPAPOoz/M8edwVImJqY/LgZLmSaaxj0s1Y9GLMi/gUePHkGn0yEjPQMZ6Rm4VVwMQgjmOjoiLjYWPT09yEjPQPTJKMRERyMjPQODg4MoLipGWmqqZIX0gB07MdfRERFhYbCxssJmX1+a5r1j+3bkX78OQghN0Z/r6IiM9AyciIxEXGwszqWlISIsDHV1dXTM2JhTiAgLQ1JiIo2+jAgLQ0TYsC/oxg0KRJ04iYz0DNjNmAnF+g1ISkwEJ5Njq58fPTciLAyPHz+msHTXzgAU3rwpgqWtra3ISM+ARqNBUmIibK1tkJGegUULXOmPnjMpKchIz0DqmbN03KLCImi1WgpL1SoVMtIzEHnsOB6UlhrsPT/WTn9/uv+dnZ1QvnqFMykpBrCUk8mRlJiIT58+ie4nIiwMOp0OIcHBdC8/ffoEQgi+fPmCiLAwuMxzhrPTXESEhaG3pxdRJ05i+lRbRISF4d27d3hR9QIR4eEUlq71/AqeXeYj6sRJ9PX1Db8OoqLgt2kzg6X4dVjK2sRuAbuuj/ErzlAMlv5Y+597zsPSZiZUKtW42WMGS8euwBPwLb2dB4e8hKnpvPj0dmFqOmAIHUcDS2fb2UOpVIr8SIXz6fuRAt/A5Y9UrQe+WQMIx9X3IxX2qVvbRPcNwKD4E4Olk1eTAZaqvmZ8/ZfvCQZLmZiY/qgYLGWaaBr3sLS7uxvd3d3o7e0FIQTr1nrhaGgoOjs7YWttA1trG2zy8UV3dzcWLXBFcmISTcO/c/sOrl+7BltrG/T19Ykrt/f2QqvVYmhoCN3d3di9K5BWsXewt4eluQVsrKzAyeS4f/8+XccM22mwNDOHmQkHW2sbNDQ0IPP8BTjOdqDnfPnyhc7Tr9Wit6eXPh4YGEB3dzdM5SbIvJCJR48e0fuwNLegP1Lu3b1Lr+np6UF/fz/eNjTA1toG1S9fYmBgAF1dXbC1tsHVy1fw8OFD2Frb4N27dxS4SrUp5hbwXLVatBdarRa21ja4lpeHkvslsLW2gVqtNgDKRYVF39Yq2IOqqipknEvHVCtrCm/v3rlLz009c1Y0Dr8H3d3dtAgTJ5PTSFC+7d4VCP9t29Hd3Y2hoSHExcbCfclSdHd3Q6fT0XF4WwAfxUYQQrDc3R3RJ6Pw7t072Frb4EFpKUvD/6pfgaVMTGMhBku/3/57Ui04mRwZ6enjao8ZLB07WKpfBElYwMhYersQOgLSxZ9+FJZOs5mKp8+ejUnVeqE1gFTxpx+Bvn19WsniT/wYDJYyAZMDlgLA4fBI+n/1b73XMzExTT4xWMo00TTuYSn/ZYD3LCWE4GJWFizNLUQV1DmZHKr3KpFnKSeTIzAgQDKS1H3JUoQdOYrenl5wMjkKb96kfQ729kg8fRrv3r0z+AExMDCAkEOHsHKFh2g8TVeXKGWfPx59MgoLnF3o46tXrorG49PwCSE4e+aMJCydYTvNICI2Jzsb5pwpCCEI2rMX69Z60b6RYGlGeobkfvBwcuMGhdF+Y56l7m5LEH40DD09PXQeX28fo9dey8uTXJs+LNX3LOVT9TmZHM+ePsXVy1doGr5+Y56l0mKwlOlvi8HSHwN7zm6rxt0eM1g6NrBUKr2dB4XGgKGx9Hbe75RX56fvF3hyd1sCpVJJIzmFfqTAyFXrOz52iubTtwbQh768H6nwPqWKP0lFpQqtAYQeqgyWTl5NFliq0WhgaTOTwVImJqY/KgZLmSaaxj0sLSosgp/vJkyzmYqd/v5oaW5GS3MzbhYUYKe/PyorKw1gaV9fH4oKi7B0sRucHOZgp78/dvr7i9LKy8vKkJKUjG1btn4XlibExSPsyFEKS2travHo0SN6/v1797Btyxb6Q8PBzp7O6Tp/AYWlsTGncCIyEkWFRSgqLIJi3XrMnDadnhsbc4r2tbe34+WLF9jp748b+fnUs5Vv7969Q1FhIXb6+yP1bCqyMjOx098fHR0dBrB09cpVdNyY6GhaROlk5AlczsmhY76oeoHMC8PjdHZ20vF3+vuL7AUIIXhVW4uc7Gzs9PfHNJupI8LSghsFOBoaKglLQw4dQkpSMjiZHD6KjSL/1dQzZ2khp86PH5F//ToO7NuHosIiHD4UQot9EULo/e/090d7ezsa375F/vXr9FhEeDjdg8ksBkuZ/rYYLB25/T/Bw39QUyqV426PGSwdG1iq70cKiAsYCWUsvV1YBElY/End2iaypdFvEWHh0Gg0FED+KLgcbdX60UDftvYPBtBX3xqA7/v0uYvB0kmsyQJLASAhLv6HLTV+R2NiYpp8YrCUaaJp3MPS0pISREdFYZOPLzb5+CIvNxelJSW4f+8eNvn44vHjxxSW5uXmoqmpCVqtFqUlJVi21J1+qPsoNuLe3bvo7u5GaUkJuru7ceH8edoffTIK1S9fghCCvbv3oCD/Bj58+IBNPr7Iyc7GiePHKSzlI0lLS0rQ29OL27duwVuhoGPZzZiJTT6+sDQzh+v8BQjctQulJSVwW7gI3goFSktKQAhBxrl0rPZYCU4mh9eatbh65Sr6+/tRWlKC0pISZF7IxCYfX9y+dYseKy0pgaarC4QQ6HQ6bPLxRXraORqV2tLSYgBLd/rvACEEZQ/LsG3LFjg7zUVpSQkWOLvAz3cTHbe9rR3lZWV0LxPi4rHBax04mRzJiUn0PJ1OB0KGi21t8vHFVCtrbNuyBbeKi8HJ5Fi21B1xp2Ip9DwVHQOXufMokE1PO0efz9KSEryoekHXyoNcQgi2b91G91Kj0SDqxEm4uswHIQSRx45jyeLF4GRylJaUIPLYcbqXPFj+KCiW5blqNV3/ZBaDpUx/WwyWGm//Le0tuKn2OBmXNC73mMHSX4el586lGy1gNJIf6Ujp7TyA5KGjUqnENJupou8JPt7eIsDIg0uhvle1Xh9cdnzsNLAGGC30FUbY6kNfoTUAX+Dpw4cOBksnsSYTLGViYmL602KwlGmiadzDUk4mR8a5dArQ+GhCqTR8TiZHXGysKA2fb7yPaG3NsBec8tUrESzlZHL4bPSWTOnmgaEQlr58MQz43rx5YzQN327GTKQkJ6OpqclgPUNDQyCE4NnTp8OA7+1bEELQKQB827ZspWn4wmurqqpE6wvas5f2jQRLeU9RY+1Gfj6FpZxMjvi4OKi/GskLm77/q7vbElF/UWGhqF8IS9d7eSFoz15R/0iwdMtmP/pYCEsJITQNn5PJcfXKVTytfGoUlrK/hg+LwVKmvy0GS0cGenZO88ftHjNY+muw1G/TZqSmphlEXOqntgMwKILE9/f09BoUQeJ9QIVRohqNBlVVVXj4sAydn8RAk4eOwjn1rQGE4PJnq9bzEkaJSkFf4bi8l6u+NQAPYQcGBhksncRisJSJiYnp94nBUqaJpnEPS9vb29Hb24uGhgY42NnDwtQM+/YGQa1SwcHOHg529tjq54f29na0t7cjIS4edjNmSsLS6KgozJo+A5xMjlnTZ8DW2gY2U6zotbeKi+FgZ48PHz6AEELnuHf3Lj2HEIITkZHYuEGB9vZ2rFntCQc7e9jPnEXnsjS3gIOdPcxMOKQkJ2NwcBDt7e1YucIDgQEBaG9vp2v39fZBe3s7VnusNBiHh6UdHR04fCgEri7z0d7eToGtTqeDg509crKz6fp0Oh2SEhNhP3MWPcZHonZ0dCD4wEE6/sMHD5CSnCyCpf1areReFt68SY8PDQ0hOiqKwmV3tyUIPnAQzU3N4GRyTJtqS+/PwW7Y0oD3HP38+TNdD7+XM6dNF8FSjUYDBzt73MjPx82CAjjY2ePTp0/o6emh42z18xNFxkjBUp1OR9csbJNZDJYy/W0xWCrd/u8TpWMGeRgsNWzjAZb6eHvj7JmzomNSBYyEfqS8VOpWyar1fJ9U1XqpSE5hlKjI61TPGkClbjXwIxX2SfmRjhb68n6k+vchZQ3Ap/cDrMDTZBaDpUxMTEy/TwyWMk00jXtYykO1uro6CsZCQw5jcHAQyYlJcHdbAsX6DfS80/EJmGYzFcmJSaJ2KjoGK9yXiQDq6pWrRJXaW1pa6Lkx0dGIjTmF5MQkxJ2KRUx0NGKio6HT6VBaUoLTCQmIiY5G4unT2OTjiynmFkhOTMJi14Vwnb8AyYlJsJlihQ1e6+i1pxMScDp++DpOJof/tu10nJnTpsNrzVq63oULXOHqMh8x0dHo6+tD5LHjmDV9Bh3rzu3b0Ol0SE5Mwuu613j37h1ioqPx+fNnPHv6FEmJifR0DZNJAAAgAElEQVRcYRP6r9bU1CArM1MES1uamxETHQ1NVxcqKyvpet69e/fDBZ4CAwKwb28QHTcpMRGfP39GTHQ03r17h1e1taL18HPYzZiJyGPH0fU1Svf2rVsGBZ46OzvpXvpv204tAuJiYxF3KhbJiUmIjTmFhw8eoLe3FzHR0Xjb0ID6+no652QWg6VMf1sMlhq2/8hUw8RmNg6HR47rPWawdGw8S3kJiyAJIaPQj5SXsfT2np5eo8Wf9FPteXDJQ0e+T+hHKpxPqmr9SH6kUtC3rf2DKEpUpW41SOsX9ul7ufLAVjgug6WTVwyWMjExMf0+MVjKNNE07mFpS3MzNBoNhaWOsx0QF/vND/NYRASC9uwRwVIHO3taCKqjowOEEFhbTsGs6TPgMs+ZttPxCdDpdGhpbkZvTy8dw3PVakyfagtnp7kghGBP4G4aYfm2oQEtzc3Un/PNmzc4l5YGW2sbtDQ3w0exkabhr1zhgWlTbWFhagaXec6orq7G1SvDxTtc5jmjqLCQpuE7zXFEdFQUXfeewN2YPcsOnEyOz58/IyUpGU4OcyiAPHQwGENDQ/T8G/n5NA2fT0F3mecMa8spsLGygss8Z5iZcMhIz6B7eef2HWScS6f7ce/uXTx/9gwu85zR3tZutJp9S0sL9u7eQ2Gpn+8mnE5IQG9vL1zmOaO0pAQPSkvpWo9HHEPF4wpwMjkqHleICjwlJSaitbUVhBD4evsgJSmZwtKLWVnIv34dLvOc8fnzZxBC0NjYCE4mx7OnT1FUWAiXec5oaW7GTn9/rPX0BCEEri7zEXLoELVKuH/vHh4+fEjvczKLwVKmvy0GSw3b//IKgZXNDGg0mu9v4D+8xwyWjh0s7e/vN1rAyFh6u1TVeqno0U+fuyh05PukokSF4FKqar2+H+lIVet5awBhn1SUKA99hX6kAGiBpx+BvgyWTl4xWMrExMT0+8RgKdNE07iHpZxs2LOUB3zV1dVGIR4PS4XRo4EBARSWZl7INDi/t6eXppkLj8fGnKKwdLiC+zVJ/0selgqP8bCUEILok1FY4OzyzWfzKyyV8izlizRxMjnu3b2LO7dvU1hKCEF9fb0Ilg4ODhqsh4elfNvk4yvyLBXCUk4mx5HDoSPup1SzsrAEJ5NTWCrVhLBU2PRhKSeTY5WHh+jaLoH/q9CzVB+W8sf4c4WwVDj+/Xv3RGNMZjFYyvS3xWCpuP1nbCX949V43+N/HZbuDwrCk4oKaDQaqFSqMdtvocYCluqnpgOgMFTfjxSAQcQmIC6CJOzj/Uj1iz8ZA5ejqVrPWwP8aNV6KWuA0UBfoTWA0EOVwdLJKwZLmZiYmH6fGCxlmmga97D0SUUFWltbDWBpf38/1q31QnlZGYVgATt2Yp6jE+xmzMSTigo8qahAQ0MDhaXznZ2xbq0X1q31QnNTM4qLiuGtUOBJRQWOHA7FiePfigvFxpzCFHMLrFvrhVe1tejo6KBjCttO/x2Ijoqij7081xjAUisLS6xb64W6ujoKS/l1uC9ZCk4mh8fyFTgVHUPHCQkOhtvCRSJY+uXLFzypqMBi14VwsLOH15q14GRyREdFISM9g8LSa3nX4L9tOwgheF33GlmZmVi31gtlD8sQdeIkAnbsxJOKCrjOXwAHe3u6FuFeEkKQe/UqBa3CVllZiW1btmKqlTXWrfVCS/PwXvLjrFvrRSvV3youFu2XpqvLAJbaWttg3VovvH//HjcLCrBmtSc4mRyJp08j+1I21q31gqarC9kXL8Fj+QoDWMqPrXz1SgRLp021xZOKChw6GIzYmFMMloLBUqa/LwZLv7X/yFRD7rAUG7cETIg9/ldh6bDNgT39zHlSUYF1a73oZ3FCXDw4mRzubkugUqno51hebi6eVFQgIS4eCXHx0Gg09JhKpYJSqTSAcr8KS5MSkwz8SAFxASOhjKW3S/mASqW38xGi+untvA/oWFSt14e+mu5uAz9SHrZKQV/ej1TYp28NIIS+DJZOXjFYysTExPT7xGAp00TTuIelhBBUv3yJrMxM7NsbRL0z+7Va6rPJQ7C5jo5wd1uCkOBg5OXmipqlmTlWeXjAb9NmcDI5lK9eoexhGQ7s34+83FyciIxE6tlUOtat4mLqifn48WMRLKyqqkLJ/RIQQuC2cBF8vX1QkH8DhBBcOH8e6WnnQAhB4c2b8PPdRH+gPa18SmEp3+xmzMS+vUGwtbbBZl9ful73JUvhNMcR+/YGobe3VzT/ao+VcHWZj317g7BvbxCePX2KJxXDae6pZ1OxY/t2ONjZgxCC8rIyHA0NBSeTo6enBxFhYXBymIO83FwcPXIEqzw8YGbCYd/eIJw9cwYPHz4EIQTFRcWIj4vDsYgIOu+7d+/o+mKio+leJp4+jT2Bu2nxLWHLyc5GXm4ubhUX03GePX1K+11d5mPW1z3IysxE4unTCAwIACeTI/xoGCLCw8HJ5Mg8fwF+vptga22DfXuD0NTUhOamZuTl5tJxP378iLzcXBw+FIJ9e4MQfOAg8nJzcTziGC6cP89gKRgsZfr7YrD0W/t//ZNgaTNzzNLv//Ye/6uw9H/uOY8pejYHKpVq+I9sSiX9N58Cz8PRJxUVyMvNpfBUqVTSz+6M9HQRcOU/gy3MfbByVRoiwsKxbq0XIsLCkZebS8fkx8/LzYVKpaJz8wA3LS3NaAEjqdR0HjryIFEqSpSPDhUWQRL2SaX1S4FLoTWAVNV6fXCp70fK9xmDvvoFoPStAfShr9AagPcz7ez8xGDpJBaDpUxMTEy/TwyWMk00TQhYGhEejqWL3UTA0BgsjYuNhVqtlkwBz7yQidqaWgpLR0rD5+GgFCwNOXQIK1d4UFjKRzHqX8/7nI4ES9es/po6Pn+BwXq3bdkqmeK+2mMlDh0MFh3jf6jxjYelm3x86TEelvKP+QJPU8wtQAjB7l2B2LhBAUIInOY4Ij4uTjRHQf4Nem1WZiZqampEc061sjZYq4P9cDSPy9x5kvcSEhxM0/AXuy4UFXiSaq4u8+m1Vy9fASeT08dPK79aGjQ2UnjK0vDFYrCU6W+LwdLh9t+Tail0myh7/C/C0v+W9va37TMAaDQaKJVKaDQaPKmoQPChXCg2XqJwNC83F3du36HAFRiOIJ1mM5Wew3++eXt7IyoqCg72s5GRno79QUHYuWMH3jY2QaVupVGwKpUKjx9XoOXde5SVlQ1DV3UrnlRUiPxIeRkr/vTlyxda1V4oHjpKFX+Sqlqvbw3wvar1UtCXh60/Cn2lij/xYzBYOnnFYCkTExPT7xODpUwTTeMelpqZcMg4lw6dTkdh16WLF2FtOQU6nQ57AnfDzISDmQmHd+/eISEuHmYmHDiZHA8fPKCFj3p6enD0yBF4LFsOnU6HoaEhZJ6/QM/lxxA2l3nO0Ol0UKxbj317g0AIwRRzC5jKTX4YliYnJkGn09E5h4aGoNPpYCo3weWcHFRWVtI1nIiMxIcPH+gPJ1O5CcxMOHR1deFEZCRd1/Nnz5B9KRuWXyHn/qB92OC1DjqdDi5z5yE6KorulxCW8gWeXtXWiu6Z/7ep3EQES6X2RDiW8LHweFFhEd0DnU6HmOhoESy9fu0avd5UbkLv01RuMiIsTUlKFr0O+L3kx/LyXAOdToeFC1wN7m3H9u0MloLBUqa/LwZLh9v/t3Ajlq31mVB7/C/C0v/yPYFZjgt+yz5L6VfT8EMOhVBf1VvFxahveIu612+gUrfSaNXm5hY0Nbfg7Jmz2B8UNAxQ1a24dCkbHz50wMF+NjiZHAlx8TgdnwCVuhWlpQ+gVCoptH39dUyVuhV5ubkU9jY1t6CtrR0vX740AJdCawAeehqrWi/lRyqVvq9vDcD3d3Z+Migg9T3oywNbBksnrxgsZWJiYvp9YrCUaaJp3MPSnOxsvHn9moKupMRErFntSUHh7l2BFKap3qtQW1OLnOxs5GRno62tDS3NzcjJzsbg4CCeP3uG27dugRCC0wkJiI05Rc/1WLacjpN65iz8fDdhqpU1Dh0MhoO9PRY4u+DQwWCYmXDYu3sP7ty+A0IIigqLsNN/ByzNzHHoYDAOHQxG5vkLFJamJCdLRlSayk3gtWYttvr50VT2ly9eQKvV0jXxrV+rxYuqF7R4VVVVFd42NCD7UjYOHQxGSlIyjZ68WVCAhLh4upbUs6kIOXRIkDr4rcDTqegY7N4VCAtTMzpXWmrq8D1cyEROdjbOpKSAk8lxLCLCYF2nomPAyeSIi43Frp0BmGJugZzsbESdOImM9Ax6r9XV1bhZUABCCFLPpmK9lxddz97dexAdFUUfL1m8GIcPhdA5jh45Ak4mx7m0NMTFxtL7Ejb+2tmz7HDoYDCm2UyFr7ePqPDWPEcnev5kFoOlTH9bDJYOp4Vb2sz8bUWGGCwdbnz0bl5u7m/ZZymNRYEnXsIiSEJwKQUMhentfFo/n+avUrfSiNSEuHhcv34dKnUrbt26TSHsk4oKHIs4hreNTXj58uXwdyp1K7Zt2Yr6hre4fj0f02ym0nWq1K14916FmpoaGiGrUqlQ8eTJ1yJNPdTTtb29XbJqvZQ1gErdauBHyt833ycUbw0gHJfB0skrBkuZmJiYfp8YLGWaaBr3sJQQgvfv36Ourg6EEBzYtw+rPVZiracnqqqqcDQ0FItdF1JY2traitqaWhBC0NDQgKqqKto+fPhAAZ77kqXY6b+D9inWb8C0qbZY7bESnR8/IjbmlGR04yoPD5xLSxONm5KcjNUeK7HaYyVm2E6jBZ42+/riWt41aLVaVFVVoaenRwRLheM2vn0rgqmNb9/S8QcHB0EIQX19PTiZHJdzctDS0oLBweGqr3GnYlFfXw9CCF7V1uJ0QgJdT9Xz5ygqLKTzRISH41ZxMVZ7rERRYSFOHD9O0/Cbmppw4fx5cDI51CoVCCFQq1TgZHJR8aeXL17gw4cPNA3/Wt41HIuIgLXllOG9XLcevt4+IISgpqYGVVVVeFU7/JwIQSknkyPqxElczskRHZv+NUq38e1bXLl8Gas9VkLT1YWoEyfpOW4LF8FlnjN97DLPmd7zFHMLBO3Zg/KyMnqML/rEyeR/+yX9V8VgKdPf1mSHpXxauBCKTZQ9/tdg6f9eEYAlazf9tn2W0ljBUv0iSCNVrTfmR8pDR/3iTx8+dFDoyPcJ/Uh5qdStaGtrQ2trG16+fEmhc0Z6OlTqVrx920ijXdet9cK7d+/R2NRMLQF4T9fS0gdoam6mAPZJRQWCg4PR1NyCx4+HfWGFEbIt794jJydHVESrpeWdZPEnHhwzWMoEMFjKxMTE9DvFYCnTRNOEgKXf8yx9VF5OYenp+AQ4OcwBIQTeCoUIwmVeyBTBUn0Q6rPRm/Ybg6UDAwOiSE1OJsfxiGP0Ov9t2yks5VtTUxM42bBn6Y/C0i2b/Wjf58+fRbCUk8lx6GAwhaWcbLjABCEELnPn4VR0jGgsISzlZHK6lyvcl4GTyUWepfw5I8FSKwtLSc9SYeNhqb5nqT4slWo8LN2+dRu2bPaj8wph6bOnT6lnKSeT4+qVq/Q8HozazZhJj92+dYvBUjBYyvT3Ndlh6f9eEQBnt1UTco//JVj6n7GVfwWajQUsNVa1XsqPlC+CZCy9XafTifo6PnZK+oAai1YdTdV6dWubZNX61tY2tLe3D0e7fo06rW94ixcvq2kU7LYtWxEXFweVuhXHjx+Hu9sSJMTFY91aL1y/no/nVS+gUrfSz/GXL1/iTX09btwoQERYOPV05b/HMFg6OcVgKRMTE9Pv0//P3pv+VLXl+/r/QL2pN78XJ7nJSW5SuTnJycnNXYtJu1yAgIigIiggblFRVBQURAQUERREEBVBpZO+EQERQUVFQLbA3iggKAoqjUgrICBIPz6/FziHc66GbZVayGI8yUhqzTHnGHMOdtXJfs63YbKUoWkseVm6ycYWJkbGIllafLcYm+3s0draipBTp+B7xAetra2Ynp5GfGwc9LR1sMnGFsV3i5GWmqpWlh4/5o/W1la0trbCfb8b5DIZNtnYYpONLeLj4lBdVU1T+Ph09E02tsjMyKTPtba2IiU5mTYp6u3tRU9PDwgh2OXsjE02tnDdsxetra3w9jpM13/79i1aW1tx5/ZtkSwdGRnBJhtbyGUy+t621huwycaWRlIW3y1GVmYmNtnYgpNIkZSYiAf3H2CTjS30dXRhttIELjt3qZSl0VFR6OzspLL0qJ8fmpubscnGFnm5eVRAbli/HptsbGGz3lpJlra1tuJcRATWW60FJ5Gi9OFDUSo9J5HSs6yvq0NrayvedbwDIQTdXd1ISkyk98XFxIrOMvLCBSpLe3t7UVRYhE02thgeHsbg4CC97/AhL4SFhtLfYaGh9Gz1dXTBSeZrlfLXAgNO0HuXM0yWMhab5SxL//ep+QZ/zc3NGnnGv5Is/Z+tvti2a99PPWdVfK8sTUlOodJRyEJd60dGRkWCkheWinVAFbvW83N9/R9E9UgBYGJiUmUjJX4NxWjVhbrWK0pfVfVIedmqTvryafi8XO3r60fHu07aRIsvNbDabBXkshU/rcQF49eGyVIGg8H4eTBZytA0lrws5SRS7HXZjeiLUUhNScWHDx+Qc/26qGap6569IIQgLzcPbq77YChbgcjz59He3o7mV68Qef48dDltHD7khaLCIipLw8+EUQHoe8QH6yytEHn+POQyGdz27acC8HRwCBLi4xF5/jwiz59HQ0MDfe5WQQHiY+MQc/mKygZPLs47ERV5EakpqYiOiqJrpKak4nXLa9TX1VFZ+ryxkXbGPXzIi94bef48nLb8BlPjlYg8fx493d24kZcHHS0OkefPIz4uDokJV0X3X7wQidSUVLx//x4tLS2IPH8e+jq6yMzIxNDgIFJTUmG52gLO23dQeXn3zh38UT0viENOnRKt19HRgdbWVqSmpGJmZgalDx/Suf6+ftTV1uFsWDg4iRSeBz1w5PBhWiJAeF73iotx1NeXRuQ2NDSgv78fqSmpSE1JhceBg1SWEkLwqLycStXnjY0YHh5Gakoq1llawem3rUhNSQUhBPfv3aPvs9LQCNu2OtHf1uvW4/AhL9bgCUyWMhaf5SpL/57WBi35apw+e0Fjz/hXkaX/Gf7g3yKlVfE9stR19x6kpqapbWCkKC6F0pGXjKqiRLt7ekXSUQgfsSpEnbgUlgb41q713yt9VTV/Uid9AwMCFu3vzvg1YLKUwWAwfh5MljI0DY2QpYkJV9Hw7BlMjIzx6uVLJVnqsnMXhoeHYWWxBjI9fTjY2YEQgrGxMYyPjYMQghX6BpAbyLDHxYXK0pBTpzA8PIzh4WEcP+YPH29v2uHexMgYxoZG4CRSGK2QIygwkKbDC4f9xk04czqUriMcNuutkZmRqTIN39R4JfJyclFdVQ0TI2O8ePECsTEx0JZqwcTIGJWPH4v2uXDuPGw32GB4eBgzMzMoKiyEmYkphoeH4efjS9PwR0dGMDw8jLbWVpgYGePPP/7A1NQUhoeHIZfJkHQ1Ec/q62FiZAwTI2PIDb5GsN7Iy0PFo0cwMTJGb28v7WY/PDyM6elpFN+5C04ixcTEhNI5TE5OoqenByZGxrhz+zbKSkthYmQMHS0OVxMS6Dp8cy4TI2MMDg5ianISTU1N9H1MjIxpyj4hBFWVlfR6UmKi6F7+3YeHhzE1OUmfcfptK+Jj4+jvo35+CPD3Z7IUTJYyFp/lKkv/2yUEZpY2GB0d/etDWqJn/KvIUqnFZngHnP7p56yK75Glnh4eSEtLF13jpaOiuFQUhsKapopNkITNnxTXEHaRB75GiY6NjYv2XKhrvWJpgL/qWj87Oyu6LiwN8FfSd2xsXKk0AAAU3b5DM4EYyxcmSxkMBuPnwWQpQ9PQCFkqrLNJCFGSpcL075grXyM897u64qivL5WlC9UsvX/vnpIAfP/+PTiJFDU1NSgqLKI1SxVlqbram4ODg2prlhJCEBQYiJ07nOfrbG6wASeRwkxQZ1NRlvLr8pGa6mqWchIpLFaZ/2XNUkIIrmdni+b27XUV7SusWbqQLM3KzIShbAUIIfDxPiKqWXo1IQGdnZ10jwD/4yCEQJfTRl5unsrvVTWiIi/C1noD/a2uZulfjeUMk6WMxWY5ytL/Ffn431pHcTnLUj6qdLHSsH9Ugyfgaz1SxQZGwnqkPN09vUr1SIGvslVRXPLSUVXzJ3Xi8nu71v8z0ldVaQB10vfpkyfgJFJEhJ8FY3nDZCmDwWD8PJgsZWgaGiNLjVbI4eV5CF6eh+Bo7wAdLQ5enoeQnpaG+Ng4tbJ0jflqeHkego4Wh8129nSNgvybKCstpaOvrw+vXr6El+chGkH6+fNnlJWWYmhoSEmWdnR0wMvzEAxlK3DIw4Ous8NpG32XA27ueFhSgvGxcZSVluLjx48iaffq5Uvk5ebBy/MQigoLEeB/HPo6uvQdkxIT6b1vXr9GdtY1kSydm5tDWWkp9rrsprK0uqoa/kePUVkaHxuHiPBwlJWWQqanr3SWUZEXRefwrL4ehBCcCjqJ4rvFIlna29uLstJSzM7O0vfmR3RUFB7cfwAvz0NYY74a5qZm8PI8BANdPWyysRU12+JlaXlZOS5eiBStIxyNDY0LytLurm763nxDKkIIzpwOhZfnIboPIQQNDQ103eUMk6WMxWa5ydK/ZfdAS74aRwNOavwZL7Ys5c/631HqQB0/SpYu1LVeVUq+uvR2RSEKzNcj5aWjcI4Xl8I1FeuRCudUicuhoY/f3LVeVWkA/jvUSd+JiUnR9ebmZhjLDREYEAAGg8lSBoPB+HkwWcrQNJa8LD3k4SEaxoZGWGdpBQ/3A7TuZUJ8vEiWTkxMoLysHI4Om7HGfLXSGoc8PHCroADlZeX4veJ3KtReNr3EIQ8PFN8tRnt7O73+rL4e6WlpVIp2d3XjeWMj3dPL0xOPf59fx9vrMMxNzXDIwwP6unoi4clHapaXldNxIy8Phzw8UFRYhIT4eNE7hp8JE91bVFiIQx4eyL9xA+Vl5XhUXg5CCDLTMxBy6hS9Lz42Dn4+vigvK8eZ06FISU4GIQR+Pr5K55Cbk4PZ2VnRPuVl5Tjq54fiO3dFspT/hoqKChx0dxdFtUZHRaHkQQldl5fGbq77aHd6TiKF8/YdyEzPmF/n0SO47duvFJGrp62DQx4euJaVRd9namoKhbdu4XRwyF9Gjp4ODsEhDw9R6n1DQwN9t+UMk6WMxWa5ydL/430V+nLTf0v6/WKf8WLL0n/4Z/3bz1qRHyVLFZsgLdS1npeQiqnpvHQUCkp+DV468nOjnz6prAO6kLj81uZPHz4M0ChRfk4obIXwewrhha1SDdXRUTjaO8DR3mFR/+aMXwcmSxkMBuPnwWQpQ9NY8rJUUYQ5bfkNoSGnMTU5qTL1PebKFfT09NDffBq+4uDT8OUymdKchbk5EuLj6e+9LrupeNPT1kFeTq5IlnISKYy/NCXy9joMjwMHQch8gydFWVpws0D0nDAN/+KFSNG9ZaWlonvtbDeCEEJFpC6nTe/l09A4iRSXoy+hv78fnERKJe5CY1LFWfKRmqpkKR+hyo/m5mZRGj4hBJWP59NO+/v6cTn6Er33Sc0Teo8up63yb8g3eDp8yIteG/pS0uBHjOUMk6WMxWY5ydL/uFILTiJFWWnZsjjjxZSlf8vuAWdoLkpjXwx+hCxV18BIKB15eOmoLr2dfxYQ1yMVrquqaz0/p1iPlC8NoK5r/ezsrGhOsTTAQtKXr5OqqvmTovTlz8tYbshEKYPCZCmDwWD8PJgsZWgaGiNL3759C7OVJnhS8wTXsrJgarySijSXnbswNDQEy9UWamWplcUa3MzPp+uNjowg6WqiSJb++eefMFtpgrdv3yLm8hX85ug4f+/oKMbGxkSydGZmBkNDQ9hoY6skS/V1dGG20gQ6WhySEhPR+e4dzFaawGylCeSyrw2VMjMyMTo6CkIIRkZGkJSYSO8zW2kCoxVyem98bBwaGxphttKESkZeloaFhsJYbghOIsWLFy/w+fNnKkuNVsjpenyzK3647tkLs5Um9CzzcnLxsKSEytLU5BQ42NlhaGhIVKtVpqePlORkDA0NYWhoCDMzM5iYmBCVGZiamsLQ0BDsbDciIT4eTU1NVJbev3cPZitN8OHDB7rG0NAQrduqLdWC2UoT6Ovowm3f/vk56w3IyswUneXZsHAQQkRnxo/4uK8Nno75HRXNLWeYLGUsNstFlv4tuwdSi83YtmvfsjnjxZSl/+UeiZWWGxddnH2vLE1PT1eqRwos3LVeMb1dsQmSsPmT4hp8Or1i13q+M/23dq0XRpr+Vdd6VfVIedn6LdIXAAIDAmAsN0Rzc7PSOTKWL0yWMhgMxs+DyVKGprHkZenFC5Goq61DS0sLlYGvXr5EYsLVeRnq54d7xcUghCA3JwdxMbEIDTkNTiLFqaCTNFVdscETIQRNTU00JfzO7dvw8T5CoyHrauuQl5MLQgjycnJx8UIkLl6IREpyMmKuXKG/k64mIiU5GclJSbh4IRK21huwycYWKcnJkMtkcNm5C6eCToKTSBEachopyclISU4GJ5HCfb8brmfPv1NqSipiY2IQc+UKOIkUgQEnEOB/HJxEiriYWMTGxCAoMFAUgcnL0gD/47Beuw4pyckYHRnBn3/+iTOnQ8FJpAgKDMTxY/7gJFKMjY2hvKycfnNRYSG8PA/R9TwOHITvER8qS+vr6pCbk6MUmZmeloZXL1+KrtXX1dEzaWlpQXtbGy5eiJw/A+ediL4YhZTkZPT09ODNmzdISU7G7OwsHpaU0OfMVpooRZl6HvSYF6ImpkhOSkJ7ezudCwoMBCEEnEQKH+8j9O/OSaTY7uSE+Nh5YVryoISee0py8mL/I72oMFnKWGyWiyzlU8IXo9HQcgyp+MoAACAASURBVJOlf09rAyf5NTqhf48sPeDujtTUtG/uWt/X/4FGifIiUVWUKC9aFdPb+ShQVWn9qsTlwOAQLQ3wLV3rFeuRCt9FiLA0gHBPxdIA/FxmRsYv8/dm/FowWcpgMBg/DyZLGZrGkpelnESKzPQMtLe1wXaDDd68fj0fufgldTw1JRXtbW1ob2vD9PQ0sq9lw3aDDWw32NBmRYQQONo7ID0tDV1dXfTayMgIffZkYBAsV1uAk0hR+/QpPn78iOnpabS3tcHH25uu+ebNG/j5+MJAVw+2G2zQ0dFBI1U5iRRrzFfj+DF/tLe1iaJfOYkUdbV1dO+NNrYwlhvSNHz3/W6IjorC88ZG2G6wQVFhEbKvzXeqf97YiKATJ6CvowvbDTaQ6enD2NAI9hs3UVnKN3jq7OxExNmz0OW0YbvBBrW1tah8/Bi2G2zw6uVLBPgfx2Y7exBC0NXVhYy0dFpT1MLcnH5nXW0dPZv2tjaMj4ujUgcGBkRnmZWZCR0tDrYbbFD5+DFqa2thu8GGRsFar12nJF3b29pwNiwcay0t6RmZGBnTd7DdYEPP0sTIGMlJSXj//j2dCwsNRVtrK2w32OBhSQmampronJmJKVaZmIIQgt7eXtG3LGeYLGUsNstBlv5/V19+yR7IWFZnvFiy9L/cI7HKasOinLUi3yNLPQ4cRHp6uugaLx0VxaVilKgwvV2xCZK65k+K9UUBcT1SVc2fVEWrfmvXelWp9IqlAf5K+paVli3qf7cYvzZMljIYDMbPg8lShqahMbJUUbSpqlna3dWtdJ9whIWG0tR6QgiuZWXRZ+/fu4eqykr6OyE+Hu/fvwcnkaKmpoY+o6etA04ixbatTqK1eVn6sKQEFY8eqazFKZSlhBAEBQZSWUoIQUpyMsy+CD7Pgx5KzwtrlgafPEWfE8pS67Xr5sXnKnOl7zeUrQAnkVJZutVxC86cDqU1S+/euUPvtVpjKdpbWLOUkPmO81sdt4hkqbBmKT8szM3VylJdTht5uXlobPha//XCufOiex6Vl9O55KQk0VxB/k1wEqnKv3VyUhKVpR4HDoq+ZTnDZCljsVkOsvT/btyHLbvclt0ZL4YsXay6sOr4UQ2egG/vWg98FZTCeqTA1+ZPqrrWDwwOidbl65HyUaKK4lJYGoCvZ6qu+ZOqeqR9/R9UNn9SJ30VSwPU1dfDWM463zPUw2Qpg8Fg/DyYLGVoGktelj6rr0dU5EU4b98B5+070NbaitKHD7Fj23aVsrQg/ya9VzimJifR2dmJB/fv02vrrdZCpqePZ/X1CA05DTvbjXQtqzWW8DhwEM/q6xHg709rYPKyVC6T0XWuZWVhZmYGz+rrEXLqFDZ9qWNaUVFBU+BVydJ3He/wumU+Uvaory/WWlpCT1sHztt3wMTIWPRtYWfO0NT3lpYWdL57h9nZWThv3wEzE1MYrZDDefsOGOjq4cTxAFQ+fgzn7TvQ0NCAmpoaOG/fgZqaGjyrr8eD+w/gvH0H5DKZkix98eIFnLfvgL6uHoICA1H68KFKWdrZ2Ynm5mb6u7+/H40NjfR3Q0MDnLfvQOXjxzhxPEAkS/l305ZqwXrdehz19cWz+no8q69HV1cXxsbG4Lx9B2qfPsXw8DCe1dfD2NBoQVmamHAVp4NDQAiBn4/4LFcaGjFZ+gUmSxmLjabL0v99ar6J32LWUlxOsvR/tvrCYdeBRTtrRX6ULFVMbxd2rRfWIwXmpaO69Pbunl6laM6RkVEaJSps/sTXI+Xp7unF1NTUgl3rVZUGUNf8SZX0VWwgxUtfRdk6OjqKzQ4OcLR3UHd8DAaTpQwGg/ETYbKUoWkseVl6Mz8fVy5dpp3RX7x4gSc1TxAYcILKLwtzc5wMDMLHjx/xqLwcJwOD6NjrshucRIqc69dxMz8fMZeviMQZ3+CJr9UpHGYrTXAzPx+2G2ywY9t23MzPh44Wh507nEV7XLl0GTfz83EzPx+RFy7AzXUfOIkUGWnpOODmrlaW1tbWouLRIxBCaHMj4VhraYmTgUHQ19VDWmqqUgp7/o0b9B0Oun/dx8P9AHKuX8fJwCCkpaYiJTkZJwODMDk5SdPSTwYGwWyliZIs/aO6GpxECj8fX5SXlWN4eBgnA4Pw9u1buvetggLczM9HWWmZ6J2mp6dxMz8f79+/R+Xjx+AkUqSlpsLD/QCVpb9X/I6TgUGi79zuJI7S/fz5M04GBiE1OYWeq6FsBY4cPowH9x8oydKb+fnY5ewMm/XWuJmfj7DQUNHfRzFKdjnDZCljsdFkWfr3tDZwhua4GHN1WZ7xv1uW8lGlT588WdTzFvIjZKliPVJg4a71qtLbhVGiwjnFKFF+TliPVLjnt3atB6Cya71iaQCh9FUlW1VJXwBwtHfAZgeHRW/gxfi1YbKUwWAwfh5MljI0jSUvS3np2NzcPC9Lnz/H3NwcpiYnoS3VAieRwnX3HszNzYEQgrm5OfqfCSEovlsMbamW0uAk813X+dRxXpaqukdx5OXkivbISEunc6UPH6pNw6+trRW958nAIOxydsbc3BxsN9go7e3leQhzc3NYaWhEZSn/fXm5ebTB09zcHJ7UPBE9b7HKHHNzc3Df7wYfb2/6nHB/py2/4czpUExMTEBbqkVlqbZUC91d3UrP8GOFvgG0pVqiNHxCCMbGxsBJpHhw/z6Vpfz7WK9bj7m5OexxcVE62x1O21T+/XhBzg9tqRZsN9jQe27m56v8G7W3tYnW8zzoIZpfzjBZylhsNFmW/s9WX6y3377YR7xsZOn/3bgP23btW+zjFvEjZOlCXesV65Hy0nGh9HZhMybFlHxh8ydV4lKxHilfGuBbutYr1iPl59RJ36Ghj0rrAqzzPePbYbKUwWAwfh5MljI0DY2QpYojNOQ0FXTH/I6K0vDjY+NgZbFmwdqlhBA4OmxG+Jkw+tv3iA/c9u2nv69cuoz1VmtVPhsSHKxUs1Q41MlSTiJF0IkTIIRAW6qFgvybqK+ro3MXL0TSNRRrlqalpuLt27eia7wsFdYsJYTgakKC2v0zMzLR0tICTiJFU1MTrmdnw0BXj57lvr2u/1LNUnWytL+vn6btcxIpntQ8QVFhITiJFDMzMyCE0Jqlb9++RVpqKlYaGqmUpclJSWhvb1f6JsXzt7XegKjIixgcHJwvh/AlepcfyxkmSxmLjabK0v8Mf/DLRDkuB1nKn3d3d/diH7eI75WlaWnpSvVIeXGprmu9Ynr70NBHUZSosA6o4hq8hFUVJaqq+ZO6rvXC0gDC5k+qpC+f3i+ELw2guGdcTCw4ya9Tk5bxa8NkKYPBYPw8mCxlaBoaIUuP+vnhVkEBHQ3Pnn1NZX/6FJEXLoCTSOHjfQSxMTHIzclBYMAJvHnzBo0NjQgMOIHAgBP4848/0N3VjcCAEzAxMkb4mTBMTU4iMOAEUpNTUFVVBUIIzkVEIC4mlqZ8pyQn40ZenkiWmpmY0nWL7xbTueysa9i31xWcRIqszExRenx0VBSSEhMRGHACBTcL0NHRQWVp0tVExMfF0TXTUlPp98oNZHD6bauSPBTK0tVmqxAYcAJDg4NoaWlBZnoGOIkU5yIicOZ0KC1FcDn6Erw8PcFJpPA86IFL0dEoKiwCIQRPnzxBRlo6AgNOQG4gAyeZ705/q6CASk9CCEJOncJGG1uYGq9EYMAJ9PT00DT8WwUF6OrqQl9fH24VFCAkOBiPyssxNjaGWwUF+PDhAzrfvcOtggLMzs6i8NYtnA0Lx62CAoyOjODNmze00dSff/4p+rvHXL6CM6dDcaugADbrrZVkaUdHBwIDTsBohRwOdnY46uvLZKkCTJYyFhtNlKV/y+6Blnw1Tp+9sNjHC2B5yFKpxWYcDTi52EetxPfIUk8PD6Slpf9TXet56cjPC+uR8vD1RYX1SAFgampKZfMnPkpUMVpVWBrgr7rWq6pHOjs7u6D05ed5Cm/dAieRovDWrYWOjcGgMFnKYDAYPw8mSxmahkbI0vAzYaitraXjXcd8cyP+Ny8GOYkUgQEnUPKgBJxEiuqqahTfLaZzEWfP0tTtLZsdkZmRifGxcXASKeJj4/Dm9Wsa0Vh46xaVa2fDwkXvcMhDHPV5PuIcZmZmUFtbC5edu2BiZAwX550YGRlBXk4uXJx3wsV5J1paWlBwc775B58mzsvSu3fu4GpCAnY4bZuXp4mJdD83131wcd6JrY5bwEmkcLR3gM16aypLryYk0D36+/rR09ODstJScBIpHv/+Ox7cvw9OIsXY2BgiwsMhN5DR+9PT0uhZDg0O4sWLF3Bx3gl9XT1wEilWmZjS92hrbQUhBDI9fdH3842e6DpDQ/TsvDwPIT4uDi+eP1eKAK2rrcMhDw/Y2W5EbW0tPn/+LJp/+/Yt3Xt6ehpRkRdhZbEGtbW1OH7Mn34Df39LSwu9Jhw38vLQ+uXdmSxlspSxuGiiLP1vlxCYWdr8MvUUNV2W/sM/65eMKgW+T5buc92HlOQU0TVeOi7UtR4Qp7cLu9bzc4r1SPkoUUUJOzY2TiNNFZs/qetar1gaQF3zp4WkLy9b+fnm5mYYyw0RGBCwwIkxGGKYLGUwGIyfB5OlDE1DI2SpqjT8qS9NiRYairJUJPhevQIhhMpSTiIVpeErjqLCIrX7nI84h9GREfrb48BBteuok6V8Gv7Ql9Rx4RgeHqbykJNI0dDQgBt5X2uWKg5hGr4qWbrZzl50v7DBE39NMQ2fj/BdSJYK0/CF61+OvkQbPAmHLqctWkfYREoxDX9ocBBRkRfp7/q6OrVnrDg8DhzE4UNeTJaCyVLG4qOJsvRXSxPWZFnKR/EudhMtdfyImqU8C3WtV5ferq75k6qu9aOfPonkJV+PVFFcCuuRCvdTldbPN5RSVY9UsSapqtIA3T29GB0dhbHcELt3ufzFiTEYYpgsZTAYjJ8Hk6UMTUMjZOml6GhRHdDQkNOYm5tDR0cHOjo6aA1MxbHGfDVOBZ2k93V0dNCIS6s1lrBZbw0HOzt0dHTgoLs7laW7nJ1xPTubyrXjx/wREhyMjo4O6HLaiI+Lw4P78/XSfq/4HSnJyXB02Ez3uHP7NmzWW8NmvTXycvPQ1dUFm/XWePHihUiWRkdFwXK1hUiWzs7O0nWuZ2dTWZqclIS1lvMC08piDVaZmFJZGnnhAvyPHqPvOzw8TCWshbk5LFaZg5NIYb1uPYwNjZRkKX+WwSdP4cTxACpLw8+EofbpU/p+hrIVsFlvTRs02W/chI6ODkxNTqKosBCb7ezR0dGBoBMncDIwCIQQ7NzhDBMjY+hp69AzibxwQaUsXWtpiaTERIyOjsJmvTXkMpmSLF1vtRYdHR2YmJhQK0f3u7oiNSWV/u7v60d/fz+TpWCylLH4aKIs3efpu9jHKkKTZek//LOgLzf9ZaJ4FflRslQxvZ2XjIr1SIGv0Znq0tsVoznVNX9SjBLlGzwJ65EC6rvW8++huN9C0lexNEBrWzsc7R3gaM863zP+eUZ27qbClA022GCDjR87+P+NZTA0hSUvS6MvRqG+ro42JQoMOIGy0jKRHOt89w7RF6PoCAudr9F51NcXMZevICkxEdPT06iqqsLVhAR6335XV+jr6CIpMREOdnZUllqYmyMhPp6ufyMvD/fv3QMhBHraOsjLycXzxvmmRG/evEFdbR2tR5qUOF97NPpiFFboG8Bt335cOHcenESKuto6NDU1IfpiFJKuJiLmyhX6LiZGxnDZuYuuIVxnYmICF86dh9lKE0RfjIKF+bz81NHikJSYiN8cHbHeau28aBwZwbP6eiQmXKVre3keohGw0RejcDn6EpISE/HhwwcQQjAzM4OkxEQ42jtgw/r1SEpMhLGhEVz37BWto1h+YI35aiQlJmJwcBDP6uvpGTjY2cHWegOSEhNhKFsBTiKFsaERoi9GwWqNJbZsdkRSYiKio6JEf7foi1GIjYlB0tVEpeuJCVexe5cLbK03gBCC20VF9JzUNXj6/Pmz6Dz5sZxhspSx2PxVRsBSHL+a1NFUWfr3tDZwhuai6MtfjR8hSxXrkQLz4lJVPVJ16e1TU1Mqmz/xUaKKzZiE9UiFe6rqWs9HqwoRlgYQzimWBuDnBgaHlGQrAAQFBsFYzjrfM/41xsMi6L/Ms8EGG2yw8ePHeFjEYv9PPYPxw1jyspRP735S8wScRIqqqioMDAzQMTk5SSXZ0NAQBgYG0NLSAnNTMzx98oSm4Xd3dSMiPJx2eyeEIP/GDawyMaX/wsvLUkd7B8THxYn24cca89UoKiyksrT26VMMDAzgXcc7mJuawdzUDMeP+YMQglUmppDLZPR6Y0Mj3VtbqoXM9Ay6rvW69VSA8vcf9fPDwMAAZmdnceHcedhab8DAwAC2Om6BTE+fvrvRCjlWGhqBk0jR2dmJqwkJsFhlDkIIRkdGkH/jBk3D52t7chIpmpqaMDExgZ7u7nmhKTeke/PD0d4BAwMDmJqaQvGdu6IoUxMjY3ASKWpqajA2NobxsXGl581NzSA3kNE0/MOHvOj1/r5+0dnOzMwgLTUVKw2N6Lvzc6bGKyGXybBtqxMGBgawbasTfZeBgQFRpOmObduREB+PQRUlDTiJdLH/kV5UmCxlMH4sv5ooBTRXlv6XeyRWWm5c7ONdkO+VpclJSQt2rVesR8pLx4XS2/m5sbFxpShRvr6ouijRb+larxglys+paiDFR6QqSl8AiAg/C04ixdMnT77htBgMBoPBYDAYjH8djZClEWfPqo3oEdbZFKap89eENUuzr2UrRSGqq1l65dJllftNT0+DEEJlKT+Mvwg+4VhlYqoy8pGXparWNzMxpffwJQOGh4dpdCo/gk+ewszMDDiJFEWFhXj65IlKWXrAzZ0+o0qW8qn+imfJD16k/lFdLZKl17Oz0dTURH+fDQtXmxb/z9QsFcpSYc1STiJFclIS2tvbVZ5bwc0CpfWZLFWGyVIGQ/PRRFn697Q2cJJfvzP698hS1917kJaW9k93rVdMb+frkfJ09/Qq1SMVzinWI52bIyrT94WlAYRziqUBhM2f1ElfRVFaeOvWkvj7MhgMBoPBYDA0gyUvSz3cD2C91VoqujLTM1BRUUFF4l/J0v6+flRUVKCiogJdXV3ofPcOHu4H6PDyPISKigq4OO+EmYkpvW6z3hrmpmb0WX54HvTA499/x+jIiOj6w5IS+mxcTCwIIaiuqkbnu3fo7+uHh/sBvHnzBn9UV8PD/QAqKiqw39VVJPF8vL3x4P4Duk7YmTOoqKjA9PS0Slk6NzeHiooK9Pb2Ulm612U3Yq5cwR/V1VTqRl+MorI0LzcPAf7HUVFRgdHR0QVl6d07d+Dn44uKigqEBAdjy2ZHcBIpSh8+RHdXN0ZHR+n3v3nzhj6XlDhfYoAQggB/f8THxqH4zl36XelpaSCE4PeK3+G+302tLG1qaqLrG8sNsdHGFv5Hj9FrEeHh9NnNdva0Fio/pqam6L2Xoy8xWQomSxmM5YAmytL/dgnBKqsNi320f8n3yFJPDw+kpaWLrqnrWs+LS2E6PQC1zZ9Uda3nGzypSutXFa0qjDRVbP6kKlpVUfpOTEyqlL7Nzc3gJFJEhJ/9ixNiMBgMBoPBYDB+DEtelipGBaYkJ+NhSQke3L8Pb6/DqK2tpXIsJDgY3l6HEXLqFL3W29uLhyUldOTfuAFvr8Pw9joMR3sHGOjq4WFJCZy374C5qRmd22hji/VWa0EIQW1tLX1eR4tDXk4uhoeH8bCkBJ8+ffrSZKqIvqPHgYMghKCiogLtbW3o6OgAJ5HiakICrada8qAErnv2fo1qdd2HK5cu4+6dO/QdIsLD6b6HPDxgKFtB53JzckRikJelnESKy9GXMDk5iYclJRgYGMCD+/epLC3Iv4mTgUF03aTERLpmbW0tBgcH6VxcTCwC/P3xsKQEm+3s6fp8yvvoyAgelpRgdHQU7zreobysHIQQ+Hgfgft+N1r/9aifH3KuXwcnkcJl5y5cy8oCIQSlDx9iv6srTIyM4e11GAU3C3DieADkMhkelpTQxkwPS0pwzO8ovL0OIzDgBH2/M6fnz5J//8vRl8Sy9MsZ9Pf3o/ThQyZLwWQpg7Ec0DRZ+h9XapdMevb3puFfTbhKf/Pi8q+61gPi9HYhfNSpYj1Sdc2fhoY+YmBwiK4JiOuRCvdTrEeq+C5C1Enf7u5uGMsN4eV5aOHDYTAYDAaDwWAwfiAaJ0v5oa+rpzbtWziEaficRIrfHB3p3LWsLNGcYho+L0v3uuwW3afY4Ck9LU00z8tSPg2fl6ULjfa2NqQkJ6tMw+eHne1Gtd+pKEv7+/vBSaR4/PvvIlkqTMPnJFKcOR0qWueP6mo6FxsTQ9PwhYOXpXwafnNzM7IyM2EoW6FSlgqffVLzRCkNf7uTEwghsLPdKLq39OFDPCovByeRYmhwEIQQlWn46s6ET8OvePSIydIvMFnKYGg+miZL/2erL7bsclvsY/0mfkSDJx5hEyTFrvWq0ttVda1X1fyJX4NP7+dRbCDFR52qihLlu96ra/6k+B58aQDhfqOjo3C0d4CjPet8z2AwGAwGg8H496IRsjTpaiKe1deDk8w3E0pPS6Oy9FTQSRgbGsHY0Ag9PT1ITkqiv40NjbBC3wCcRIr+/n4EnzxFZekuZ2dEnD2Lvr4+KtF0OW36nIGuHnS0OBgbGkGX04afjy9GR0agp60DmZ4+du9ywejICGZnZ5GelgZjuSFGR0bgedBDJEsNdPXg6LAZoyMjGB0ZQfa1+bR3/ndVZaVIlmpLtWBsaITKx4+pLO3q6kLYmTNUlu7b64qI8K81Qk8Hh0Auk82Ly1evcDUhAUYr5Gpl6ezsLN3/WlaW6LzkBjJ6Hga6enSdstJS3MzPByeZbwRlbGiEXc7OGB0ZwY5t2xFx9ixGR0eVZOmnT58wOjJC0+zkMhndi5NIkZmRiSc1T2BsaIQXz5/T9xodGYHvER/6Prws5d99h9M2HD/mj9GRERBCEBYaSvckhCAzPYO+e8WjR5ienqbrLmeYLGUwNB9NkqX/K/LxkokqBX6cLF2oa72wHikA2oFeXU1ToaBUjBLl54T1SHm6e3qV6pECX1PyFYWtumhVYWkA4dzuXS4wlhuiu7v7G0+IwWAwGAwGg8H4MSx5WZqRlo6XTS8xNDSEjLR0DAwM0EhGQgge//47QkNOg5NIcSroJHZs205lX0hwMAL8/cFJpAg/EwZHh81Ult4uKkJNTQ2mp6eRkZYuGsZyQ6XoxU02tjgXEQEdLQ4+3keQnJSEcxER+PDhw7ws/VJn81F5ORITruJcRARW6BvAw/2AqPlQwc0CcBIp5ubmQAhBfV0dOIkUgQEnEHPlCuLj4sBJpHhUXi5q8FT79ClSkpNxLiICSYmJtCbpfF3Q47Betx4ZaemIvHABO3c4w2iFHBlp6YiOisLl6EvISEvH1NQUykpLcS4igg7X3Xugp62jdAYZaelw27effr+wwVNKcjJ27nDGVsctIITA0d4BWzY7Ivpi1Hz5gS+RnMIoz87OThrJKtwj5vIVHPXzozVLn9Q8oen0wgZPQ4ODqHj0iDbMuldcjKqqKrp+0IkT2OXsTH+/eP6cnqWXp6fom5czTJYyGJqPJsnS/7fGEfs8fRf7SL+ZHyFLx8bGlZogLdS1XpWgHP30SWXzJ8U1eMmqSrbye35LtKqwNIBwTrE0AD8XGBBAM1MYDAaDwWAwGIx/N0telhJC0N/fj3cd7+al27t3ePP6NW0o1Nvbi+K7xbDfZAc9bR2R4Kyuqhal4VusMoeP95G/TN23MDeHuakZ7DfZwX6THeQG89GQ/O/MjEyUlZbCfpMdKh8/RnJSErZtdcKb16/x6dMnPH3yBPab7KDLaVO5J0ytt99kN/8Nr1+j5EEJ7DfZQV9XD0GBgXhWXw/7TXYovHULWZmZ4CRS1NfV4c3r1ygrLQMnmW/E1N/XT9e8FB2NwIATIITAfb8b7DfZYa/LbhBCcMDNHW6u++h+kRcu0O/gBy89haO9rQ1xMbGw3WADTiJF/o0byMvNg/0mO7xseomjvr70uSOHD8NilTlNwxeOttZWvHn9GpWPH9M0/NGREfo+Pt7eWKFvAPtNduh8907U4EkoS2tra3EpOppG7RJCMCJYJ+zMGQT4+9O5ocFBepaGshWify6WM0yWMhiaj6bI0v8MfwBOIl1SkYffK0vTUtP+6a71Y2PjIkGpGCXKzwnrkQrXVZXWz0erKtYj5UsDKDZ/UhWtOjY2rlQaoLunF4W3boGTsM73DAaDwWAwGIzFQyNkacTZs9hsZw9CCJy2/CaqWXrM7yhc9+wFIQRrLS0XlKXZ17K/qc6phbk5EuLj6e+9LrtFIi4kOBjbts7X2bTfuAnnI85hdGQEnESKhyUl9D6+ZqmqPbSlWuAkUuzcMR8NyUtJvmap50GPBWucBp889U3fcsDNXfRcZkbmNz1ntcZSqWbpUT8/EEIg09MHJ5GKJKuwZqniWSrWLC0qLBRd42uWEkLUylJOIkVyUpJo7YL8m3ROGL1LCEFyUhJWfTlLjwMHmSz9ApOlDIbmowmy9G/ZPZBabMbRgJOLfZz/FN8jS93270dqapqSuORlqLqu9YByTVO+az0/p1iPlF+DnxMyNTWlMlpVWBpAGK3a1/9B1EBK2PxJUfpWVc3XRRfWZmUwGAwGg8FgMP7daIQs7enuRllpKbZtdaI1LHW0OGzb6oTr2dm4XVSEbVudoK+rh1NBJ1Hx6BE4iRS2G2xgvW69SJa2t7Vh21YntLe34/69e9i9y4VGZ27b6oRtW51QXVWNmCtX4OV5SEmWOm/fgYy0dDy4fx/btjqhrLQMSYmJ2L3LBc8bGxF88hRdR09bRyRLhXOcRIorly6j+G4xtm11goGunpIs5dc0WiHH2bBwwtivcQAAIABJREFUPG9spCMzPQM7tm1XkpOHD3nRPbZtdYKx3BCue/bS5y5eiKRzra2teHD/Af1dVVmJF8+f0//c1zf/L1zPGxuxbauTSJZGXrhAo3sJIRgYGEBTUxMIIYiOiqI1VXlZusZ8NZ43NmJsbAxDQ0Oib3n79i0IIfDz8YXVGku1stTKYo3o2/gz4SRSrLdaS6/3dHejv78fr16+ZLJUASZLGQzNRxNk6T/8s6AvN11yjX++R5Z6eHggPT1ddE1dHdCPwyOiKFE+ClRd8ydVXesHBofUNn/iI0t5FEsD8HOqSgPw+01MTIquNzc3Y/UqcwQGBPzlWTAYDAaDwWAwGD8TjZClhIg7uPOyNCQ4GM8bG/HnH3/Q6x7uB3AtKwshwcGioctp46ivLy5FR9NGSNeysqCvq4e8nFxEX4yCh/sBGsEYGxODs2HhyMvJha31Bmx3ckJeTi50tDgc8zuK9LQ0hAQHo7+vH39UV+NcRAQIIcjLyRXtGx8bh+K7xSCEIDUlFXtcXGg91Wf19eh89w4hwcG04ZFcJkNeTi4229lTWWtiZIwjhw/j/r17IISg9OFDXE1IEHWy7+/rR15OLs6GhVMZy0mkOOjujqjIi8jLycX09DQiwsNharwSIcHB6O7qxvXsbHqWL54/R1trK0KCg3EtKwt5Obl0RJ4/j+iLUcjLyYWetg6uZ2djaHCQztfX1WF6ehp5ObmIiryIa1lZIllqvXYdCCEoLyunz8zOzqL26VNa3zQ+Ng4hwcEICw1FXk4uHB02Y62lJUKCgyHT08d2JyfR2RYVFtFI3402tvSb29vb0fzqFQpv3QIhBNezs0X1V5czTJYyGJrPUpelf8vuAWdojosxVxf7KP9pflSDJ+CruJyYmBR3kRfUI+VZqKbptzZ/4qNV+QZS/JywHqlwP8V6pPwa3T29okhTABgdZZ3vGQwGg8FgMBi/Dktelk5NTWFqagovm16Ck0ihp60DfR1dGMpW0Lmqqiro6+jS1HbL1RZ0bmZmBoQQrNA3EMnW5levkH0tG/o6utDX0cWD+w9oZ3o+Rayjo0O0LieRQl9HFzpaHJx+20r3UBz8ntPT04i8cAE2661BCMHMzAwK8m9CX0cXc3NzmJmZoffyafj80OW04e11GFNTU1hlYgodLQ52thtBCMEuZ2eEhpwGIYTu+Uf1fGpbe1sbriYk0O+qqqxEyYMS6OvoYmxsDOcjzuE3R0f63LWsLBh8KWkgfB/rdevpGvw6d27fhr6OLjiJFFmZmWhoaKDvG3bmDIaHh6Gvo4t7xcV0HQtzc+hocbDdYANCCPa4uEBHi4O+ji4+f/6MU0EnsW2rE32f2dlZjIyM0HP2cD+AqakpWJibIzUlFXNzc5iamsLc3BxmZ2cxNTUFQuYbPAllqTANnxfMTJYyWcpgLAeWuiz9h38WDOQmS1Kq/ShZKqxHCizctZ6fV6xHqq75E7/G7OysaE5d8yd10aqK9UjVNX8CAEd7BxjLDZfk35TBYDAYDAaDoXkseVmqWKvzxYsX85JwcpJeU1ezlJNIcdTXV60sVUxhF8pSPrWbT8Pnr01PTyMkOHjBeqJ8E6JVJqbgJFIqS3c5OyPoxAm6X1BgoFLNUn48Ki9HWWkpOIkUw8PDuHDuPJWl/JiZmVG5P99NXt1QjNI1ENR/3bfXVeUz+/a6KtUsVRx8zVIf7yNw3+9GZenVhAS6zh4XFwT4HwchBLqcttIaF86dF5UU4K8PDQ6CEIL29nZwkvmmV3zNUiZLvx0mSxkMzWcpy9K/p7WBk0iRmZGx2Mf4L/EjZOlfda0X1iMFgJGRUbU1Tfk5Hr4eqWLzJ2E9UuGeivVIga/Nn1RFq6pK7Q8MCICx3BDNzc3/yrEwGAwGg8FgMBg/HI2RpVYWa3C7qAhnTofi+DF/BPgfx+2iIjhv36EkS02MjHG7qAi3i4pQV1sHQgiK79zF7aIiJMTH03T9osIiTE5O4vgxfzQ2NFJZei0rC7eLinAjLw/Hj/kjKzMTp4NDqCxtbGik61uutsABN3fk5eYpydIH9x/A86AHDGUrcPyYP65lZSE5KQnHj/nj+DF/WK9bDzMTUxw/5g+jFXJ4HDhI1+3t7UVPTw9uFxUh6MQJJMTHIzcnB8eP+eNdxzuRLA0JDqbPrTIxFcnS1OQUmhJ/KugkqiorF5Slq81W4fgxf3z8+FGtLC2+cxf79rp+syx1tHfA+YhzVJZar12H48f8acSu9br1uF1UhDXmq7HJxpaeT3paGv2uyclJEELw6dMn3C4qQtiZM9ixbbtIltpab8DtoiKEBAcj5vIVPLj/AIQQpKel4cK583St5QyTpQyG5rOUZel/uUfCzNJmsY/wX+ZHyFLFeqTAwl3rVUWPDgwOYWjoI30WUO5az88p1iMVzqlK61e1n7A0gHAuMyMDnIR1vmcwGAwGg8Fg/FpojCy1XrsONTU1sN1ggzXmq+G2bz8VfLwsPerri/VWa2FlsQaEEDS/ekWbED198gQ1NTVUajr9thVRkRdRVVmJvS67kX0tGynJyeAkUvT39eP9+/e4e+cOOIkUGWnpyMzIxF6X3fijuho1NTW0mVHQiRPIuX4doyMjSrKUEILoi1FYoW+AvS678brlNSofP6aRqhttbLHXZTcdebl5mJ6eRk1NDYaGhjA0OIiamhocdHfH/Xv38PbtW3ASKRoaGkSytKiwEKMjI6ipqYGFuTn8jx5Dfd28JD7g5g4f7yMghMBQtgKZGZnofPcOe112w1C2gpYWqKmpgeuevfQbiu8Wo6amho6gwEAkxMfTs4y8cIG+t1wmg+VqC7jt24+amhrs3uWCbVudUFNTg0MeHlhnaQWLVeaoqalBYMAJ0TfvddmN48f8UVNTA98jPtjrshsuzjvBSaS0lik/Ot+9o+8T4H+cPs9L4QD/46ipqYGPtzdu5OXR5zwOHMQuZ2f67HKGyVIGQ/NZqrKUjypdymLte2Vpenq62q71C9UjFQpKxShRPupUWI+Uh5ewqqJEFYUoXxpAsfmTYmkAfq6stGxJRwkzGAwGg8FgMDQXjZGlwsHX61SUpXyTIF6W7nd1XTAN/1pWFuQyGQgh8D3iQ+f6+/px5dJl0f0B/v4ghEBPWwecRIptW51EIm8hWcqn4QuHtlQLBfk3la4PDQ6qTMMnhCwoS58+eSJ6X4tV5mplKb/XVsctC5YTEI4/qqvpczI9fVzPzqa/He0dcDYsHGNjY0rP9ff143L0Jfr7Sc0TpW9ubJjvaP/27VsQQjDy5SwVZWlU5EW6Di+DhaOuto6m4Quvexw4KHqn5QyTpQyG5rNUZen/bPXFevvti31838X3yFKPAweRmpqmJC6Hhj4u2LUeUK5p+s80f1LsWj/66RP6+j+obP7EryGMVlUsDdDd04vm5mYYyw0RGBDwL50Fg8FgMBgMBoPxM9EIWRpz+QoqHz8GJ5GivKwcmRmZWGdphXWWVpDLZJDp6dPfsTExeN7YiHWWVnhw/wEK8m9inaUV2lpbEeB/XK0sHRwcRFdXF7q6umiTodraWnq/XCbDOksrvOt4h66uLvT39VMZdzM/H/ab7OjzxXfu0vcxlhtCT1sH6yyt8OL5c/pMV1cXxsbGRFKP7wDf1dWFz58/i2RpYsJV7HFxQVdXFw66u2OdpRWs161HV1cXxsfG1crSgYEBDH6p92koWwETI2MccHMHIQT9ff2Ij4ujz2RmZNJvsDA3R0R4OP09MTEhkqWmxivpN/75xx8YHh7G7Owsfb/du+bfdavjFhgbGsFqjSW6urpoOr1wTE1OoqurC9PT08i/cQNWayyVZOlWxy0wlhtivdVadHV1wfOgB92fH54HPeg6wvUHBgaQl5PLZCmYLGUwlgNLUZb+x5X5/3v79MmTxT6+7+J7ZKnb/v1ISU4RXRsZGVXbtX5k5GuzJF5Yqmv+pCpaVVGIAuIoUcVoVWFpgO6eXszOzqosDdDa1o61llZwtHf4F06BwWAwGAwGg8H4+WiELD3g5o742DjEXL6Cvr4+PG9sRMzlKypHbEwM4uPm742PjUNcTOz8f46Lw3YnJ6w2W0XnDrq7Q19HF/FxcTSqkRCCzPQMxMfF0T2FIz4uDi+bXopkXHpaGowNjejvikePwEmkOB9xTvxsbNz8uirGx48fkZKcDDNBUyKhLK2qrETMlfn9LVdbgJNIoaPFfV3jy7uuNDSi9UPj4+JofVNelrrt24/sa/NRofk3btDzibl8BS0tLfTetNRU1NTU0N93bt+m8jI+Ng5OW377Kp6bm/G8sZG+i/3GTaKapXtcXOjZxcfFoay0DIQQXE1IUDoH4fu0trbS/c1MTOG6Zy+NjM2/cUP57//lfD5+/Ihn9fVIT0tjDZ4UYLKUwdB8lqIs/Z+tvti2a99iH9138yNqlvKo61o/MDikFCWqrqbp2Ni42uZPiqn2fLQqH2nKz/HC9luiVUdHR7F3zx6stbTC6OgoGAwGg8FgMBiMXxGNkKXGckPapX1ocBB9fX0qx+zsrCgN/6ifH86cDgUhBBvWr4fcQAYHOzv09fXBfuMmyGUyrDFfjTXmq1F46xZtamRhbg5OIsV6q7Xzew4NYWRkhKbh5+XkLihL/6iuxhrz1Xjz+jX6+vowMDAAQgh2OTtTYcfva2ZiCk4iRe3Tp7gUHQ0TI2P6PTfz88FJpHjz5g36+vpQU1PzNdLV4Ou7rzFfDc+DHujr68NaS0sYylZgtdkqcBIpHv/+u0iWZmZkYnp6Gn19fXDdsxeXoqPp/PDwsOg8P336hNnZWfT19cHFeSdt8EQIwZnTofRdqquqkZ6WRt9FpqePPS4u6Ovrg7mpGa4mJKCzsxOcRAqzlSaICA8HIQS6nLYoGtbc1AyRFy7Q/ScmJjA5OYm+vj6YGq9EclISZmZm0NfXh6mpKXz+/Bl9fX00dZ8XorW1tYiOioKp8Ur09fVhcnKSydIvMFnKYGg+S02W/mf4A/r/eFvq/ChZOjU1Jeo4v1DXer6mqWI90omJSZXNmPg1hOsK65HydPf0KtUjFc7xDaSEBAawzvcMBoPBYDAYjF8fjZClmekZVNIJIxoVR3dXt0iWKo6w0FDR/eFnwuic7xEf2jRKUZbuddktqln6V7KUH6u+iFC+ZqlQls7NzYEQgvq6um+uGyocwSdPifYSpuFfjr6E/v5+tbK0paUFnERKm1Tx45jfUdEesTEx6Onupr/VyVJOIsXZsHA65+N9RDQnlKXCmqWKsvTt27dIS02lv0sfPsSj8nL6OzkpCe3t7bRmaUH+TXASKQiZb7Sl7qwqHj1isvQLTJYyGJrPUpOl/2+NI7wDTi/2sf0QfoQsVde1XlU9UgBKafqAOEpUOMfXI1XV/ElVtKpiPVJgPtJUMVoVAOJiYjWilAKDwWAwGAwGQ/PRCFm60cYWp4NDQAhBQ0MDqiorVQ4fb2/ExsTg6ZN5IRcdFQW3ffvhtm8/piYnRbI05/p1tAnSvJubm6k8tDA3R4D/cdy/dw9u+/bDxMiYytLqqmpEnj9P13Xbtx+2G2yoLOVLABBCUFNTAz8fXypLnzc20nflnw06cQJVlZWwXG0B3yM+uH/vHn1H5+07UFVZCUPZCgSfPCX61jdv3tB3T01JhdNvW+lz1mvXwdvrMKoqKzE0NITa2lq47duPR+Xl6O7qxtjYGKoqK/Hp0yc8Ki+n75KZkYmkxERwEiluFxUhLiYWPt7edM+szEx6L19XVChLJyYm4LZvP1abrYLTlt9QVVkJEyNjXE1IwMTEBKoqK3EyMAipySlUlkaEhyMzIxOcRIqdO5xhu8EGcpkMVZWVCAsNRWjIaVRVVsJYbghb6w1UOP+zsnRwcJB+x3KGyVIGQ/NZSrKUjyrt7u5e7GP7IXyvLL2acFWpHimwcNd6VTVNe3r7MDY2Tp8FlLvW83OK9UgB0NR/xbR+fg1FOVt46xY4iRSFt279S9/OYDAYDAaDwWD8O9EIWcpJpLBaY4l7xcULjsCAE4iNiaG/N9vZw2qNJfx8fHH3zp15eeq6D5xEipTkZLx6+bX2aMOzZ/S5E8cDEB8bh4KbBfDz8cUqE1O4OO+k89EXo+Dn4ws/H18Yyw3nSwV8kaVpqalITkr6UnO0DF6enlSWCgf/fGjIadwrLsbJwCDEXL6C/Bs36Dd7eR4CIQQmRsY4fswflY8f0zT/Fy9e0LUC/I/DzMSUrunn44sTxwPo+0acPUv/JeZecTGqKivps9ezs6GjxcHPxxdpqam4cukyOIkUPd3diIuJhanxStwrLsbAwACK79wFJ5HCx9sbfj6+2O/qCk4ihdu+/bgUHY07t2/T/ZOuJlLx7OfjS98lLDSU1kzV5bSRl5uHjo4O0bsHBQaCEILDh7zgedCD1izla7H6+fjienY2UpKT4efjqyRLD7q7i9Z72fQSvb299B2WM0yWMhiaz1KRpX/L7oGWfDVOn72w2Ef2w/heWZqWlq62a72qeqR8lKgwnV4xSpRP5+/p7VOKElXX/ElVtKqwNIBwrrmZdb5nMBgMBoPBYCwtNEaWfsvg0/CF1476zsu0FfoGyL6WjZdNL9Wm4fPX+/v6ceXSZVEavnBNYRq+/cZNIlm6UBq+qsGn4be3tSElOVm0j1CWchIp7Gw3ghCCHU7bRGn4Af7HsXuXi2hdPg1f1dhsZy+SpQa6ekpp+Lws5X//UV1NZenExAQIIWhqagInma8zl5WZCUPZCqXv40sa8EMxDT8vN0/t2aiSpbbWG0AIwc4dzlSqKsrS9vZ2pbVYGv48TJYyGJrPUpGl//DPgr7cVKMaAX2PLPX08EBaWto3da3n65Gqq2kqRF3zp8+fP4vqovIMDX3E0NBHlc2f+DX4udHRURjLDbF7l8u/9M0MBoPBYDAYDMZisORl6fj4uGj85uiIU0EnMTw8DE4iRUH+TVRUVFBZOjU1Jbp/anLym2Xpvr2uGB8fx9zcnFpZOjoygtCQ01ROTkxMICkxEdpSLcgNZCgvKxfJ0vjYOLxueQ25gQzP6uvpnFwmg9xABpmePjiJFDI9fejr6MJspQnGx8dx0N0dupw25AYyaEu1kJhwFS+bXkJuIEPt06eYmpzEzMwM5AYy6HLa9H3sN9lBbiCD9dp19AxuFxWBk0jx4cMHnDkdSmXpLmdnhJ05g/HxcRBCMDU5iYpHj8BJpFihb4DYmBi6xuzsLGZmZui9hBDMzs5ifHwc27Y6QV9HVyRLq6uq6bvHXLkiWufunTuQG8jmxbOCLM3KzITcYP5sHty/j9KHDyE3kKGnuxvj4+NoaWmB3ECGmpoa3MjLo/fm37gh2kNRlvLvPj4+vtj/SC8qTJYyGJrPUpClf8vuAWdoLur+rgl8jyx13b0HVxOuiq59S9d6ALTBk7rmT+qiVdU1f1IVrSpsINXd04vR0VE42jvA0d5Bo4Q3g8FgMBgMBkPzWfKyVFF6OW35DQ52djgbFo5rWVm4FB0NL89D4CRSBAacwO8Vv2N0ZAThZ8LQ1tqKpqYmhJ8Jo0Ix8vx5XMvKwrWsLNQ+fUrXrXz8GMlJSQg/E4bR0VGRLC19+BAB/v7gJFKEhYbCfpMdtm11AiEESVcTscvZGTI9fVzLykJ0VBTCz4Qh/EwYZHr6SEpMREdHBziJFHW1dXQ//h34FPkrly7jkIcHzExMQQiB50EPUWOjVy9f4u3bt+AkUjQ0NOBZfT3Cz4TRdR6WlIAQgqLCQlzLykJGWjp9jwNu7uAkUoQEB8PR3gFmK00QfiYMq0xM4WBnR+9rampCT08PrmVlYaWhEWJjYjDy5Szb29roWfKDrz3qaO8ATiKFnrYOws+E4dXLl+ju6qbv9uL5c9HfsK21FdeysqCjxSnJ0rTUVKzQN8C1rCx0dnbi/fv3uJaVRaNZVTV44iRSFNwsoGskxMeLpHVebh7yb9ygv5czTJYyGJrPUpCl/8f7KgzkJhon2X5EgyeehbrW8/VIedTVNFWMEAXm65HyUaLCOb4e6ezsrGjPgcEhlc2fvDwPwVjOOt8zGAwGg8FgMJYeS16WNr96heZXr8A3Y/I/egyWqy2gryJ1nJNIEXLqFP788084OmzGndu3kZeTC0eHzXB02AyzlSbYaGOL5levqHybnZ2le1zPzgYnkaKqqgrBJ09RWfqu4x2uZ2fTdRwdNsPb6zCaX72Ch/sBrDFfTdPwvb0Ow2iFHI4Om6HLaSMpMRE93d1wdNgsqpHK7/ng/n04OmxGd1c3UpKTRbLUWG4IR4fNqK+rw+DgIDo7O+HosBmvW17jRl4edLQ4NL96heHhYbru27dv0fzqFaqrqlWm4K8xX42NNraiazpaHBwdNiM3J4e+12qzVQgJDsaff/wBR4fNaGxoROXjx6IzOOZ3VCRL+ZGanILOd+9EJQHevn1Lz5LfQ0eLw5VLl+nvyclJFBUWwWXnLhBC8P79ezrX/OoVBgYGVMpSR4fNKCstw/j4OJpfvYL7fjdkZWbS/c+GheNkYBBdZznDZCmDofn86rL072ltGtsM6EfJUmE9UmDhrvV8lKiqrvWqmj8JG0jxc8J6pDx8RKpitCoAxMTE0DI8DAaDwWAwGAzGUmPJy1JVdTZzrl9XK0s5iRRWFmtACMF+V1das5QQgrDQUHpP86tXIIRgfGxcbW1PYRp+gL+/KALyeWMjOIkUb968QXpamkiWehw4SNPwkxITVdbj1JZqgZPMd4DnrynKUmHN0rTUVNHzN/Ly6HsWFRbS69Zr1y1Y1zUzIxMtLS2ia6pqltKzXGOptqYoPxRlKSeRwn2/G52/HH0J1mvXgRCCPS4uat+NF6rCmqXC+eSkJJWylL+/rraO1Sz9C5gsZTA0n19dlv6XeyRWWW1Y7GP6KfwIWbpQ13rFeqR8lKhi9KhwDeHcwOAQhoY+itZVrEcqnOvp7VMSpYW3bmms7GYwGAwGg8FgLA+WvCx99fIlXr18idYvkaW8LNWWamHLZkfkXL+OvJxcUWTpm9evaRRjXk4utmx2xOTkpEiWbrSxxZbNjlT08anur16+pM2E9HV0sWWzI+QyGZWlTr9txZbNjjhy+DBevXwJjwMHERV5ES0tLSCEoLOzk0ZVvm55jcvRl+Dl6fn/t3dnT1Gd+7/H/4Fz87v9XZ2qU3UuTtWpXacKbE1QGnFnG426zWAEMZq9nZOYRDHbmEFCYnZEY9yJqIDiwOCQGBPBJEYU1CTGBDQOEdt5okFQ0AZpmfpzLmAtuptuhqabbvD9qlpVkbV6rWetlTLpD8/z/bY3IUpN1fRpSZo+LUmWqGhlbNzoEezdvXtXJ8vKNH1akuKtcYq3xmn6tCSdOtk5s9T4/MRnJnQblv5tzF/N+3FvHOUeln7/3XdK/2KdGZZWVFSYnzFmlhrP0ihVMH1aklkH1n1Z/YXycjOs9A5Lq6urdfny5S5h6Z/nzulfS95S4tSpulBerkde571165Y5ngvl5Vqfnq43Fr6uC+Xlevjwoerq6jxm67qHpQX79umV+QsIS70QlgJDXySHpf+98aQsUdEqKS4J92MKif6Gpdu3be9Sj1Tqvmu9r5qm7rNEvZs/uZ/DOK97PVKpvYGUr+ZPNptNlqhorVn9aUD3CAAAAESCQR+WulwunTx5Urt37jK3zZs2aeW/P5ElKlo/fP+9rl+7plVpaVqVlqbMjAyPY1NT2ruk5+Xmau7sOfrbX58yj507e46eHD5Cq9LSVH6+XJV2u3bv3KU1n36qmS/NMMO1t5KXaH16unbv3KXVaauUMOVFs2bpls3ZKj58WE2PHpnXPHb0qBnSHSk5ok1ZWXK5XNqRl69X5i8wz/veO++an3E8eKDy8+XaumVLlxmX27dt0+6du5SXm2uOfcHceRoxzKJVaWk6d/Zsl7B0dKxVu3fukr3Crgvl5ebnNmVlKf2LdbJERev8+fM6efKkVqet8nhmxjPIzMhQYUGBee7z589rVVqampubVVZa6nH8yZMn1dDQYI556gtTupxz985den7ys5ry/AtalZamXTt3avY/Z+kfM9uf5Q/ff+9x7K1bt1RRUaHdO3fJ6XSqpLhEa9d8pt07d6m6ulpXr141j7169apu3bypVWlpysvN1abMLK1Zvdrcv3XLFvMZPM4IS4GhL5LD0r/MWKbEOW+E+xGFTH8bPOXk5HapR9pd1/q792oldQai7vVIDfbKqi71SN33+VrW72u2qs1mU7w1TksWJwd0fwAAAECkGPRhaWNjo1atXKkRwyyKjRmpEcMsWvnvT9T06JHZ2KexsdHcNqSv1/DoYeaxRngXGzNST1iG66WkJI8mS9aRo8zPHjt6VLExI1VdXa1NmVmKjRmp2JiROn78uAr27VNszEg5HA6t/PcnZl1NY3M8eGBey1iG73Q61dzc7HHc/sL9io0Z6VEvNDZmpG7cuOExA9R9i40ZqSeHj9CU518wx7p75y6NGGZRY2OjWlpaPMLSJ4eP8Bh7a2ur+bk1n35q7jNmZT569Mj8mbFdv35dWRmZen7ysx7Pt7GxUS6XS2mfeL6TtE9W6t69e+0zcp940jzP8OhhHuMZMcyi9955V42NjRoda1VszEjNnTVbjY2NetGrlmrx4cM6euSILFHRqrTb1djYqIsXLyo2ZqTOnD7dpcGTcZ/PTZ6sdZ9/YY7HEhWt5EWLzPE/zghLgaEvUsNSY1ZpWWlpuB9RyPQnLF28aJFyc/M8fuYvuDTqkfqqaWrUIzX4a/5kzEj1nq16p7pGDQ0PPa7pcND5HgAAAEPHoA9LvWuWzpz+kkdY6mtzr1lq/MwIXb3DUvfPLXz1NZ81Od1rlj45fIS+/mpPl2N8haWB1Cz1dT/379/Xfz5b6/d+vZfhb0hf73GtooMHPZbh91SD1OVyaeIzE5SZkaFKu73L9ZxOp9I+WakZSdN91iwtOnjQPM81Pc2uAAAgAElEQVT4p59W9ubN5p/dl+EbIe/ZM2d93pd7WGpsLzz7nHku77DUvQyAd1jqvj3OCEuBoS9Sw9L/N+VVvTzn1XA/npAKVoMnqfdd66X2QNS7HqnUuSTf+xeFDQ0PfYaw7g2k3PfNmzNX8dY42e32gO4NAAAAiCSEpYSlhKWEpSbCUmDoi8Sw9H+uLpIlKnrIh23BCkvd65FKncGldz1SQ3c1Tb0DUafzkc/mT94NpIx9qSkpirfGyWaj8z0AAACGhkEflgIIHsJSYOiLxLA0evw0vZvyUbgfTcgFKyytra3rddd6Y+apd9d6f82f3M9h7HPU1+tOdU2X5k+FBQWyRNH5HgAAAEMLYSkAE2EpMPRFWlj6v1bseyxmlUrBCUu965FKnTNHveuRNjU1+VxOb8wSbWtzmfvc65G6n9dY1u89W/X48V9liYr2KA0AAAAADAWEpQBMhKXA0BdJYen/2F2pYdZx+iIjO9yPZUD0NyzNy8vz27XeVz1SXzVNjXqkvpo/Gcv63c9bWXVHTucjj5/bbDaNG/u0UlNSAroXAAAAIJIRlgIwEZYCQ18khaX/+/2dirE+9dh0UO9PWPrG668rJye3T13rHfX1kjqX07vXIzXYK6u61CM1zuGr+ZPD4dCkCROVlEDnewAAAAxNhKUATISlwNAXKWHpf+VekyXu6cdqGXd/wtJFb7ypvLw8j58ZS+S761ovedY09Z4laq+s6lKP1F/zJ0lKSkhUvDWOoBQAAABDFmEpABNhKTD0RUpY+n9e/1xjJkwJ9+MYUMFq8CR11iP117Xeu6apdz1SqbP5k6/Zqnfv1XYJS1NT6HwPAACAoY+wFICJsBQY+iIhLP2v3GuPZRf1YIWl/rrWNzQ89DlL1Fhq7844h3cg6t5Ayn3fjvx8WaKiVVJcEtD4AQAAgMGCsBSAibAUGPoiISz9v3P/rbETnwv3oxhwwQhLveuRSu1hqa96pFJnTVN3bW0un82fjGX9xjmMfSXFJbJERWtHfn5AYwcAAAAGE8JSACbCUmDoC3dY+t8bT8oSFa2y0tJwP4oBF4ywtC9d6x319bpTXeMRiBr1SI1zGPuM5fxNTU0e57XZbIq3xik1JSWgcQMAAACDDWEpABNhKTD0hTss/cuMZZo+Z2G4H0NY9Dcszc3N61KP1Fgu76seqa+aprW1dbp7r9b8s72ySq2trR7L+g1Xr11XvDVOSQmJAY0ZAAAAGIwISwGYCEuBoS+cYelfZix7bGeVSv0LSxctWqTc3Lxeda036pEas0SN/e71SA32yirV1NzVgwee3e0dDocWzJ+vpIREORye+wAAAIChjLAUgImwFBj6whmWWqKi9eriZeF+BGHTn7B04Wuvafu27R4/q7v/oEtY6l6P1GCvrOpSj9R9X21tXZfrpaakaNzYp2Wz2QIaLwAAADBYEZYCMBGWAkNfuMNSu90e7kcQNsGoWWpw1Nd36VrvXY/UYK+skr2yym/zJ/eZppKUlZH5WM8ABgAAwOONsBSAKSRhaUu9rv5Ups1rCvTWvBwljkvXKOt6xU/N16ylB7Qy94J+q2mWq+czoRstzW08Q/SKEVqGY4t5IkapKSmP7bLuYIWl/rrWe9cjlaTW1lZzZqk74xzeS/gLCwpkiYpWYUFBQOPsVkuR1ln7++9RnKZ+cyv4YzPV6uTapzr/nf38lJpDeLXgG+zjBwAACD/CUgCmoIalLqduHyvRe1M3apQ1vftt9DYtyL+mWy09nxZeWup05ssCvfjxBd0N91iAbjgcDhUWFCgpIVE2m03z5sxVYUHBYxWcBiMs9a5HKrWHpb7qkfqradrU1GTONHXfZ7OFuPM9YekAGOzjBwAACD/CUgCmoIWlrgaVb9+lcWYYmq2XVv6s7AOXVFx8TWUnr+n4kbPam7Vfbzy7oSM03ahJK8t1lcC091x3tH9RpkZZ0xW3grAUg4fD4VBqSorirXEqLCjQjvz8x6I2Zn/D0m1bt/rsWm+vrFJl1R21trZ6/PzuvVrV1tZ5BKJG2Gqcw9hnt9sVb43TvDlzAxpfrxCWDoDBPn4AAIDwIywFYApOWNqkW9/u6QhK12vMop91wN7kf4l4fYUOfLxVVmu6Rlk3afb399TWzxE8NtpuKX/GBsJSDFoOh0MOh0NJCYmyREUrKyNTdrt9yM427U9Y+sq8+crNze1Sj9SYHeqrHqm/mqaO+nrzOHtllfkOkhJC3PneIyyN1bNbT+nKlSt93K7rtiOUv1Ub7GFjg67t/1DLli7VsqVL9f7318TvIAEAAPqGsBSAKRhhqauyVMvGt88ojZ1zVMfqexF9Oq9p66z20C927nGdHFzfTMOHsBRDiM1mk81mU1JCouKtcR7NjIaK/oSlyYuTlZub5/EzY5ao9zJ7ox6pMdPU2O+v+dOSxcmKt8aFvvmWR1ga6hmigRrsYSkAAAD6i7AUgKn/YelDnc3Y3j5LdHSePjrT2PNHJEltqj2yT+Ot6Ro1erfWXetmHoyrSTXll/XDrt+VveU3ZW8/rf1n7qnW30daGlV17Z6u3mxQgySpVfU3rumA8fnd5/XTjcaevwz387otdbdVvOt3ZW8/owPlDzrG4nUJp0NXT1/svMaW37T1W5tOXO86vhbHA1VWlCvrpY6wdPkpnbld63af/Rh7gOMHgsGobbojP19rVn+qpIRE7cjPD/ewgqK/y/CzN2ebfzZmiT544PAIS5uamjyaP0ntgaj7TFN3GRkZskRFD0wZBMJSAAAADAKEpQBM/Q5LGy9o7aT2WaXW5FO60pf27PV2/XiwQlfrW/0c0CbnzT+1JXlzx5J992294l/er/TSB2ry/tSlI5phTdeop77T1xW3VPjvHI3t8vlMPfdBmU74nAXb3+vu187zfygtcYPb57I0+4faztIErgZdKjygRc9ukO8mWBv09Fs/60Cl8ZW9SZdzc30f+9R32uswztyiunOlWrdwk5+xF+qz43Vdxt7n8QMhYrPZlJqSoqSERJWVlio1JUVlpaXhHlbAgtHgyWDUI5U6Z4561yM1GDVNvYPSwoIQdr73ZUDD0lY5710PYPl+qMNSl1oct81xXbvnjKi/S13OO7p+5YquXLmlO84eVoa01Kqy36URAn1PvRlXsJ5vZL8zAAAQfISlAEz9DUubzhTpRWu6RlkzNG1PTRBrj7rkvPizFhvL+5//UkuzTih7y2/6auuPev/ljI5GUjla8tMDj+uaoV/8Ns2ZndkePC78Th9u+FU7Mn/Qe8Znrev11xXlqgrZdd2Cygnfa29tx9EezbAy9dzbRVqzvX0G6O7Nh/TJq0bQuV5jFpfpbLMktajq6FGlpe3VAmNsSXu09KMDej/1pE40uiS1quan7zRttOfYt2w94Xnfo3OUXFzrP+ztafzAACkrLTVrm9rtdu3Izx90tU2DFZZ6zxK1V1b5rEcqSU7nI581TctKS2WJitaa1Z8GNJ6AhDwsfSB72Q7lfjBTM8YO99EcKkajE/6lZTlHVVbrLwLtbVjaovqzn+vthCma+sIUTX0hUTNWFancT8Docl5S6e7lWv5SnEZ4jMmimMmLlJx9uJsx9e0ZnN8+u2NMUzQ9t9xr/O77F2ntn42SHqr6ZJbWLpqoCcPcxzZGE5KztOOywy0cbJXzxrfatvw5r2NH62+zVmjVkRuq7zFJDMZ78vZItWfzlNVlXDEa/dJHSjto050Wl1TzpT72+2w8Ddw7AwAAkYawFICpf2Fpq2q+36M4a7pGWbfq7d8eBm9gjZeVlbSho2HUcR2r9Zp92lKjI//uaBL1zD7lVnbuN0M/IxgsqlGD+xe5ljs68N6m9v3x3yq32u2LbjCvu9+u6hZJLQ26eKrWXMbefPGIZo9ub241I+eWar2/ZLrqdXZjbkdpg11ac9Et1uymZmln7VjfY3c5q3TYGPvonVp53umxv7fjBwaaUds03honS1S0SopLQl9rM0iCEZYa9UjdZ4naK6t81iP1V9PUeH5LFicHNJaAhTAsdTlOaF/qJI3uErz53oaPf1trzz3wMUOwN2Fpi+rPrdbrccPM8Gzkq/k67nNlRIvqz63Tu38f0YsxLVXab3d8zvbvvZ7G777/eS0rva3zW6ZpTHdjGzZbKX/cl0sPVXnoX5oZO6yb+xinxN2X9cjP6IL3ntwf8SWd+CKh+3uIGqWx730r24X1eq03QfiAvjMAABBpCEsBmPoXlrovDd+hNZeCNduiVXeLvmmfeekdFrprvKT1U9ZrlHWjJm+5LSP66wz9fM0c7Ri5OSN2kxaWGDPVQn9dqVnX9+xqLwvQzWzNznO5j0/dhKVOlWfndIS43yr7pu934XJc0OdT1vscY+/GD4SPUdvUbrfLEhWtSRMmRvwS/f6GpTk5OV3qkUqdYal7gNrW5tKd6ho1NDz0CEsdjgHqfO9LqMLSljPa96bVc0bk4s+UtjlXWRmZysrMUN76pVo2NcYz6HoxU0cavWO4nsJGl1rsO/XJs0aQ1lNQ6h6qRstinaFZn21XZv5+FRVu1Y4Ni7X470+6BZPTteT43X4s8+5LWDpW02Y/1xEyxmj0S+9qWXqO8jd/ojVvPes5Q3PS5zpYvEwJw4yZlW/o9ZWZytr2mTLen6KJ7scOf0tZFT7+uxPU92S8jmqdz3hBT7jP+kx8R8uz8pWVkaldWe+5zQwdofiXkvR8n4LwgXhnAAAg0hCWAjANTFh6X8c+zPJTmzO9a/Dnuqsfl7YvA49dWKoLfr+N1Kt0TXb7OWYe16mO3LEz9OumzmZ1md6O9wojB+K6plY5qp3+lwP6Gp/kPyxtq9CXc9p/bn37jG76vXijzmZs61haf0CFDregpU/jB8LLqG1aUlyieXPmRmxt0/6EpQtfe005Obld6pEaYah3UOo+09Q9LJ03Z67irXHhKWEQkrC0WbWHX9VfjeBq9CKl/XHX99+nLbd1Jtt9FuXzSj5+3+ug7sLGvgSlkqv2a60cZzFnNv7trS911MeybZfzvH52nxkZn6r8O4HW7exLWGqEfUl6/cB1r+Xzj1T3+3LN9FjS3nHsvgvtS9pN3gFjjMZvuyjPpxLs9yRJbWr8Y3lHgNsxq3XLKVW2eP0Xy3VX1wpe14te9+IrLA3POwMAAJGGsBSAKXhhaY4+OuP0c1wfw9Kmq9r04vr24G/BQW3I6+wU775tz/lVW97Z3KXJUWfo182YHGe14imvMHIgruuDy1mviluVOv3zBf341XFtXlOgt6Zu7Hg2vQxLzfvZoMl5lfLXMktqk6PkW43xEXAHOn4g3AoLCpSUkKjUlBTtyM+PqNqm/QlLFy1apLy8PI+fOZ2PfC6zN2qaGoz9qSkpirfGyWazBTSGfvMISy2KmfSyWVuzN5vPGpOuM9oz25jlF6fn8y51vyTa43hfoZ6/sNE7KB2lsR/9oDN+mxJW69TaceZ5Rszerl/8HivJdUmH3h7dcfwIjfnPSQX2b21fw9IxSvzyqp9ndk2Hlsa6HRurSZnnVO/z2AZd3jq5czZo8g+66XF/wX5PklznVfBqTOfY0k91LWXjNr5bX//DY6l+12cTrncGAAAiDWEpAFP/wlL34K272YjNqvnzqoqLL3tsZUcO6814H2GpGfz1YRv9lTJutc/w6Az9upnt6issHYjrGlrqdObrIqW+kt2+JN97ezpDY0f3ISz1NxPVh84SBP7C0mCWVAAGVlZGpuKtcYq3xslut4d9tmmwGjxJnfVIjQZOBkd9ve5U13SpaVpYMMCd733xCEv7vvlcNt14XHs+ek2LZ/5df39ymbb1OLuvb2Fi+34fQemKw7rsPYPR3cP9+vQpY6blNC0rfeD/WEmSS81/fqQE436f+kzfPwxkTn8fw9KRK/Wt3+s80q3dCZ3HPvmB8u/5Cw9devRrsuKMY18t0BX33UF/T5Lr5jrNH9absXVo/klbXhju/5xhe2cAACDSEJYCMPUvLJVbSLdeT629qp6+ZnhwCyd9h6Xr9fR7x7R5a9fZnV23czpR174evv9haQivK8lVf035b7p3m8/QxH9+pYUfHtaanDPaf6ZGdXdOdx2f1IuZpT0toXfp4YnvNJGwFEOYw+GQzWbTjvx8GbVNHQ5HWGabBissda9HKnXOHDWaP3nXND1cXCJLVLRH2BoWoQhL+6xJVXun9yEsPSlnX4NSSa2n39d4Y+xj16moqRchWuvP2vJ3ixnWLT8dSKPEvoWlXWaAevB8Vpa5X3dTkkZqKV3a2bjJ+oWK+rUqvaf31KTKvdPNLvVPpBxRTY/n9Jz96n3O8L0zAAAQaQhLAZj6HZa67qhwUUZHDUz/DYt88heWmoFgAAGs+hGWDsR19VBnM7Z3dKTPUfL+26pwdv1y1ucGT71eht+qmu/3KM5rVmzvxw8MLjabTVkZmSrpCA9TU1Jkt9sH7PrBCEu965FK7WGpMdO0qclzcbPNZtO4sU8rNSWlX2MPCo+wNFbPbj2lK1eu9Hq7ds8ZUP1kl/OOKmy/6KfCbG3/dJ7+Obab2YVeYeKTb6Yq9Vn3rugztfx0T0G7V8g4K1dHKyp6vL+KihLtmt+5VD2wmq6BzJzt5X14zxb10t+wNPD3NEqT8q6q5//jaNPDY68r1uc5w/nOAABApCEsBWDqd1iqNtUe2afx1nSNsm7UpM8uqaq332z9haWuOh37cFN7o6W5x3XS77e6R7pe/Ls255xW4S+Vquj4khZwWDoQ1228oLWT0ntsxNS5VL6XYamrUntfba9zak0+pSu9aU416aAOPPTV4ImwFEOPw+FQYUGB5s2ZK5vNpqSExAGpbRqMsNS7HqnUHpZWVt3p0vzJ4XBo0oSJWjB/fmTUbQ1Jgyd3j1R3qUgHdq3VFx+8pjeSnleSW+DWu9mqPhogeW3DZ2zVcR+/2Op0X2fTx3V7jp63EXpq03n1fXLmYAhLg/GeyrUvgJDSfYye5wznOwMAAJGGsBSAqf9hqSRXrX75ZGv7bEnrJr20wSZbt18q22eT/JL1pZ4b7SMs9Qhgs/VKUZ3v2SO1Z7ViQvuy+THLz+lWxyUDDksH9LrdzF51C217HZaqWbf27OyYsZqn5WUNPmdjtdz8TW+P9319wlI8LhwOh9n4qLCgQIUFBSGrbdrfsDQvL081NXc96pG2tblkr6zymGlqSEpINMsORISQhaUtqr+wTf+ZF28uy/a9WRQz+Q29/0ofu8VHjdLYZe9pcbxRz7K7Rkf+zjFQZQciOSwN5nsKLCxtu7hS03yeM5zvDAAARBrCUgCmoISl8q7DuV7xL3+rj766qBMXH6iu48uTy1mvW+U2fZfxreZO3mDW7Ix9fq/WlD7w7JLbXKG9izrO98xXSvu1Vg1u6V9L7XUVfLDVDAc/OtM5uyrwsHQArus2A3TUhELl2j2Pczlr9PvmXRpn1jP1XlZ/X8c+zGp/bjMOq7C6SS33nWqQ5HJc1Iak9ucaO/07bf6z3u0LXJucN/9U5uvGvX2r7Jue1yYsxePGqGOalJAoS1TnEv1gBo39CUsXvfGmcnJyu9Qjra2t82jwZDACYJvNFtD1QiIkYWmz6o4v1YvDvIOrGI2eMk+z/vWJVmzcqfwDv6vstkPNfaxZaokap8StZ1XravTspj5srlac8xeXei3lX7ZLPxQXq+hgUZ+2w5f8/JKuW5Ealgb7PQV7Zmk43xkAAIg0hKUATMEKS6X22aJH1u8yZ4v23Ek+WzPWntaJWt8VNlvsZ/Wff2aYoeHTM/cq+eMDWvlOvhLHGefYpgXfVKrB7XP9CktDfV21qe7ED5pmPKNxuZq/4qDeT/lBq1d83REiZ+qFVYeUNq29fuozWTflND//SJdy8jpm8Rpb5/Va7KeVlmgE0Rma+EqB3v7oe328aIvGGsc/s0efnX/YZeYpYSkeZzabTTabTfPmzJUlKlprVn8alPP2Jyxd+Npr2r5tu8fPHjxwqKbmbpew1GhmVVJcEvBYQyIUYWntbqWaMz6jNfyFD7Xupwu6Uu9vMbTncusea5Z+cEQ1xl+QLWe0701r57X8Lsf37CL/5Me/6H7/77SXIjQsDel7itH4bRe7qc9taJXj8AKN8nnOcL4zAAAQaQhLAZiCGZa2a9H9yxf0zRffeMwedd9in9uhhV+c0uEbjT0vXau360j2Ph/nytCkJYeU/YfXjFT1PywN6XUlSc2qKf1ZH72c4XXuDXp64Y/KOF6rRjXqbMa2jhmkR3SssfPLuav+hr75YHtn+Gndqrd/6+zG21J7Q9+t/VLTxnk9+3HbNXvtKR2r9v1FlbAU6KxtmpWRqayMTE2aMFE78vMDPl8wapYaGhs7O9+7h6WFBQWyREX3a5whE/SwtEW1B2brCSOgi/9A2yoe9fCZav2WNibAMNGllhuZeiuup+X4no2ELJOzdbznJE9Si5p704G9W5EYlobiPTWrpvBlczn/iOQDutHjo6vVmfTxfs4ZzncGAAAiDWEpAFPww1J3raqvqtIfRy6ruPiyik/YZbvjDKy2V0ujqq/d1q/Fl1X8xx1drW0OqENyZF3X7fn0+dxtct6r09Vr93Tdz+dcznpVXLyhkuLL+unPe6ruoY4sAE82m02pKSlKSkg0/7mvtU2DFZYaAamxJN8IS202m+KtcUpNSQnoGiEX9LDUM/h7IuWIanr6SFOJMida+hEmNujm7umdwd+wmVr2e23Xv3fvbNVbw417na7lp/1XODU1/qh1zwxXzKSXNXVWitLPBVICIhLD0lC8J8l1c53mG8v6h7+lrIoe/o+i8Uetm9DNOcP2zgAAQKQhLAVgCm1YCgBDQ1lpqblE32azaUd+fq9qmwYjLG1tbVVllWfne3tllRwOh+KtcZo3Z25A5x8QIQ5LRyw7pMpuj38oe+Fc/bXbhjy9CBObS7Vr9pPmMcNf3KAih/c0xGs6tDS24xiLRi7ep/KW7n5J5RXCDn9H2+4E0lc98sPS4LwnSa7rOro8vuOYEYpfflCX/T1j1x2dSZ/s0Viq6znD9c4AAECkISwFYCIsBYDes9vt5mxOo0ao3W73e3x/w9LszdmqqbmrBw88g9mr164rKSFRSQmJQW1IFXRBD0ubVLl3emcANjxZ6Tf8LO923dfNQ+9qXlxn3Uzfsxx7Eya61HJlreabsxBHadza33XX5XlMsy1NLw/rPGbsih9V7vTV/uehKg8tcmt+NErj1v+hwN5kJIaloXhPkuRS85V1esM8dpTGvveNjt/zbpZ4Xj9/kdDZnMvvvYfrnQEAgEhDWArARFgKAIEpLCiQ3W6XJSpakyZMVGFBQZdj+huW5ubmqba2rsu+NWs+U7w1wjrf+zIQDZ7GL9Hyr4+r9OotXblyRbduntHZQ9navGxiR5A3Sn8bO7pzNmCXALC3YaJDV3MTeliOX6tLOdPdQjqLYhI/0Iq9JSo6eUm3rpbq5JFc5aU86xHkDZ+xSUfqA+2pHolhqULwngwPZT/wqia6B6HDntGz//pYy5YuVdo70/RirHHdMZr4TGwP9x6OdwYAACINYSkAE2EpAPSP3W7XmtWfqqS4RPPmzPWobdqfsHTxokXKzc1VW5tnHJeVkSlLVHSf66eGRSjC0i4z/LrZhk3VrO1lqr7yheYZPxu5Ut8+dH+mfQgTe7Mc31Wt8p1zNaU344uyaOT8Tfqux+ZH3YnQsDTo78nz3PYjXWejep5zmhbsOatLbvfj994H/J0BAIBIQ1gKwERYCgDBU1hQoHlz5mrJ4mQVFhTozTc+04JXdgV0rlfmzVf25uwu57dERfucxRqRQhKWSlKL6i9s0+cLn+4M69w3a4JmrNqrooqH7TM/28q0a8YTHfsna0FxtduM0L6EiW1ynvtYM92XYndZjt8+vobLe7Rt+XOa4DOAsyhmcrKW7f5DN7utkdkbkRqWSsF9T95caqkr1aHNb+vdORM6nnOMRk95TQvWfNNxTs/76f7eB/KdAQCASENYCsBEWAoAobEjP18xT8TqieGxstvtfZ4JajR4MthsNlmiopWakhLsoQ5irXLe+1MnDxWp6GCRig4e0tGzN3XHZ83J8HA57bpcWtwxviIVHTyusmv31PBY5W3hek8PdS3/hY6wM0bjt12Ud1suX3hnAAA8fghLAZgISwEgdLK3/KZ/ztqsHfn5MmqbOhyOXjVlcg9L7Xa74q1xWrI4OdRDBiJXfbmOH/xVZVftvQxa7fplxeiOsHSsZv14J+RDBAAAgxNhKQATYSkAhI57zVK73a6sjEyPGaLdNWgywlKHw6GkhEHQ+R4INXumXjOWxY9dp6KmHqZ6ejSZmq20i86BGScAABh0CEsBmAhLASB0/DV4Kiwo0JLFybLb7UpKSNSO/PwuQagRli5ZnKx4a5zsdvtADRuITK0/a8vfLR3h5yTN2n9TTf6ObbGp5MNxGmE043p5p85ETnUGAAAQYQhLAZgISwEgdPyFpQaHw6E1qz9VvDVOO/LzVVhQYNY2nTdnruKtcbJERXc7AxV4fDzQpS3PmwGoZdhUzdp0UEcvVnQsy29SfVW5LhzbqP/Mi3c77h9a/gezsgEAgH+EpQBMhKUAEDo9haXuHA6H5s2Zay7R/8fMl2WJGkSd74GB4DyhPW+M6QxCe9qGJen1Q7f9z0AFAAAQYSkAN4SlABA6fQlLDXa7XWWlpfrHzJfNBk8A3LRc1+kdizV37PBugtIxmpCcpR2XHaKJPQAA6AlhKQATYSkAhE4gYSmAXmqp0Y1TP+i7vCzt2PihlqWmK33Ldm0r/FVltx1qDvf4AADAoEFYCsA0yprOxsbGxhbCjbAUAAAAiGyEpQBMp07dZmNjY2ML4XbpUk24/6oHAAAA0A3CUgAAAAAAAAAQYSkAAAAAAAAASCIsBQAAAAAAAABJhKUAAAAAAAAAIImwFAAAAAAAAAAkEZYCAAAAAAAAgCTCUgAAAAAAALf7dvcAAAGdSURBVACQRFgKAAAAAAAAAJIISwEAAAAAAABAEmEpAAAAAAAAAEgiLAUAAAAAAAAASYSlAAAAAAAAACCJsBQAAAAAAAAAJBGWAgAAAAAAAIAkwlIAAAAAAAAAkERYCgAAAAAAAACSCEsBAAAAAAAAQBJhKQAAAAAAAABIIiwFAAAAAAAAAEmEpQAAAAAAAAAgibAUAAAAAAAAACQRlgIAAAAAAACAJMJSAAAAAAAAAJBEWAoAAAAAAAAAkghLAQAAAAAAAEASYSkAAAAAAAAASCIsBQAAAAAAAABJhKUAAAAAAAAAIImwFAAAAAAAAAAkEZYCAAAAAAAAgCTCUgAAAAAAAACQRFgKAAAAAAAAAJIISwEAAAAAAABAEmEpAAAAAAAAAEgiLAUAAAAAAAAASYSlAAAAAAAAACCJsBQAAAAAAAAAJBGWAgAAAAAAAIAkwlIAAAAAAAAAkERYCgAAAAAAAACSCEsBAAAAAAAAQBJhKQAAAAAAAABIIiwFAAAAAAAAAEmEpQAAAAAAAAAgibAUAAAAAAAAACRJ/x9Tz+dc1iiBHQAAAABJRU5ErkJggg==)"
      ],
      "metadata": {
        "id": "wE7y9kPllFIy"
      }
    },
    {
      "cell_type": "code",
      "source": [
        "def define_discriminator():\n",
        "    model = Sequential()\n",
        "    model.add(Input(shape=(5000,12)))\n",
        "    model.add(Conv1D(filters=32, kernel_size=16, strides=1, padding='same'))\n",
        "    model.add(LeakyReLU())\n",
        "    model.add(Conv1D(filters=64, kernel_size=16, strides=1, padding='same'))\n",
        "    model.add(LeakyReLU())\n",
        "    model.add(MaxPool1D(pool_size=2))\n",
        "    model.add(Conv1D(filters=128, kernel_size=16, strides=1, padding='same'))\n",
        "    model.add(LeakyReLU())\n",
        "    model.add(Conv1D(filters=256, kernel_size=16, strides=1, padding='same'))\n",
        "    model.add(LeakyReLU())\n",
        "    model.add(MaxPool1D(pool_size=2))\n",
        "    model.add(Flatten())\n",
        "    model.add(Dense(1, activation='sigmoid'))\n",
        "    # compile model\n",
        "    model.compile(loss='binary_crossentropy', optimizer='adam', metrics=['accuracy'])\n",
        "    return model\n",
        "\n",
        "def define_generator(latent_dim):#  latent_dim? understant\n",
        "    init = RandomNormal(stddev=0.02)\n",
        "    model = Sequential()\n",
        "    model.add(Input(shape=(latent_dim,)))\n",
        "    model.add(Dense(5000, kernel_initializer=init, input_dim=latent_dim))\n",
        "    model.add(Reshape((5000,1)))\n",
        "    model.add(Bidirectional(LSTM(24, return_sequences=True,activation='tanh'), merge_mode='sum'))\n",
        "    model.add(Dropout(0.5, noise_shape=None, seed=None))\n",
        "    model.add(Dense(12, activation='tanh'))\n",
        "    return model\n",
        " \n",
        "# define the combined generator and discriminator model, for updating the generator\n",
        "def define_gan(generator, discriminator):\n",
        "    # make weights in the discriminator not trainable\n",
        "    discriminator.trainable = False\n",
        "    # connect them\n",
        "    model = Sequential()\n",
        "    # add generator\n",
        "    model.add(generator)\n",
        "    # add the discriminator\n",
        "    model.add(discriminator)\n",
        "    # compile model\n",
        "    model.compile(loss='binary_crossentropy', optimizer='adam')\n",
        "    return model\n",
        " \n",
        "# generate n real samples with class labels\n",
        "def generate_real_samples(ecgsignal,n):\n",
        "    # generate inputs in [-0.5, 0.5]\n",
        "    X = ecgsignal[np.random.choice(ecgsignal.shape[0],n)]\n",
        "    # generate class labels\n",
        "    y = ones((n, 1))\n",
        "    return X, y\n",
        " \n",
        "# generate points in latent space as input for the generator\n",
        "\"\"\"A latent space, also known as a latent feature space or embedding space, is an \n",
        "embedding of a set of items within a manifold in which items which resemble each\n",
        "other more closely are positioned closer to one another in the latent space.\"\"\"\n",
        "def generate_latent_points(latent_dim, n):\n",
        "    # generate points in the latent space\n",
        "    x_in = randn(latent_dim*n).reshape(n,latent_dim)\n",
        "    # reshape into a batch of inputs for the network\n",
        "    return x_in\n",
        " \n",
        "# use the generator to generate n fake examples, with class labels\n",
        "def generate_fake_samples(latent_dim,generator,n):\n",
        "    # generate points in latent space\n",
        "    x_input = generate_latent_points(latent_dim,n)\n",
        "    # predict outputs\n",
        "    X = generator.predict(x_input)\n",
        "    # create class labels\n",
        "    y = zeros((n, 1))\n",
        "    return X, y\n",
        " \n",
        "# evaluate the discriminator and plot real and fake points\n",
        "def summarize_performance(epoch, generator, discriminator, latent_dim, ecgsignal, n=1):\n",
        "    # prepare real samples\n",
        "    x_real, y_real = generate_real_samples(ecgsignal,n)\n",
        "    # evaluate discriminator on real examples\n",
        "    _, acc_real = discriminator.evaluate(x_real, y_real, verbose=0)\n",
        "    # prepare fake examples\n",
        "    x_fake, y_fake = generate_fake_samples(latent_dim, generator,n)\n",
        "    # evaluate discriminator on fake examples\n",
        "    _, acc_fake = discriminator.evaluate(x_fake, y_fake, verbose=0)\n",
        "    # summarize discriminator performance\n",
        "    print(epoch, acc_real, acc_fake)\n",
        "    # scatter plot real and fake data points\n",
        "    plt.plot(x_fake.reshape(12,5000)[1], color=\"red\")\n",
        "    plt.plot(x_real.reshape(12,5000)[1], color=\"green\")\n",
        "    plt.savefig(\"model_after{}epocs.png\".format(epoch))\n",
        "    plt.show()\n",
        " \n",
        "\n",
        "def train(g_model, d_model, gan_model, ecg_sig, latent_dim,n_epochs=100, n_batch=128, n_eval=10):\n",
        "    # determine half the size of one batch, for updating the discriminator\n",
        "    half_batch = int(n_batch / 2)\n",
        "    # manually enumerate epochs\n",
        "    for i in range(n_epochs):\n",
        "        # prepare real samples\n",
        "        x_real, y_real = generate_real_samples(ecg_sig,half_batch)\n",
        "        # prepare fake examples\n",
        "        x_fake, y_fake = generate_fake_samples(latent_dim,g_model,half_batch)\n",
        "        # update discriminator\n",
        "        d_model.train_on_batch(x_real, y_real)\n",
        "        d_model.train_on_batch(x_fake, y_fake)\n",
        "        # prepare points in latent space as input for the generator\n",
        "        x_gan = generate_latent_points(latent_dim,n_batch)\n",
        "        # create inverted labels for the fake samples\n",
        "        y_gan = ones((n_batch, 1)) # to forze the generative model to resemble the true ecgs and by so, learn\n",
        "        # update the generator via the discriminator's error\n",
        "        gan_model.train_on_batch(x_gan, y_gan)\n",
        "        # evaluate the model every n_eval epochs\n",
        "        if (i+1) % n_eval == 0:\n",
        "            summarize_performance(i, g_model, d_model, latent_dim, ecg_sig)\n",
        "  return "
      ],
      "metadata": {
        "id": "8D6dfqI7oQ5C"
      },
      "execution_count": null,
      "outputs": []
    },
    {
      "cell_type": "markdown",
      "source": [
        "We can think to apply it to augment the Poincare images, so the data."
      ],
      "metadata": {
        "id": "WVYEa3xrpvt2"
      }
    }
  ],
  "metadata": {
    "colab": {
      "collapsed_sections": [],
      "name": "Copia di AI_Assignment.ipynb",
      "toc_visible": true,
      "provenance": [],
      "include_colab_link": true
    },
    "kernelspec": {
      "display_name": "Python 3",
      "name": "python3"
    },
    "language_info": {
      "name": "python"
    }
  },
  "nbformat": 4,
  "nbformat_minor": 0
}