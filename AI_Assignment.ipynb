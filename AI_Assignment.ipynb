{
  "nbformat": 4,
  "nbformat_minor": 0,
  "metadata": {
    "colab": {
      "name": "AI_Assignment.ipynb",
      "provenance": [],
      "collapsed_sections": [],
      "toc_visible": true,
      "include_colab_link": true
    },
    "kernelspec": {
      "name": "python3",
      "display_name": "Python 3"
    },
    "language_info": {
      "name": "python"
    }
  },
  "cells": [
    {
      "cell_type": "markdown",
      "metadata": {
        "id": "view-in-github",
        "colab_type": "text"
      },
      "source": [
        "<a href=\"https://colab.research.google.com/github/alice202122/AI_PROJECT/blob/main/AI_Assignment.ipynb\" target=\"_parent\"><img src=\"https://colab.research.google.com/assets/colab-badge.svg\" alt=\"Open In Colab\"/></a>"
      ]
    },
    {
      "cell_type": "markdown",
      "source": [
        "#CONNECTING TO DRIVE"
      ],
      "metadata": {
        "id": "nTF9KoI79End"
      }
    },
    {
      "cell_type": "code",
      "execution_count": null,
      "metadata": {
        "id": "jsgLshUKo59r"
      },
      "outputs": [],
      "source": [
        "from google.colab import drive\n",
        "drive.mount('/gdrive')"
      ]
    },
    {
      "cell_type": "code",
      "source": [
        "%cd /gdrive/MyDrive/AI_Assignment/training_set"
      ],
      "metadata": {
        "id": "zmGIM_ArpC26"
      },
      "execution_count": null,
      "outputs": []
    },
    {
      "cell_type": "code",
      "source": [
        "!unzip training_set.zip"
      ],
      "metadata": {
        "id": "TaL224mzpGZc"
      },
      "execution_count": null,
      "outputs": []
    },
    {
      "cell_type": "markdown",
      "source": [
        "# IMPORTING LIBRARIES"
      ],
      "metadata": {
        "id": "250u2yui8-ji"
      }
    },
    {
      "cell_type": "code",
      "source": [
        "from scipy.io import loadmat\n",
        "\n",
        "import numpy as np, os\n",
        "from numpy import array, matrix, multiply, arange, absolute\n",
        "\n",
        "from scipy import signal\n",
        "from scipy.signal import lfilter, medfilt, resample, kaiserord, firwin, freqz, correlate\n",
        "\n",
        "import pandas as pd\n",
        "\n",
        "import ntpath\n",
        "\n",
        "import matplotlib.pyplot as plt\n",
        "from matplotlib import pylab as plt\n",
        " \n",
        "from pylab import figure, clf, plot, xlabel, ylabel, xlim, ylim, title, grid, axes, show, legend, axis\n",
        "\n",
        "import copy\n",
        "\n",
        "!pip install pyhrv\n",
        "import pyhrv\n",
        "import pyhrv.time_domain as td\n",
        "\n",
        "!pip install biosppy\n",
        "import biosppy\n",
        "from biosppy.signals import ecg, tools\n",
        "\n",
        "import math\n",
        "from math import pi"
      ],
      "metadata": {
        "id": "By6d8d8HqfdA"
      },
      "execution_count": null,
      "outputs": []
    },
    {
      "cell_type": "markdown",
      "source": [
        "#DATA LOADING"
      ],
      "metadata": {
        "id": "LI-gdODP9OIe"
      }
    },
    {
      "cell_type": "code",
      "source": [
        "input_directory = '/gdrive/MyDrive/AI_Assignment/training_set'"
      ],
      "metadata": {
        "id": "2Hoc_OMDpbNn"
      },
      "execution_count": 4,
      "outputs": []
    },
    {
      "cell_type": "markdown",
      "source": [
        "We want to adjust the dataset in a matrix to better organize the available data. The matrix structure is the following:\n",
        "\n",
        "    | ECG (I & II lead) | R peaks location (samples) | Beats annotation ('N', 'S', 'V') |\n"
      ],
      "metadata": {
        "id": "ba7K9Q9QTG-_"
      }
    },
    {
      "cell_type": "code",
      "source": [
        "def storage(empty_list, input_directory, last_character, name):\n",
        "\n",
        "  for file in sorted(os.listdir(input_directory)):       # search amongst files in input directory\n",
        "    filename = ntpath.basename(file)                     # get file name\n",
        "    filename = os.path.splitext(filename)[0]             # remove file extension\n",
        "    if filename.endswith(last_character):                # check filename last character\n",
        "      mat_file = filename + '.mat'                       # rejoin extension to filename\n",
        "      x = loadmat(mat_file)                              # load file\n",
        "      values = np.asarray(x[name])                       # load values\n",
        "      empty_list.append(values)                          # store values in a list\n",
        "\n",
        "  num_files = len(empty_list)                            # checking all files have been stored\n",
        "\n",
        "  return empty_list, num_files"
      ],
      "metadata": {
        "id": "5LN1kOIyt8_q"
      },
      "execution_count": 5,
      "outputs": []
    },
    {
      "cell_type": "markdown",
      "source": [
        "###ECGs"
      ],
      "metadata": {
        "id": "VOwljPzmyeCd"
      }
    },
    {
      "cell_type": "code",
      "source": [
        "ECGs = []         # list initialization\n",
        "ECGs, num_files = storage(ECGs, input_directory, ('8','0'), 'ecg')\n",
        "num_files"
      ],
      "metadata": {
        "colab": {
          "base_uri": "https://localhost:8080/"
        },
        "id": "omoFR-KAyfGD",
        "outputId": "69bd5f41-26e3-40f3-ec5b-71f3a8e97eb3"
      },
      "execution_count": 6,
      "outputs": [
        {
          "output_type": "execute_result",
          "data": {
            "text/plain": [
              "105"
            ]
          },
          "metadata": {},
          "execution_count": 6
        }
      ]
    },
    {
      "cell_type": "markdown",
      "source": [
        "###R PEAKS LOCATION "
      ],
      "metadata": {
        "id": "cSIHwdExWnia"
      }
    },
    {
      "cell_type": "code",
      "source": [
        "Rpks = []          # list initialization\n",
        "Rpks, num_files = storage(Rpks, input_directory, 'k', 'rpeaks')\n",
        "num_files"
      ],
      "metadata": {
        "colab": {
          "base_uri": "https://localhost:8080/"
        },
        "id": "8FDhhVjrwkAW",
        "outputId": "df3edec7-503b-4015-be03-15914c6c8bd5"
      },
      "execution_count": 7,
      "outputs": [
        {
          "output_type": "execute_result",
          "data": {
            "text/plain": [
              "105"
            ]
          },
          "metadata": {},
          "execution_count": 7
        }
      ]
    },
    {
      "cell_type": "markdown",
      "source": [
        "###BEATS ANNOTATIONS"
      ],
      "metadata": {
        "id": "XwnE-nUtW3cZ"
      }
    },
    {
      "cell_type": "code",
      "source": [
        "beats_anns = []    # list initialization\n",
        "beats_anns, num_files = storage(beats_anns, input_directory, 'n', 'labels')\n",
        "num_files"
      ],
      "metadata": {
        "colab": {
          "base_uri": "https://localhost:8080/"
        },
        "id": "ziECmnjLxILU",
        "outputId": "3c764d67-20a6-4cc5-bb76-827a739f8dba"
      },
      "execution_count": 8,
      "outputs": [
        {
          "output_type": "execute_result",
          "data": {
            "text/plain": [
              "105"
            ]
          },
          "metadata": {},
          "execution_count": 8
        }
      ]
    },
    {
      "cell_type": "markdown",
      "source": [
        "###FINAL MATRIX"
      ],
      "metadata": {
        "id": "b2r_JMlEY6VS"
      }
    },
    {
      "cell_type": "code",
      "source": [
        "data = []                                                                         # list initialization\n",
        "row = []                                                                          # list initialization\n",
        "for patient in range(num_files):                                                  # scrolls patient by patient\n",
        "  row = [ ECGs[patient], Rpks[patient], beats_anns[patient] ]  \n",
        "  data.append(row)                                                                # store row in a list"
      ],
      "metadata": {
        "id": "1sl5Rjoc-SHa"
      },
      "execution_count": 9,
      "outputs": []
    },
    {
      "cell_type": "markdown",
      "source": [
        "#DATA INSPECTION"
      ],
      "metadata": {
        "id": "Drf47n7sX-cY"
      }
    },
    {
      "cell_type": "markdown",
      "source": [
        "###SIGNALS LENGTH DISTRIBUTION"
      ],
      "metadata": {
        "id": "hq8n0uemgZJ5"
      }
    },
    {
      "cell_type": "code",
      "source": [
        "def signals_lenght_distr(input_directory, last_character, fs):       \n",
        "\n",
        "  ECGs_fs = []\n",
        "  ECGs, num_files = storage(ECGs_fs, input_directory, last_character, 'ecg') \n",
        "\n",
        "  ECG = 0                                                    \n",
        "  ECGsfs_lengths = []                                   # list initialization\n",
        "  for patient in range(len(ECGs_fs)):                   # scrolls patient by patient\n",
        "    ECGsfs_lengths.append(len(data[patient][ECG])/fs)   # store signals length in a list\n",
        "\n",
        "  ECGsfs_lengths = pd.Series(ECGsfs_lengths)\n",
        "  ax = ECGsfs_lengths.plot.hist(bins=12, alpha=0.5)\n",
        "  ax.set_title(\"Signals length distribution (fs = \" + str(fs) + \" Hz)\")\n",
        "\n",
        "  return ECGs_fs, num_files"
      ],
      "metadata": {
        "id": "hbu7h1t_4Gts"
      },
      "execution_count": 10,
      "outputs": []
    },
    {
      "cell_type": "markdown",
      "source": [
        "####128 Hz signals"
      ],
      "metadata": {
        "id": "wLy_8ztK6zXQ"
      }
    },
    {
      "cell_type": "code",
      "source": [
        "ECGs_128, num_files = signals_lenght_distr(input_directory, '8', 128)\n",
        "num_files   # checking all files have been stored"
      ],
      "metadata": {
        "id": "SgpxjC8Rhp12",
        "outputId": "b1aebe6c-c000-4dc6-e12d-aa0dc43bf539",
        "colab": {
          "base_uri": "https://localhost:8080/",
          "height": 311
        }
      },
      "execution_count": 11,
      "outputs": [
        {
          "output_type": "execute_result",
          "data": {
            "text/plain": [
              "65"
            ]
          },
          "metadata": {},
          "execution_count": 11
        },
        {
          "output_type": "display_data",
          "data": {
            "image/png": "[encoded data removed]",
            "text/plain": [
              "<Figure size 432x288 with 1 Axes>"
            ]
          },
          "metadata": {
            "needs_background": "light"
          }
        }
      ]
    },
    {
      "cell_type": "markdown",
      "source": [
        "####250 Hz signals"
      ],
      "metadata": {
        "id": "VYnHxXDjiPoL"
      }
    },
    {
      "cell_type": "code",
      "source": [
        "ECGs_250, num_files = signals_lenght_distr(input_directory, '0', 250)\n",
        "num_files   # checking all files have been stored"
      ],
      "metadata": {
        "colab": {
          "base_uri": "https://localhost:8080/",
          "height": 298
        },
        "id": "yVj2C7lX2H8i",
        "outputId": "6ba16fc6-9ade-4333-e0e3-0ea5edc44db4"
      },
      "execution_count": 12,
      "outputs": [
        {
          "output_type": "execute_result",
          "data": {
            "text/plain": [
              "40"
            ]
          },
          "metadata": {},
          "execution_count": 12
        },
        {
          "output_type": "display_data",
          "data": {
            "image/png": "[encoded data removed]",
            "text/plain": [
              "<Figure size 432x288 with 1 Axes>"
            ]
          },
          "metadata": {
            "needs_background": "light"
          }
        }
      ]
    },
    {
      "cell_type": "markdown",
      "source": [
        "###OTHERS"
      ],
      "metadata": {
        "id": "UwHd-JycvIwa"
      }
    },
    {
      "cell_type": "code",
      "source": [
        ""
      ],
      "metadata": {
        "id": "95LS0ATovQ_0"
      },
      "execution_count": 12,
      "outputs": []
    },
    {
      "cell_type": "markdown",
      "source": [
        "#PRE-PROCESSING"
      ],
      "metadata": {
        "id": "hCgy8ayDX0Em"
      }
    },
    {
      "cell_type": "markdown",
      "source": [
        "###UPSAMPLING"
      ],
      "metadata": {
        "id": "7x3mI8Lh02R3"
      }
    },
    {
      "cell_type": "markdown",
      "source": [
        "Upsampling is the process of inserting zero-valued samples between the original samples of a signal to increase the sampling rate. We want, indeed, to bring all the signals at the same sampling frequency of 250 Hz. Downsampling to the 128 Hz is not recommendable otherwise we would lose informations."
      ],
      "metadata": {
        "id": "DgwKQRE9jQaI"
      }
    },
    {
      "cell_type": "code",
      "source": [
        "def upsampling(ECG_old, fs_old, fs_up):\n",
        "\n",
        "  deltafs_old = 1/fs_old                                                          # old sampling interval (s)\n",
        "  duration_old = int(deltafs_old*len(ECG_old))                                    # signal duration (s)\n",
        "  samples_old = duration_old*fs_old                                               # number of samples with old sampling frequency\n",
        "  timevec_old = np.linspace(0, duration_old, samples_old, False)                  # old time vector\n",
        "\n",
        "  deltafs_up = 1/fs_up                                                            # new sampling interval (s)\n",
        "  samples_up = duration_old*fs_up                                                 # number of samples expected with new sampling frequency\n",
        "  timevec_up = np.linspace(0, duration_old, samples_up, False)                    # new time vector\n",
        "\n",
        "  ECG_up = signal.resample(ECG_old, samples_up)                                   # ECG upsampled\n",
        "\n",
        "  return timevec_old, timevec_up, ECG_up"
      ],
      "metadata": {
        "id": "mGUbkte1oqds"
      },
      "execution_count": 13,
      "outputs": []
    },
    {
      "cell_type": "markdown",
      "source": [
        "####Example for one signal"
      ],
      "metadata": {
        "id": "-HZWLodjmHkI"
      }
    },
    {
      "cell_type": "code",
      "source": [
        "patient = 0\n",
        "ECG = 0\n",
        "Ilead = 0\n",
        "ECG_128 = data[patient][ECG][:,Ilead]        # ECG I lead from patient S001_128\n",
        "\n",
        "time_128, time_250, ECG128_up = upsampling(ECG_128, 128, 250)\n",
        "\n",
        "plt.plot(time_128, ECG_128, 'go-', time_250, ECG128_up, '.-')\n",
        "plt.axis([0, 1, -1, 3])                                         \n",
        "plt.legend(['original', 'upsampled'], loc='best')\n",
        "plt.xlabel('Time (s)')\n",
        "plt.ylabel('Amplitude (V)')\n",
        "plt.show()"
      ],
      "metadata": {
        "colab": {
          "base_uri": "https://localhost:8080/",
          "height": 283
        },
        "id": "TbPMKCvHw4jc",
        "outputId": "de00aa3f-0fa4-40ae-8192-d1ad8dd59091"
      },
      "execution_count": 14,
      "outputs": [
        {
          "output_type": "display_data",
          "data": {
            "image/png": "[encoded data removed]",
            "text/plain": [
              "<Figure size 432x288 with 1 Axes>"
            ]
          },
          "metadata": {
            "needs_background": "light"
          }
        }
      ]
    },
    {
      "cell_type": "markdown",
      "source": [
        "####For all 128 Hz signals"
      ],
      "metadata": {
        "id": "s_r_QP84tIZk"
      }
    },
    {
      "cell_type": "code",
      "source": [
        "ECGs128_up = []                                      # list initialization\n",
        "ECG = 0\n",
        "for patient in range(len(ECGs_128)):                 # scrolls patient by patient\n",
        "  ECG_128 = data[patient][ECG]                       # both ECG leads\n",
        "  ECG128_up = upsampling(ECG_128, 128, 250)[2]       # ECG upsampled\n",
        "  ECGs128_up.append(ECG128_up)                       # store ECGs upsampled in a list"
      ],
      "metadata": {
        "id": "zLtrt58AF2v4"
      },
      "execution_count": 15,
      "outputs": []
    },
    {
      "cell_type": "code",
      "source": [
        "ECGs_up = ECGs128_up                      # new array of upsampled ECGs\n",
        "for patient in range(len(ECGs_250)):      # scroll patient by patient\n",
        "  ECGs_up.append(ECGs_250[patient])       # append the ECGs at 250 Hz\n",
        "num_files = len(ECGs_up)                             \n",
        "num_files                                 # checking all files have been stored        "
      ],
      "metadata": {
        "id": "NuXRrzagGrtJ",
        "colab": {
          "base_uri": "https://localhost:8080/"
        },
        "outputId": "f15eaddd-3c12-4563-c9f0-66b0d455fb20"
      },
      "execution_count": 16,
      "outputs": [
        {
          "output_type": "execute_result",
          "data": {
            "text/plain": [
              "105"
            ]
          },
          "metadata": {},
          "execution_count": 16
        }
      ]
    },
    {
      "cell_type": "code",
      "source": [
        "data_up = []                                                                     # list initialization\n",
        "row = []                                                                         # list initialization\n",
        "for patient in range(num_files):                                                 # scrolls patient by patient\n",
        "  row = [ ECGs_up[patient], Rpks[patient], beats_anns[patient] ]                 # store ECG upsampled, R peaks location, beats annotation for each patient in a row\n",
        "  data_up.append(row)                                                            # store row in a list"
      ],
      "metadata": {
        "id": "ES5-eY6QJNN4"
      },
      "execution_count": 17,
      "outputs": []
    },
    {
      "cell_type": "markdown",
      "source": [
        "###BASELINE DETECTION"
      ],
      "metadata": {
        "id": "QQvod65R15rb"
      }
    },
    {
      "cell_type": "markdown",
      "source": [
        "We want to detect the baseline and remove it from the overall signals because not necessary to the features of interest when computing the power spectrum. Indeed, the baseline wander mainly corresponds to the movement and respiration of the patient."
      ],
      "metadata": {
        "id": "GCNPgwekxBT2"
      }
    },
    {
      "cell_type": "markdown",
      "source": [
        "####Example for one signal"
      ],
      "metadata": {
        "id": "_WImbhTkySf9"
      }
    },
    {
      "cell_type": "code",
      "source": [
        "patient = 0\n",
        "ECG = 0\n",
        "Ilead = 0\n",
        "ECG = data_up[patient][ECG][:,Ilead]       # ECG I lead from patient S001_128 (S001_250)\n",
        "\n",
        "fs = 250                                                          # sampling frequency (Hz)\n",
        "delta_fs = 1/fs                                                   # sampling interval (s)\n",
        "duration = int(delta_fs*len(ECG))                                 # signal duration (s)\n",
        "samples = duration*fs                                             # number of samples\n",
        "time_vec = np.linspace(0, duration, samples, endpoint=False)      # time vector\n",
        "\n",
        "plot(time_vec, ECG)\n",
        "xlabel('Time (s)')\n",
        "ylabel('Amplitude (V)')"
      ],
      "metadata": {
        "colab": {
          "base_uri": "https://localhost:8080/",
          "height": 296
        },
        "id": "tQdIm2VMJ-Qe",
        "outputId": "708db33c-f586-4964-864e-1faf215f9312"
      },
      "execution_count": 18,
      "outputs": [
        {
          "output_type": "execute_result",
          "data": {
            "text/plain": [
              "Text(0, 0.5, 'Amplitude (V)')"
            ]
          },
          "metadata": {},
          "execution_count": 18
        },
        {
          "output_type": "display_data",
          "data": {
            "image/png": "[encoded data removed]",
            "text/plain": [
              "<Figure size 432x288 with 1 Axes>"
            ]
          },
          "metadata": {
            "needs_background": "light"
          }
        }
      ]
    },
    {
      "cell_type": "code",
      "source": [
        "def power_spectrum(data, sampling_rate):\n",
        "  fourier_transform = np.fft.rfft(data)                                 # FFT computation\n",
        "  abs_fourier_transform = np.abs(fourier_transform)                     # FFT absolute value\n",
        "  power_spectrum = np.square(abs_fourier_transform)                     # power spectrum\n",
        "  frequency = np.linspace(0, sampling_rate/2, len(power_spectrum))      # vector of frequencies\n",
        "\n",
        "  return frequency, power_spectrum"
      ],
      "metadata": {
        "id": "bmoWPGPHLojt"
      },
      "execution_count": 19,
      "outputs": []
    },
    {
      "cell_type": "code",
      "source": [
        "ECG_f, ECG_ps = power_spectrum(ECG, fs)\n",
        "plt.plot(ECG_f, ECG_ps)\n",
        "plt.xlabel('Frequency (Hz)')\n",
        "plt.ylabel('Power Spectrum (dB/Hz)')"
      ],
      "metadata": {
        "colab": {
          "base_uri": "https://localhost:8080/",
          "height": 307
        },
        "id": "Rbu_xfgiMYnV",
        "outputId": "98ffaa43-5b43-4127-b365-b4db817a2404"
      },
      "execution_count": 20,
      "outputs": [
        {
          "output_type": "execute_result",
          "data": {
            "text/plain": [
              "Text(0, 0.5, 'Power Spectrum (dB/Hz)')"
            ]
          },
          "metadata": {},
          "execution_count": 20
        },
        {
          "output_type": "display_data",
          "data": {
            "image/png": "[encoded data removed]",
            "text/plain": [
              "<Figure size 432x288 with 1 Axes>"
            ]
          },
          "metadata": {
            "needs_background": "light"
          }
        }
      ]
    },
    {
      "cell_type": "markdown",
      "source": [
        "Plotting the signal in the frequency domain we are able to detect the baseline contribution as the highest peak."
      ],
      "metadata": {
        "id": "Ryu_iM5yU6n4"
      }
    },
    {
      "cell_type": "markdown",
      "source": [
        "######Median Filter (200 ms)"
      ],
      "metadata": {
        "id": "3HxVrIGSZvgs"
      }
    },
    {
      "cell_type": "code",
      "source": [
        "ECG_mf200 = signal.medfilt(ECG, 51)    # kernel_size = 200ms*250Hz = 50 samples (+1 the one being filtered)\n",
        "plt.plot(time_vec, ECG, time_vec, ECG_mf200)\n",
        "plt.axis([0, 50, -1, 3])\n",
        "plt.legend(['original', 'mf200'], loc='best')\n",
        "plt.xlabel('Time (s)')\n",
        "plt.ylabel('Amplitude (V)')\n",
        "plt.show()"
      ],
      "metadata": {
        "id": "g2Oia-ktD4LD",
        "colab": {
          "base_uri": "https://localhost:8080/",
          "height": 283
        },
        "outputId": "4d0870b2-40c2-46f3-b2ad-d63d1759f103"
      },
      "execution_count": 21,
      "outputs": [
        {
          "output_type": "display_data",
          "data": {
            "image/png": "[encoded data removed]",
            "text/plain": [
              "<Figure size 432x288 with 1 Axes>"
            ]
          },
          "metadata": {
            "needs_background": "light"
          }
        }
      ]
    },
    {
      "cell_type": "markdown",
      "source": [
        "######Median Filter (600 ms)"
      ],
      "metadata": {
        "id": "kE4Fl-NaaQHw"
      }
    },
    {
      "cell_type": "code",
      "source": [
        "ECG_mf600 = signal.medfilt(ECG_mf200, 151)    # kernel_size = 600ms*250Hz = 150 samples (+1 the one being filtered)\n",
        "plt.plot(time_vec, ECG_mf200, time_vec, ECG_mf600)\n",
        "plt.axis([0, 50, -1, 3])\n",
        "plt.legend(['mf200', 'mf600'], loc='best')\n",
        "plt.xlabel('Time (s)')\n",
        "plt.ylabel('Amplitude (V)')\n",
        "plt.show()"
      ],
      "metadata": {
        "id": "oDCCEuUgLrrK",
        "colab": {
          "base_uri": "https://localhost:8080/",
          "height": 283
        },
        "outputId": "89749ce7-779c-4dc8-8fa7-606236364637"
      },
      "execution_count": 22,
      "outputs": [
        {
          "output_type": "display_data",
          "data": {
            "image/png": "[encoded data removed]",
            "text/plain": [
              "<Figure size 432x288 with 1 Axes>"
            ]
          },
          "metadata": {
            "needs_background": "light"
          }
        }
      ]
    },
    {
      "cell_type": "markdown",
      "source": [
        "######Baseline Removal"
      ],
      "metadata": {
        "id": "iaBdKUJpaYTk"
      }
    },
    {
      "cell_type": "code",
      "source": [
        "ECG_blr = ECG-ECG_mf600\n",
        "plt.plot(time_vec, ECG, time_vec, ECG_blr)\n",
        "plt.legend(['original', 'baseline removed'], loc='best')\n",
        "plt.xlabel('Time (s)')\n",
        "plt.ylabel('Amplitude (V)')\n",
        "plt.show()"
      ],
      "metadata": {
        "id": "K7SsB_QLNOg8",
        "colab": {
          "base_uri": "https://localhost:8080/",
          "height": 279
        },
        "outputId": "8e2e0b03-aa25-4dfa-b6e4-0db49ff37bd3"
      },
      "execution_count": 23,
      "outputs": [
        {
          "output_type": "display_data",
          "data": {
            "image/png": "[encoded data removed]",
            "text/plain": [
              "<Figure size 432x288 with 1 Axes>"
            ]
          },
          "metadata": {
            "needs_background": "light"
          }
        }
      ]
    },
    {
      "cell_type": "code",
      "source": [
        "ECGblr_f, ECGblr_ps = power_spectrum(ECG_blr, fs)\n",
        "plt.plot(ECG_f, ECG_ps, ECGblr_f, ECGblr_ps)\n",
        "plt.legend(['original', 'baseline removed'], loc='best')\n",
        "plt.xlabel('Frequency (Hz)')\n",
        "plt.ylabel('Power Spectrum (dB/Hz)')\n",
        "plt.show()"
      ],
      "metadata": {
        "colab": {
          "base_uri": "https://localhost:8080/",
          "height": 290
        },
        "id": "-IrN0_y9SUIa",
        "outputId": "5c4d6539-583f-483b-a5f0-55d855c1629e"
      },
      "execution_count": 24,
      "outputs": [
        {
          "output_type": "display_data",
          "data": {
            "image/png": "[encoded data removed]",
            "text/plain": [
              "<Figure size 432x288 with 1 Axes>"
            ]
          },
          "metadata": {
            "needs_background": "light"
          }
        }
      ]
    },
    {
      "cell_type": "markdown",
      "source": [
        "As we can see the baseline component has been removed."
      ],
      "metadata": {
        "id": "dgAxvymbVhFG"
      }
    },
    {
      "cell_type": "markdown",
      "source": [
        "####For all signals"
      ],
      "metadata": {
        "id": "o2egB1YsypoV"
      }
    },
    {
      "cell_type": "code",
      "source": [
        "ECGsup_blr = []\n",
        "ECG = 0\n",
        "Ilead = 0\n",
        "IIlead = 1\n",
        "for patient in range(num_files):                      # scrolls patient by patient\n",
        "  ECGI_up = data_up[patient][ECG][:,Ilead]            \n",
        "  ECGIup_mf200 = signal.medfilt(ECGI_up, 51)          # kernel_size = 200ms*250Hz = 50 samples (+1 the one being filtered)\n",
        "  ECGIup_mf600 = signal.medfilt(ECGIup_mf200, 151)    # kernel_size = 600ms*250Hz = 150 samples (+1 the one being filtered)\n",
        "  ECGIup_blr = ECGI_up-ECGIup_mf600                   # baseline removal\n",
        "  ECGII_up = data_up[patient][ECG][:,IIlead]            \n",
        "  ECGIIup_mf200 = signal.medfilt(ECGII_up, 51)          # kernel_size = 200ms*250Hz = 50 samples (+1 the one being filtered)\n",
        "  ECGIIup_mf600 = signal.medfilt(ECGIIup_mf200, 151)    # kernel_size = 600ms*250Hz = 150 samples (+1 the one being filtered)\n",
        "  ECGIIup_blr = ECGII_up-ECGIIup_mf600                  # baseline removal\n",
        "  ECGup_blr = [ECGIup_blr, ECGIIup_blr]\n",
        "  ECGsup_blr.append(ECGup_blr)"
      ],
      "metadata": {
        "id": "gwYK2tacy0oq"
      },
      "execution_count": 25,
      "outputs": []
    },
    {
      "cell_type": "code",
      "source": [
        "dataup_blr = []                                                                  # list initialization\n",
        "row = []                                                                         # list initialization\n",
        "for patient in range(num_files):                                                 # scrolls patient by patient\n",
        "  row = [ ECGsup_blr[patient], Rpks[patient], beats_anns[patient] ]              # store ECG baseline removed, R peaks location, beats annotation for each patient in a row\n",
        "  dataup_blr.append(row)                                                         # store row in a list"
      ],
      "metadata": {
        "id": "WB0x9HStbUuU"
      },
      "execution_count": 26,
      "outputs": []
    },
    {
      "cell_type": "markdown",
      "source": [
        "###FILTERING"
      ],
      "metadata": {
        "id": "GOCH5rk3ZG2m"
      }
    },
    {
      "cell_type": "markdown",
      "source": [
        "####Example for one signal"
      ],
      "metadata": {
        "id": "0eUMCu0OeY4G"
      }
    },
    {
      "cell_type": "code",
      "source": [
        "patient = 0\n",
        "ECG = 0\n",
        "Ilead = 0\n",
        "ECG = dataup_blr[patient][ECG][Ilead]       # ECG I lead from patient S001_128 (S001_250)\n",
        "\n",
        "fs = 250                                                          # sampling frequency (Hz)\n",
        "delta_fs = 1/fs                                                   # sampling interval (s)\n",
        "duration = int(delta_fs*len(ECG))                                 # signal duration (s)\n",
        "samples = duration*fs                                             # number of samples\n",
        "time_vec = np.linspace(0, duration, samples, endpoint=False)      # time vector\n",
        "\n",
        "plot(time_vec, ECG)\n",
        "plt.axis([0, 1, -1, 3])\n",
        "xlabel('Time (s)')\n",
        "ylabel('Amplitude (V)')"
      ],
      "metadata": {
        "colab": {
          "base_uri": "https://localhost:8080/",
          "height": 300
        },
        "id": "UTsOT5JSN0Gp",
        "outputId": "c4c4ed65-7fb7-4c07-ba4a-779557ee2399"
      },
      "execution_count": 27,
      "outputs": [
        {
          "output_type": "execute_result",
          "data": {
            "text/plain": [
              "Text(0, 0.5, 'Amplitude (V)')"
            ]
          },
          "metadata": {},
          "execution_count": 27
        },
        {
          "output_type": "display_data",
          "data": {
            "image/png": "[encoded data removed]",
            "text/plain": [
              "<Figure size 432x288 with 1 Axes>"
            ]
          },
          "metadata": {
            "needs_background": "light"
          }
        }
      ]
    },
    {
      "cell_type": "markdown",
      "source": [
        "From this plot it can be noticed that the ECG signal needs to be smoothed out. For this reason, we apply a low pass filter to get rid of the high frequencies responsible of those ripples."
      ],
      "metadata": {
        "id": "SqLxipyeU1kP"
      }
    },
    {
      "cell_type": "code",
      "source": [
        "def FIRlowpass(sample_rate, signal, time_axis, cutoff_hz, start, end, figs):\n",
        "\n",
        "  nyq_rate = sample_rate / 2.0\n",
        "  width = 5.0/nyq_rate # the desired width of the transition from pass to stop,\n",
        "                       # relative to the Nyquist rate.  We'll design the filter\n",
        "                       # with a 5 Hz transition width.\n",
        "  ripple_db = 60.0     # the desired attenuation in the stop band, in dB\n",
        "  N, beta = kaiserord(ripple_db, width) # compute the order and Kaiser parameter for the FIR filter.\n",
        "  taps = firwin(N, cutoff_hz/nyq_rate, window=('kaiser', beta))\n",
        "  filtered = lfilter(taps, 1.0, signal)\n",
        "\n",
        "  if figs == True:\n",
        "\n",
        "    figure(1) # filter coefficients\n",
        "    plot(taps, 'bo-', linewidth=2)\n",
        "    title('Filter Coefficients (%d taps)' % N)\n",
        "    grid(True)\n",
        "\n",
        "    figure(2) # filter magnitude response\n",
        "    clf()\n",
        "    w, h = freqz(taps, worN=8000)\n",
        "    plot((w/pi)*nyq_rate, absolute(h), linewidth=2)\n",
        "    xlabel('Frequency (Hz)')\n",
        "    ylabel('Gain')\n",
        "    title('Frequency Response')\n",
        "    ylim(-0.05, 1.05)\n",
        "    grid(True)\n",
        "    ax1 = axes([0.42, 0.6, .45, .25]) # upper inset plot\n",
        "    plot((w/pi)*nyq_rate, absolute(h), linewidth=2)\n",
        "    xlim(0,8.0)\n",
        "    ylim(0.9985, 1.001)\n",
        "    grid(True)\n",
        "    ax2 = axes([0.42, 0.25, .45, .25]) # lower inset plot\n",
        "    plot((w/pi)*nyq_rate, absolute(h), linewidth=2)\n",
        "    xlim(60.0, 80.0)\n",
        "    ylim(-0.05, 0.05)\n",
        "    grid(True)\n",
        "\n",
        "    delay = 0.5 * (N-1) / sample_rate # the phase delay of the filtered signal\n",
        "    figure(3) # original vs filtered signal\n",
        "    axis([start, end, -1, 3])\n",
        "    plot(time_axis, signal)\n",
        "    #plot(time_axis-delay, filtered_x, 'r-')\n",
        "    plot(time_axis[N-1:]-delay, filtered[N-1:], 'r', linewidth=1) # plot just the \"good\" part of the filtered signal. The first N-1\n",
        "                                                                    # samples are \"corrupted\" by the initial conditions.\n",
        "    legend(['original', 'filtered'], loc='best')\n",
        "    xlabel('Time (s)')\n",
        "    ylabel('Amplitude (V)')\n",
        "    grid(True)\n",
        "\n",
        "    figure(4)\n",
        "    signal_f, signal_ps = power_spectrum(signal, fs)\n",
        "    filt_f, filt_ps = power_spectrum(filtered, fs)\n",
        "    plot(signal_f, signal_ps, filt_f, filt_ps)\n",
        "    legend(['original', 'filtered'], loc='best')\n",
        "    xlabel('Frequency (Hz)')\n",
        "    ylabel('Power Spectrum (dB/Hz)')\n",
        "\n",
        "    show()\n",
        "    \n",
        "  elif figs == False:\n",
        "    plt.close('all')\n",
        "\n",
        "  return filtered"
      ],
      "metadata": {
        "id": "Od2XUUL8bSSK"
      },
      "execution_count": 28,
      "outputs": []
    },
    {
      "cell_type": "code",
      "source": [
        "ECG_filt = FIRlowpass(fs, ECG, time_vec, 35, 0.60, 0.75, True)"
      ],
      "metadata": {
        "id": "R2kFjnQc18RK",
        "colab": {
          "base_uri": "https://localhost:8080/",
          "height": 1000
        },
        "outputId": "53a20b7c-a649-4084-f1f0-63f11722ff2f"
      },
      "execution_count": 29,
      "outputs": [
        {
          "output_type": "display_data",
          "data": {
            "image/png": "[encoded data removed]",
            "text/plain": [
              "<Figure size 432x288 with 1 Axes>"
            ]
          },
          "metadata": {
            "needs_background": "light"
          }
        },
        {
          "output_type": "display_data",
          "data": {
            "image/png": "[encoded data removed]",
            "text/plain": [
              "<Figure size 432x288 with 3 Axes>"
            ]
          },
          "metadata": {
            "needs_background": "light"
          }
        },
        {
          "output_type": "display_data",
          "data": {
            "image/png": "[encoded data removed]",
            "text/plain": [
              "<Figure size 432x288 with 1 Axes>"
            ]
          },
          "metadata": {
            "needs_background": "light"
          }
        },
        {
          "output_type": "display_data",
          "data": {
            "image/png": "[encoded data removed]",
            "text/plain": [
              "<Figure size 432x288 with 1 Axes>"
            ]
          },
          "metadata": {
            "needs_background": "light"
          }
        }
      ]
    },
    {
      "cell_type": "markdown",
      "source": [
        "####For all signals"
      ],
      "metadata": {
        "id": "lzZGVN0TebO_"
      }
    },
    {
      "cell_type": "code",
      "source": [
        "ECGsupblr_filt = []\n",
        "ECG = 0\n",
        "Ilead = 0\n",
        "IIlead = 1\n",
        "for patient in range(num_files):                                                 # scrolls patient by patient\n",
        "  ECGIup_blr = dataup_blr[patient][ECG][Ilead]            \n",
        "  ECGIupblr_filt = FIRlowpass(fs, ECGIup_blr, time_vec, 35, [], [], False)         \n",
        "  ECGIIup_blr = dataup_blr[patient][ECG][IIlead]            \n",
        "  ECGIIupblr_filt = FIRlowpass(fs, ECGIIup_blr, time_vec, 35, [], [], False)\n",
        "  ECGupblr_filt = [ECGIupblr_filt, ECGIIupblr_filt]\n",
        "  ECGsupblr_filt.append(ECGupblr_filt)"
      ],
      "metadata": {
        "id": "3G6GbtLjnAyv"
      },
      "execution_count": 30,
      "outputs": []
    },
    {
      "cell_type": "code",
      "source": [
        "dataupblr_filt = []                                                              # list initialization\n",
        "row = []                                                                         # list initialization\n",
        "for patient in range(num_files):                                                 # scrolls patient by patient\n",
        "  row = [ ECGsupblr_filt[patient], Rpks[patient], beats_anns[patient] ]          # store ECG filtered, R peaks location, beats annotation for each patient in a row\n",
        "  dataupblr_filt.append(row)                                                     # store row in a list"
      ],
      "metadata": {
        "id": "hq-7ilNNorkO"
      },
      "execution_count": 31,
      "outputs": []
    },
    {
      "cell_type": "markdown",
      "source": [
        "#FEATURE EXTRACTION"
      ],
      "metadata": {
        "id": "8_MYD4JoCDR_"
      }
    },
    {
      "cell_type": "markdown",
      "source": [
        "###HRV FEATURES"
      ],
      "metadata": {
        "id": "QWLozGm1C4jl"
      }
    },
    {
      "cell_type": "markdown",
      "source": [
        "Two different time windows are considered for the extraction of HRV features: 3 and 10 min windows centered on the current beats."
      ],
      "metadata": {
        "id": "h7whrVFU1EF1"
      }
    },
    {
      "cell_type": "code",
      "source": [
        "wnw_3 = 180             # time window duration in s\n",
        "wnw3_smp = wnw_3*fs     # number of samples in the window\n",
        "\n",
        "Rpks_tr3 = []\n",
        "Rpks = 1\n",
        "for patient in enumerate(dataupblr_filt[patient][Rpks]):\n",
        "  temp = []\n",
        "  for idx, k in enumerate(dataupblr_filt[patient][Rpks]):\n",
        "    if (k-int(wnw3_smp/2))>0:\n",
        "      temp.append(k)\n",
        "  temp = np.vstack(temp)\n",
        "  lst = copy.deepcopy(temp)\n",
        "  Rpks_tr3.insert(idx, lst)\n",
        "  Rpks_tr3 = np.vstack(Rpks_tr3)"
      ],
      "metadata": {
        "id": "SPC3xVVa8ZLs",
        "outputId": "c867ae33-a6d8-49ad-eecf-e6d2b0806885",
        "colab": {
          "base_uri": "https://localhost:8080/",
          "height": 235
        }
      },
      "execution_count": 39,
      "outputs": [
        {
          "output_type": "error",
          "ename": "TypeError",
          "evalue": "ignored",
          "traceback": [
            "\u001b[0;31m---------------------------------------------------------------------------\u001b[0m",
            "\u001b[0;31mTypeError\u001b[0m                                 Traceback (most recent call last)",
            "\u001b[0;32m<ipython-input-39-0f11ffdd3d9f>\u001b[0m in \u001b[0;36m<module>\u001b[0;34m()\u001b[0m\n\u001b[1;32m      6\u001b[0m \u001b[0;32mfor\u001b[0m \u001b[0mpatient\u001b[0m \u001b[0;32min\u001b[0m \u001b[0menumerate\u001b[0m\u001b[0;34m(\u001b[0m\u001b[0mdataupblr_filt\u001b[0m\u001b[0;34m[\u001b[0m\u001b[0mpatient\u001b[0m\u001b[0;34m]\u001b[0m\u001b[0;34m[\u001b[0m\u001b[0mRpks\u001b[0m\u001b[0;34m]\u001b[0m\u001b[0;34m)\u001b[0m\u001b[0;34m:\u001b[0m\u001b[0;34m\u001b[0m\u001b[0;34m\u001b[0m\u001b[0m\n\u001b[1;32m      7\u001b[0m   \u001b[0mtemp\u001b[0m \u001b[0;34m=\u001b[0m \u001b[0;34m[\u001b[0m\u001b[0;34m]\u001b[0m\u001b[0;34m\u001b[0m\u001b[0;34m\u001b[0m\u001b[0m\n\u001b[0;32m----> 8\u001b[0;31m   \u001b[0;32mfor\u001b[0m \u001b[0midx\u001b[0m\u001b[0;34m,\u001b[0m \u001b[0mk\u001b[0m \u001b[0;32min\u001b[0m \u001b[0menumerate\u001b[0m\u001b[0;34m(\u001b[0m\u001b[0mdataupblr_filt\u001b[0m\u001b[0;34m[\u001b[0m\u001b[0mpatient\u001b[0m\u001b[0;34m]\u001b[0m\u001b[0;34m[\u001b[0m\u001b[0mRpks\u001b[0m\u001b[0;34m]\u001b[0m\u001b[0;34m)\u001b[0m\u001b[0;34m:\u001b[0m\u001b[0;34m\u001b[0m\u001b[0;34m\u001b[0m\u001b[0m\n\u001b[0m\u001b[1;32m      9\u001b[0m     \u001b[0;32mif\u001b[0m \u001b[0;34m(\u001b[0m\u001b[0mk\u001b[0m\u001b[0;34m-\u001b[0m\u001b[0mint\u001b[0m\u001b[0;34m(\u001b[0m\u001b[0mwnw3_smp\u001b[0m\u001b[0;34m/\u001b[0m\u001b[0;36m2\u001b[0m\u001b[0;34m)\u001b[0m\u001b[0;34m)\u001b[0m\u001b[0;34m>\u001b[0m\u001b[0;36m0\u001b[0m\u001b[0;34m:\u001b[0m\u001b[0;34m\u001b[0m\u001b[0;34m\u001b[0m\u001b[0m\n\u001b[1;32m     10\u001b[0m       \u001b[0mtemp\u001b[0m\u001b[0;34m.\u001b[0m\u001b[0mappend\u001b[0m\u001b[0;34m(\u001b[0m\u001b[0mk\u001b[0m\u001b[0;34m)\u001b[0m\u001b[0;34m\u001b[0m\u001b[0;34m\u001b[0m\u001b[0m\n",
            "\u001b[0;31mTypeError\u001b[0m: list indices must be integers or slices, not tuple"
          ]
        }
      ]
    },
    {
      "cell_type": "code",
      "source": [
        "Rpks_tr3[0]"
      ],
      "metadata": {
        "id": "O5Ht_hE_S3Gc",
        "outputId": "8e29ea63-b762-4c2d-fdbc-210cfa627ab1",
        "colab": {
          "base_uri": "https://localhost:8080/"
        }
      },
      "execution_count": 38,
      "outputs": [
        {
          "output_type": "execute_result",
          "data": {
            "text/plain": [
              "array([22511], dtype=int32)"
            ]
          },
          "metadata": {},
          "execution_count": 38
        }
      ]
    },
    {
      "cell_type": "code",
      "source": [
        "wnw_10 = 600             # time window duration in s\n",
        "wnw10_smp = wnw_10*fs    # number of samples in the window\n",
        "\n",
        "Rpks_tr10 = []\n",
        "Rpks = 1\n",
        "for patient in range(num_files):\n",
        "  Rpks = dataupblr_filt[patient][Rpks]\n",
        "  for idx, k in enumerate(Rpks):\n",
        "    if (k-wnw10_smp)>0:\n",
        "      Rpks_tr10.append(k)\n",
        "Rpks_tr10 = np.vstack(Rpks_tr10)"
      ],
      "metadata": {
        "id": "9vKEs2DRN_t4"
      },
      "execution_count": null,
      "outputs": []
    },
    {
      "cell_type": "code",
      "source": [
        "rpks = data_up[0][2]\n",
        "rpks_tr = []\n",
        "for idx, k in enumerate(rpks[0:(len(rpks)-40)]):\n",
        "  if (k-wnw1_smp)>0:\n",
        "    rpks_tr.append(k)\n",
        "rpks_tr = np.vstack(rpks_tr)"
      ],
      "metadata": {
        "id": "vuOmlmV5dcgh"
      },
      "execution_count": null,
      "outputs": []
    },
    {
      "cell_type": "code",
      "source": [
        "# 1 min windows preceding the current beat\n",
        "temp = []\n",
        "rpks_wnw = []\n",
        "for idx, i in enumerate(rpks_tr):\n",
        "  temp = []\n",
        "  for idx, k in enumerate(rpks):\n",
        "    if k>(i-wnw1_smp) and k<i:\n",
        "      temp.append(k)\n",
        "  temp = np.vstack(temp)\n",
        "  lst = copy.deepcopy(temp)\n",
        "  rpks_wnw.insert(idx, lst)\n",
        "\n",
        "rpkswnw_t = []\n",
        "for idx, i in enumerate(rpks_wnw):\n",
        "  temp = []\n",
        "  for idx, k in enumerate(i[:-1]):\n",
        "    pdt = k*deltafs_250\n",
        "    temp.append(pdt)\n",
        "  temp = np.vstack(temp)\n",
        "  lst = copy.deepcopy(temp)\n",
        "  rpkswnw_t.insert(idx, lst)\n",
        "\n",
        "HRV_wnw1 = []\n",
        "row = []\n",
        "count = 0\n",
        "for idx, i in enumerate(rpkswnw_t):\n",
        "  RRs = [j-i for i, j in zip(np.array(i[:-1]), np.array(i[1:]))]\n",
        "  RRs = np.vstack(RRs)\n",
        "  RRs_mean = np.mean(RRs)\n",
        "  RRs_std = np.std(RRs)\n",
        "  RMSSD = pyhrv.time_domain.rmssd(RRs, rpks*deltafs_250) \n",
        "  dRRs = [j-i for i, j in zip(np.array(RRs[:-1]), np.array(RRs[1:]))]\n",
        "  dRRs = np.vstack(dRRs)\n",
        "  dRRs_mean = np.mean(dRRs)\n",
        "  dRRs_std = np.std(dRRs)\n",
        "  pNN10 = sum([i>0.01 for i in dRRs])*100/len(dRRs)\n",
        "  pNN20 = sum([i>0.02 for i in dRRs])*100/len(dRRs)\n",
        "  pNN30 = sum([i>0.03 for i in dRRs])*100/len(dRRs)\n",
        "  pNN40 = sum([i>0.04 for i in dRRs])*100/len(dRRs)\n",
        "  pNN50 = sum([i>0.05 for i in dRRs])*100/len(dRRs)\n",
        "  row = [ rpks_tr[count], round(RRs_mean, 2) , round(RRs_std, 3), round(RMSSD[0], 2), round(dRRs_mean, 5), round(dRRs_std, 4), np.round(pNN10, 2), np.round(pNN20, 2), np.round(pNN30, 2), np.round(pNN40, 2), np.round(pNN50, 2)]\n",
        "  HRV_wnw1.append(row)\n",
        "  count = count+1\n",
        "HRVwnw1_df = pd.DataFrame(HRV_wnw1, columns =['R peak Loc', 'RRs_mean', 'RRs_std', 'RMSSD', 'dRRs_mean', 'dRRs_std', 'pNN10', 'pNN20', 'pNN30', 'pNN40', 'pNN50'])\n",
        "HRVwnw1_df"
      ],
      "metadata": {
        "id": "FuEGKzy8XA5K",
        "colab": {
          "base_uri": "https://localhost:8080/",
          "height": 424
        },
        "outputId": "f37f79bc-e8c5-4d44-fda9-6397cb6f2ab2"
      },
      "execution_count": null,
      "outputs": [
        {
          "output_type": "execute_result",
          "data": {
            "text/html": [
              "\n",
              "  <div id=\"df-fb968f29-5c9b-46ac-9464-a2eaaf339030\">\n",
              "    <div class=\"colab-df-container\">\n",
              "      <div>\n",
              "<style scoped>\n",
              "    .dataframe tbody tr th:only-of-type {\n",
              "        vertical-align: middle;\n",
              "    }\n",
              "\n",
              "    .dataframe tbody tr th {\n",
              "        vertical-align: top;\n",
              "    }\n",
              "\n",
              "    .dataframe thead th {\n",
              "        text-align: right;\n",
              "    }\n",
              "</style>\n",
              "<table border=\"1\" class=\"dataframe\">\n",
              "  <thead>\n",
              "    <tr style=\"text-align: right;\">\n",
              "      <th></th>\n",
              "      <th>R peak Loc</th>\n",
              "      <th>RRs_mean</th>\n",
              "      <th>RRs_std</th>\n",
              "      <th>RMSSD</th>\n",
              "      <th>dRRs_mean</th>\n",
              "      <th>dRRs_std</th>\n",
              "      <th>pNN10</th>\n",
              "      <th>pNN20</th>\n",
              "      <th>pNN30</th>\n",
              "      <th>pNN40</th>\n",
              "      <th>pNN50</th>\n",
              "    </tr>\n",
              "  </thead>\n",
              "  <tbody>\n",
              "    <tr>\n",
              "      <th>0</th>\n",
              "      <td>[15100]</td>\n",
              "      <td>0.39</td>\n",
              "      <td>0.047</td>\n",
              "      <td>83.82</td>\n",
              "      <td>0.00048</td>\n",
              "      <td>0.0838</td>\n",
              "      <td>[50.0]</td>\n",
              "      <td>[50.0]</td>\n",
              "      <td>[50.0]</td>\n",
              "      <td>[50.0]</td>\n",
              "      <td>[50.0]</td>\n",
              "    </tr>\n",
              "    <tr>\n",
              "      <th>1</th>\n",
              "      <td>[15191]</td>\n",
              "      <td>0.39</td>\n",
              "      <td>0.047</td>\n",
              "      <td>83.81</td>\n",
              "      <td>-0.00051</td>\n",
              "      <td>0.0838</td>\n",
              "      <td>[49.33]</td>\n",
              "      <td>[49.33]</td>\n",
              "      <td>[49.33]</td>\n",
              "      <td>[49.33]</td>\n",
              "      <td>[49.33]</td>\n",
              "    </tr>\n",
              "    <tr>\n",
              "      <th>2</th>\n",
              "      <td>[15301]</td>\n",
              "      <td>0.39</td>\n",
              "      <td>0.047</td>\n",
              "      <td>83.74</td>\n",
              "      <td>0.00053</td>\n",
              "      <td>0.0837</td>\n",
              "      <td>[50.0]</td>\n",
              "      <td>[50.0]</td>\n",
              "      <td>[50.0]</td>\n",
              "      <td>[50.0]</td>\n",
              "      <td>[50.0]</td>\n",
              "    </tr>\n",
              "    <tr>\n",
              "      <th>3</th>\n",
              "      <td>[15390]</td>\n",
              "      <td>0.39</td>\n",
              "      <td>0.047</td>\n",
              "      <td>83.69</td>\n",
              "      <td>-0.00043</td>\n",
              "      <td>0.0837</td>\n",
              "      <td>[49.33]</td>\n",
              "      <td>[49.33]</td>\n",
              "      <td>[49.33]</td>\n",
              "      <td>[49.33]</td>\n",
              "      <td>[49.33]</td>\n",
              "    </tr>\n",
              "    <tr>\n",
              "      <th>4</th>\n",
              "      <td>[15497]</td>\n",
              "      <td>0.39</td>\n",
              "      <td>0.047</td>\n",
              "      <td>83.70</td>\n",
              "      <td>0.00056</td>\n",
              "      <td>0.0837</td>\n",
              "      <td>[50.0]</td>\n",
              "      <td>[50.0]</td>\n",
              "      <td>[50.0]</td>\n",
              "      <td>[50.0]</td>\n",
              "      <td>[50.0]</td>\n",
              "    </tr>\n",
              "    <tr>\n",
              "      <th>...</th>\n",
              "      <td>...</td>\n",
              "      <td>...</td>\n",
              "      <td>...</td>\n",
              "      <td>...</td>\n",
              "      <td>...</td>\n",
              "      <td>...</td>\n",
              "      <td>...</td>\n",
              "      <td>...</td>\n",
              "      <td>...</td>\n",
              "      <td>...</td>\n",
              "      <td>...</td>\n",
              "    </tr>\n",
              "    <tr>\n",
              "      <th>2136</th>\n",
              "      <td>[226303]</td>\n",
              "      <td>0.40</td>\n",
              "      <td>0.032</td>\n",
              "      <td>63.62</td>\n",
              "      <td>0.00051</td>\n",
              "      <td>0.0635</td>\n",
              "      <td>[50.0]</td>\n",
              "      <td>[50.0]</td>\n",
              "      <td>[50.0]</td>\n",
              "      <td>[50.0]</td>\n",
              "      <td>[45.95]</td>\n",
              "    </tr>\n",
              "    <tr>\n",
              "      <th>2137</th>\n",
              "      <td>[226396]</td>\n",
              "      <td>0.40</td>\n",
              "      <td>0.032</td>\n",
              "      <td>63.74</td>\n",
              "      <td>-0.00051</td>\n",
              "      <td>0.0636</td>\n",
              "      <td>[49.32]</td>\n",
              "      <td>[49.32]</td>\n",
              "      <td>[49.32]</td>\n",
              "      <td>[49.32]</td>\n",
              "      <td>[45.27]</td>\n",
              "    </tr>\n",
              "    <tr>\n",
              "      <th>2138</th>\n",
              "      <td>[226487]</td>\n",
              "      <td>0.40</td>\n",
              "      <td>0.032</td>\n",
              "      <td>63.82</td>\n",
              "      <td>0.00043</td>\n",
              "      <td>0.0637</td>\n",
              "      <td>[50.0]</td>\n",
              "      <td>[50.0]</td>\n",
              "      <td>[50.0]</td>\n",
              "      <td>[50.0]</td>\n",
              "      <td>[45.95]</td>\n",
              "    </tr>\n",
              "    <tr>\n",
              "      <th>2139</th>\n",
              "      <td>[226577]</td>\n",
              "      <td>0.40</td>\n",
              "      <td>0.032</td>\n",
              "      <td>63.89</td>\n",
              "      <td>-0.00041</td>\n",
              "      <td>0.0638</td>\n",
              "      <td>[49.32]</td>\n",
              "      <td>[49.32]</td>\n",
              "      <td>[49.32]</td>\n",
              "      <td>[49.32]</td>\n",
              "      <td>[45.27]</td>\n",
              "    </tr>\n",
              "    <tr>\n",
              "      <th>2140</th>\n",
              "      <td>[226670]</td>\n",
              "      <td>0.40</td>\n",
              "      <td>0.032</td>\n",
              "      <td>64.00</td>\n",
              "      <td>0.00046</td>\n",
              "      <td>0.0639</td>\n",
              "      <td>[50.0]</td>\n",
              "      <td>[50.0]</td>\n",
              "      <td>[50.0]</td>\n",
              "      <td>[50.0]</td>\n",
              "      <td>[45.95]</td>\n",
              "    </tr>\n",
              "  </tbody>\n",
              "</table>\n",
              "<p>2141 rows × 11 columns</p>\n",
              "</div>\n",
              "      <button class=\"colab-df-convert\" onclick=\"convertToInteractive('df-fb968f29-5c9b-46ac-9464-a2eaaf339030')\"\n",
              "              title=\"Convert this dataframe to an interactive table.\"\n",
              "              style=\"display:none;\">\n",
              "        \n",
              "  <svg xmlns=\"http://www.w3.org/2000/svg\" height=\"24px\"viewBox=\"0 0 24 24\"\n",
              "       width=\"24px\">\n",
              "    <path d=\"M0 0h24v24H0V0z\" fill=\"none\"/>\n",
              "    <path d=\"M18.56 5.44l.94 2.06.94-2.06 2.06-.94-2.06-.94-.94-2.06-.94 2.06-2.06.94zm-11 1L8.5 8.5l.94-2.06 2.06-.94-2.06-.94L8.5 2.5l-.94 2.06-2.06.94zm10 10l.94 2.06.94-2.06 2.06-.94-2.06-.94-.94-2.06-.94 2.06-2.06.94z\"/><path d=\"M17.41 7.96l-1.37-1.37c-.4-.4-.92-.59-1.43-.59-.52 0-1.04.2-1.43.59L10.3 9.45l-7.72 7.72c-.78.78-.78 2.05 0 2.83L4 21.41c.39.39.9.59 1.41.59.51 0 1.02-.2 1.41-.59l7.78-7.78 2.81-2.81c.8-.78.8-2.07 0-2.86zM5.41 20L4 18.59l7.72-7.72 1.47 1.35L5.41 20z\"/>\n",
              "  </svg>\n",
              "      </button>\n",
              "      \n",
              "  <style>\n",
              "    .colab-df-container {\n",
              "      display:flex;\n",
              "      flex-wrap:wrap;\n",
              "      gap: 12px;\n",
              "    }\n",
              "\n",
              "    .colab-df-convert {\n",
              "      background-color: #E8F0FE;\n",
              "      border: none;\n",
              "      border-radius: 50%;\n",
              "      cursor: pointer;\n",
              "      display: none;\n",
              "      fill: #1967D2;\n",
              "      height: 32px;\n",
              "      padding: 0 0 0 0;\n",
              "      width: 32px;\n",
              "    }\n",
              "\n",
              "    .colab-df-convert:hover {\n",
              "      background-color: #E2EBFA;\n",
              "      box-shadow: 0px 1px 2px rgba(60, 64, 67, 0.3), 0px 1px 3px 1px rgba(60, 64, 67, 0.15);\n",
              "      fill: #174EA6;\n",
              "    }\n",
              "\n",
              "    [theme=dark] .colab-df-convert {\n",
              "      background-color: #3B4455;\n",
              "      fill: #D2E3FC;\n",
              "    }\n",
              "\n",
              "    [theme=dark] .colab-df-convert:hover {\n",
              "      background-color: #434B5C;\n",
              "      box-shadow: 0px 1px 3px 1px rgba(0, 0, 0, 0.15);\n",
              "      filter: drop-shadow(0px 1px 2px rgba(0, 0, 0, 0.3));\n",
              "      fill: #FFFFFF;\n",
              "    }\n",
              "  </style>\n",
              "\n",
              "      <script>\n",
              "        const buttonEl =\n",
              "          document.querySelector('#df-fb968f29-5c9b-46ac-9464-a2eaaf339030 button.colab-df-convert');\n",
              "        buttonEl.style.display =\n",
              "          google.colab.kernel.accessAllowed ? 'block' : 'none';\n",
              "\n",
              "        async function convertToInteractive(key) {\n",
              "          const element = document.querySelector('#df-fb968f29-5c9b-46ac-9464-a2eaaf339030');\n",
              "          const dataTable =\n",
              "            await google.colab.kernel.invokeFunction('convertToInteractive',\n",
              "                                                     [key], {});\n",
              "          if (!dataTable) return;\n",
              "\n",
              "          const docLinkHtml = 'Like what you see? Visit the ' +\n",
              "            '<a target=\"_blank\" href=https://colab.research.google.com/notebooks/data_table.ipynb>data table notebook</a>'\n",
              "            + ' to learn more about interactive tables.';\n",
              "          element.innerHTML = '';\n",
              "          dataTable['output_type'] = 'display_data';\n",
              "          await google.colab.output.renderOutput(dataTable, element);\n",
              "          const docLink = document.createElement('div');\n",
              "          docLink.innerHTML = docLinkHtml;\n",
              "          element.appendChild(docLink);\n",
              "        }\n",
              "      </script>\n",
              "    </div>\n",
              "  </div>\n",
              "  "
            ],
            "text/plain": [
              "     R peak Loc  RRs_mean  RRs_std  RMSSD  ...    pNN20    pNN30    pNN40    pNN50\n",
              "0       [15100]      0.39    0.047  83.82  ...   [50.0]   [50.0]   [50.0]   [50.0]\n",
              "1       [15191]      0.39    0.047  83.81  ...  [49.33]  [49.33]  [49.33]  [49.33]\n",
              "2       [15301]      0.39    0.047  83.74  ...   [50.0]   [50.0]   [50.0]   [50.0]\n",
              "3       [15390]      0.39    0.047  83.69  ...  [49.33]  [49.33]  [49.33]  [49.33]\n",
              "4       [15497]      0.39    0.047  83.70  ...   [50.0]   [50.0]   [50.0]   [50.0]\n",
              "...         ...       ...      ...    ...  ...      ...      ...      ...      ...\n",
              "2136   [226303]      0.40    0.032  63.62  ...   [50.0]   [50.0]   [50.0]  [45.95]\n",
              "2137   [226396]      0.40    0.032  63.74  ...  [49.32]  [49.32]  [49.32]  [45.27]\n",
              "2138   [226487]      0.40    0.032  63.82  ...   [50.0]   [50.0]   [50.0]  [45.95]\n",
              "2139   [226577]      0.40    0.032  63.89  ...  [49.32]  [49.32]  [49.32]  [45.27]\n",
              "2140   [226670]      0.40    0.032  64.00  ...   [50.0]   [50.0]   [50.0]  [45.95]\n",
              "\n",
              "[2141 rows x 11 columns]"
            ]
          },
          "metadata": {},
          "execution_count": 71
        }
      ]
    },
    {
      "cell_type": "markdown",
      "source": [
        "###MORPHOLOGICAL FEATURES"
      ],
      "metadata": {
        "id": "-qX77wZ1OphA"
      }
    },
    {
      "cell_type": "code",
      "source": [
        "#Example for only one signal\n",
        "rpks = data_up[0][2]\n",
        "rpks_tr = []\n",
        "for idx, k in enumerate(rpks[1:(len(rpks)-40)]):\n",
        "  rpks_tr.append(k)\n",
        "rpks_tr = np.vstack(rpks_tr)"
      ],
      "metadata": {
        "id": "7A8Sk6N8cOm0"
      },
      "execution_count": null,
      "outputs": []
    },
    {
      "cell_type": "code",
      "source": [
        "def extractor(wnwst_smp, wnwend_smp):\n",
        "  wnwst_smp = round(wnwst_t*fs_250)\n",
        "  wnwend_smp = round(wnwend_t*fs_250)\n",
        "  extractions = []\n",
        "  count = 0\n",
        "  for idx, i in enumerate(rpks_tr): \n",
        "    rpk_t = i*deltafs_250\n",
        "    wnw = range(int(i)-wnwst_smp, int(i)+wnwend_smp)\n",
        "    time = np.linspace((rpk_t-wnwst_t), (rpk_t+wnwend_t), len(ECGblr_filt[wnw]), endpoint=True)\n",
        "    row = [ i, time, ECGblr_filt[wnw] ]\n",
        "    extractions.append(row)\n",
        "    count = count+1\n",
        "  return extractions"
      ],
      "metadata": {
        "id": "fR2N8_XVnuHM"
      },
      "execution_count": null,
      "outputs": []
    },
    {
      "cell_type": "markdown",
      "source": [
        "####Whole Beat"
      ],
      "metadata": {
        "id": "XB_WX1lUmSVg"
      }
    },
    {
      "cell_type": "code",
      "source": [
        "wnwst_t = 0.3 \n",
        "wnwend_t = 0.25\n",
        "beats = extractor(wnwst_t, wnwend_t)\n",
        "n_beat = 3\n",
        "plot(beats[n_beat][2])\n",
        "xlabel('Time (s)')\n",
        "ylabel('Amplitude (V)')\n",
        "show()"
      ],
      "metadata": {
        "colab": {
          "base_uri": "https://localhost:8080/",
          "height": 279
        },
        "id": "VcrpBcRjcdwQ",
        "outputId": "b2a6e686-6a60-4a74-8465-31f8a42f699f"
      },
      "execution_count": null,
      "outputs": [
        {
          "output_type": "display_data",
          "data": {
            "image/png": "[encoded data removed]",
            "text/plain": [
              "<Figure size 432x288 with 1 Axes>"
            ]
          },
          "metadata": {
            "needs_background": "light"
          }
        }
      ]
    },
    {
      "cell_type": "markdown",
      "source": [
        "####P wave"
      ],
      "metadata": {
        "id": "6RoheGGdmgf2"
      }
    },
    {
      "cell_type": "code",
      "source": [
        "wnwst_t = 0.3 \n",
        "wnwend_t = 0.04\n",
        "wnwst_smp = round(wnwst_t*fs_250)\n",
        "wnwend_smp = round(wnwend_t*fs_250)\n",
        "Pwaves = extractor(wnwst_smp, wnwend_smp)\n",
        "plot(Pwaves[0][1], Pwaves[0][2])\n",
        "show()"
      ],
      "metadata": {
        "id": "dSNQI75kmide",
        "colab": {
          "base_uri": "https://localhost:8080/",
          "height": 267
        },
        "outputId": "9d9e9f00-31f8-4c61-c6c5-da5820557fec"
      },
      "execution_count": null,
      "outputs": [
        {
          "output_type": "display_data",
          "data": {
            "image/png": "[encoded data removed]",
            "text/plain": [
              "<Figure size 432x288 with 1 Axes>"
            ]
          },
          "metadata": {
            "needs_background": "light"
          }
        }
      ]
    },
    {
      "cell_type": "markdown",
      "source": [
        "####QRS complex"
      ],
      "metadata": {
        "id": "byALGX0em_vH"
      }
    },
    {
      "cell_type": "code",
      "source": [
        "wnwst_t = 0.07 \n",
        "wnwend_t = 0.06\n",
        "wnwst_smp = round(wnwst_t*fs_250)\n",
        "wnwend_smp = round(wnwend_t*fs_250)\n",
        "QRSs = extractor(wnwst_smp, wnwend_smp)\n",
        "plot(QRSs[0][1], QRSs[0][2])\n",
        "show()"
      ],
      "metadata": {
        "id": "WFCFnMVJnOjk",
        "colab": {
          "base_uri": "https://localhost:8080/",
          "height": 267
        },
        "outputId": "bd97b3c8-22c8-45e7-a7ac-9f8322ceb0c0"
      },
      "execution_count": null,
      "outputs": [
        {
          "output_type": "display_data",
          "data": {
            "image/png": "[encoded data removed]",
            "text/plain": [
              "<Figure size 432x288 with 1 Axes>"
            ]
          },
          "metadata": {
            "needs_background": "light"
          }
        }
      ]
    },
    {
      "cell_type": "markdown",
      "source": [
        "####PR interval"
      ],
      "metadata": {
        "id": "ZN5kRzKRo-Dt"
      }
    },
    {
      "cell_type": "code",
      "source": [
        "wnwst_t = 0.288 \n",
        "wnwend_t = 0\n",
        "wnwst_smp = round(wnwst_t*fs_250)\n",
        "wnwend_smp = round(wnwend_t*fs_250)\n",
        "PRs = extractor(wnwst_smp, wnwend_smp)\n",
        "plot(PRs[0][1], PRs[0][2])\n",
        "show()"
      ],
      "metadata": {
        "colab": {
          "base_uri": "https://localhost:8080/",
          "height": 267
        },
        "id": "l4-GYVy0pE-E",
        "outputId": "580d9b31-8b17-4b7b-b757-4cf3c1903de8"
      },
      "execution_count": null,
      "outputs": [
        {
          "output_type": "display_data",
          "data": {
            "image/png": "[encoded data removed]",
            "text/plain": [
              "<Figure size 432x288 with 1 Axes>"
            ]
          },
          "metadata": {
            "needs_background": "light"
          }
        }
      ]
    },
    {
      "cell_type": "code",
      "source": [
        "def template(n_prior, n_post):\n",
        "  tplt = []\n",
        "  count = 0\n",
        "  for idx, i in enumerate(beats):\n",
        "    if idx>n_prior and idx<(len(beats)-n_post):\n",
        "      row = [ beats[idx][0], beats[(idx-n_prior):(idx+n_post)]]\n",
        "      tplt.append(row)\n",
        "  return tplt"
      ],
      "metadata": {
        "id": "6VjxD-jeslrF"
      },
      "execution_count": null,
      "outputs": []
    },
    {
      "cell_type": "code",
      "source": [
        "tplt_80 = template(40,40)\n",
        "tplt_20 = template(10,10)\n",
        "tplt_4 = template(2,2)"
      ],
      "metadata": {
        "id": "t0i4B1_c1Vqs"
      },
      "execution_count": null,
      "outputs": []
    },
    {
      "cell_type": "code",
      "source": [
        "n_beat1 = 42\n",
        "n_beat2 = 1\n",
        "plt.plot(beats[n_beat1][2])\n",
        "for target in [beats[n_beat2]]:\n",
        "    time = np.arange(0, 137, 1)\n",
        "    dx = np.mean(np.diff(time))\n",
        "    shift = (np.argmax(signal.correlate(beats[n_beat1][2], target[2])) - len(target[2])) * dx\n",
        "    plt.plot(time+shift, target[2])\n",
        "shift"
      ],
      "metadata": {
        "colab": {
          "base_uri": "https://localhost:8080/",
          "height": 284
        },
        "id": "Kiudd7M8DQU9",
        "outputId": "6d2b6b99-0682-47ed-a913-865eaf84f33c"
      },
      "execution_count": null,
      "outputs": [
        {
          "output_type": "execute_result",
          "data": {
            "text/plain": [
              "-57.0"
            ]
          },
          "metadata": {},
          "execution_count": 90
        },
        {
          "output_type": "display_data",
          "data": {
            "image/png": "[encoded data removed]",
            "text/plain": [
              "<Figure size 432x288 with 1 Axes>"
            ]
          },
          "metadata": {
            "needs_background": "light"
          }
        }
      ]
    },
    {
      "cell_type": "code",
      "source": [
        "count = 0\n",
        "nbeat_smp = []\n",
        "temp = []\n",
        "lst1 = []\n",
        "lst2 = []\n",
        "row = []\n",
        "corr_80 = []\n",
        "for nbeat_smp, beats80 in tplt_80:\n",
        "  for nbeatsmp, t, ecg in beats:\n",
        "    while (nbeat_smp != beats[count][0]):\n",
        "      count = count+1\n",
        "  beat_ecg = beats[count][2]\n",
        "  nbeat_smp = []\n",
        "  temp = []\n",
        "  for k in range(len(tplt_80[0][1])):\n",
        "    max = (np.argmax(signal.correlate(beat_ecg, tplt_80[0][1][k][2])) - len(tplt_80[0][1][k][2]))\n",
        "    nbeat_smp.append(tplt_80[0][1][k][0])\n",
        "    temp.append(max)\n",
        "  nbeat_smp = np.vstack(nbeat_smp)\n",
        "  temp = np.vstack(temp)\n",
        "  lst1 = copy.deepcopy(nbeat_smp)\n",
        "  lst2 = copy.deepcopy(temp)\n",
        "  row = [ beats[count][0], lst1, lst2 ]\n",
        "  corr_80.append(row)"
      ],
      "metadata": {
        "id": "xvGn4JvG5uvo"
      },
      "execution_count": null,
      "outputs": []
    },
    {
      "cell_type": "code",
      "source": [
        "corr_80[0]"
      ],
      "metadata": {
        "colab": {
          "base_uri": "https://localhost:8080/"
        },
        "id": "7lMDRHpNyBJi",
        "outputId": "97240b70-ff0c-4c63-c0e2-18ac065ffb27"
      },
      "execution_count": null,
      "outputs": [
        {
          "output_type": "execute_result",
          "data": {
            "text/plain": [
              "[array([4156], dtype=int32), array([[ 243],\n",
              "        [ 352],\n",
              "        [ 440],\n",
              "        [ 547],\n",
              "        [ 636],\n",
              "        [ 742],\n",
              "        [ 831],\n",
              "        [ 937],\n",
              "        [1028],\n",
              "        [1136],\n",
              "        [1225],\n",
              "        [1331],\n",
              "        [1420],\n",
              "        [1525],\n",
              "        [1614],\n",
              "        [1721],\n",
              "        [1811],\n",
              "        [1919],\n",
              "        [2008],\n",
              "        [2115],\n",
              "        [2203],\n",
              "        [2309],\n",
              "        [2398],\n",
              "        [2504],\n",
              "        [2594],\n",
              "        [2702],\n",
              "        [2790],\n",
              "        [2897],\n",
              "        [2985],\n",
              "        [3090],\n",
              "        [3179],\n",
              "        [3285],\n",
              "        [3374],\n",
              "        [3482],\n",
              "        [3571],\n",
              "        [3677],\n",
              "        [3765],\n",
              "        [3871],\n",
              "        [3960],\n",
              "        [4065],\n",
              "        [4156],\n",
              "        [4264],\n",
              "        [4352],\n",
              "        [4457],\n",
              "        [4546],\n",
              "        [4652],\n",
              "        [4742],\n",
              "        [4848],\n",
              "        [4938],\n",
              "        [4942],\n",
              "        [5046],\n",
              "        [5135],\n",
              "        [5242],\n",
              "        [5331],\n",
              "        [5437],\n",
              "        [5528],\n",
              "        [5635],\n",
              "        [5725],\n",
              "        [5834],\n",
              "        [5925],\n",
              "        [6033],\n",
              "        [6121],\n",
              "        [6229],\n",
              "        [6317],\n",
              "        [6424],\n",
              "        [6515],\n",
              "        [6624],\n",
              "        [6714],\n",
              "        [6822],\n",
              "        [6911],\n",
              "        [7018],\n",
              "        [7106],\n",
              "        [7214],\n",
              "        [7303],\n",
              "        [7411],\n",
              "        [7501],\n",
              "        [7608],\n",
              "        [7696],\n",
              "        [7802],\n",
              "        [7891]], dtype=int32), array([[-106],\n",
              "        [   2],\n",
              "        [ -68],\n",
              "        [  38],\n",
              "        [ -29],\n",
              "        [ -81],\n",
              "        [   8],\n",
              "        [ -44],\n",
              "        [-108],\n",
              "        [  -2],\n",
              "        [ -72],\n",
              "        [  34],\n",
              "        [ -36],\n",
              "        [ -90],\n",
              "        [  -1],\n",
              "        [ -52],\n",
              "        [  35],\n",
              "        [ -12],\n",
              "        [ -83],\n",
              "        [  24],\n",
              "        [ -46],\n",
              "        [ -99],\n",
              "        [ -10],\n",
              "        [ -63],\n",
              "        [  25],\n",
              "        [ -23],\n",
              "        [ -45],\n",
              "        [  50],\n",
              "        [ -55],\n",
              "        [ -30],\n",
              "        [  -1],\n",
              "        [ -71],\n",
              "        [  18],\n",
              "        [ -13],\n",
              "        [-105],\n",
              "        [   1],\n",
              "        [ -73],\n",
              "        [  33],\n",
              "        [ -37],\n",
              "        [ -92],\n",
              "        [  -1],\n",
              "        [ -51],\n",
              "        [ -85],\n",
              "        [ -16],\n",
              "        [ -86],\n",
              "        [  20],\n",
              "        [ -48],\n",
              "        [ -98],\n",
              "        [  -8],\n",
              "        [  -4],\n",
              "        [ -56],\n",
              "        [  34],\n",
              "        [ -17],\n",
              "        [ -85],\n",
              "        [  21],\n",
              "        [ -43],\n",
              "        [ -91],\n",
              "        [  -1],\n",
              "        [ -48],\n",
              "        [-109],\n",
              "        [  -4],\n",
              "        [ -71],\n",
              "        [ -81],\n",
              "        [ -29],\n",
              "        [ -78],\n",
              "        [  13],\n",
              "        [ -34],\n",
              "        [-100],\n",
              "        [   8],\n",
              "        [ -59],\n",
              "        [-107],\n",
              "        [ -20],\n",
              "        [ -67],\n",
              "        [  22],\n",
              "        [ -25],\n",
              "        [ -91],\n",
              "        [  16],\n",
              "        [ -51],\n",
              "        [ -99],\n",
              "        [ -10]])]"
            ]
          },
          "metadata": {},
          "execution_count": 92
        }
      ]
    },
    {
      "cell_type": "code",
      "source": [
        "corr_80[0][1]"
      ],
      "metadata": {
        "id": "phUEFF0Vxr2i"
      },
      "execution_count": null,
      "outputs": []
    },
    {
      "cell_type": "code",
      "source": [
        "import pandas as pd\n",
        "from scipy import stats\n",
        "\n",
        "df=pd.DataFrame({'nbeat_smp':np.ndarray.tolist(corr_80[0][1]), 'max_corr':np.ndarray.tolist(corr_80[0][2])})\n",
        "df['z_score']=stats.zscore(np.ndarray.tolist(corr_80[0][2]))"
      ],
      "metadata": {
        "id": "WvX9DDPlrxR5"
      },
      "execution_count": null,
      "outputs": []
    },
    {
      "cell_type": "code",
      "source": [
        "df_out = df.loc[df['z_score'].abs()<=0.5]\n",
        "df_out"
      ],
      "metadata": {
        "colab": {
          "base_uri": "https://localhost:8080/",
          "height": 739
        },
        "id": "-Zxl-GH-tM9b",
        "outputId": "b7c4d1da-e8eb-41b6-d528-ff85215f204a"
      },
      "execution_count": null,
      "outputs": [
        {
          "output_type": "execute_result",
          "data": {
            "text/html": [
              "\n",
              "  <div id=\"df-ea555b82-acff-4dc9-8b24-0df09d9aaa97\">\n",
              "    <div class=\"colab-df-container\">\n",
              "      <div>\n",
              "<style scoped>\n",
              "    .dataframe tbody tr th:only-of-type {\n",
              "        vertical-align: middle;\n",
              "    }\n",
              "\n",
              "    .dataframe tbody tr th {\n",
              "        vertical-align: top;\n",
              "    }\n",
              "\n",
              "    .dataframe thead th {\n",
              "        text-align: right;\n",
              "    }\n",
              "</style>\n",
              "<table border=\"1\" class=\"dataframe\">\n",
              "  <thead>\n",
              "    <tr style=\"text-align: right;\">\n",
              "      <th></th>\n",
              "      <th>nbeat_smp</th>\n",
              "      <th>max_corr</th>\n",
              "      <th>z_score</th>\n",
              "    </tr>\n",
              "  </thead>\n",
              "  <tbody>\n",
              "    <tr>\n",
              "      <th>4</th>\n",
              "      <td>[636]</td>\n",
              "      <td>[-29]</td>\n",
              "      <td>0.169303</td>\n",
              "    </tr>\n",
              "    <tr>\n",
              "      <th>7</th>\n",
              "      <td>[937]</td>\n",
              "      <td>[-44]</td>\n",
              "      <td>-0.170435</td>\n",
              "    </tr>\n",
              "    <tr>\n",
              "      <th>12</th>\n",
              "      <td>[1420]</td>\n",
              "      <td>[-36]</td>\n",
              "      <td>0.010758</td>\n",
              "    </tr>\n",
              "    <tr>\n",
              "      <th>15</th>\n",
              "      <td>[1721]</td>\n",
              "      <td>[-52]</td>\n",
              "      <td>-0.351628</td>\n",
              "    </tr>\n",
              "    <tr>\n",
              "      <th>20</th>\n",
              "      <td>[2203]</td>\n",
              "      <td>[-46]</td>\n",
              "      <td>-0.215733</td>\n",
              "    </tr>\n",
              "    <tr>\n",
              "      <th>25</th>\n",
              "      <td>[2702]</td>\n",
              "      <td>[-23]</td>\n",
              "      <td>0.305198</td>\n",
              "    </tr>\n",
              "    <tr>\n",
              "      <th>26</th>\n",
              "      <td>[2790]</td>\n",
              "      <td>[-45]</td>\n",
              "      <td>-0.193084</td>\n",
              "    </tr>\n",
              "    <tr>\n",
              "      <th>28</th>\n",
              "      <td>[2985]</td>\n",
              "      <td>[-55]</td>\n",
              "      <td>-0.419576</td>\n",
              "    </tr>\n",
              "    <tr>\n",
              "      <th>29</th>\n",
              "      <td>[3090]</td>\n",
              "      <td>[-30]</td>\n",
              "      <td>0.146653</td>\n",
              "    </tr>\n",
              "    <tr>\n",
              "      <th>38</th>\n",
              "      <td>[3960]</td>\n",
              "      <td>[-37]</td>\n",
              "      <td>-0.011891</td>\n",
              "    </tr>\n",
              "    <tr>\n",
              "      <th>41</th>\n",
              "      <td>[4264]</td>\n",
              "      <td>[-51]</td>\n",
              "      <td>-0.328979</td>\n",
              "    </tr>\n",
              "    <tr>\n",
              "      <th>43</th>\n",
              "      <td>[4457]</td>\n",
              "      <td>[-16]</td>\n",
              "      <td>0.463742</td>\n",
              "    </tr>\n",
              "    <tr>\n",
              "      <th>46</th>\n",
              "      <td>[4742]</td>\n",
              "      <td>[-48]</td>\n",
              "      <td>-0.261032</td>\n",
              "    </tr>\n",
              "    <tr>\n",
              "      <th>50</th>\n",
              "      <td>[5046]</td>\n",
              "      <td>[-56]</td>\n",
              "      <td>-0.442225</td>\n",
              "    </tr>\n",
              "    <tr>\n",
              "      <th>52</th>\n",
              "      <td>[5242]</td>\n",
              "      <td>[-17]</td>\n",
              "      <td>0.441093</td>\n",
              "    </tr>\n",
              "    <tr>\n",
              "      <th>55</th>\n",
              "      <td>[5528]</td>\n",
              "      <td>[-43]</td>\n",
              "      <td>-0.147786</td>\n",
              "    </tr>\n",
              "    <tr>\n",
              "      <th>58</th>\n",
              "      <td>[5834]</td>\n",
              "      <td>[-48]</td>\n",
              "      <td>-0.261032</td>\n",
              "    </tr>\n",
              "    <tr>\n",
              "      <th>63</th>\n",
              "      <td>[6317]</td>\n",
              "      <td>[-29]</td>\n",
              "      <td>0.169303</td>\n",
              "    </tr>\n",
              "    <tr>\n",
              "      <th>66</th>\n",
              "      <td>[6624]</td>\n",
              "      <td>[-34]</td>\n",
              "      <td>0.056057</td>\n",
              "    </tr>\n",
              "    <tr>\n",
              "      <th>71</th>\n",
              "      <td>[7106]</td>\n",
              "      <td>[-20]</td>\n",
              "      <td>0.373145</td>\n",
              "    </tr>\n",
              "    <tr>\n",
              "      <th>74</th>\n",
              "      <td>[7411]</td>\n",
              "      <td>[-25]</td>\n",
              "      <td>0.259899</td>\n",
              "    </tr>\n",
              "    <tr>\n",
              "      <th>77</th>\n",
              "      <td>[7696]</td>\n",
              "      <td>[-51]</td>\n",
              "      <td>-0.328979</td>\n",
              "    </tr>\n",
              "  </tbody>\n",
              "</table>\n",
              "</div>\n",
              "      <button class=\"colab-df-convert\" onclick=\"convertToInteractive('df-ea555b82-acff-4dc9-8b24-0df09d9aaa97')\"\n",
              "              title=\"Convert this dataframe to an interactive table.\"\n",
              "              style=\"display:none;\">\n",
              "        \n",
              "  <svg xmlns=\"http://www.w3.org/2000/svg\" height=\"24px\"viewBox=\"0 0 24 24\"\n",
              "       width=\"24px\">\n",
              "    <path d=\"M0 0h24v24H0V0z\" fill=\"none\"/>\n",
              "    <path d=\"M18.56 5.44l.94 2.06.94-2.06 2.06-.94-2.06-.94-.94-2.06-.94 2.06-2.06.94zm-11 1L8.5 8.5l.94-2.06 2.06-.94-2.06-.94L8.5 2.5l-.94 2.06-2.06.94zm10 10l.94 2.06.94-2.06 2.06-.94-2.06-.94-.94-2.06-.94 2.06-2.06.94z\"/><path d=\"M17.41 7.96l-1.37-1.37c-.4-.4-.92-.59-1.43-.59-.52 0-1.04.2-1.43.59L10.3 9.45l-7.72 7.72c-.78.78-.78 2.05 0 2.83L4 21.41c.39.39.9.59 1.41.59.51 0 1.02-.2 1.41-.59l7.78-7.78 2.81-2.81c.8-.78.8-2.07 0-2.86zM5.41 20L4 18.59l7.72-7.72 1.47 1.35L5.41 20z\"/>\n",
              "  </svg>\n",
              "      </button>\n",
              "      \n",
              "  <style>\n",
              "    .colab-df-container {\n",
              "      display:flex;\n",
              "      flex-wrap:wrap;\n",
              "      gap: 12px;\n",
              "    }\n",
              "\n",
              "    .colab-df-convert {\n",
              "      background-color: #E8F0FE;\n",
              "      border: none;\n",
              "      border-radius: 50%;\n",
              "      cursor: pointer;\n",
              "      display: none;\n",
              "      fill: #1967D2;\n",
              "      height: 32px;\n",
              "      padding: 0 0 0 0;\n",
              "      width: 32px;\n",
              "    }\n",
              "\n",
              "    .colab-df-convert:hover {\n",
              "      background-color: #E2EBFA;\n",
              "      box-shadow: 0px 1px 2px rgba(60, 64, 67, 0.3), 0px 1px 3px 1px rgba(60, 64, 67, 0.15);\n",
              "      fill: #174EA6;\n",
              "    }\n",
              "\n",
              "    [theme=dark] .colab-df-convert {\n",
              "      background-color: #3B4455;\n",
              "      fill: #D2E3FC;\n",
              "    }\n",
              "\n",
              "    [theme=dark] .colab-df-convert:hover {\n",
              "      background-color: #434B5C;\n",
              "      box-shadow: 0px 1px 3px 1px rgba(0, 0, 0, 0.15);\n",
              "      filter: drop-shadow(0px 1px 2px rgba(0, 0, 0, 0.3));\n",
              "      fill: #FFFFFF;\n",
              "    }\n",
              "  </style>\n",
              "\n",
              "      <script>\n",
              "        const buttonEl =\n",
              "          document.querySelector('#df-ea555b82-acff-4dc9-8b24-0df09d9aaa97 button.colab-df-convert');\n",
              "        buttonEl.style.display =\n",
              "          google.colab.kernel.accessAllowed ? 'block' : 'none';\n",
              "\n",
              "        async function convertToInteractive(key) {\n",
              "          const element = document.querySelector('#df-ea555b82-acff-4dc9-8b24-0df09d9aaa97');\n",
              "          const dataTable =\n",
              "            await google.colab.kernel.invokeFunction('convertToInteractive',\n",
              "                                                     [key], {});\n",
              "          if (!dataTable) return;\n",
              "\n",
              "          const docLinkHtml = 'Like what you see? Visit the ' +\n",
              "            '<a target=\"_blank\" href=https://colab.research.google.com/notebooks/data_table.ipynb>data table notebook</a>'\n",
              "            + ' to learn more about interactive tables.';\n",
              "          element.innerHTML = '';\n",
              "          dataTable['output_type'] = 'display_data';\n",
              "          await google.colab.output.renderOutput(dataTable, element);\n",
              "          const docLink = document.createElement('div');\n",
              "          docLink.innerHTML = docLinkHtml;\n",
              "          element.appendChild(docLink);\n",
              "        }\n",
              "      </script>\n",
              "    </div>\n",
              "  </div>\n",
              "  "
            ],
            "text/plain": [
              "   nbeat_smp max_corr   z_score\n",
              "4      [636]    [-29]  0.169303\n",
              "7      [937]    [-44] -0.170435\n",
              "12    [1420]    [-36]  0.010758\n",
              "15    [1721]    [-52] -0.351628\n",
              "20    [2203]    [-46] -0.215733\n",
              "25    [2702]    [-23]  0.305198\n",
              "26    [2790]    [-45] -0.193084\n",
              "28    [2985]    [-55] -0.419576\n",
              "29    [3090]    [-30]  0.146653\n",
              "38    [3960]    [-37] -0.011891\n",
              "41    [4264]    [-51] -0.328979\n",
              "43    [4457]    [-16]  0.463742\n",
              "46    [4742]    [-48] -0.261032\n",
              "50    [5046]    [-56] -0.442225\n",
              "52    [5242]    [-17]  0.441093\n",
              "55    [5528]    [-43] -0.147786\n",
              "58    [5834]    [-48] -0.261032\n",
              "63    [6317]    [-29]  0.169303\n",
              "66    [6624]    [-34]  0.056057\n",
              "71    [7106]    [-20]  0.373145\n",
              "74    [7411]    [-25]  0.259899\n",
              "77    [7696]    [-51] -0.328979"
            ]
          },
          "metadata": {},
          "execution_count": 94
        }
      ]
    },
    {
      "cell_type": "code",
      "source": [
        "ecgtmp_80 = []\n",
        "for i in df_out['nbeat_smp']:\n",
        "  for k in range(len(tplt_80[0][1])):\n",
        "    if i[0] == tplt_80[0][1][k][0]:\n",
        "      ecgtmp_80.append(tplt_80[0][1][k][2])  "
      ],
      "metadata": {
        "id": "3RInwTcp3_OU"
      },
      "execution_count": null,
      "outputs": []
    },
    {
      "cell_type": "code",
      "source": [
        "plot(ecgtmp_80[0])"
      ],
      "metadata": {
        "colab": {
          "base_uri": "https://localhost:8080/",
          "height": 282
        },
        "id": "jh51ut-7DGjB",
        "outputId": "1fa35567-3df4-4580-a0a0-7138b914d2a8"
      },
      "execution_count": null,
      "outputs": [
        {
          "output_type": "execute_result",
          "data": {
            "text/plain": [
              "[<matplotlib.lines.Line2D at 0x7f21b8e28810>]"
            ]
          },
          "metadata": {},
          "execution_count": 96
        },
        {
          "output_type": "display_data",
          "data": {
            "image/png": "[encoded data removed]",
            "text/plain": [
              "<Figure size 432x288 with 1 Axes>"
            ]
          },
          "metadata": {
            "needs_background": "light"
          }
        }
      ]
    },
    {
      "cell_type": "code",
      "source": [
        "plot(ecgtmp_80[21])"
      ],
      "metadata": {
        "colab": {
          "base_uri": "https://localhost:8080/",
          "height": 283
        },
        "id": "S7J_G4NJDLct",
        "outputId": "519decca-5de3-4b42-ea34-a9b7c276fab0"
      },
      "execution_count": null,
      "outputs": [
        {
          "output_type": "execute_result",
          "data": {
            "text/plain": [
              "[<matplotlib.lines.Line2D at 0x7f21b7d943d0>]"
            ]
          },
          "metadata": {},
          "execution_count": 97
        },
        {
          "output_type": "display_data",
          "data": {
            "image/png": "[encoded data removed]",
            "text/plain": [
              "<Figure size 432x288 with 1 Axes>"
            ]
          },
          "metadata": {
            "needs_background": "light"
          }
        }
      ]
    },
    {
      "cell_type": "code",
      "source": [
        "sum = 0\n",
        "for i in ecgtmp_80:\n",
        "  sum = sum+np.array([i])"
      ],
      "metadata": {
        "id": "zWpjjTVjDu7v"
      },
      "execution_count": null,
      "outputs": []
    },
    {
      "cell_type": "code",
      "source": [
        "ecg_mean80 = np.vstack(sum[0])/len(np.vstack(sum[0]))\n",
        "plot(ecg_mean80)"
      ],
      "metadata": {
        "colab": {
          "base_uri": "https://localhost:8080/",
          "height": 282
        },
        "id": "1Aijuue4GYE1",
        "outputId": "24bc01d0-52b6-4115-dfa2-1095c0d97a60"
      },
      "execution_count": null,
      "outputs": [
        {
          "output_type": "execute_result",
          "data": {
            "text/plain": [
              "[<matplotlib.lines.Line2D at 0x7f21b7d03790>]"
            ]
          },
          "metadata": {},
          "execution_count": 99
        },
        {
          "output_type": "display_data",
          "data": {
            "image/png": "[encoded data removed]",
            "text/plain": [
              "<Figure size 432x288 with 1 Axes>"
            ]
          },
          "metadata": {
            "needs_background": "light"
          }
        }
      ]
    },
    {
      "cell_type": "code",
      "source": [
        "beats[41][0]"
      ],
      "metadata": {
        "id": "_JfCL8AlH1Vh"
      },
      "execution_count": null,
      "outputs": []
    },
    {
      "cell_type": "code",
      "source": [
        "ecg_mean80"
      ],
      "metadata": {
        "id": "-PKaxDWcJB4N"
      },
      "execution_count": null,
      "outputs": []
    },
    {
      "cell_type": "code",
      "source": [
        "beat_ecg"
      ],
      "metadata": {
        "id": "qLJT4p9OJyh5"
      },
      "execution_count": null,
      "outputs": []
    },
    {
      "cell_type": "code",
      "source": [
        "from scipy import signal\n",
        "beat_ecg = beats[41][2]\n",
        "max = (np.argmax(signal.correlate(np.vstack(beat_ecg), ecg_mean80)) - len(ecg_mean80))\n",
        "time = np.arange(0, 137, 1)\n",
        "dx = np.mean(np.diff(time))\n",
        "lag = max * dx\n",
        "md_std = stats.median_absolute_deviation(ecgtmp_80)"
      ],
      "metadata": {
        "id": "H_qlpsKNHre0"
      },
      "execution_count": null,
      "outputs": []
    }
  ]
}