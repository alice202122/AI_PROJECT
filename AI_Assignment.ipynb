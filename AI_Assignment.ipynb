{
  "nbformat": 4,
  "nbformat_minor": 0,
  "metadata": {
    "colab": {
      "name": "AI_Assignment.ipynb",
      "provenance": [],
      "collapsed_sections": [],
      "toc_visible": true,
      "include_colab_link": true
    },
    "kernelspec": {
      "name": "python3",
      "display_name": "Python 3"
    },
    "language_info": {
      "name": "python"
    }
  },
  "cells": [
    {
      "cell_type": "markdown",
      "metadata": {
        "id": "view-in-github",
        "colab_type": "text"
      },
      "source": [
        "<a href=\"https://colab.research.google.com/github/alice202122/AI_PROJECT/blob/main/AI_Assignment.ipynb\" target=\"_parent\"><img src=\"https://colab.research.google.com/assets/colab-badge.svg\" alt=\"Open In Colab\"/></a>"
      ]
    },
    {
      "cell_type": "markdown",
      "source": [
        "#CONNECTING TO DRIVE"
      ],
      "metadata": {
        "id": "nTF9KoI79End"
      }
    },
    {
      "cell_type": "code",
      "execution_count": null,
      "metadata": {
        "id": "jsgLshUKo59r"
      },
      "outputs": [],
      "source": [
        "from google.colab import drive\n",
        "drive.mount('/gdrive')"
      ]
    },
    {
      "cell_type": "code",
      "source": [
        "%cd /gdrive/MyDrive/AI_Assignment/training_set"
      ],
      "metadata": {
        "id": "zmGIM_ArpC26"
      },
      "execution_count": null,
      "outputs": []
    },
    {
      "cell_type": "code",
      "source": [
        "!unzip training_set.zip"
      ],
      "metadata": {
        "id": "TaL224mzpGZc"
      },
      "execution_count": null,
      "outputs": []
    },
    {
      "cell_type": "markdown",
      "source": [
        "# IMPORTING LIBRARIES"
      ],
      "metadata": {
        "id": "250u2yui8-ji"
      }
    },
    {
      "cell_type": "code",
      "source": [
        "from scipy.io import loadmat\n",
        "\n",
        "import numpy as np, os\n",
        "from numpy import array, matrix, multiply, arange, absolute\n",
        "\n",
        "from scipy import signal\n",
        "from scipy import stats\n",
        "from scipy.signal import lfilter, medfilt, resample, kaiserord, firwin, freqz, correlate\n",
        "\n",
        "import pandas as pd\n",
        "\n",
        "import ntpath\n",
        "\n",
        "import matplotlib.pyplot as plt\n",
        "from matplotlib import pylab as plt\n",
        " \n",
        "from pylab import figure, clf, plot, xlabel, ylabel, xlim, ylim, title, grid, axes, show, legend, axis\n",
        "\n",
        "import copy\n",
        "\n",
        "!pip install pyhrv\n",
        "import pyhrv\n",
        "import pyhrv.time_domain as td\n",
        "\n",
        "!pip install biosppy\n",
        "import biosppy\n",
        "from biosppy.signals import ecg, tools\n",
        "\n",
        "import math\n",
        "from math import pi"
      ],
      "metadata": {
        "id": "By6d8d8HqfdA",
        "colab": {
          "base_uri": "https://localhost:8080/"
        },
        "outputId": "709a1985-a018-4682-f3da-aac3a433b73f"
      },
      "execution_count": 249,
      "outputs": [
        {
          "output_type": "stream",
          "name": "stdout",
          "text": [
            "Requirement already satisfied: pyhrv in /usr/local/lib/python3.7/dist-packages (0.4.0)\n",
            "Requirement already satisfied: nolds in /usr/local/lib/python3.7/dist-packages (from pyhrv) (0.5.2)\n",
            "Requirement already satisfied: numpy in /usr/local/lib/python3.7/dist-packages (from pyhrv) (1.19.5)\n",
            "Requirement already satisfied: biosppy in /usr/local/lib/python3.7/dist-packages (from pyhrv) (0.8.0)\n",
            "Requirement already satisfied: spectrum in /usr/local/lib/python3.7/dist-packages (from pyhrv) (0.8.0)\n",
            "Requirement already satisfied: matplotlib in /usr/local/lib/python3.7/dist-packages (from pyhrv) (3.2.2)\n",
            "Requirement already satisfied: scipy in /usr/local/lib/python3.7/dist-packages (from pyhrv) (1.4.1)\n",
            "Requirement already satisfied: opencv-python in /usr/local/lib/python3.7/dist-packages (from biosppy->pyhrv) (4.1.2.30)\n",
            "Requirement already satisfied: h5py in /usr/local/lib/python3.7/dist-packages (from biosppy->pyhrv) (3.1.0)\n",
            "Requirement already satisfied: scikit-learn in /usr/local/lib/python3.7/dist-packages (from biosppy->pyhrv) (1.0.1)\n",
            "Requirement already satisfied: bidict in /usr/local/lib/python3.7/dist-packages (from biosppy->pyhrv) (0.21.4)\n",
            "Requirement already satisfied: shortuuid in /usr/local/lib/python3.7/dist-packages (from biosppy->pyhrv) (1.0.8)\n",
            "Requirement already satisfied: six in /usr/local/lib/python3.7/dist-packages (from biosppy->pyhrv) (1.15.0)\n",
            "Requirement already satisfied: joblib in /usr/local/lib/python3.7/dist-packages (from biosppy->pyhrv) (1.1.0)\n",
            "Requirement already satisfied: cached-property in /usr/local/lib/python3.7/dist-packages (from h5py->biosppy->pyhrv) (1.5.2)\n",
            "Requirement already satisfied: python-dateutil>=2.1 in /usr/local/lib/python3.7/dist-packages (from matplotlib->pyhrv) (2.8.2)\n",
            "Requirement already satisfied: kiwisolver>=1.0.1 in /usr/local/lib/python3.7/dist-packages (from matplotlib->pyhrv) (1.3.2)\n",
            "Requirement already satisfied: pyparsing!=2.0.4,!=2.1.2,!=2.1.6,>=2.0.1 in /usr/local/lib/python3.7/dist-packages (from matplotlib->pyhrv) (3.0.6)\n",
            "Requirement already satisfied: cycler>=0.10 in /usr/local/lib/python3.7/dist-packages (from matplotlib->pyhrv) (0.11.0)\n",
            "Requirement already satisfied: future in /usr/local/lib/python3.7/dist-packages (from nolds->pyhrv) (0.16.0)\n",
            "Requirement already satisfied: setuptools in /usr/local/lib/python3.7/dist-packages (from nolds->pyhrv) (57.4.0)\n",
            "Requirement already satisfied: threadpoolctl>=2.0.0 in /usr/local/lib/python3.7/dist-packages (from scikit-learn->biosppy->pyhrv) (3.0.0)\n",
            "Requirement already satisfied: biosppy in /usr/local/lib/python3.7/dist-packages (0.8.0)\n",
            "Requirement already satisfied: six in /usr/local/lib/python3.7/dist-packages (from biosppy) (1.15.0)\n",
            "Requirement already satisfied: opencv-python in /usr/local/lib/python3.7/dist-packages (from biosppy) (4.1.2.30)\n",
            "Requirement already satisfied: joblib in /usr/local/lib/python3.7/dist-packages (from biosppy) (1.1.0)\n",
            "Requirement already satisfied: scipy in /usr/local/lib/python3.7/dist-packages (from biosppy) (1.4.1)\n",
            "Requirement already satisfied: shortuuid in /usr/local/lib/python3.7/dist-packages (from biosppy) (1.0.8)\n",
            "Requirement already satisfied: numpy in /usr/local/lib/python3.7/dist-packages (from biosppy) (1.19.5)\n",
            "Requirement already satisfied: h5py in /usr/local/lib/python3.7/dist-packages (from biosppy) (3.1.0)\n",
            "Requirement already satisfied: scikit-learn in /usr/local/lib/python3.7/dist-packages (from biosppy) (1.0.1)\n",
            "Requirement already satisfied: matplotlib in /usr/local/lib/python3.7/dist-packages (from biosppy) (3.2.2)\n",
            "Requirement already satisfied: bidict in /usr/local/lib/python3.7/dist-packages (from biosppy) (0.21.4)\n",
            "Requirement already satisfied: cached-property in /usr/local/lib/python3.7/dist-packages (from h5py->biosppy) (1.5.2)\n",
            "Requirement already satisfied: cycler>=0.10 in /usr/local/lib/python3.7/dist-packages (from matplotlib->biosppy) (0.11.0)\n",
            "Requirement already satisfied: kiwisolver>=1.0.1 in /usr/local/lib/python3.7/dist-packages (from matplotlib->biosppy) (1.3.2)\n",
            "Requirement already satisfied: pyparsing!=2.0.4,!=2.1.2,!=2.1.6,>=2.0.1 in /usr/local/lib/python3.7/dist-packages (from matplotlib->biosppy) (3.0.6)\n",
            "Requirement already satisfied: python-dateutil>=2.1 in /usr/local/lib/python3.7/dist-packages (from matplotlib->biosppy) (2.8.2)\n",
            "Requirement already satisfied: threadpoolctl>=2.0.0 in /usr/local/lib/python3.7/dist-packages (from scikit-learn->biosppy) (3.0.0)\n"
          ]
        }
      ]
    },
    {
      "cell_type": "markdown",
      "source": [
        "#DATA LOADING"
      ],
      "metadata": {
        "id": "LI-gdODP9OIe"
      }
    },
    {
      "cell_type": "code",
      "source": [
        "input_directory = '/gdrive/MyDrive/AI_Assignment/training_set'"
      ],
      "metadata": {
        "id": "2Hoc_OMDpbNn"
      },
      "execution_count": 250,
      "outputs": []
    },
    {
      "cell_type": "markdown",
      "source": [
        "We want to adjust the dataset in a matrix to better organize the available data. The matrix structure is the following:\n",
        "\n",
        "    | ECG (I & II lead) | R peaks location (samples) | Beats annotation ('N', 'S', 'V') |\n"
      ],
      "metadata": {
        "id": "ba7K9Q9QTG-_"
      }
    },
    {
      "cell_type": "code",
      "source": [
        "def storage(empty_list, input_directory, last_character, name):\n",
        "\n",
        "  for file in sorted(os.listdir(input_directory)):       # search amongst files in input directory\n",
        "    filename = ntpath.basename(file)                     # get file name\n",
        "    filename = os.path.splitext(filename)[0]             # remove file extension\n",
        "    if filename.endswith(last_character):                # check filename last character\n",
        "      mat_file = filename + '.mat'                       # rejoin extension to filename\n",
        "      x = loadmat(mat_file)                              # load file\n",
        "      values = np.asarray(x[name])                       # load values\n",
        "      empty_list.append(values)                          # store values in a list\n",
        "\n",
        "  num_files = len(empty_list)                            # checking all files have been stored\n",
        "\n",
        "  return empty_list, num_files"
      ],
      "metadata": {
        "id": "5LN1kOIyt8_q"
      },
      "execution_count": 251,
      "outputs": []
    },
    {
      "cell_type": "markdown",
      "source": [
        "###ECGs"
      ],
      "metadata": {
        "id": "VOwljPzmyeCd"
      }
    },
    {
      "cell_type": "code",
      "source": [
        "ECGs = []         # list initialization\n",
        "ECGs, num_files = storage(ECGs, input_directory, ('8','0'), 'ecg')\n",
        "num_files"
      ],
      "metadata": {
        "colab": {
          "base_uri": "https://localhost:8080/"
        },
        "id": "omoFR-KAyfGD",
        "outputId": "93a55dbc-b66e-4c3a-87a3-c0607d889cc2"
      },
      "execution_count": 252,
      "outputs": [
        {
          "output_type": "execute_result",
          "data": {
            "text/plain": [
              "105"
            ]
          },
          "metadata": {},
          "execution_count": 252
        }
      ]
    },
    {
      "cell_type": "markdown",
      "source": [
        "###R PEAKS LOCATION "
      ],
      "metadata": {
        "id": "cSIHwdExWnia"
      }
    },
    {
      "cell_type": "code",
      "source": [
        "Rpks = []          # list initialization\n",
        "Rpks, num_files = storage(Rpks, input_directory, 'k', 'rpeaks')\n",
        "num_files"
      ],
      "metadata": {
        "colab": {
          "base_uri": "https://localhost:8080/"
        },
        "id": "8FDhhVjrwkAW",
        "outputId": "a899b92a-64cc-4044-e0ca-c0b8d8c84cb1"
      },
      "execution_count": 253,
      "outputs": [
        {
          "output_type": "execute_result",
          "data": {
            "text/plain": [
              "105"
            ]
          },
          "metadata": {},
          "execution_count": 253
        }
      ]
    },
    {
      "cell_type": "markdown",
      "source": [
        "###BEATS ANNOTATIONS"
      ],
      "metadata": {
        "id": "XwnE-nUtW3cZ"
      }
    },
    {
      "cell_type": "code",
      "source": [
        "beats_anns = []    # list initialization\n",
        "beats_anns, num_files = storage(beats_anns, input_directory, 'n', 'labels')\n",
        "num_files"
      ],
      "metadata": {
        "colab": {
          "base_uri": "https://localhost:8080/"
        },
        "id": "ziECmnjLxILU",
        "outputId": "3ca95278-723b-4d3e-c7f0-b62ec677021a"
      },
      "execution_count": 254,
      "outputs": [
        {
          "output_type": "execute_result",
          "data": {
            "text/plain": [
              "105"
            ]
          },
          "metadata": {},
          "execution_count": 254
        }
      ]
    },
    {
      "cell_type": "markdown",
      "source": [
        "###FINAL MATRIX"
      ],
      "metadata": {
        "id": "b2r_JMlEY6VS"
      }
    },
    {
      "cell_type": "code",
      "source": [
        "data = []                                                                         # list initialization\n",
        "row = []                                                                          # list initialization\n",
        "for patient in range(num_files):                                                  # scrolls patient by patient\n",
        "  row = [ ECGs[patient], Rpks[patient], beats_anns[patient] ]  \n",
        "  data.append(row)                                                                # store row in a list\n",
        "#pd.DataFrame(data, columns=['ECG (I & II lead)', 'R peaks location (samples)', 'Beats annotation'])"
      ],
      "metadata": {
        "id": "1sl5Rjoc-SHa"
      },
      "execution_count": 255,
      "outputs": []
    },
    {
      "cell_type": "markdown",
      "source": [
        "#DATA INSPECTION"
      ],
      "metadata": {
        "id": "Drf47n7sX-cY"
      }
    },
    {
      "cell_type": "markdown",
      "source": [
        "###SIGNALS LENGTH DISTRIBUTION"
      ],
      "metadata": {
        "id": "hq8n0uemgZJ5"
      }
    },
    {
      "cell_type": "code",
      "source": [
        "def signals_lenght_distr(input_directory, last_character, fs):       \n",
        "\n",
        "  ECGs_fs = []\n",
        "  ECGs, num_files = storage(ECGs_fs, input_directory, last_character, 'ecg') \n",
        "\n",
        "  ECG = 0                                                    \n",
        "  ECGsfs_lengths = []                                   # list initialization\n",
        "  for patient in range(len(ECGs_fs)):                   # scrolls patient by patient\n",
        "    ECGsfs_lengths.append(len(data[patient][ECG])/fs)   # store signals length in a list\n",
        "\n",
        "  ECGsfs_lengths = pd.Series(ECGsfs_lengths)\n",
        "  ax = ECGsfs_lengths.plot.hist(bins=12, alpha=0.5)\n",
        "  ax.set_title(\"Signals length distribution (fs = \" + str(fs) + \" Hz)\")\n",
        "\n",
        "  return ECGs_fs, num_files"
      ],
      "metadata": {
        "id": "hbu7h1t_4Gts"
      },
      "execution_count": 256,
      "outputs": []
    },
    {
      "cell_type": "markdown",
      "source": [
        "####128 Hz signals"
      ],
      "metadata": {
        "id": "wLy_8ztK6zXQ"
      }
    },
    {
      "cell_type": "code",
      "source": [
        "ECGs_128, num_files = signals_lenght_distr(input_directory, '8', 128)\n",
        "num_files   # checking all files have been stored"
      ],
      "metadata": {
        "id": "SgpxjC8Rhp12",
        "outputId": "b729cb3e-44e5-4884-c9c0-795d08e609bf",
        "colab": {
          "base_uri": "https://localhost:8080/",
          "height": 311
        }
      },
      "execution_count": 257,
      "outputs": [
        {
          "output_type": "execute_result",
          "data": {
            "text/plain": [
              "65"
            ]
          },
          "metadata": {},
          "execution_count": 257
        },
        {
          "output_type": "display_data",
          "data": {
            "image/png": "[encoded data removed]",
            "text/plain": [
              "<Figure size 432x288 with 1 Axes>"
            ]
          },
          "metadata": {
            "needs_background": "light"
          }
        }
      ]
    },
    {
      "cell_type": "markdown",
      "source": [
        "####250 Hz signals"
      ],
      "metadata": {
        "id": "VYnHxXDjiPoL"
      }
    },
    {
      "cell_type": "code",
      "source": [
        "ECGs_250, num_files = signals_lenght_distr(input_directory, '0', 250)\n",
        "num_files   # checking all files have been stored"
      ],
      "metadata": {
        "colab": {
          "base_uri": "https://localhost:8080/",
          "height": 298
        },
        "id": "yVj2C7lX2H8i",
        "outputId": "62bcfe8d-fc54-43c1-80d2-83b91317f65f"
      },
      "execution_count": 258,
      "outputs": [
        {
          "output_type": "execute_result",
          "data": {
            "text/plain": [
              "40"
            ]
          },
          "metadata": {},
          "execution_count": 258
        },
        {
          "output_type": "display_data",
          "data": {
            "image/png": "[encoded data removed]",
            "text/plain": [
              "<Figure size 432x288 with 1 Axes>"
            ]
          },
          "metadata": {
            "needs_background": "light"
          }
        }
      ]
    },
    {
      "cell_type": "markdown",
      "source": [
        "###OTHERS"
      ],
      "metadata": {
        "id": "UwHd-JycvIwa"
      }
    },
    {
      "cell_type": "code",
      "source": [
        ""
      ],
      "metadata": {
        "id": "95LS0ATovQ_0"
      },
      "execution_count": 258,
      "outputs": []
    },
    {
      "cell_type": "markdown",
      "source": [
        "#PRE-PROCESSING"
      ],
      "metadata": {
        "id": "hCgy8ayDX0Em"
      }
    },
    {
      "cell_type": "markdown",
      "source": [
        "###UPSAMPLING"
      ],
      "metadata": {
        "id": "7x3mI8Lh02R3"
      }
    },
    {
      "cell_type": "markdown",
      "source": [
        "Upsampling is the process of inserting zero-valued samples between the original samples of a signal to increase the sampling rate. We want, indeed, to bring all the signals at the same sampling frequency of 250 Hz. Downsampling to the 128 Hz is not recommendable otherwise we would lose informations."
      ],
      "metadata": {
        "id": "DgwKQRE9jQaI"
      }
    },
    {
      "cell_type": "code",
      "source": [
        "def upsampling(ECG_old, fs_old, fs_up):\n",
        "\n",
        "  deltafs_old = 1/fs_old                                                          # old sampling interval (s)\n",
        "  duration_old = int(deltafs_old*len(ECG_old))                                    # signal duration (s)\n",
        "  samples_old = duration_old*fs_old                                               # number of samples with old sampling frequency\n",
        "  timevec_old = np.linspace(0, duration_old, samples_old, False)                  # old time vector\n",
        "\n",
        "  deltafs_up = 1/fs_up                                                            # new sampling interval (s)\n",
        "  samples_up = duration_old*fs_up                                                 # number of samples expected with new sampling frequency\n",
        "  timevec_up = np.linspace(0, duration_old, samples_up, False)                    # new time vector\n",
        "\n",
        "  ECG_up = signal.resample(ECG_old, samples_up)                                   # ECG upsampled\n",
        "\n",
        "  return timevec_old, timevec_up, ECG_up"
      ],
      "metadata": {
        "id": "mGUbkte1oqds"
      },
      "execution_count": 259,
      "outputs": []
    },
    {
      "cell_type": "markdown",
      "source": [
        "####Example for one signal"
      ],
      "metadata": {
        "id": "-HZWLodjmHkI"
      }
    },
    {
      "cell_type": "code",
      "source": [
        "patient = 0\n",
        "ECG = 0\n",
        "Ilead = 0\n",
        "ECG_128 = data[patient][ECG][:,Ilead]        # ECG I lead from patient S001_128\n",
        "\n",
        "time_128, time_250, ECG128_up = upsampling(ECG_128, 128, 250)\n",
        "\n",
        "plt.plot(time_128, ECG_128, 'go-', time_250, ECG128_up, '.-')\n",
        "plt.axis([0, 1, -1, 3])                                         \n",
        "plt.legend(['original', 'upsampled'], loc='best')\n",
        "plt.xlabel('Time (s)')\n",
        "plt.ylabel('Amplitude (V)')\n",
        "plt.show()"
      ],
      "metadata": {
        "colab": {
          "base_uri": "https://localhost:8080/",
          "height": 283
        },
        "id": "TbPMKCvHw4jc",
        "outputId": "04d6c517-b708-417c-8ec4-b100998af3db"
      },
      "execution_count": 260,
      "outputs": [
        {
          "output_type": "display_data",
          "data": {
            "image/png": "[encoded data removed]",
            "text/plain": [
              "<Figure size 432x288 with 1 Axes>"
            ]
          },
          "metadata": {
            "needs_background": "light"
          }
        }
      ]
    },
    {
      "cell_type": "markdown",
      "source": [
        "####For all 128 Hz signals"
      ],
      "metadata": {
        "id": "s_r_QP84tIZk"
      }
    },
    {
      "cell_type": "code",
      "source": [
        "ECGs128_up = []                                      # list initialization\n",
        "ECG = 0\n",
        "for patient in range(len(ECGs_128)):                 # scrolls patient by patient\n",
        "  ECG_128 = data[patient][ECG]                       # both ECG leads\n",
        "  ECG128_up = upsampling(ECG_128, 128, 250)[2]       # ECG upsampled\n",
        "  ECGs128_up.append(ECG128_up)                       # store ECGs upsampled in a list"
      ],
      "metadata": {
        "id": "zLtrt58AF2v4"
      },
      "execution_count": 261,
      "outputs": []
    },
    {
      "cell_type": "code",
      "source": [
        "ECGs_up = ECGs128_up                      # new array of upsampled ECGs\n",
        "for patient in range(len(ECGs_250)):      # scroll patient by patient\n",
        "  ECGs_up.append(ECGs_250[patient])       # append the ECGs at 250 Hz\n",
        "num_files = len(ECGs_up)                             \n",
        "num_files                                 # checking all files have been stored        "
      ],
      "metadata": {
        "id": "NuXRrzagGrtJ",
        "colab": {
          "base_uri": "https://localhost:8080/"
        },
        "outputId": "54619b7b-eadd-4d8a-fde2-8b61d7d753b8"
      },
      "execution_count": 262,
      "outputs": [
        {
          "output_type": "execute_result",
          "data": {
            "text/plain": [
              "105"
            ]
          },
          "metadata": {},
          "execution_count": 262
        }
      ]
    },
    {
      "cell_type": "code",
      "source": [
        "data_up = []                                                                     # list initialization\n",
        "row = []                                                                         # list initialization\n",
        "for patient in range(num_files):                                                 # scrolls patient by patient\n",
        "  row = [ ECGs_up[patient], Rpks[patient], beats_anns[patient] ]                 # store ECG upsampled, R peaks location, beats annotation for each patient in a row\n",
        "  data_up.append(row)                                                            # store row in a list\n",
        "#pd.DataFrame(data_up, columns=['ECG (I & II lead)', 'R peaks location (samples)', 'Beats annotation'])"
      ],
      "metadata": {
        "id": "ES5-eY6QJNN4"
      },
      "execution_count": 263,
      "outputs": []
    },
    {
      "cell_type": "code",
      "source": [
        "fs = 250              # sampling frequency (Hz)\n",
        "delta_fs = 1/fs       # sampling interval (s)"
      ],
      "metadata": {
        "id": "hupAQWgQumvR"
      },
      "execution_count": 264,
      "outputs": []
    },
    {
      "cell_type": "markdown",
      "source": [
        "###BASELINE DETECTION"
      ],
      "metadata": {
        "id": "QQvod65R15rb"
      }
    },
    {
      "cell_type": "markdown",
      "source": [
        "We want to detect the baseline and remove it from the overall signals because not necessary to the features of interest when computing the power spectrum. Indeed, the baseline wander mainly corresponds to the movement and respiration of the patient."
      ],
      "metadata": {
        "id": "GCNPgwekxBT2"
      }
    },
    {
      "cell_type": "markdown",
      "source": [
        "####Example for one signal"
      ],
      "metadata": {
        "id": "_WImbhTkySf9"
      }
    },
    {
      "cell_type": "code",
      "source": [
        "patient = 0\n",
        "ECG = 0\n",
        "Ilead = 0\n",
        "ECG = data_up[patient][ECG][:,Ilead]       # ECG I lead from patient S001_128 (S001_250)\n",
        "\n",
        "duration = int(delta_fs*len(ECG))                                 # signal duration (s)\n",
        "samples = duration*fs                                             # number of samples\n",
        "time_vec = np.linspace(0, duration, samples, endpoint=False)      # time vector\n",
        "\n",
        "plot(time_vec, ECG)\n",
        "xlabel('Time (s)')\n",
        "ylabel('Amplitude (V)')"
      ],
      "metadata": {
        "colab": {
          "base_uri": "https://localhost:8080/",
          "height": 296
        },
        "id": "tQdIm2VMJ-Qe",
        "outputId": "0e238961-97d7-4e9c-ff2b-db0a841a078f"
      },
      "execution_count": 265,
      "outputs": [
        {
          "output_type": "execute_result",
          "data": {
            "text/plain": [
              "Text(0, 0.5, 'Amplitude (V)')"
            ]
          },
          "metadata": {},
          "execution_count": 265
        },
        {
          "output_type": "display_data",
          "data": {
            "image/png": "[encoded data removed]",
            "text/plain": [
              "<Figure size 432x288 with 1 Axes>"
            ]
          },
          "metadata": {
            "needs_background": "light"
          }
        }
      ]
    },
    {
      "cell_type": "code",
      "source": [
        "def power_spectrum(data, sampling_rate):\n",
        "  fourier_transform = np.fft.rfft(data)                                 # FFT computation\n",
        "  abs_fourier_transform = np.abs(fourier_transform)                     # FFT absolute value\n",
        "  power_spectrum = np.square(abs_fourier_transform)                     # power spectrum\n",
        "  frequency = np.linspace(0, sampling_rate/2, len(power_spectrum))      # vector of frequencies\n",
        "\n",
        "  return frequency, power_spectrum"
      ],
      "metadata": {
        "id": "bmoWPGPHLojt"
      },
      "execution_count": 266,
      "outputs": []
    },
    {
      "cell_type": "code",
      "source": [
        "ECG_f, ECG_ps = power_spectrum(ECG, fs)\n",
        "plt.plot(ECG_f, ECG_ps)\n",
        "plt.xlabel('Frequency (Hz)')\n",
        "plt.ylabel('Power Spectrum (dB/Hz)')"
      ],
      "metadata": {
        "colab": {
          "base_uri": "https://localhost:8080/",
          "height": 307
        },
        "id": "Rbu_xfgiMYnV",
        "outputId": "ef3502c4-135d-4378-9d33-94a3e518cec0"
      },
      "execution_count": 267,
      "outputs": [
        {
          "output_type": "execute_result",
          "data": {
            "text/plain": [
              "Text(0, 0.5, 'Power Spectrum (dB/Hz)')"
            ]
          },
          "metadata": {},
          "execution_count": 267
        },
        {
          "output_type": "display_data",
          "data": {
            "image/png": "[encoded data removed]",
            "text/plain": [
              "<Figure size 432x288 with 1 Axes>"
            ]
          },
          "metadata": {
            "needs_background": "light"
          }
        }
      ]
    },
    {
      "cell_type": "markdown",
      "source": [
        "Plotting the signal in the frequency domain we are able to detect the baseline contribution as the highest peak."
      ],
      "metadata": {
        "id": "Ryu_iM5yU6n4"
      }
    },
    {
      "cell_type": "markdown",
      "source": [
        "######Median Filter (200 ms)"
      ],
      "metadata": {
        "id": "3HxVrIGSZvgs"
      }
    },
    {
      "cell_type": "code",
      "source": [
        "kernel_t = 0.2\n",
        "kernel_smp = kernel_t*fs\n",
        "ECG_mf200 = signal.medfilt(ECG, int(kernel_smp)+1)      # +1 the one being filtered\n",
        "plt.plot(time_vec, ECG, time_vec, ECG_mf200)\n",
        "plt.axis([0, 50, -1, 3])\n",
        "plt.legend(['original', 'mf200'], loc='best')\n",
        "plt.xlabel('Time (s)')\n",
        "plt.ylabel('Amplitude (V)')\n",
        "plt.show()"
      ],
      "metadata": {
        "id": "g2Oia-ktD4LD",
        "colab": {
          "base_uri": "https://localhost:8080/",
          "height": 283
        },
        "outputId": "9232e52d-194a-4921-9f7d-3b62602914c2"
      },
      "execution_count": 268,
      "outputs": [
        {
          "output_type": "display_data",
          "data": {
            "image/png": "[encoded data removed]",
            "text/plain": [
              "<Figure size 432x288 with 1 Axes>"
            ]
          },
          "metadata": {
            "needs_background": "light"
          }
        }
      ]
    },
    {
      "cell_type": "markdown",
      "source": [
        "######Median Filter (600 ms)"
      ],
      "metadata": {
        "id": "kE4Fl-NaaQHw"
      }
    },
    {
      "cell_type": "code",
      "source": [
        "kernel_t = 0.6\n",
        "kernel_smp = kernel_t*fs\n",
        "ECG_mf600 = signal.medfilt(ECG_mf200, int(kernel_smp)+1)      # +1 the one being filtered\n",
        "plt.plot(time_vec, ECG_mf200, time_vec, ECG_mf600)\n",
        "plt.axis([0, 50, -1, 3])\n",
        "plt.legend(['mf200', 'mf600'], loc='best')\n",
        "plt.xlabel('Time (s)')\n",
        "plt.ylabel('Amplitude (V)')\n",
        "plt.show()"
      ],
      "metadata": {
        "id": "oDCCEuUgLrrK",
        "colab": {
          "base_uri": "https://localhost:8080/",
          "height": 283
        },
        "outputId": "a4c9b416-c6c3-4316-e538-62c3c0789d43"
      },
      "execution_count": 269,
      "outputs": [
        {
          "output_type": "display_data",
          "data": {
            "image/png": "[encoded data removed]",
            "text/plain": [
              "<Figure size 432x288 with 1 Axes>"
            ]
          },
          "metadata": {
            "needs_background": "light"
          }
        }
      ]
    },
    {
      "cell_type": "markdown",
      "source": [
        "######Baseline Removal"
      ],
      "metadata": {
        "id": "iaBdKUJpaYTk"
      }
    },
    {
      "cell_type": "code",
      "source": [
        "ECG_blr = ECG-ECG_mf600\n",
        "plt.plot(time_vec, ECG, time_vec, ECG_blr)\n",
        "plt.legend(['original', 'baseline removed'], loc='best')\n",
        "plt.xlabel('Time (s)')\n",
        "plt.ylabel('Amplitude (V)')\n",
        "plt.show()"
      ],
      "metadata": {
        "id": "K7SsB_QLNOg8",
        "colab": {
          "base_uri": "https://localhost:8080/",
          "height": 279
        },
        "outputId": "d435a618-1fb0-4372-8d7d-84d2d2fc30c1"
      },
      "execution_count": 270,
      "outputs": [
        {
          "output_type": "display_data",
          "data": {
            "image/png": "[encoded data removed]",
            "text/plain": [
              "<Figure size 432x288 with 1 Axes>"
            ]
          },
          "metadata": {
            "needs_background": "light"
          }
        }
      ]
    },
    {
      "cell_type": "code",
      "source": [
        "ECGblr_f, ECGblr_ps = power_spectrum(ECG_blr, fs)\n",
        "plt.plot(ECG_f, ECG_ps, ECGblr_f, ECGblr_ps)\n",
        "plt.legend(['original', 'baseline removed'], loc='best')\n",
        "plt.xlabel('Frequency (Hz)')\n",
        "plt.ylabel('Power Spectrum (dB/Hz)')\n",
        "plt.show()"
      ],
      "metadata": {
        "colab": {
          "base_uri": "https://localhost:8080/",
          "height": 290
        },
        "id": "-IrN0_y9SUIa",
        "outputId": "46a1cffd-aaaa-4871-8cdb-d4515b6b6b12"
      },
      "execution_count": 271,
      "outputs": [
        {
          "output_type": "display_data",
          "data": {
            "image/png": "[encoded data removed]",
            "text/plain": [
              "<Figure size 432x288 with 1 Axes>"
            ]
          },
          "metadata": {
            "needs_background": "light"
          }
        }
      ]
    },
    {
      "cell_type": "markdown",
      "source": [
        "As we can see the baseline component has been removed."
      ],
      "metadata": {
        "id": "dgAxvymbVhFG"
      }
    },
    {
      "cell_type": "markdown",
      "source": [
        "####For all signals"
      ],
      "metadata": {
        "id": "o2egB1YsypoV"
      }
    },
    {
      "cell_type": "code",
      "source": [
        "ECGsup_blr = []\n",
        "ECG = 0\n",
        "Ilead = 0\n",
        "IIlead = 1\n",
        "for patient in range(num_files):                      # scrolls patient by patient\n",
        "  ECGI_up = data_up[patient][ECG][:,Ilead]\n",
        "  kernel_t = 0.2\n",
        "  kernel_smp = kernel_t*fs          \n",
        "  ECGIup_mf200 = signal.medfilt(ECGI_up, int(kernel_smp)+1)         # +1 the one being filtered\n",
        "  kernel_t = 0.6\n",
        "  kernel_smp = kernel_t*fs \n",
        "  ECGIup_mf600 = signal.medfilt(ECGIup_mf200, int(kernel_smp)+1)    # +1 the one being filtered\n",
        "  ECGIup_blr = ECGI_up-ECGIup_mf600                                 # baseline removal\n",
        "  ECGII_up = data_up[patient][ECG][:,IIlead]  \n",
        "  kernel_t = 0.2\n",
        "  kernel_smp = kernel_t*fs          \n",
        "  ECGIIup_mf200 = signal.medfilt(ECGII_up, int(kernel_smp)+1)          # +1 the one being filtered\n",
        "  kernel_t = 0.6\n",
        "  kernel_smp = kernel_t*fs\n",
        "  ECGIIup_mf600 = signal.medfilt(ECGIIup_mf200, int(kernel_smp)+1)     # +1 the one being filtered\n",
        "  ECGIIup_blr = ECGII_up-ECGIIup_mf600                                 # baseline removal\n",
        "  ECGup_blr = [ECGIup_blr, ECGIIup_blr]\n",
        "  ECGsup_blr.append(ECGup_blr)"
      ],
      "metadata": {
        "id": "gwYK2tacy0oq"
      },
      "execution_count": 272,
      "outputs": []
    },
    {
      "cell_type": "code",
      "source": [
        "dataup_blr = []                                                                  # list initialization\n",
        "row = []                                                                         # list initialization\n",
        "for patient in range(num_files):                                                 # scrolls patient by patient\n",
        "  row = [ ECGsup_blr[patient], Rpks[patient], beats_anns[patient] ]              # store ECG baseline removed, R peaks location, beats annotation for each patient in a row\n",
        "  dataup_blr.append(row)                                                         # store row in a list\n",
        "#pd.DataFrame(dataup_blr, columns=['ECG (I & II lead)', 'R peaks location (samples)', 'Beats annotation'])"
      ],
      "metadata": {
        "id": "WB0x9HStbUuU"
      },
      "execution_count": 274,
      "outputs": []
    },
    {
      "cell_type": "markdown",
      "source": [
        "###FILTERING"
      ],
      "metadata": {
        "id": "GOCH5rk3ZG2m"
      }
    },
    {
      "cell_type": "markdown",
      "source": [
        "####Example for one signal"
      ],
      "metadata": {
        "id": "0eUMCu0OeY4G"
      }
    },
    {
      "cell_type": "code",
      "source": [
        "patient = 0\n",
        "ECG = 0\n",
        "Ilead = 0\n",
        "ECG = dataup_blr[patient][ECG][Ilead]       # ECG I lead from patient S001_128 (S001_250)\n",
        "\n",
        "duration = int(delta_fs*len(ECG))                                 # signal duration (s)\n",
        "samples = duration*fs                                             # number of samples\n",
        "time_vec = np.linspace(0, duration, samples, endpoint=False)      # time vector\n",
        "\n",
        "plot(time_vec, ECG)\n",
        "plt.axis([0, 1, -1, 3])\n",
        "xlabel('Time (s)')\n",
        "ylabel('Amplitude (V)')"
      ],
      "metadata": {
        "colab": {
          "base_uri": "https://localhost:8080/",
          "height": 300
        },
        "id": "UTsOT5JSN0Gp",
        "outputId": "c2e4ae8e-ec4f-4cf1-8873-23ada1ea45f8"
      },
      "execution_count": 281,
      "outputs": [
        {
          "output_type": "execute_result",
          "data": {
            "text/plain": [
              "Text(0, 0.5, 'Amplitude (V)')"
            ]
          },
          "metadata": {},
          "execution_count": 281
        },
        {
          "output_type": "display_data",
          "data": {
            "image/png": "[encoded data removed]",
            "text/plain": [
              "<Figure size 432x288 with 1 Axes>"
            ]
          },
          "metadata": {
            "needs_background": "light"
          }
        }
      ]
    },
    {
      "cell_type": "markdown",
      "source": [
        "From this plot it can be noticed that the ECG signal needs to be smoothed out. For this reason, we apply a low pass filter to get rid of the high frequencies responsible of those ripples."
      ],
      "metadata": {
        "id": "SqLxipyeU1kP"
      }
    },
    {
      "cell_type": "code",
      "source": [
        "def FIRlowpass(sample_rate, signal, time_axis, cutoff_hz, start, end, figs):\n",
        "\n",
        "  nyq_rate = sample_rate / 2.0\n",
        "  width = 5.0/nyq_rate # the desired width of the transition from pass to stop,\n",
        "                       # relative to the Nyquist rate.  We'll design the filter\n",
        "                       # with a 5 Hz transition width.\n",
        "  ripple_db = 60.0     # the desired attenuation in the stop band, in dB\n",
        "  N, beta = kaiserord(ripple_db, width) # compute the order and Kaiser parameter for the FIR filter.\n",
        "  taps = firwin(N, cutoff_hz/nyq_rate, window=('kaiser', beta))\n",
        "  filtered = lfilter(taps, 1.0, signal)\n",
        "\n",
        "  if figs == True:\n",
        "\n",
        "    figure(1) # filter coefficients\n",
        "    plot(taps, 'bo-', linewidth=2)\n",
        "    title('Filter Coefficients (%d taps)' % N)\n",
        "    grid(True)\n",
        "\n",
        "    figure(2) # filter magnitude response\n",
        "    clf()\n",
        "    w, h = freqz(taps, worN=8000)\n",
        "    plot((w/pi)*nyq_rate, absolute(h), linewidth=2)\n",
        "    xlabel('Frequency (Hz)')\n",
        "    ylabel('Gain')\n",
        "    title('Frequency Response')\n",
        "    ylim(-0.05, 1.05)\n",
        "    grid(True)\n",
        "    ax1 = axes([0.42, 0.6, .45, .25])  # upper inset plot\n",
        "    plot((w/pi)*nyq_rate, absolute(h), linewidth=2)\n",
        "    xlim(0,8.0)\n",
        "    ylim(0.9985, 1.001)\n",
        "    grid(True)\n",
        "    ax2 = axes([0.42, 0.25, .45, .25]) # lower inset plot\n",
        "    plot((w/pi)*nyq_rate, absolute(h), linewidth=2)\n",
        "    xlim(60.0, 80.0)\n",
        "    ylim(-0.05, 0.05)\n",
        "    grid(True)\n",
        "\n",
        "    delay = 0.5 * (N-1) / sample_rate # the phase delay of the filtered signal\n",
        "    figure(3) # original vs filtered signal\n",
        "    axis([start, end, -1, 3])\n",
        "    plot(time_axis, signal)\n",
        "    #plot(time_axis-delay, filtered_x, 'r-')\n",
        "    plot(time_axis[N-1:]-delay, filtered[N-1:], 'r', linewidth=1) # plot just the \"good\" part of the filtered signal. The first N-1\n",
        "                                                                  # samples are \"corrupted\" by the initial conditions.\n",
        "    legend(['original', 'filtered'], loc='best')\n",
        "    xlabel('Time (s)')\n",
        "    ylabel('Amplitude (V)')\n",
        "    grid(True)\n",
        "\n",
        "    figure(4)\n",
        "    signal_f, signal_ps = power_spectrum(signal, fs)\n",
        "    filt_f, filt_ps = power_spectrum(filtered, fs)\n",
        "    plot(signal_f, signal_ps, filt_f, filt_ps)\n",
        "    legend(['original', 'filtered'], loc='best')\n",
        "    xlabel('Frequency (Hz)')\n",
        "    ylabel('Power Spectrum (dB/Hz)')\n",
        "\n",
        "    show()\n",
        "    \n",
        "  elif figs == False:\n",
        "    plt.close('all')\n",
        "\n",
        "  return filtered"
      ],
      "metadata": {
        "id": "Od2XUUL8bSSK"
      },
      "execution_count": 282,
      "outputs": []
    },
    {
      "cell_type": "code",
      "source": [
        "ECG_filt = FIRlowpass(fs, ECG, time_vec, 35, 0.60, 0.75, True)"
      ],
      "metadata": {
        "id": "R2kFjnQc18RK",
        "colab": {
          "base_uri": "https://localhost:8080/",
          "height": 1000
        },
        "outputId": "1597d458-5726-469a-ffb3-61533c31ce99"
      },
      "execution_count": 283,
      "outputs": [
        {
          "output_type": "display_data",
          "data": {
            "image/png": "[encoded data removed]",
            "text/plain": [
              "<Figure size 432x288 with 1 Axes>"
            ]
          },
          "metadata": {
            "needs_background": "light"
          }
        },
        {
          "output_type": "display_data",
          "data": {
            "image/png": "[encoded data removed]",
            "text/plain": [
              "<Figure size 432x288 with 3 Axes>"
            ]
          },
          "metadata": {
            "needs_background": "light"
          }
        },
        {
          "output_type": "display_data",
          "data": {
            "image/png": "[encoded data removed]",
            "text/plain": [
              "<Figure size 432x288 with 1 Axes>"
            ]
          },
          "metadata": {
            "needs_background": "light"
          }
        },
        {
          "output_type": "display_data",
          "data": {
            "image/png": "[encoded data removed]",
            "text/plain": [
              "<Figure size 432x288 with 1 Axes>"
            ]
          },
          "metadata": {
            "needs_background": "light"
          }
        }
      ]
    },
    {
      "cell_type": "markdown",
      "source": [
        "####For all signals"
      ],
      "metadata": {
        "id": "lzZGVN0TebO_"
      }
    },
    {
      "cell_type": "code",
      "source": [
        "ECGsupblr_filt = []\n",
        "ECG = 0\n",
        "Ilead = 0\n",
        "IIlead = 1\n",
        "for patient in range(num_files):                                                 # scrolls patient by patient\n",
        "  ECGIup_blr = dataup_blr[patient][ECG][Ilead]            \n",
        "  ECGIupblr_filt = FIRlowpass(fs, ECGIup_blr, time_vec, 35, [], [], False)         \n",
        "  ECGIIup_blr = dataup_blr[patient][ECG][IIlead]            \n",
        "  ECGIIupblr_filt = FIRlowpass(fs, ECGIIup_blr, time_vec, 35, [], [], False)\n",
        "  ECGupblr_filt = [ECGIupblr_filt, ECGIIupblr_filt]\n",
        "  ECGsupblr_filt.append(ECGupblr_filt)"
      ],
      "metadata": {
        "id": "3G6GbtLjnAyv"
      },
      "execution_count": 284,
      "outputs": []
    },
    {
      "cell_type": "code",
      "source": [
        "dataupblr_filt = []                                                              # list initialization\n",
        "row = []                                                                         # list initialization\n",
        "for patient in range(num_files):                                                 # scrolls patient by patient\n",
        "  row = [ ECGsupblr_filt[patient], Rpks[patient], beats_anns[patient] ]          # store ECG filtered, R peaks location, beats annotation for each patient in a row\n",
        "  dataupblr_filt.append(row)                                                     # store row in a list\n",
        "#pd.DataFrame(dataupblr_filt, columns=['ECG (I & II lead)', 'R peaks location (samples)', 'Beats annotation'])"
      ],
      "metadata": {
        "id": "hq-7ilNNorkO"
      },
      "execution_count": 285,
      "outputs": []
    },
    {
      "cell_type": "markdown",
      "source": [
        "#FEATURE EXTRACTION"
      ],
      "metadata": {
        "id": "8_MYD4JoCDR_"
      }
    },
    {
      "cell_type": "markdown",
      "source": [
        "###HRV FEATURES"
      ],
      "metadata": {
        "id": "QWLozGm1C4jl"
      }
    },
    {
      "cell_type": "markdown",
      "source": [
        "For each individual beat, a set of features was computed taking into account the neighboring beats.\n",
        "A window of three minutes centered around the current beat is considered for the extraction of the heart rate variability (HRV) features."
      ],
      "metadata": {
        "id": "h7whrVFU1EF1"
      }
    },
    {
      "cell_type": "code",
      "source": [
        "wnw_3 = 180             # time window duration in s\n",
        "wnw3_smp = wnw_3*fs     # number of samples in the window\n",
        "\n",
        "temp = []\n",
        "Rpks_wnw = []\n",
        "row = []\n",
        "lst = []\n",
        "lst1 = []\n",
        "lst2 = []\n",
        "lst3 = []\n",
        "lst4 = []\n",
        "lst5 = []\n",
        "lst6 = []\n",
        "lst7 = []\n",
        "lst8 = []\n",
        "lst9 = []\n",
        "lst10 = []\n",
        "\n",
        "patient = 0\n",
        "Rpks = 1\n",
        "\n",
        "for patient in range(2):\n",
        "  for idxi, i in enumerate(dataupblr_filt[patient][Rpks]):\n",
        "    if (i-wnw3_smp)>0 and (i+wnw3_smp)<dataupblr_filt[patient][Rpks][-1]:\n",
        "      temp = []\n",
        "      RRs_mean = []\n",
        "      RRs_std = []\n",
        "      RMSSD = []\n",
        "      dRRs_mean = []\n",
        "      dRRs_std = []\n",
        "      pNN10 = []\n",
        "      pNN20 = []\n",
        "      pNN30 = []\n",
        "      pNN40 = []\n",
        "      pNN50 = []\n",
        "      for idkk, k in enumerate(dataupblr_filt[patient][Rpks]):\n",
        "        if k>(i-wnw3_smp) and k<(i+wnw3_smp):           # window centered around the beat\n",
        "          k_t = k/fs\n",
        "          temp.append(k_t)\n",
        "      temp = np.vstack(temp)\n",
        "      lst = copy.deepcopy(temp)\n",
        "      RRs = [j-i for i, j in zip(np.array(lst[:-1]), np.array(lst[1:]))]\n",
        "      RRs = np.vstack(RRs)\n",
        "      RRs_mean = np.mean(RRs)\n",
        "      lst1 = copy.deepcopy(RRs_mean)\n",
        "      RRs_std = np.std(RRs)\n",
        "      lst2 = copy.deepcopy(RRs_std)\n",
        "      #RMSSD = pyhrv.time_domain.rmssd(RRs, temp) \n",
        "      #lst3 = copy.deepcopy(RMSSD)\n",
        "      dRRs = [j-i for i, j in zip(np.array(RRs[:-1]), np.array(RRs[1:]))]\n",
        "      dRRs = np.vstack(dRRs)\n",
        "      dRRs_mean = np.mean(dRRs)\n",
        "      lst4 = copy.deepcopy(dRRs_mean)\n",
        "      dRRs_std = np.std(dRRs)\n",
        "      lst5 = copy.deepcopy(dRRs_std)\n",
        "      pNN10 = sum([i>0.01 for i in dRRs])*100/len(dRRs)\n",
        "      lst6 = copy.deepcopy(pNN10)\n",
        "      pNN20 = sum([i>0.02 for i in dRRs])*100/len(dRRs)\n",
        "      lst7 = copy.deepcopy(pNN20)\n",
        "      pNN30 = sum([i>0.03 for i in dRRs])*100/len(dRRs)\n",
        "      lst8 = copy.deepcopy(pNN30)\n",
        "      pNN40 = sum([i>0.04 for i in dRRs])*100/len(dRRs)\n",
        "      lst9 = copy.deepcopy(pNN40)\n",
        "      pNN50 = sum([i>0.05 for i in dRRs])*100/len(dRRs)\n",
        "      lst10 = copy.deepcopy(pNN50)\n",
        "      row = [patient, i, lst, np.round(lst1,4), np.round(lst2,4), np.round(lst4,4), np.round(lst5,4), np.round(lst6,4), np.round(lst7,4), np.round(lst8,4), np.round(lst9,4), np.round(lst10,4)]\n",
        "      Rpks_wnw.append(row)\n"
      ],
      "metadata": {
        "id": "S8AEl-sZ97y5"
      },
      "execution_count": null,
      "outputs": []
    },
    {
      "cell_type": "markdown",
      "source": [
        "###MORPHOLOGICAL FEATURES"
      ],
      "metadata": {
        "id": "-qX77wZ1OphA"
      }
    },
    {
      "cell_type": "markdown",
      "source": [
        "Morphological information of the whole beat were extracted using a fixed window. However, it should be noted that as no ECG delineation is performed, the reported segments may not precisely account for these ECG regions (i.e., it is not an exact selection of the onset and offset of the ECG segment, but rather an approximate estimation). Nevertheless, the scope of this selection is to account for their intra-patient variability not to extract any precise parameter which could describe any of the ECG regions described above. Therefore, given that for the same patient the same ECG portion would be extracted for each of the mentioned segments, any variability produced by a premature atrial or ventricular beat, should be detected even if the ECG region is not accurately delineated."
      ],
      "metadata": {
        "id": "7PakqcvAzNSm"
      }
    },
    {
      "cell_type": "markdown",
      "source": [
        "####Example for one beat"
      ],
      "metadata": {
        "id": "dTUw5L21EBjS"
      }
    },
    {
      "cell_type": "markdown",
      "source": [
        "#####Beat extraction"
      ],
      "metadata": {
        "id": "DKrmo_T2LTDg"
      }
    },
    {
      "cell_type": "code",
      "source": [
        "def extractor(wnwst_t, wnwend_t, lead):\n",
        "  wnwst_smp = round(wnwst_t*fs)\n",
        "  wnwend_smp = round(wnwend_t*fs)\n",
        "  rows = []\n",
        "  ECG_wnw = []\n",
        "  Rpks = 1\n",
        "  for patient in range(num_files):\n",
        "    rows = []\n",
        "    for idx, i in enumerate(dataupblr_filt[patient][Rpks]): \n",
        "      if (i-wnwst_smp)>0 and (i+wnwend_smp)<dataupblr_filt[patient][Rpks][-1]:\n",
        "        Rpk_t = i*delta_fs\n",
        "        time = np.linspace((Rpk_t-wnwst_t), (Rpk_t+wnwend_t), wnwst_smp+wnwend_smp, endpoint=True)\n",
        "        row = [ i, time, ECGsupblr_filt[patient][lead][int(i)-wnwst_smp:int(i)+wnwend_smp] ]\n",
        "        rows.append(row)\n",
        "    lst = copy.deepcopy(rows)\n",
        "    perpatient = [ patient, lst ]\n",
        "    ECG_wnw.append(perpatient)\n",
        "\n",
        "  return ECG_wnw"
      ],
      "metadata": {
        "id": "KSW3RM6KSCnd"
      },
      "execution_count": 298,
      "outputs": []
    },
    {
      "cell_type": "code",
      "source": [
        "wnwst_t = 0.3     # start of the window in s\n",
        "wnwend_t = 0.25   # end of the window in s\n",
        "lead = 0          # I lead\n",
        "ECGsIlead_wnw = extractor(wnwst_t, wnwend_t, lead)\n",
        "lead = 1          # II lead\n",
        "ECGsIIlead_wnw = extractor(wnwst_t, wnwend_t, lead)\n",
        "ECGs_wnw = [ ECGsIlead_wnw, ECGsIIlead_wnw ]"
      ],
      "metadata": {
        "id": "F4RZMo260Vni"
      },
      "execution_count": 299,
      "outputs": []
    },
    {
      "cell_type": "code",
      "source": [
        "patient = 0\n",
        "n_beat = 0\n",
        "plot(ECGs_wnw[0][patient][1][n_beat][2])\n",
        "xlabel('Time (s)')\n",
        "ylabel('Amplitude (V)')\n",
        "show()\n",
        "#pd.DataFrame(ECGs_wnw, columns=['Patient', 'R peak (sample) + Time (s) + ECG_wholebeat'])"
      ],
      "metadata": {
        "id": "Td4jAd0qxotS",
        "colab": {
          "base_uri": "https://localhost:8080/",
          "height": 281
        },
        "outputId": "01671189-8209-46ef-fc5e-332d7db4500b"
      },
      "execution_count": 300,
      "outputs": [
        {
          "output_type": "display_data",
          "data": {
            "image/png": "[encoded data removed]",
            "text/plain": [
              "<Figure size 432x288 with 1 Axes>"
            ]
          },
          "metadata": {
            "needs_background": "light"
          }
        }
      ]
    },
    {
      "cell_type": "markdown",
      "source": [
        "#####Intra-patient template"
      ],
      "metadata": {
        "id": "qnGzbkuJCw6D"
      }
    },
    {
      "cell_type": "markdown",
      "source": [
        "An intra-patient template was created using the neighboring beats."
      ],
      "metadata": {
        "id": "M3G7SwyfCWTi"
      }
    },
    {
      "cell_type": "code",
      "source": [
        "def template(data, n_prior, n_post):\n",
        "  tplt = []\n",
        "  for patient in range(num_files):\n",
        "    tplt_temp = []\n",
        "    for idx, i in enumerate(data[patient][1]):\n",
        "      if (idx-n_prior)>0 and (idx+n_post)<len(data[patient][1]):\n",
        "        row = [ data[patient][1][idx], data[patient][1][(idx-n_prior):(idx+n_post)] ]\n",
        "        tplt_temp.append(row)\n",
        "    lst = copy.deepcopy(tplt_temp)\n",
        "    perpatient = [ patient, lst ]\n",
        "    tplt.append(perpatient)\n",
        "\n",
        "  return tplt"
      ],
      "metadata": {
        "id": "6VjxD-jeslrF"
      },
      "execution_count": 40,
      "outputs": []
    },
    {
      "cell_type": "code",
      "source": [
        "tpltIlead_25 = template(ECGs_wnw[0], 25, 25)"
      ],
      "metadata": {
        "id": "t0i4B1_c1Vqs"
      },
      "execution_count": 301,
      "outputs": []
    },
    {
      "cell_type": "markdown",
      "source": [
        "######Alignment through cross-correlation"
      ],
      "metadata": {
        "id": "v5aHIkYzbcvf"
      }
    },
    {
      "cell_type": "markdown",
      "source": [
        "The surrounding beats' segments were aligned through cross-correlation."
      ],
      "metadata": {
        "id": "3AjltjI5FzNZ"
      }
    },
    {
      "cell_type": "code",
      "source": [
        "patient = 0\n",
        "middlebeatplusbeatsassoc = 1\n",
        "n_middlebeatplusbeatsassoc = 0\n",
        "middle_beat = 0\n",
        "beats_assoc = 1\n",
        "n_beatsassoc = 0\n",
        "head = 0\n",
        "t = 1\n",
        "ecg = 2"
      ],
      "metadata": {
        "id": "YznUx9-r_EN4"
      },
      "execution_count": 302,
      "outputs": []
    },
    {
      "cell_type": "code",
      "source": [
        "n_beat1 = tpltIlead_25[patient][middlebeatplusbeatsassoc][n_middlebeatplusbeatsassoc][middle_beat]\n",
        "n_beat2 = tpltIlead_25[patient][middlebeatplusbeatsassoc][n_middlebeatplusbeatsassoc][beats_assoc][n_beatsassoc]\n",
        "plt.plot(n_beat1[ecg])\n",
        "for target in [ n_beat2 ]:\n",
        "    time = np.arange(0, len(n_beat1[ecg]), 1)\n",
        "    dx = np.mean(np.diff(time))\n",
        "    shift = (np.argmax(signal.correlate(n_beat1[ecg], target[ecg])) - len(target[ecg])) * dx\n",
        "    plt.plot(time+shift, target[ecg])\n",
        "shift"
      ],
      "metadata": {
        "colab": {
          "base_uri": "https://localhost:8080/",
          "height": 284
        },
        "id": "Kiudd7M8DQU9",
        "outputId": "a1d38fd7-3db0-427f-a52a-00012e8dedeb"
      },
      "execution_count": 303,
      "outputs": [
        {
          "output_type": "execute_result",
          "data": {
            "text/plain": [
              "26.0"
            ]
          },
          "metadata": {},
          "execution_count": 303
        },
        {
          "output_type": "display_data",
          "data": {
            "image/png": "[encoded data removed]",
            "text/plain": [
              "<Figure size 432x288 with 1 Axes>"
            ]
          },
          "metadata": {
            "needs_background": "light"
          }
        }
      ]
    },
    {
      "cell_type": "code",
      "source": [
        "temp = []\n",
        "corr = []\n",
        "beat_ecg = tpltIlead_25[patient][middlebeatplusbeatsassoc][n_middlebeatplusbeatsassoc][middle_beat][ecg]\n",
        "lst = []  \n",
        "for k in tpltIlead_25[patient][middlebeatplusbeatsassoc][n_middlebeatplusbeatsassoc][beats_assoc]:\n",
        "  max = (np.argmax(signal.correlate(beat_ecg, k[ecg])) - len(k[ecg]))\n",
        "  row = [ k[0:3], max ] \n",
        "  temp.append(row)\n",
        "lst = copy.deepcopy(temp)\n",
        "beat_max = [ tpltIlead_25[patient][middlebeatplusbeatsassoc][n_middlebeatplusbeatsassoc][middle_beat][head], lst]\n",
        "corr.append(beat_max)"
      ],
      "metadata": {
        "id": "fzJmVF938PeD"
      },
      "execution_count": null,
      "outputs": []
    },
    {
      "cell_type": "markdown",
      "source": [
        "######Outliers detection"
      ],
      "metadata": {
        "id": "gdQwj98lGG4n"
      }
    },
    {
      "cell_type": "markdown",
      "source": [
        "Outlier segments, according to the maximum cross-correlation value obtained for alignment, were excluded from the mean."
      ],
      "metadata": {
        "id": "WkxSCViyGKqZ"
      }
    },
    {
      "cell_type": "code",
      "source": [
        "df = pd.DataFrame(corr[0][1])\n",
        "df['z_score'] = stats.zscore(df[1])\n",
        "df"
      ],
      "metadata": {
        "id": "WvX9DDPlrxR5",
        "colab": {
          "base_uri": "https://localhost:8080/",
          "height": 1000
        },
        "outputId": "72e51c6b-316b-47be-d28b-2e203287ea43"
      },
      "execution_count": 305,
      "outputs": [
        {
          "output_type": "execute_result",
          "data": {
            "text/html": [
              "\n",
              "  <div id=\"df-d2703611-9344-4ff6-ab7a-27526d5af974\">\n",
              "    <div class=\"colab-df-container\">\n",
              "      <div>\n",
              "<style scoped>\n",
              "    .dataframe tbody tr th:only-of-type {\n",
              "        vertical-align: middle;\n",
              "    }\n",
              "\n",
              "    .dataframe tbody tr th {\n",
              "        vertical-align: top;\n",
              "    }\n",
              "\n",
              "    .dataframe thead th {\n",
              "        text-align: right;\n",
              "    }\n",
              "</style>\n",
              "<table border=\"1\" class=\"dataframe\">\n",
              "  <thead>\n",
              "    <tr style=\"text-align: right;\">\n",
              "      <th></th>\n",
              "      <th>0</th>\n",
              "      <th>1</th>\n",
              "      <th>z_score</th>\n",
              "    </tr>\n",
              "  </thead>\n",
              "  <tbody>\n",
              "    <tr>\n",
              "      <th>0</th>\n",
              "      <td>[[191], [[0.464], [0.46804411764705883], [0.47...</td>\n",
              "      <td>26</td>\n",
              "      <td>0.767798</td>\n",
              "    </tr>\n",
              "    <tr>\n",
              "      <th>1</th>\n",
              "      <td>[[272], [[0.788], [0.7920441176470588], [0.796...</td>\n",
              "      <td>-51</td>\n",
              "      <td>-0.898506</td>\n",
              "    </tr>\n",
              "    <tr>\n",
              "      <th>2</th>\n",
              "      <td>[[353], [[1.1119999999999999], [1.116044117647...</td>\n",
              "      <td>30</td>\n",
              "      <td>0.854359</td>\n",
              "    </tr>\n",
              "    <tr>\n",
              "      <th>3</th>\n",
              "      <td>[[433], [[1.432], [1.4360441176470589], [1.440...</td>\n",
              "      <td>-48</td>\n",
              "      <td>-0.833585</td>\n",
              "    </tr>\n",
              "    <tr>\n",
              "      <th>4</th>\n",
              "      <td>[[514], [[1.756], [1.760044117647059], [1.7640...</td>\n",
              "      <td>33</td>\n",
              "      <td>0.919280</td>\n",
              "    </tr>\n",
              "    <tr>\n",
              "      <th>5</th>\n",
              "      <td>[[595], [[2.08], [2.0840441176470588], [2.0880...</td>\n",
              "      <td>-43</td>\n",
              "      <td>-0.725383</td>\n",
              "    </tr>\n",
              "    <tr>\n",
              "      <th>6</th>\n",
              "      <td>[[676], [[2.4040000000000004], [2.408044117647...</td>\n",
              "      <td>38</td>\n",
              "      <td>1.027482</td>\n",
              "    </tr>\n",
              "    <tr>\n",
              "      <th>7</th>\n",
              "      <td>[[758], [[2.732], [2.736044117647059], [2.7400...</td>\n",
              "      <td>-38</td>\n",
              "      <td>-0.617182</td>\n",
              "    </tr>\n",
              "    <tr>\n",
              "      <th>8</th>\n",
              "      <td>[[839], [[3.056], [3.0600441176470587], [3.064...</td>\n",
              "      <td>43</td>\n",
              "      <td>1.135683</td>\n",
              "    </tr>\n",
              "    <tr>\n",
              "      <th>9</th>\n",
              "      <td>[[919], [[3.3760000000000003], [3.380044117647...</td>\n",
              "      <td>-35</td>\n",
              "      <td>-0.552261</td>\n",
              "    </tr>\n",
              "    <tr>\n",
              "      <th>10</th>\n",
              "      <td>[[1001], [[3.7040000000000006], [3.70804411764...</td>\n",
              "      <td>47</td>\n",
              "      <td>1.222245</td>\n",
              "    </tr>\n",
              "    <tr>\n",
              "      <th>11</th>\n",
              "      <td>[[1083], [[4.032], [4.036044117647059], [4.040...</td>\n",
              "      <td>-28</td>\n",
              "      <td>-0.400779</td>\n",
              "    </tr>\n",
              "    <tr>\n",
              "      <th>12</th>\n",
              "      <td>[[1164], [[4.356], [4.360044117647059], [4.364...</td>\n",
              "      <td>52</td>\n",
              "      <td>1.330446</td>\n",
              "    </tr>\n",
              "    <tr>\n",
              "      <th>13</th>\n",
              "      <td>[[1245], [[4.680000000000001], [4.684044117647...</td>\n",
              "      <td>-25</td>\n",
              "      <td>-0.335858</td>\n",
              "    </tr>\n",
              "    <tr>\n",
              "      <th>14</th>\n",
              "      <td>[[1326], [[5.0040000000000004], [5.00804411764...</td>\n",
              "      <td>53</td>\n",
              "      <td>1.352087</td>\n",
              "    </tr>\n",
              "    <tr>\n",
              "      <th>15</th>\n",
              "      <td>[[1379], [[5.216], [5.220044117647059], [5.224...</td>\n",
              "      <td>-50</td>\n",
              "      <td>-0.876865</td>\n",
              "    </tr>\n",
              "    <tr>\n",
              "      <th>16</th>\n",
              "      <td>[[1487], [[5.648000000000001], [5.652044117647...</td>\n",
              "      <td>55</td>\n",
              "      <td>1.395367</td>\n",
              "    </tr>\n",
              "    <tr>\n",
              "      <th>17</th>\n",
              "      <td>[[1525], [[5.800000000000001], [5.804044117647...</td>\n",
              "      <td>-63</td>\n",
              "      <td>-1.158189</td>\n",
              "    </tr>\n",
              "    <tr>\n",
              "      <th>18</th>\n",
              "      <td>[[1650], [[6.300000000000001], [6.304044117647...</td>\n",
              "      <td>60</td>\n",
              "      <td>1.503569</td>\n",
              "    </tr>\n",
              "    <tr>\n",
              "      <th>19</th>\n",
              "      <td>[[1685], [[6.44], [6.444044117647059], [6.4480...</td>\n",
              "      <td>-61</td>\n",
              "      <td>-1.114909</td>\n",
              "    </tr>\n",
              "    <tr>\n",
              "      <th>20</th>\n",
              "      <td>[[1813], [[6.952], [6.956044117647059], [6.960...</td>\n",
              "      <td>61</td>\n",
              "      <td>1.525209</td>\n",
              "    </tr>\n",
              "    <tr>\n",
              "      <th>21</th>\n",
              "      <td>[[1896], [[7.284000000000001], [7.288044117647...</td>\n",
              "      <td>-8</td>\n",
              "      <td>0.032028</td>\n",
              "    </tr>\n",
              "    <tr>\n",
              "      <th>22</th>\n",
              "      <td>[[1977], [[7.6080000000000005], [7.61204411764...</td>\n",
              "      <td>72</td>\n",
              "      <td>1.763252</td>\n",
              "    </tr>\n",
              "    <tr>\n",
              "      <th>23</th>\n",
              "      <td>[[2059], [[7.936000000000001], [7.940044117647...</td>\n",
              "      <td>-5</td>\n",
              "      <td>0.096949</td>\n",
              "    </tr>\n",
              "    <tr>\n",
              "      <th>24</th>\n",
              "      <td>[[2140], [[8.26], [8.264044117647058], [8.2680...</td>\n",
              "      <td>-81</td>\n",
              "      <td>-1.547715</td>\n",
              "    </tr>\n",
              "    <tr>\n",
              "      <th>25</th>\n",
              "      <td>[[2221], [[8.584], [8.588044117647058], [8.592...</td>\n",
              "      <td>-1</td>\n",
              "      <td>0.183510</td>\n",
              "    </tr>\n",
              "    <tr>\n",
              "      <th>26</th>\n",
              "      <td>[[2303], [[8.911999999999999], [8.916044117647...</td>\n",
              "      <td>-78</td>\n",
              "      <td>-1.482794</td>\n",
              "    </tr>\n",
              "    <tr>\n",
              "      <th>27</th>\n",
              "      <td>[[2383], [[9.232], [9.236044117647058], [9.240...</td>\n",
              "      <td>2</td>\n",
              "      <td>0.248431</td>\n",
              "    </tr>\n",
              "    <tr>\n",
              "      <th>28</th>\n",
              "      <td>[[2463], [[9.552], [9.556044117647058], [9.560...</td>\n",
              "      <td>-77</td>\n",
              "      <td>-1.461154</td>\n",
              "    </tr>\n",
              "    <tr>\n",
              "      <th>29</th>\n",
              "      <td>[[2543], [[9.872], [9.876044117647059], [9.880...</td>\n",
              "      <td>3</td>\n",
              "      <td>0.270071</td>\n",
              "    </tr>\n",
              "    <tr>\n",
              "      <th>30</th>\n",
              "      <td>[[2623], [[10.192], [10.196044117647059], [10....</td>\n",
              "      <td>-75</td>\n",
              "      <td>-1.417873</td>\n",
              "    </tr>\n",
              "    <tr>\n",
              "      <th>31</th>\n",
              "      <td>[[2704], [[10.516], [10.520044117647059], [10....</td>\n",
              "      <td>6</td>\n",
              "      <td>0.334992</td>\n",
              "    </tr>\n",
              "    <tr>\n",
              "      <th>32</th>\n",
              "      <td>[[2783], [[10.831999999999999], [10.8360441176...</td>\n",
              "      <td>-26</td>\n",
              "      <td>-0.357498</td>\n",
              "    </tr>\n",
              "    <tr>\n",
              "      <th>33</th>\n",
              "      <td>[[2862], [[11.148], [11.152044117647058], [11....</td>\n",
              "      <td>50</td>\n",
              "      <td>1.287166</td>\n",
              "    </tr>\n",
              "    <tr>\n",
              "      <th>34</th>\n",
              "      <td>[[2942], [[11.468], [11.472044117647059], [11....</td>\n",
              "      <td>-71</td>\n",
              "      <td>-1.331312</td>\n",
              "    </tr>\n",
              "    <tr>\n",
              "      <th>35</th>\n",
              "      <td>[[3022], [[11.788], [11.792044117647059], [11....</td>\n",
              "      <td>9</td>\n",
              "      <td>0.399913</td>\n",
              "    </tr>\n",
              "    <tr>\n",
              "      <th>36</th>\n",
              "      <td>[[3101], [[12.104], [12.108044117647058], [12....</td>\n",
              "      <td>8</td>\n",
              "      <td>0.378273</td>\n",
              "    </tr>\n",
              "    <tr>\n",
              "      <th>37</th>\n",
              "      <td>[[3180], [[12.42], [12.424044117647059], [12.4...</td>\n",
              "      <td>27</td>\n",
              "      <td>0.789438</td>\n",
              "    </tr>\n",
              "    <tr>\n",
              "      <th>38</th>\n",
              "      <td>[[3260], [[12.74], [12.744044117647059], [12.7...</td>\n",
              "      <td>-69</td>\n",
              "      <td>-1.288031</td>\n",
              "    </tr>\n",
              "    <tr>\n",
              "      <th>39</th>\n",
              "      <td>[[3338], [[13.052], [13.056044117647058], [13....</td>\n",
              "      <td>9</td>\n",
              "      <td>0.399913</td>\n",
              "    </tr>\n",
              "    <tr>\n",
              "      <th>40</th>\n",
              "      <td>[[3419], [[13.376], [13.380044117647058], [13....</td>\n",
              "      <td>12</td>\n",
              "      <td>0.464834</td>\n",
              "    </tr>\n",
              "    <tr>\n",
              "      <th>41</th>\n",
              "      <td>[[3499], [[13.696], [13.700044117647058], [13....</td>\n",
              "      <td>31</td>\n",
              "      <td>0.876000</td>\n",
              "    </tr>\n",
              "    <tr>\n",
              "      <th>42</th>\n",
              "      <td>[[3579], [[14.016], [14.020044117647059], [14....</td>\n",
              "      <td>-70</td>\n",
              "      <td>-1.309672</td>\n",
              "    </tr>\n",
              "    <tr>\n",
              "      <th>43</th>\n",
              "      <td>[[3658], [[14.331999999999999], [14.3360441176...</td>\n",
              "      <td>9</td>\n",
              "      <td>0.399913</td>\n",
              "    </tr>\n",
              "    <tr>\n",
              "      <th>44</th>\n",
              "      <td>[[3738], [[14.652], [14.656044117647058], [14....</td>\n",
              "      <td>-73</td>\n",
              "      <td>-1.374592</td>\n",
              "    </tr>\n",
              "    <tr>\n",
              "      <th>45</th>\n",
              "      <td>[[3818], [[14.972], [14.976044117647058], [14....</td>\n",
              "      <td>7</td>\n",
              "      <td>0.356632</td>\n",
              "    </tr>\n",
              "    <tr>\n",
              "      <th>46</th>\n",
              "      <td>[[3895], [[15.28], [15.284044117647058], [15.2...</td>\n",
              "      <td>-75</td>\n",
              "      <td>-1.417873</td>\n",
              "    </tr>\n",
              "    <tr>\n",
              "      <th>47</th>\n",
              "      <td>[[3976], [[15.604], [15.608044117647058], [15....</td>\n",
              "      <td>6</td>\n",
              "      <td>0.334992</td>\n",
              "    </tr>\n",
              "    <tr>\n",
              "      <th>48</th>\n",
              "      <td>[[4055], [[15.919999999999998], [15.9240441176...</td>\n",
              "      <td>-75</td>\n",
              "      <td>-1.417873</td>\n",
              "    </tr>\n",
              "    <tr>\n",
              "      <th>49</th>\n",
              "      <td>[[4133], [[16.232], [16.236044117647058], [16....</td>\n",
              "      <td>3</td>\n",
              "      <td>0.270071</td>\n",
              "    </tr>\n",
              "  </tbody>\n",
              "</table>\n",
              "</div>\n",
              "      <button class=\"colab-df-convert\" onclick=\"convertToInteractive('df-d2703611-9344-4ff6-ab7a-27526d5af974')\"\n",
              "              title=\"Convert this dataframe to an interactive table.\"\n",
              "              style=\"display:none;\">\n",
              "        \n",
              "  <svg xmlns=\"http://www.w3.org/2000/svg\" height=\"24px\"viewBox=\"0 0 24 24\"\n",
              "       width=\"24px\">\n",
              "    <path d=\"M0 0h24v24H0V0z\" fill=\"none\"/>\n",
              "    <path d=\"M18.56 5.44l.94 2.06.94-2.06 2.06-.94-2.06-.94-.94-2.06-.94 2.06-2.06.94zm-11 1L8.5 8.5l.94-2.06 2.06-.94-2.06-.94L8.5 2.5l-.94 2.06-2.06.94zm10 10l.94 2.06.94-2.06 2.06-.94-2.06-.94-.94-2.06-.94 2.06-2.06.94z\"/><path d=\"M17.41 7.96l-1.37-1.37c-.4-.4-.92-.59-1.43-.59-.52 0-1.04.2-1.43.59L10.3 9.45l-7.72 7.72c-.78.78-.78 2.05 0 2.83L4 21.41c.39.39.9.59 1.41.59.51 0 1.02-.2 1.41-.59l7.78-7.78 2.81-2.81c.8-.78.8-2.07 0-2.86zM5.41 20L4 18.59l7.72-7.72 1.47 1.35L5.41 20z\"/>\n",
              "  </svg>\n",
              "      </button>\n",
              "      \n",
              "  <style>\n",
              "    .colab-df-container {\n",
              "      display:flex;\n",
              "      flex-wrap:wrap;\n",
              "      gap: 12px;\n",
              "    }\n",
              "\n",
              "    .colab-df-convert {\n",
              "      background-color: #E8F0FE;\n",
              "      border: none;\n",
              "      border-radius: 50%;\n",
              "      cursor: pointer;\n",
              "      display: none;\n",
              "      fill: #1967D2;\n",
              "      height: 32px;\n",
              "      padding: 0 0 0 0;\n",
              "      width: 32px;\n",
              "    }\n",
              "\n",
              "    .colab-df-convert:hover {\n",
              "      background-color: #E2EBFA;\n",
              "      box-shadow: 0px 1px 2px rgba(60, 64, 67, 0.3), 0px 1px 3px 1px rgba(60, 64, 67, 0.15);\n",
              "      fill: #174EA6;\n",
              "    }\n",
              "\n",
              "    [theme=dark] .colab-df-convert {\n",
              "      background-color: #3B4455;\n",
              "      fill: #D2E3FC;\n",
              "    }\n",
              "\n",
              "    [theme=dark] .colab-df-convert:hover {\n",
              "      background-color: #434B5C;\n",
              "      box-shadow: 0px 1px 3px 1px rgba(0, 0, 0, 0.15);\n",
              "      filter: drop-shadow(0px 1px 2px rgba(0, 0, 0, 0.3));\n",
              "      fill: #FFFFFF;\n",
              "    }\n",
              "  </style>\n",
              "\n",
              "      <script>\n",
              "        const buttonEl =\n",
              "          document.querySelector('#df-d2703611-9344-4ff6-ab7a-27526d5af974 button.colab-df-convert');\n",
              "        buttonEl.style.display =\n",
              "          google.colab.kernel.accessAllowed ? 'block' : 'none';\n",
              "\n",
              "        async function convertToInteractive(key) {\n",
              "          const element = document.querySelector('#df-d2703611-9344-4ff6-ab7a-27526d5af974');\n",
              "          const dataTable =\n",
              "            await google.colab.kernel.invokeFunction('convertToInteractive',\n",
              "                                                     [key], {});\n",
              "          if (!dataTable) return;\n",
              "\n",
              "          const docLinkHtml = 'Like what you see? Visit the ' +\n",
              "            '<a target=\"_blank\" href=https://colab.research.google.com/notebooks/data_table.ipynb>data table notebook</a>'\n",
              "            + ' to learn more about interactive tables.';\n",
              "          element.innerHTML = '';\n",
              "          dataTable['output_type'] = 'display_data';\n",
              "          await google.colab.output.renderOutput(dataTable, element);\n",
              "          const docLink = document.createElement('div');\n",
              "          docLink.innerHTML = docLinkHtml;\n",
              "          element.appendChild(docLink);\n",
              "        }\n",
              "      </script>\n",
              "    </div>\n",
              "  </div>\n",
              "  "
            ],
            "text/plain": [
              "                                                    0   1   z_score\n",
              "0   [[191], [[0.464], [0.46804411764705883], [0.47...  26  0.767798\n",
              "1   [[272], [[0.788], [0.7920441176470588], [0.796... -51 -0.898506\n",
              "2   [[353], [[1.1119999999999999], [1.116044117647...  30  0.854359\n",
              "3   [[433], [[1.432], [1.4360441176470589], [1.440... -48 -0.833585\n",
              "4   [[514], [[1.756], [1.760044117647059], [1.7640...  33  0.919280\n",
              "5   [[595], [[2.08], [2.0840441176470588], [2.0880... -43 -0.725383\n",
              "6   [[676], [[2.4040000000000004], [2.408044117647...  38  1.027482\n",
              "7   [[758], [[2.732], [2.736044117647059], [2.7400... -38 -0.617182\n",
              "8   [[839], [[3.056], [3.0600441176470587], [3.064...  43  1.135683\n",
              "9   [[919], [[3.3760000000000003], [3.380044117647... -35 -0.552261\n",
              "10  [[1001], [[3.7040000000000006], [3.70804411764...  47  1.222245\n",
              "11  [[1083], [[4.032], [4.036044117647059], [4.040... -28 -0.400779\n",
              "12  [[1164], [[4.356], [4.360044117647059], [4.364...  52  1.330446\n",
              "13  [[1245], [[4.680000000000001], [4.684044117647... -25 -0.335858\n",
              "14  [[1326], [[5.0040000000000004], [5.00804411764...  53  1.352087\n",
              "15  [[1379], [[5.216], [5.220044117647059], [5.224... -50 -0.876865\n",
              "16  [[1487], [[5.648000000000001], [5.652044117647...  55  1.395367\n",
              "17  [[1525], [[5.800000000000001], [5.804044117647... -63 -1.158189\n",
              "18  [[1650], [[6.300000000000001], [6.304044117647...  60  1.503569\n",
              "19  [[1685], [[6.44], [6.444044117647059], [6.4480... -61 -1.114909\n",
              "20  [[1813], [[6.952], [6.956044117647059], [6.960...  61  1.525209\n",
              "21  [[1896], [[7.284000000000001], [7.288044117647...  -8  0.032028\n",
              "22  [[1977], [[7.6080000000000005], [7.61204411764...  72  1.763252\n",
              "23  [[2059], [[7.936000000000001], [7.940044117647...  -5  0.096949\n",
              "24  [[2140], [[8.26], [8.264044117647058], [8.2680... -81 -1.547715\n",
              "25  [[2221], [[8.584], [8.588044117647058], [8.592...  -1  0.183510\n",
              "26  [[2303], [[8.911999999999999], [8.916044117647... -78 -1.482794\n",
              "27  [[2383], [[9.232], [9.236044117647058], [9.240...   2  0.248431\n",
              "28  [[2463], [[9.552], [9.556044117647058], [9.560... -77 -1.461154\n",
              "29  [[2543], [[9.872], [9.876044117647059], [9.880...   3  0.270071\n",
              "30  [[2623], [[10.192], [10.196044117647059], [10.... -75 -1.417873\n",
              "31  [[2704], [[10.516], [10.520044117647059], [10....   6  0.334992\n",
              "32  [[2783], [[10.831999999999999], [10.8360441176... -26 -0.357498\n",
              "33  [[2862], [[11.148], [11.152044117647058], [11....  50  1.287166\n",
              "34  [[2942], [[11.468], [11.472044117647059], [11.... -71 -1.331312\n",
              "35  [[3022], [[11.788], [11.792044117647059], [11....   9  0.399913\n",
              "36  [[3101], [[12.104], [12.108044117647058], [12....   8  0.378273\n",
              "37  [[3180], [[12.42], [12.424044117647059], [12.4...  27  0.789438\n",
              "38  [[3260], [[12.74], [12.744044117647059], [12.7... -69 -1.288031\n",
              "39  [[3338], [[13.052], [13.056044117647058], [13....   9  0.399913\n",
              "40  [[3419], [[13.376], [13.380044117647058], [13....  12  0.464834\n",
              "41  [[3499], [[13.696], [13.700044117647058], [13....  31  0.876000\n",
              "42  [[3579], [[14.016], [14.020044117647059], [14.... -70 -1.309672\n",
              "43  [[3658], [[14.331999999999999], [14.3360441176...   9  0.399913\n",
              "44  [[3738], [[14.652], [14.656044117647058], [14.... -73 -1.374592\n",
              "45  [[3818], [[14.972], [14.976044117647058], [14....   7  0.356632\n",
              "46  [[3895], [[15.28], [15.284044117647058], [15.2... -75 -1.417873\n",
              "47  [[3976], [[15.604], [15.608044117647058], [15....   6  0.334992\n",
              "48  [[4055], [[15.919999999999998], [15.9240441176... -75 -1.417873\n",
              "49  [[4133], [[16.232], [16.236044117647058], [16....   3  0.270071"
            ]
          },
          "metadata": {},
          "execution_count": 305
        }
      ]
    },
    {
      "cell_type": "code",
      "source": [
        "df_out = df.loc[df['z_score'].abs()<=0.5]\n",
        "df_out"
      ],
      "metadata": {
        "id": "-Zxl-GH-tM9b",
        "colab": {
          "base_uri": "https://localhost:8080/",
          "height": 582
        },
        "outputId": "62301f3d-48db-4495-d221-1d8d039f7ade"
      },
      "execution_count": 306,
      "outputs": [
        {
          "output_type": "execute_result",
          "data": {
            "text/html": [
              "\n",
              "  <div id=\"df-493aa599-c4aa-49f7-8805-5997b8a1ab38\">\n",
              "    <div class=\"colab-df-container\">\n",
              "      <div>\n",
              "<style scoped>\n",
              "    .dataframe tbody tr th:only-of-type {\n",
              "        vertical-align: middle;\n",
              "    }\n",
              "\n",
              "    .dataframe tbody tr th {\n",
              "        vertical-align: top;\n",
              "    }\n",
              "\n",
              "    .dataframe thead th {\n",
              "        text-align: right;\n",
              "    }\n",
              "</style>\n",
              "<table border=\"1\" class=\"dataframe\">\n",
              "  <thead>\n",
              "    <tr style=\"text-align: right;\">\n",
              "      <th></th>\n",
              "      <th>0</th>\n",
              "      <th>1</th>\n",
              "      <th>z_score</th>\n",
              "    </tr>\n",
              "  </thead>\n",
              "  <tbody>\n",
              "    <tr>\n",
              "      <th>11</th>\n",
              "      <td>[[1083], [[4.032], [4.036044117647059], [4.040...</td>\n",
              "      <td>-28</td>\n",
              "      <td>-0.400779</td>\n",
              "    </tr>\n",
              "    <tr>\n",
              "      <th>13</th>\n",
              "      <td>[[1245], [[4.680000000000001], [4.684044117647...</td>\n",
              "      <td>-25</td>\n",
              "      <td>-0.335858</td>\n",
              "    </tr>\n",
              "    <tr>\n",
              "      <th>21</th>\n",
              "      <td>[[1896], [[7.284000000000001], [7.288044117647...</td>\n",
              "      <td>-8</td>\n",
              "      <td>0.032028</td>\n",
              "    </tr>\n",
              "    <tr>\n",
              "      <th>23</th>\n",
              "      <td>[[2059], [[7.936000000000001], [7.940044117647...</td>\n",
              "      <td>-5</td>\n",
              "      <td>0.096949</td>\n",
              "    </tr>\n",
              "    <tr>\n",
              "      <th>25</th>\n",
              "      <td>[[2221], [[8.584], [8.588044117647058], [8.592...</td>\n",
              "      <td>-1</td>\n",
              "      <td>0.183510</td>\n",
              "    </tr>\n",
              "    <tr>\n",
              "      <th>27</th>\n",
              "      <td>[[2383], [[9.232], [9.236044117647058], [9.240...</td>\n",
              "      <td>2</td>\n",
              "      <td>0.248431</td>\n",
              "    </tr>\n",
              "    <tr>\n",
              "      <th>29</th>\n",
              "      <td>[[2543], [[9.872], [9.876044117647059], [9.880...</td>\n",
              "      <td>3</td>\n",
              "      <td>0.270071</td>\n",
              "    </tr>\n",
              "    <tr>\n",
              "      <th>31</th>\n",
              "      <td>[[2704], [[10.516], [10.520044117647059], [10....</td>\n",
              "      <td>6</td>\n",
              "      <td>0.334992</td>\n",
              "    </tr>\n",
              "    <tr>\n",
              "      <th>32</th>\n",
              "      <td>[[2783], [[10.831999999999999], [10.8360441176...</td>\n",
              "      <td>-26</td>\n",
              "      <td>-0.357498</td>\n",
              "    </tr>\n",
              "    <tr>\n",
              "      <th>35</th>\n",
              "      <td>[[3022], [[11.788], [11.792044117647059], [11....</td>\n",
              "      <td>9</td>\n",
              "      <td>0.399913</td>\n",
              "    </tr>\n",
              "    <tr>\n",
              "      <th>36</th>\n",
              "      <td>[[3101], [[12.104], [12.108044117647058], [12....</td>\n",
              "      <td>8</td>\n",
              "      <td>0.378273</td>\n",
              "    </tr>\n",
              "    <tr>\n",
              "      <th>39</th>\n",
              "      <td>[[3338], [[13.052], [13.056044117647058], [13....</td>\n",
              "      <td>9</td>\n",
              "      <td>0.399913</td>\n",
              "    </tr>\n",
              "    <tr>\n",
              "      <th>40</th>\n",
              "      <td>[[3419], [[13.376], [13.380044117647058], [13....</td>\n",
              "      <td>12</td>\n",
              "      <td>0.464834</td>\n",
              "    </tr>\n",
              "    <tr>\n",
              "      <th>43</th>\n",
              "      <td>[[3658], [[14.331999999999999], [14.3360441176...</td>\n",
              "      <td>9</td>\n",
              "      <td>0.399913</td>\n",
              "    </tr>\n",
              "    <tr>\n",
              "      <th>45</th>\n",
              "      <td>[[3818], [[14.972], [14.976044117647058], [14....</td>\n",
              "      <td>7</td>\n",
              "      <td>0.356632</td>\n",
              "    </tr>\n",
              "    <tr>\n",
              "      <th>47</th>\n",
              "      <td>[[3976], [[15.604], [15.608044117647058], [15....</td>\n",
              "      <td>6</td>\n",
              "      <td>0.334992</td>\n",
              "    </tr>\n",
              "    <tr>\n",
              "      <th>49</th>\n",
              "      <td>[[4133], [[16.232], [16.236044117647058], [16....</td>\n",
              "      <td>3</td>\n",
              "      <td>0.270071</td>\n",
              "    </tr>\n",
              "  </tbody>\n",
              "</table>\n",
              "</div>\n",
              "      <button class=\"colab-df-convert\" onclick=\"convertToInteractive('df-493aa599-c4aa-49f7-8805-5997b8a1ab38')\"\n",
              "              title=\"Convert this dataframe to an interactive table.\"\n",
              "              style=\"display:none;\">\n",
              "        \n",
              "  <svg xmlns=\"http://www.w3.org/2000/svg\" height=\"24px\"viewBox=\"0 0 24 24\"\n",
              "       width=\"24px\">\n",
              "    <path d=\"M0 0h24v24H0V0z\" fill=\"none\"/>\n",
              "    <path d=\"M18.56 5.44l.94 2.06.94-2.06 2.06-.94-2.06-.94-.94-2.06-.94 2.06-2.06.94zm-11 1L8.5 8.5l.94-2.06 2.06-.94-2.06-.94L8.5 2.5l-.94 2.06-2.06.94zm10 10l.94 2.06.94-2.06 2.06-.94-2.06-.94-.94-2.06-.94 2.06-2.06.94z\"/><path d=\"M17.41 7.96l-1.37-1.37c-.4-.4-.92-.59-1.43-.59-.52 0-1.04.2-1.43.59L10.3 9.45l-7.72 7.72c-.78.78-.78 2.05 0 2.83L4 21.41c.39.39.9.59 1.41.59.51 0 1.02-.2 1.41-.59l7.78-7.78 2.81-2.81c.8-.78.8-2.07 0-2.86zM5.41 20L4 18.59l7.72-7.72 1.47 1.35L5.41 20z\"/>\n",
              "  </svg>\n",
              "      </button>\n",
              "      \n",
              "  <style>\n",
              "    .colab-df-container {\n",
              "      display:flex;\n",
              "      flex-wrap:wrap;\n",
              "      gap: 12px;\n",
              "    }\n",
              "\n",
              "    .colab-df-convert {\n",
              "      background-color: #E8F0FE;\n",
              "      border: none;\n",
              "      border-radius: 50%;\n",
              "      cursor: pointer;\n",
              "      display: none;\n",
              "      fill: #1967D2;\n",
              "      height: 32px;\n",
              "      padding: 0 0 0 0;\n",
              "      width: 32px;\n",
              "    }\n",
              "\n",
              "    .colab-df-convert:hover {\n",
              "      background-color: #E2EBFA;\n",
              "      box-shadow: 0px 1px 2px rgba(60, 64, 67, 0.3), 0px 1px 3px 1px rgba(60, 64, 67, 0.15);\n",
              "      fill: #174EA6;\n",
              "    }\n",
              "\n",
              "    [theme=dark] .colab-df-convert {\n",
              "      background-color: #3B4455;\n",
              "      fill: #D2E3FC;\n",
              "    }\n",
              "\n",
              "    [theme=dark] .colab-df-convert:hover {\n",
              "      background-color: #434B5C;\n",
              "      box-shadow: 0px 1px 3px 1px rgba(0, 0, 0, 0.15);\n",
              "      filter: drop-shadow(0px 1px 2px rgba(0, 0, 0, 0.3));\n",
              "      fill: #FFFFFF;\n",
              "    }\n",
              "  </style>\n",
              "\n",
              "      <script>\n",
              "        const buttonEl =\n",
              "          document.querySelector('#df-493aa599-c4aa-49f7-8805-5997b8a1ab38 button.colab-df-convert');\n",
              "        buttonEl.style.display =\n",
              "          google.colab.kernel.accessAllowed ? 'block' : 'none';\n",
              "\n",
              "        async function convertToInteractive(key) {\n",
              "          const element = document.querySelector('#df-493aa599-c4aa-49f7-8805-5997b8a1ab38');\n",
              "          const dataTable =\n",
              "            await google.colab.kernel.invokeFunction('convertToInteractive',\n",
              "                                                     [key], {});\n",
              "          if (!dataTable) return;\n",
              "\n",
              "          const docLinkHtml = 'Like what you see? Visit the ' +\n",
              "            '<a target=\"_blank\" href=https://colab.research.google.com/notebooks/data_table.ipynb>data table notebook</a>'\n",
              "            + ' to learn more about interactive tables.';\n",
              "          element.innerHTML = '';\n",
              "          dataTable['output_type'] = 'display_data';\n",
              "          await google.colab.output.renderOutput(dataTable, element);\n",
              "          const docLink = document.createElement('div');\n",
              "          docLink.innerHTML = docLinkHtml;\n",
              "          element.appendChild(docLink);\n",
              "        }\n",
              "      </script>\n",
              "    </div>\n",
              "  </div>\n",
              "  "
            ],
            "text/plain": [
              "                                                    0   1   z_score\n",
              "11  [[1083], [[4.032], [4.036044117647059], [4.040... -28 -0.400779\n",
              "13  [[1245], [[4.680000000000001], [4.684044117647... -25 -0.335858\n",
              "21  [[1896], [[7.284000000000001], [7.288044117647...  -8  0.032028\n",
              "23  [[2059], [[7.936000000000001], [7.940044117647...  -5  0.096949\n",
              "25  [[2221], [[8.584], [8.588044117647058], [8.592...  -1  0.183510\n",
              "27  [[2383], [[9.232], [9.236044117647058], [9.240...   2  0.248431\n",
              "29  [[2543], [[9.872], [9.876044117647059], [9.880...   3  0.270071\n",
              "31  [[2704], [[10.516], [10.520044117647059], [10....   6  0.334992\n",
              "32  [[2783], [[10.831999999999999], [10.8360441176... -26 -0.357498\n",
              "35  [[3022], [[11.788], [11.792044117647059], [11....   9  0.399913\n",
              "36  [[3101], [[12.104], [12.108044117647058], [12....   8  0.378273\n",
              "39  [[3338], [[13.052], [13.056044117647058], [13....   9  0.399913\n",
              "40  [[3419], [[13.376], [13.380044117647058], [13....  12  0.464834\n",
              "43  [[3658], [[14.331999999999999], [14.3360441176...   9  0.399913\n",
              "45  [[3818], [[14.972], [14.976044117647058], [14....   7  0.356632\n",
              "47  [[3976], [[15.604], [15.608044117647058], [15....   6  0.334992\n",
              "49  [[4133], [[16.232], [16.236044117647058], [16....   3  0.270071"
            ]
          },
          "metadata": {},
          "execution_count": 306
        }
      ]
    },
    {
      "cell_type": "code",
      "source": [
        "count = 0\n",
        "sum = 0\n",
        "for count in range(len(df_out)):\n",
        "  sum = sum + df_out[0].iloc[count][2]"
      ],
      "metadata": {
        "id": "3o4UsA6-bLKH"
      },
      "execution_count": 307,
      "outputs": []
    },
    {
      "cell_type": "markdown",
      "source": [
        "######Average"
      ],
      "metadata": {
        "id": "G8H90QTvGdCR"
      }
    },
    {
      "cell_type": "markdown",
      "source": [
        "The surrounding beats' segments are eventually averaged for the computation of the intra-patient template."
      ],
      "metadata": {
        "id": "G2vjBeqXGUfQ"
      }
    },
    {
      "cell_type": "code",
      "source": [
        "tpltIlead25_mean = np.vstack(sum)/len(df_out)\n",
        "plot(tpltIlead25_mean)"
      ],
      "metadata": {
        "id": "1Aijuue4GYE1",
        "colab": {
          "base_uri": "https://localhost:8080/",
          "height": 282
        },
        "outputId": "c0464011-94df-42b9-d5ea-c69c2b81de71"
      },
      "execution_count": 308,
      "outputs": [
        {
          "output_type": "execute_result",
          "data": {
            "text/plain": [
              "[<matplotlib.lines.Line2D at 0x7f6f0f621550>]"
            ]
          },
          "metadata": {},
          "execution_count": 308
        },
        {
          "output_type": "display_data",
          "data": {
            "image/png": "[encoded data removed]",
            "text/plain": [
              "<Figure size 432x288 with 1 Axes>"
            ]
          },
          "metadata": {
            "needs_background": "light"
          }
        }
      ]
    },
    {
      "cell_type": "markdown",
      "source": [
        "#####Feature extraction"
      ],
      "metadata": {
        "id": "SS3aQIYVHC8V"
      }
    },
    {
      "cell_type": "markdown",
      "source": [
        "Once the intra-patient templates were computed, each beat of the subject was compared with the templates using cross-correlation. At the end of the process, for each beat, the following parameters were extracted and used as features:\n",
        "\n",
        "* maximum cross-correlation value of each segment with respect to the different intra-patient templates created with the neighboring beats\n",
        "* lag corresponding to the cross-correlation value described above\n",
        "* median standard deviation of the beats used to create the intra-patient template"
      ],
      "metadata": {
        "id": "PhgoDCeLG40Y"
      }
    },
    {
      "cell_type": "code",
      "source": [
        "n_beat1 = tpltIlead_25[patient][middlebeatplusbeatsassoc][n_middlebeatplusbeatsassoc][middle_beat][ecg]\n",
        "plt.plot(n_beat1)\n",
        "time = np.arange(0, len(n_beat1), 1)\n",
        "dx = np.mean(np.diff(time))\n",
        "max = (np.argmax(signal.correlate(np.vstack(n_beat1), tpltIlead25_mean)) - len(tpltIlead25_mean))\n",
        "lag = max * dx\n",
        "plt.plot(time+lag, tpltIlead25_mean)\n",
        "md_std = stats.median_absolute_deviation(tpltIlead25_mean)"
      ],
      "metadata": {
        "id": "H_qlpsKNHre0",
        "colab": {
          "base_uri": "https://localhost:8080/",
          "height": 265
        },
        "outputId": "f3fa6449-c06e-411f-8f84-f4744b46195b"
      },
      "execution_count": 309,
      "outputs": [
        {
          "output_type": "display_data",
          "data": {
            "image/png": "[encoded data removed]",
            "text/plain": [
              "<Figure size 432x288 with 1 Axes>"
            ]
          },
          "metadata": {
            "needs_background": "light"
          }
        }
      ]
    },
    {
      "cell_type": "code",
      "source": [
        "middle_beat = tpltIlead_25[patient][middlebeatplusbeatsassoc][n_middlebeatplusbeatsassoc][middle_beat][head]\n",
        "beat_feat = [ middle_beat, max, lag, md_std ]\n",
        "beat_feat"
      ],
      "metadata": {
        "colab": {
          "base_uri": "https://localhost:8080/"
        },
        "id": "IId7gzUN16Ah",
        "outputId": "4cd70892-414b-4270-a7f8-aa6cc1c4db06"
      },
      "execution_count": 310,
      "outputs": [
        {
          "output_type": "execute_result",
          "data": {
            "text/plain": [
              "[array([2221], dtype=int32), 6, 6.0, array([0.09436569])]"
            ]
          },
          "metadata": {},
          "execution_count": 310
        }
      ]
    },
    {
      "cell_type": "markdown",
      "source": [
        "####For all beats"
      ],
      "metadata": {
        "id": "gNDIsCHbLU2p"
      }
    },
    {
      "cell_type": "code",
      "source": [
        "temp_max = []\n",
        "corr_temp = []\n",
        "corrs = []\n",
        "\n",
        "#for patient in range(1):\n",
        "#  lst1 = []\n",
        "#for i in tpltIlead_25[patient][1]:\n",
        "#  beat_ecg = i[middle_beat][0][ecg] \n",
        "beat_ecg = tpltIlead_25[patient][middlebeatplusbeatsassoc][n_middlebeatplusbeatsassoc][middle_beat][ecg]\n",
        "lst = []  \n",
        "for k in i[beats_assoc]:\n",
        "  max = (np.argmax(signal.correlate(beat_ecg, k[ecg])) - len(k[ecg]))\n",
        "  row = [ k[0], max ] \n",
        "  temp_max.append(row)\n",
        "lst = copy.deepcopy(temp_max)\n",
        "beat_max = [ i[middle_beat][0], lst]\n",
        "corr_temp.append(beat_max)\n",
        "#lst1 = copy.deepcopy(corr_temp)\n",
        "#corr = [ patient, lst1 ]\n",
        "#corrs.append(corr)"
      ],
      "metadata": {
        "id": "xvGn4JvG5uvo"
      },
      "execution_count": null,
      "outputs": []
    }
  ]
}